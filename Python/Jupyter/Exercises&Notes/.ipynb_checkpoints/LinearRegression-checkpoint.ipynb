{
 "cells": [
  {
   "cell_type": "markdown",
   "metadata": {
    "collapsed": true
   },
   "source": [
    "# A comprehensive beginners guide for Linear, Ridge and Lasso Regression\n",
    "\n",
    "URL: https://www.analyticsvidhya.com/blog/2017/06/a-comprehensive-guide-for-linear-ridge-and-lasso-regression/?utm_source=feedburner&utm_medium=email&utm_campaign=Feed%3A+AnalyticsVidhya+%28Analytics+Vidhya%29\n",
    "\n",
    " SHUBHAM JAIN , JUNE 22, 2017"
   ]
  },
  {
   "cell_type": "markdown",
   "metadata": {},
   "source": [
    "## Model 3 - Entering Linear Regression"
   ]
  },
  {
   "cell_type": "code",
   "execution_count": 58,
   "metadata": {
    "collapsed": true
   },
   "outputs": [],
   "source": [
    "import pandas as pd\n",
    "import numpy as np"
   ]
  },
  {
   "cell_type": "code",
   "execution_count": 99,
   "metadata": {
    "collapsed": true
   },
   "outputs": [],
   "source": [
    "# Import test and train data\n",
    "train = pd.read_csv(\"./data/Train_UWu5bXk.csv\")\n",
    "# print(\"Train dataset: \\n{}\".format(train))\n",
    "\n",
    "test = pd.read_csv(\"./data/Test_u94Q5KV.csv\")\n",
    "# print(\"Test dataset: \\n{}\".format(test))"
   ]
  },
  {
   "cell_type": "code",
   "execution_count": 101,
   "metadata": {
    "collapsed": true
   },
   "outputs": [],
   "source": [
    "# train\n",
    "\n",
    "# test"
   ]
  },
  {
   "cell_type": "code",
   "execution_count": 21,
   "metadata": {
    "collapsed": true
   },
   "outputs": [],
   "source": [
    "# import linear regression from sklearn\n",
    "from sklearn.linear_model import LinearRegression\n",
    "\n",
    "lreg = LinearRegression()"
   ]
  },
  {
   "cell_type": "code",
   "execution_count": 59,
   "metadata": {
    "collapsed": true
   },
   "outputs": [],
   "source": [
    "from sklearn.model_selection import train_test_split\n",
    "\n",
    "# splitting into training CSV from cross validation\n",
    "X = train.loc[:, ['Outlet_Establishment_Year', 'Item_MRP']]\n",
    "\n",
    "# X\n",
    "\n",
    "x_train, x_cv, y_train, y_cv = train_test_split(X, train.Item_Outlet_Sales)\n",
    "# x_train\n",
    "# x_cv\n",
    "# y_train\n",
    "# y_cv"
   ]
  },
  {
   "cell_type": "code",
   "execution_count": 51,
   "metadata": {},
   "outputs": [
    {
     "data": {
      "text/plain": [
       "LinearRegression(copy_X=True, fit_intercept=True, n_jobs=1, normalize=False)"
      ]
     },
     "execution_count": 51,
     "metadata": {},
     "output_type": "execute_result"
    }
   ],
   "source": [
    "# train the model\n",
    "lreg.fit(x_train, y_train)\n"
   ]
  },
  {
   "cell_type": "code",
   "execution_count": 55,
   "metadata": {},
   "outputs": [
    {
     "data": {
      "text/plain": [
       "array([ 2219.09581475,  1323.78582469,  1487.23520509, ...,  3001.99582591,\n",
       "        2395.94504095,  2989.31712818])"
      ]
     },
     "execution_count": 55,
     "metadata": {},
     "output_type": "execute_result"
    }
   ],
   "source": [
    "# predicting on cv\n",
    "pred = lreg.predict(x_cv)\n",
    "\n",
    "# pred\n",
    "# help(lreg)"
   ]
  },
  {
   "cell_type": "code",
   "execution_count": 60,
   "metadata": {},
   "outputs": [
    {
     "data": {
      "text/plain": [
       "4170970.4994674935"
      ]
     },
     "execution_count": 60,
     "metadata": {},
     "output_type": "execute_result"
    }
   ],
   "source": [
    "# calculate MSE\n",
    "mse = np.mean((pred - y_cv)**2)\n",
    "\n",
    "# mse"
   ]
  },
  {
   "cell_type": "code",
   "execution_count": 66,
   "metadata": {
    "collapsed": true
   },
   "outputs": [],
   "source": [
    "# calculating the coefficients\n",
    "coeff = pd.DataFrame(x_train.columns)\n",
    "\n",
    "coeff['Coefficient Estimate'] = pd.Series(lreg.coef_)\n",
    "\n",
    "# coeff"
   ]
  },
  {
   "cell_type": "markdown",
   "metadata": {},
   "source": [
    "## Evaluating Model: R-Sruqare\n",
    "\n",
    "$R_{square} = 1 - \\frac{\\sum (Y_{actual} - Y_{predict})^2}{\\sum (Y_{actual} - Y_{mean})^2}$"
   ]
  },
  {
   "cell_type": "code",
   "execution_count": 67,
   "metadata": {},
   "outputs": [
    {
     "data": {
      "text/plain": [
       "0.31821387987421401"
      ]
     },
     "execution_count": 67,
     "metadata": {},
     "output_type": "execute_result"
    }
   ],
   "source": [
    "# check r-sruqare\n",
    "lreg.score(x_cv, y_cv)\n"
   ]
  },
  {
   "cell_type": "markdown",
   "metadata": {},
   "source": [
    "## Model 4 - Linear Regress with more variables"
   ]
  },
  {
   "cell_type": "code",
   "execution_count": 70,
   "metadata": {
    "collapsed": true
   },
   "outputs": [],
   "source": [
    "# Error Raise\n",
    "X = train.loc[:, ['Outlet_Establishment_Year', 'Item_MRP', 'Item_Weight']]\n",
    "\n",
    "# splitting into training and cv for cross validation\n",
    "x_train, x_cv, y_train, y_cv = train_test_split(X, train.Item_Outlet_Sales)\n",
    "\n",
    "# train the model\n",
    "lreg.fit(x_train, y_train)"
   ]
  },
  {
   "cell_type": "code",
   "execution_count": 76,
   "metadata": {},
   "outputs": [
    {
     "data": {
      "text/plain": [
       "0.29911102739932671"
      ]
     },
     "execution_count": 76,
     "metadata": {},
     "output_type": "execute_result"
    }
   ],
   "source": [
    "# impute Nan with other non-null entries\n",
    "train['Item_Weight'].fillna(train['Item_Weight'].mean(), inplace=True)\n",
    "\n",
    "X = train.loc[:, ['Outlet_Establishment_Year', 'Item_MRP', 'Item_Weight']]\n",
    "\n",
    "# splitting into training and cv for cross validation\n",
    "x_train, x_cv, y_train, y_cv = train_test_split(X, train.Item_Outlet_Sales)\n",
    "\n",
    "# train the model\n",
    "lreg.fit(x_train, y_train)\n",
    "\n",
    "# predicting on cv\n",
    "lreg.predict(x_cv)\n",
    "\n",
    "# calculate MSE\n",
    "mse = np.mean((pred - y_cv)**2)\n",
    "\n",
    "# calculating coefficients\n",
    "coeff = pd.DataFrame(x_train.columns)\n",
    "coeff['Coefficient Estimate'] = pd.Series(lreg.coef_)\n",
    "\n",
    "# calculate r-square\n",
    "lreg.score(x_cv, y_cv)"
   ]
  },
  {
   "cell_type": "markdown",
   "metadata": {},
   "source": [
    "## Adjust R-square\n",
    "\n",
    "$R^2_{adjusted} = 1 - \\frac{(1 - R^2)(N - 1)}{N- p - 1}\n",
    "\n",
    "where \n",
    "    $R^2$ = sample $R^2$,\n",
    "    $p$ = number of predictors,\n",
    "    $N$ = total sample size"
   ]
  },
  {
   "cell_type": "markdown",
   "metadata": {},
   "source": [
    "# Using all the features for prediction\n",
    "## Data pre-processing steps for regression model"
   ]
  },
  {
   "cell_type": "code",
   "execution_count": 138,
   "metadata": {
    "collapsed": true
   },
   "outputs": [],
   "source": [
    "path = './data/'\n",
    "trainfile = 'Train_UWu5bXk.csv'\n",
    "testfile =  'Test_u94Q5KV.csv'\n",
    "\n",
    "# import train and test datasets\n",
    "train = pd.read_csv(path + trainfile)\n",
    "test = pd.read_csv(path + testfile)\n",
    "\n",
    "# # imputing missing values\n",
    "train['Item_Visibility'] = train['Item_Visibility'].replace(0.0, np.mean(train['Item_Visibility']))\n",
    "train['Outlet_Establishment_Year'] = 2013 - train['Outlet_Establishment_Year']\n",
    "train['Outlet_Size'].fillna('Small', inplace=True)\n",
    "\n",
    "# creating dummy variables to convert categorical into numerical values\n",
    "mylist = list(train.select_dtypes(include=['object']).columns)\n",
    "dummies = pd.get_dummies(train[mylist], prefix = mylist)\n",
    "\n",
    "# train.drop(mylist, axis = 1, inplace = True)\n",
    "X = pd.concat([train, dummies], axis = 1)\n"
   ]
  },
  {
   "cell_type": "markdown",
   "metadata": {},
   "source": [
    "## Building the model"
   ]
  },
  {
   "cell_type": "code",
   "execution_count": 142,
   "metadata": {
    "collapsed": true
   },
   "outputs": [],
   "source": [
    "import numpy as np\n",
    "import pandas as pd\n",
    "import matplotlib.pyplot as plt\n",
    "\n",
    "% matplotlib inline\n",
    "\n",
    "path = './data/'\n",
    "trainfile = 'Train_UWu5bXk.csv'\n",
    "testfile =  'Test_u94Q5KV.csv'\n",
    "\n",
    "# import train and test datasets\n",
    "train = pd.read_csv(path + trainfile)\n",
    "test = pd.read_csv(path + testfile)\n",
    "\n",
    "# import linear regression from sklearn\n",
    "from sklearn.linear_model import LinearRegression\n",
    "\n",
    "X = train.drop('Item_Outlet_Sales', 1)\n",
    "x_train, x_cv, y_train, y_cv = train_test_split(X, train.Item_Outlet_Sales)\n",
    "\n",
    "\n",
    "# training a linear regression model on train\n",
    "# lreg.fit(x_train, y_train)\n",
    "\n",
    "# # predicting on cv\n",
    "# pred_cv = lreg.predict(x_cv)\n",
    "\n",
    "# # calculating MSE\n",
    "# mse = np.mean((pred_cv - y_cv)**2)\n",
    "\n",
    "# print(\"MSE= {}\".format(mse))\n",
    "\n",
    "# # evaluating with r-square\n",
    "# print(\"R-square= {}\",format(lreg.score(x_cv, y_cv)))\n"
   ]
  },
  {
   "cell_type": "markdown",
   "metadata": {},
   "source": [
    "## Interpretation of Regression Plots"
   ]
  },
  {
   "cell_type": "code",
   "execution_count": 140,
   "metadata": {},
   "outputs": [
    {
     "ename": "NameError",
     "evalue": "name 'pred_cv' is not defined",
     "output_type": "error",
     "traceback": [
      "\u001b[1;31m---------------------------------------------------------------------------\u001b[0m",
      "\u001b[1;31mNameError\u001b[0m                                 Traceback (most recent call last)",
      "\u001b[1;32m<ipython-input-140-2748f0731b66>\u001b[0m in \u001b[0;36m<module>\u001b[1;34m()\u001b[0m\n\u001b[0;32m      1\u001b[0m \u001b[1;31m# residual plot\u001b[0m\u001b[1;33m\u001b[0m\u001b[1;33m\u001b[0m\u001b[0m\n\u001b[1;32m----> 2\u001b[1;33m \u001b[0mx_plot\u001b[0m \u001b[1;33m=\u001b[0m \u001b[0mplt\u001b[0m\u001b[1;33m.\u001b[0m\u001b[0mscatter\u001b[0m\u001b[1;33m(\u001b[0m\u001b[0mpred_cv\u001b[0m\u001b[1;33m,\u001b[0m \u001b[1;33m(\u001b[0m\u001b[0mpred_cv\u001b[0m \u001b[1;33m-\u001b[0m \u001b[0my_cv\u001b[0m\u001b[1;33m)\u001b[0m\u001b[1;33m,\u001b[0m \u001b[0mc\u001b[0m \u001b[1;33m=\u001b[0m \u001b[1;34m'b'\u001b[0m\u001b[1;33m)\u001b[0m\u001b[1;33m\u001b[0m\u001b[0m\n\u001b[0m\u001b[0;32m      3\u001b[0m \u001b[1;33m\u001b[0m\u001b[0m\n\u001b[0;32m      4\u001b[0m \u001b[0mplt\u001b[0m\u001b[1;33m.\u001b[0m\u001b[0mhlines\u001b[0m\u001b[1;33m(\u001b[0m\u001b[0my\u001b[0m \u001b[1;33m=\u001b[0m \u001b[1;36m0\u001b[0m\u001b[1;33m,\u001b[0m \u001b[0mxmin\u001b[0m \u001b[1;33m=\u001b[0m \u001b[1;33m-\u001b[0m\u001b[1;36m1000\u001b[0m\u001b[1;33m,\u001b[0m \u001b[0mxmax\u001b[0m \u001b[1;33m=\u001b[0m \u001b[1;36m5000\u001b[0m\u001b[1;33m)\u001b[0m\u001b[1;33m\u001b[0m\u001b[0m\n\u001b[0;32m      5\u001b[0m \u001b[0mplt\u001b[0m\u001b[1;33m.\u001b[0m\u001b[0mtitle\u001b[0m\u001b[1;33m(\u001b[0m\u001b[1;34m'Residual Plot'\u001b[0m\u001b[1;33m)\u001b[0m\u001b[1;33m\u001b[0m\u001b[0m\n",
      "\u001b[1;31mNameError\u001b[0m: name 'pred_cv' is not defined"
     ]
    }
   ],
   "source": [
    "# residual plot\n",
    "x_plot = plt.scatter(pred_cv, (pred_cv - y_cv), c = 'b')\n",
    "\n",
    "plt.hlines(y = 0, xmin = -1000, xmax = 5000)\n",
    "plt.title('Residual Plot')\n"
   ]
  },
  {
   "cell_type": "markdown",
   "metadata": {},
   "source": [
    "## Regulariztion"
   ]
  },
  {
   "cell_type": "code",
   "execution_count": null,
   "metadata": {
    "collapsed": true
   },
   "outputs": [],
   "source": [
    "# check the magnitude of coefficients\n",
    "predictaors = x_train.columns\n",
    "\n",
    "# checking the magnitude of coefficients\n",
    "coef = pd.Series(lreg.coef_, predictors).sort_values()\n",
    "\n",
    "coef.plot(kind='bar', title='Modal Coefficients')"
   ]
  },
  {
   "cell_type": "markdown",
   "metadata": {
    "collapsed": true
   },
   "source": [
    "## Ridge Regression"
   ]
  },
  {
   "cell_type": "code",
   "execution_count": null,
   "metadata": {
    "collapsed": true
   },
   "outputs": [],
   "source": [
    "from sklearn.linear_model import Ridge\n",
    "\n",
    "# training the model\n",
    "ridgeReg = Ridge(x_train, y_train)\n",
    "pred = ridgeReg.predict(x_cv)\n",
    "\n",
    "# calculating MSE\n",
    "mse = np.mean((pred_cv - y_cv)**2)\n",
    "mse\n",
    "\n",
    "# calculating r-square (scre)\n",
    "ridgeReg.score(x_cv, y_cv)"
   ]
  },
  {
   "cell_type": "markdown",
   "metadata": {
    "collapsed": true
   },
   "source": [
    "# Elastic Net Regression"
   ]
  },
  {
   "cell_type": "code",
   "execution_count": 1,
   "metadata": {
    "collapsed": true
   },
   "outputs": [],
   "source": [
    "from sklearn.linear_model import ElasticNet\n",
    "\n",
    "ENReg = ElasticNet(alpha = 1, l1_ratio=0.5, normalize=False)\n",
    "\n",
    "ENReg.fit(x_train, y_train)\n",
    "\n",
    "pred_cv = ENReg.prodict(x_cv)\n",
    "\n",
    "# calculating MSE\n",
    "mse = np.mean((pred_cv - y_cv)**2)\n",
    "\n",
    "# calculating score\n",
    "ENReg.score(x_cv, y_cv)\n"
   ]
  }
 ],
 "metadata": {
  "kernelspec": {
   "display_name": "Python 3",
   "language": "python",
   "name": "python3"
  },
  "language_info": {
   "codemirror_mode": {
    "name": "ipython",
    "version": 3
   },
   "file_extension": ".py",
   "mimetype": "text/x-python",
   "name": "python",
   "nbconvert_exporter": "python",
   "pygments_lexer": "ipython3",
   "version": "3.6.1"
  }
 },
 "nbformat": 4,
 "nbformat_minor": 2
}
