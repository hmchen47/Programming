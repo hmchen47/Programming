{
 "cells": [
  {
   "cell_type": "markdown",
   "metadata": {},
   "source": [
    "# Linear Regression, Least Squares & Matrix Multiplication: A Concise Technical Overview\n",
    "\n",
    "URL: http://www.kdnuggets.com/2016/11/linear-regression-least-squares-matrix-multiplication-concise-technical-overview.html\n",
    "        \n",
    "Linear regression is a simple algebraic tool which attempts to find the “best” line fitting 2 or more attributes. Read here to discover the relationship between linear regression, the least squares method, and matrix multiplication."
   ]
  },
  {
   "cell_type": "code",
   "execution_count": 1,
   "metadata": {
    "collapsed": true
   },
   "outputs": [],
   "source": [
    "# import packages\n",
    "import numpy as np\n",
    "import matplotlib.pyplot as plt\n"
   ]
  },
  {
   "cell_type": "code",
   "execution_count": 10,
   "metadata": {},
   "outputs": [
    {
     "name": "stdout",
     "output_type": "stream",
     "text": [
      "input= \n",
      "[[  1.77894628e-01   4.63450590e-01]\n",
      " [  8.49647042e-01   8.67091114e-01]\n",
      " [  7.65524521e-02   7.66113911e-01]\n",
      " [  1.37102143e-01   8.21864398e-01]\n",
      " [  2.23370233e-04   7.89840112e-01]\n",
      " [  7.53433518e-01   6.79548341e-01]\n",
      " [  2.91426146e-01   7.86340108e-01]\n",
      " [  9.78016055e-01   5.16762968e-01]\n",
      " [  1.22647836e-01   6.76467479e-01]\n",
      " [  2.25538981e-01   7.90603030e-01]]\n"
     ]
    }
   ],
   "source": [
    "# generate random data\n",
    "N = 10\n",
    "M = 2\n",
    "input = np.random.random((N, M))\n",
    "print(\"input= \\n{}\".format(input))"
   ]
  },
  {
   "cell_type": "code",
   "execution_count": 14,
   "metadata": {
    "collapsed": true
   },
   "outputs": [],
   "source": [
    "# setup matrices\n",
    "m = np.shape(input)[0]\n",
    "X = np.matrix([np.ones(m), input[:,0]]).T\n",
    "y = np.matrix(input[:,1]).T\n",
    "\n",
    "# print(\"m= {}\".format(m))\n",
    "# print(\"X= \\n{}\".format(X))\n",
    "# print(\"y= \\n{}\".format(y))"
   ]
  },
  {
   "cell_type": "code",
   "execution_count": 4,
   "metadata": {},
   "outputs": [
    {
     "name": "stdout",
     "output_type": "stream",
     "text": [
      "A= [[ 0.49033705]\n",
      " [ 0.05204056]]\n"
     ]
    }
   ],
   "source": [
    "# solve for projection matrix\n",
    "p_mat = np.linalg.inv(X.T.dot(X)).dot(X.T).dot(y)\n",
    "print(\"A= {}\".format(p_mat))"
   ]
  },
  {
   "cell_type": "code",
   "execution_count": 5,
   "metadata": {
    "collapsed": true
   },
   "outputs": [],
   "source": [
    "# find regression line\n",
    "xx = np.linspace(0, 1, 2)\n",
    "yy = np.array(p_mat[0] + p_mat[1] * xx)"
   ]
  },
  {
   "cell_type": "code",
   "execution_count": 6,
   "metadata": {},
   "outputs": [
    {
     "data": {
      "image/png": "[encoded data removed]",
      "text/plain": [
       "<matplotlib.figure.Figure at 0x1df1b9deac8>"
      ]
     },
     "metadata": {},
     "output_type": "display_data"
    }
   ],
   "source": [
    "# plot data, regression line\n",
    "plt.figure(1)\n",
    "plt.plot(xx, yy.T, color='b')\n",
    "plt.scatter(input[:,0], input[:,1], color='r')\n",
    "plt.title(\"Linear Regress Example\")\n",
    "plt.xlabel('X')\n",
    "plt.ylabel('Y')\n",
    "plt.show()"
   ]
  },
  {
   "cell_type": "code",
   "execution_count": 7,
   "metadata": {
    "collapsed": true
   },
   "outputs": [],
   "source": [
    "# help(plt)"
   ]
  }
 ],
 "metadata": {
  "kernelspec": {
   "display_name": "Python 3",
   "language": "python",
   "name": "python3"
  },
  "language_info": {
   "codemirror_mode": {
    "name": "ipython",
    "version": 3
   },
   "file_extension": ".py",
   "mimetype": "text/x-python",
   "name": "python",
   "nbconvert_exporter": "python",
   "pygments_lexer": "ipython3",
   "version": "3.6.1"
  }
 },
 "nbformat": 4,
 "nbformat_minor": 2
}
