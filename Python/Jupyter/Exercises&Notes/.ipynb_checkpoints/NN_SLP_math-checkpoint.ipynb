{
 "cells": [
  {
   "cell_type": "markdown",
   "metadata": {},
   "source": [
    "# Understanding and coding Neural Networks From Scratch in Python and R\n",
    "\n",
    "URL: https://www.analyticsvidhya.com/blog/2017/05/neural-network-from-scratch-in-python-and-r/\n",
    "\n",
    "SUNIL RAY , MAY 29, 2017"
   ]
  },
  {
   "cell_type": "markdown",
   "metadata": {},
   "source": [
    "![Example Neural Network](https://s3-ap-south-1.amazonaws.com/av-blog-media/wp-content/uploads/2017/05/26094834/Screen-Shot-2017-05-26-at-9.47.51-AM.png)"
   ]
  },
  {
   "cell_type": "markdown",
   "metadata": {},
   "source": [
    "+ $X$ = inputs matrix\n",
    "+ $Y$ = output matrix\n",
    "+ $E = (Y - t)^2 / 2$ with $t$ = actual result\n",
    "+ $w_h$ = weight matrix to the hidden layer\n",
    "+ $b_h$ = bias matrix to the hidden layer\n",
    "+ $w_o$ = weight matrix to the output layer\n",
    "+ $b_o$ = bias matrix to the output layer\n",
    "+ $f(x)$ = activation function with $f(x) = sigmoid(x) = \\frac{1}{x (1 -e^{-x})}$ and its derivative $f'(x) = x \\cdot (1 - e^{-x})$\n",
    "+ $\\eta$ = learning rate, a configuration parameter"
   ]
  },
  {
   "cell_type": "markdown",
   "metadata": {},
   "source": [
    "Step 0: Read input and output"
   ]
  },
  {
   "cell_type": "code",
   "execution_count": 1,
   "metadata": {
    "collapsed": true
   },
   "outputs": [],
   "source": [
    "import numpy as np\n",
    "\n",
    "#Input array\n",
    "X=np.array([[1,0,1,0],[1,0,1,1],[0,1,0,1]])\n",
    "\n",
    "#Output\n",
    "y=np.array([[1],[1],[0]])\n",
    "\n",
    "#Sigmoid Function\n",
    "def sigmoid (x):\n",
    "    return 1/(1 + np.exp(-x))\n",
    "\n",
    "#Derivative of Sigmoid Function\n",
    "def derivatives_sigmoid(x):\n",
    "    return x * (1 - x)"
   ]
  },
  {
   "cell_type": "markdown",
   "metadata": {},
   "source": [
    "Step 1: Initialize weights and biases with random values (There are methods to initialize weights and biases but for now initialize with random values)"
   ]
  },
  {
   "cell_type": "code",
   "execution_count": 2,
   "metadata": {
    "collapsed": true
   },
   "outputs": [],
   "source": [
    "#Variable initialization\n",
    "epoch=5000                              # Setting training iterations\n",
    "lr=0.1                                  # Setting learning rate\n",
    "inputlayer_neurons = X.shape[1]         # number of features in data set\n",
    "hiddenlayer_neurons = 3                 # number of hidden layers neurons\n",
    "output_neurons = 1                      # number of neurons at output layer\n",
    "\n",
    "#weight and bias initialization\n",
    "wh=np.random.uniform(size=(inputlayer_neurons,hiddenlayer_neurons))\n",
    "bh=np.random.uniform(size=(1,hiddenlayer_neurons))\n",
    "wout=np.random.uniform(size=(hiddenlayer_neurons,output_neurons))\n",
    "bout=np.random.uniform(size=(1,output_neurons))"
   ]
  },
  {
   "cell_type": "markdown",
   "metadata": {},
   "source": [
    "Step 2: Calculate hidden layer input:\n",
    "$$H_i = w_h \\cdot X + b_h$$\n",
    "where $H_i$ = hidden layer input\n",
    "\n",
    "Original format: hidden_layer_input= matrix_dot_product(X,wh) + bh"
   ]
  },
  {
   "cell_type": "markdown",
   "metadata": {},
   "source": [
    "Step 3: Perform non-linear transformation on hidden linear input\n",
    "$$ H_o = f(H_i)$$\n",
    "where $H_o$ = output of hidden layer\n",
    "\n",
    "original format: hiddenlayer_activations = sigmoid(hidden_layer_input)"
   ]
  },
  {
   "cell_type": "markdown",
   "metadata": {},
   "source": [
    "Step 4: Perform linear and non-linear transformation of hidden layer activation at output layer\n",
    "\\begin{array}{rcl}\n",
    "    O_i & = & w_o \\cdot H_o + b_o \\\\\n",
    "    O_o & = & f(O_i)\n",
    "\\end{array}\n",
    "where $O_i$ = input of the output layer, $O_o$ = output of the output layer\n",
    "\n",
    "original format: output_layer_input = matrix_dot_product (hiddenlayer_activations $*$ wout ) + bout\n",
    "\n",
    "original format: output = sigmoid(output_layer_input)"
   ]
  },
  {
   "cell_type": "markdown",
   "metadata": {},
   "source": [
    "Step 5: Calculate gradient of Error(E) at output layer\n",
    "$$ E = (O_o - y)^2 / 2$$\n",
    "where $y$ = actual output.\n",
    "Here $E$ is the MSE value\n",
    "\n",
    "original format: E = y-output"
   ]
  },
  {
   "cell_type": "markdown",
   "metadata": {},
   "source": [
    "Step 6: Compute slope at output and hidden layer\n",
    "\n",
    "$$ \\sigma_o = f^{\\prime}(O_o) = O_o \\cdot (1 - O_o)$$\n",
    "$$ \\sigma_h = f^{\\prime}(H_o) = H_o \\cdot (1 - H_o)$$\n",
    "where $\\sigma_o$ = gradient of the output layer activetion function (derivative) and $\\sigma_h$ = gradient of the hidden layer activiation function\n",
    "\n",
    "\n",
    "original format: Slope_output_layer= derivatives_sigmoid(output)\n",
    "\n",
    "original format: Slope_hidden_layer = derivatives_sigmoid(hiddenlayer_activations)"
   ]
  },
  {
   "cell_type": "markdown",
   "metadata": {},
   "source": [
    "Step 7: Compute delta at output layer\n",
    "$$ \\delta_o = E * \\sigma_o * \\eta$$\n",
    "where $\\delta_o$ = change of the output layer contributing to the error\n",
    "\n",
    "original format: d_output = E $*$ slope_output_layer $*$ lr"
   ]
  },
  {
   "cell_type": "markdown",
   "metadata": {},
   "source": [
    "Step 8: Calculate Error at hidden layer\n",
    "$$e_h = w_o^{T} \\cdot \\delta_o$$\n",
    "where $e_h$ = error at the output layer\n",
    "\n",
    "original format: Error_at_hidden_layer = matrix_dot_product(d_output, wout.Transpose)"
   ]
  },
  {
   "cell_type": "markdown",
   "metadata": {},
   "source": [
    "Step 9: Compute delta at hidden layer\n",
    "$$\\delta_h = e_h * \\sigma_h$$\n",
    "where $\\delta_h$ = changeof the hidden layer contributing to the error\n",
    "\n",
    "original format: d_hiddenlayer = Error_at_hidden_layer * slope_hidden_layer"
   ]
  },
  {
   "cell_type": "markdown",
   "metadata": {},
   "source": [
    "Step 10: Update weight at both output and hidden layer\n",
    "$$ w_o = w_o + \\delta_o \\cdot \\delta_h^T * \\eta$$\n",
    "$$ w_h = w_h + \\delta_h \\cdot X^T * \\eta$$\n",
    "\n",
    "original format: wout = wout + matrix_dot_product(hiddenlayer_activations.Transpose, d_output)$*$learning_rate\n",
    "\n",
    "original format: wh =  wh+ matrix_dot_product(X.Transpose,d_hiddenlayer)$*$learning_rate"
   ]
  },
  {
   "cell_type": "markdown",
   "metadata": {},
   "source": [
    "Step 11: Update biases at both output and hidden layer\n",
    "\\begin{array}{lcr}\n",
    "    b_h & = & b_h + \\sum(\\delta_h) * \\eta \\\\\n",
    "    b_o & = & b_o + \\sum(\\delta_o) * \\eta\n",
    "\\end{array}\n",
    "original format: bh = bh + sum(d_hiddenlayer, axis=0) $*$ learning_rate\n",
    "\n",
    "original format: bout = bout + sum(d_output, axis=0) $*$ learning_rate"
   ]
  },
  {
   "cell_type": "code",
   "execution_count": 3,
   "metadata": {
    "collapsed": true
   },
   "outputs": [],
   "source": [
    "for i in range(epoch):\n",
    "\n",
    "    #Forward Propogation\n",
    "    hidden_layer_input1=np.dot(X,wh)\n",
    "    hidden_layer_input=hidden_layer_input1 + bh\n",
    "    hiddenlayer_activations = sigmoid(hidden_layer_input)\n",
    "    \n",
    "    output_layer_input1=np.dot(hiddenlayer_activations,wout)\n",
    "    output_layer_input= output_layer_input1+ bout\n",
    "    output = sigmoid(output_layer_input)\n",
    "\n",
    "    #Backpropagation\n",
    "    E = y-output\n",
    "    slope_output_layer = derivatives_sigmoid(output)\n",
    "    slope_hidden_layer = derivatives_sigmoid(hiddenlayer_activations)\n",
    "    \n",
    "    d_output = E * slope_output_layer\n",
    "    Error_at_hidden_layer = d_output.dot(wout.T)    \n",
    "    d_hiddenlayer = Error_at_hidden_layer * slope_hidden_layer\n",
    "    \n",
    "    wout += hiddenlayer_activations.T.dot(d_output) *lr\n",
    "    bout += np.sum(d_output, axis=0,keepdims=True) *lr\n",
    "    \n",
    "    wh += X.T.dot(d_hiddenlayer) *lr\n",
    "    bh += np.sum(d_hiddenlayer, axis=0,keepdims=True) *lr"
   ]
  },
  {
   "cell_type": "code",
   "execution_count": 13,
   "metadata": {},
   "outputs": [
    {
     "name": "stdout",
     "output_type": "stream",
     "text": [
      "Output layer: \n",
      "weights: \n",
      "[[ 3.54081355]\n",
      " [ 3.11519372]\n",
      " [-2.46159562]]\n",
      "biases: \n",
      "[[-1.46017449]]\n",
      "\n",
      "Huidden layer: \n",
      "weights: \n",
      "[[ 1.61560569  1.46930404 -0.80612237]\n",
      " [-1.73880225 -1.41772989  1.23533085]\n",
      " [ 1.73563891  1.73681884 -0.55815855]\n",
      " [-0.64345475 -1.02417878  0.78395742]]\n",
      "biases: \n",
      "[[-0.36208101 -0.07956337  0.16433623]]\n"
     ]
    }
   ],
   "source": [
    "print(\"Output layer: \")\n",
    "print(\"weights: \\n{}\".format(wout))\n",
    "print(\"biases: \\n{}\\n\".format(bout))\n",
    "\n",
    "print(\"Huidden layer: \")\n",
    "print(\"weights: \\n{}\".format(wh))\n",
    "print(\"biases: \\n{}\".format(bh))"
   ]
  },
  {
   "cell_type": "markdown",
   "metadata": {},
   "source": [
    "# Matematical Practice of BP Algorithm\n",
    "\n",
    "$$ H_i = W_i \\cdot X + b_h$$\n",
    "$$ H_o = f(H_i) = f(W_i \\cdot X) + f(b_h)$$\n",
    "$$ O_i = w_h \\cdot H_o + b_o $$\n",
    "$$ O_o = f(O_i) = f(W_h \\cdot H_o) + f(b_o)$$\n",
    "where $H_i$ = the input of the hidden layer, $H_o$ = the output of the hidden layer (after applying activation function), $O_i$ = input of the output layer, and $O_o$ = output of the output layer\n",
    "\n",
    "$$ E = (O_o - Y)^2 / 2 \\space \\Rightarrow \\space \\frac{\\partial E}{\\partial O_o} = (O_o - Y)$$\n",
    "where $Y$ = the actual output\n",
    "\n",
    "The errors regarding to the output and hidden layers:\n",
    "$$ \\frac{\\partial E}{\\partial w_h} = \\frac{\\partial E}{\\partial O_o} \\frac{\\partial O_o}{\\partial O_i} \\frac{\\partial O_i}{\\partial w_h} = (O_o - Y) \\cdot O_o (1 - O_o) \\cdot H_o$$\n",
    "where \n",
    "\\begin{array}{rcl}\n",
    "    \\frac{\\partial E}{\\partial O_o} & = & O_o - Y \\\\\n",
    "    \\frac{\\partial O_o}{\\partial O_i} & = & O_o (1 - O_o) \\\\\n",
    "    \\frac{\\partial O_i}{\\partial O_o} & = & H_o\n",
    "\\end{array}\n",
    "\n",
    "$$ \\frac{\\partial E}{\\partial w_i} = \\frac{\\partial E}{\\partial O_o} \\frac{\\partial O_o}{\\partial O_i} \\frac{\\partial O_i}{\\partial H_o} \\frac{\\partial H_o}{\\partial H_i} = (O_o - Y) \\cdot O_o (1 - O_o) \\cdot w_h * H_o(1-Ho) \\cdot X$$\n",
    "where\n",
    "\\begin{array}{rcl}\n",
    "    \\frac{\\partial O_i}{\\partial H_o} & = & \\frac{\\partial O_i}{\\partial H_0} \\frac{\\partial H_o}{\\partial H_i} \\\\\n",
    "    & = & w_h \\cdot H_o (1 - H_o) \\\\\n",
    "    \\frac{\\partial H_o}{\\partial H_i} & = & X\n",
    "\\end{array}"
   ]
  }
 ],
 "metadata": {
  "kernelspec": {
   "display_name": "Python 3",
   "language": "python",
   "name": "python3"
  },
  "language_info": {
   "codemirror_mode": {
    "name": "ipython",
    "version": 3
   },
   "file_extension": ".py",
   "mimetype": "text/x-python",
   "name": "python",
   "nbconvert_exporter": "python",
   "pygments_lexer": "ipython3",
   "version": "3.6.1"
  }
 },
 "nbformat": 4,
 "nbformat_minor": 2
}
