{
 "cells": [
  {
   "cell_type": "markdown",
   "metadata": {},
   "source": [
    "# Python 標準函式庫用法\n",
    "\n",
    "+ [sys — 系統相關的參數以及函式](https://blog.louie.lu/2017/07/26/%E4%BD%A0%E6%89%80%E4%B8%8D%E7%9F%A5%E9%81%93%E7%9A%84-python-%E6%A8%99%E6%BA%96%E5%87%BD%E5%BC%8F%E5%BA%AB%E7%94%A8%E6%B3%95-01-sys/)\n",
    "+ [random – 產生偽隨機亂數](https://blog.louie.lu/2017/07/27/%E4%BD%A0%E6%89%80%E4%B8%8D%E7%9F%A5%E9%81%93%E7%9A%84-python-%E6%A8%99%E6%BA%96%E5%87%BD%E5%BC%8F%E5%BA%AB%E7%94%A8%E6%B3%95-02-random/)\n",
    "+ [abc — Abstract Base Classes](https://blog.louie.lu/2017/07/28/%E4%BD%A0%E6%89%80%E4%B8%8D%E7%9F%A5%E9%81%93%E7%9A%84-python-%E6%A8%99%E6%BA%96%E5%87%BD%E5%BC%8F%E5%BA%AB%E7%94%A8%E6%B3%95-03-abc/)\n",
    "+ [weakref – Weak References](https://blog.louie.lu/2017/07/29/%E4%BD%A0%E6%89%80%E4%B8%8D%E7%9F%A5%E9%81%93%E7%9A%84-python-%E6%A8%99%E6%BA%96%E5%87%BD%E5%BC%8F%E5%BA%AB%E7%94%A8%E6%B3%95-04-weakref/)\n",
    "+ [linecache – Random access to text lines](https://blog.louie.lu/2017/07/31/%E4%BD%A0%E6%89%80%E4%B8%8D%E7%9F%A5%E9%81%93%E7%9A%84-python-%E6%A8%99%E6%BA%96%E5%87%BD%E5%BC%8F%E5%BA%AB%E7%94%A8%E6%B3%95-05-linecache/)\n",
    "+ [concurrent.futures – Launching parallel tasks](https://blog.louie.lu/2017/08/01/%E4%BD%A0%E6%89%80%E4%B8%8D%E7%9F%A5%E9%81%93%E7%9A%84-python-%E6%A8%99%E6%BA%96%E5%87%BD%E5%BC%8F%E5%BA%AB%E7%94%A8%E6%B3%95-06-concurrent-futures/)\n",
    "+ [atexit – Exit handlers](https://blog.louie.lu/2017/08/03/%E4%BD%A0%E6%89%80%E4%B8%8D%E7%9F%A5%E9%81%93%E7%9A%84-python-%E6%A8%99%E6%BA%96%E5%87%BD%E5%BC%8F%E5%BA%AB%E7%94%A8%E6%B3%95-08-atexit/)\n",
    "+ [tracemalloc – 記憶體配置除錯](https://blog.louie.lu/2017/08/04/tracemalloc-%E8%A8%98%E6%86%B6%E9%AB%94%E9%85%8D%E7%BD%AE%E9%99%A4%E9%8C%AF-%E4%BD%A0%E6%89%80%E4%B8%8D%E7%9F%A5%E9%81%93%E7%9A%84-python-%E6%A8%99%E6%BA%96%E5%87%BD%E5%BC%8F/)\n",
    "+ "
   ]
  },
  {
   "cell_type": "markdown",
   "metadata": {},
   "source": [
    "## [Python 標準函式庫用法 01 — sys](https://blog.louie.lu/2017/07/26/%E4%BD%A0%E6%89%80%E4%B8%8D%E7%9F%A5%E9%81%93%E7%9A%84-python-%E6%A8%99%E6%BA%96%E5%87%BD%E5%BC%8F%E5%BA%AB%E7%94%A8%E6%B3%95-01-sys/)\n",
    "\n",
    "### sys.argv – dealing with command line arguments"
   ]
  },
  {
   "cell_type": "code",
   "execution_count": null,
   "metadata": {
    "collapsed": true
   },
   "outputs": [],
   "source": [
    "#! /usr/bin/python3\n",
    "# _*_ CODING: UTF-8 _*_\n",
    "\n",
    "import sys\n",
    "import twstock    # https://github.com/mlouielu/twstock\n",
    " \n",
    "if __name__ == '__main__':\n",
    "    if len(sys.argv) == 2:\n",
    "        s = twstock.Stock(sys.argv[1])\n",
    "        print(s.price[-5:])\n"
   ]
  },
  {
   "cell_type": "markdown",
   "metadata": {},
   "source": [
    "### sys.platform"
   ]
  },
  {
   "cell_type": "code",
   "execution_count": null,
   "metadata": {
    "collapsed": true
   },
   "outputs": [],
   "source": [
    "if sys.platform.startswith('win32'):\n",
    "    # Do Windows stuff\n",
    "elif sys.platform.startswith('darwin'):\n",
    "    # Do MacOS stuff\n",
    "elif sys.platform.startswith('linux'):\n",
    "    # Do Linux stuff\n",
    "else:\n",
    "    # Fallback"
   ]
  },
  {
   "cell_type": "markdown",
   "metadata": {},
   "source": [
    "### sys.version_info"
   ]
  },
  {
   "cell_type": "code",
   "execution_count": null,
   "metadata": {
    "collapsed": true
   },
   "outputs": [],
   "source": [
    "sys.version_info(major=3, minor=7, micro=0, releaselevel='alpha', serial=0)"
   ]
  },
  {
   "cell_type": "code",
   "execution_count": null,
   "metadata": {
    "collapsed": true
   },
   "outputs": [],
   "source": [
    "import sys\n",
    " \n",
    "PY2 = sys.version_info.major == 2\n",
    "PY3 = sys.version_info.major == 3"
   ]
  },
  {
   "cell_type": "markdown",
   "metadata": {},
   "source": [
    "### sys.path"
   ]
  },
  {
   "cell_type": "code",
   "execution_count": null,
   "metadata": {
    "collapsed": true
   },
   "outputs": [],
   "source": [
    "import sys\n",
    "\n",
    "sys.path\n",
    "['', '/usr/lib/python36.zip', '/usr/lib/python3.6', '/usr/lib/python3.6/lib-dynload', '/home/grd/.local/lib/python3.6/site-packages', '/usr/lib/python3.6/site-packages', '/usr/lib/python3.6/site-packages/cosmic_ray-1.0.0a1-py3.6.egg', '/usr/lib/python3.6/site-packages/nose-1.3.7-py3.6.egg', '/usr/lib/python3.6/site-packages/lice-0.4-py3.6.egg', '/usr/lib/python3.6/site-packages/howdoi-1.1.9-py3.6.egg', '/usr/lib/python3.6/site-packages/Cherry_Picker-0.0.0-py3.6.egg', '/usr/lib/python3.6/site-packages/twstock-0.1-py3.6.egg', '/usr/lib/python3.6/site-packages/perf-1.5-py3.6.egg']"
   ]
  },
  {
   "cell_type": "code",
   "execution_count": null,
   "metadata": {
    "collapsed": true
   },
   "outputs": [],
   "source": [
    "### sys.stdin, sys.stdout, sys.stderr"
   ]
  },
  {
   "cell_type": "code",
   "execution_count": null,
   "metadata": {
    "collapsed": true
   },
   "outputs": [],
   "source": [
    "import sys\n",
    "sys.stdout.close()\n",
    "print('no way')"
   ]
  },
  {
   "cell_type": "code",
   "execution_count": null,
   "metadata": {
    "collapsed": true
   },
   "outputs": [],
   "source": [
    "import sys\n",
    "import io\n",
    "sys.stdout = io.TextIOWrapper(sys.stdout.buffer, encoding='utf-8')\n",
    "print('萬國碼')"
   ]
  },
  {
   "cell_type": "markdown",
   "metadata": {},
   "source": [
    "### sys.displayhook(value)"
   ]
  },
  {
   "cell_type": "code",
   "execution_count": null,
   "metadata": {
    "collapsed": true
   },
   "outputs": [],
   "source": [
    "import sys\n",
    "import pprint\n",
    " \n",
    "def dict_displayhook(obj):\n",
    "    if isinstance(obj, dict):\n",
    "        pprint.pprint(obj)\n",
    "        __builtins__._ = obj\n",
    "    else:\n",
    "        sys.__displayhook__(obj)\n",
    " \n",
    "sys.displayhook = dict_displayhook"
   ]
  },
  {
   "cell_type": "markdown",
   "metadata": {},
   "source": [
    "### sys.exceptionhook(type, value, traceback)"
   ]
  },
  {
   "cell_type": "code",
   "execution_count": null,
   "metadata": {
    "collapsed": true
   },
   "outputs": [],
   "source": [
    "import sys\n",
    "import webbrowser\n",
    " \n",
    "STACKOVERFLOW_URL = 'https://stackoverflow.com/search?tab=votes&{qs}'\n",
    " \n",
    "def raiser(etype, value, tb):\n",
    "    error_msg = '{etype}: {value}'.format(etype=etype.__name__, value=value)\n",
    "    webbrowser.open(STACKOVERFLOW_URL.format(\n",
    "        qs=urlencode({'q': '[python] ' + error_msg})), new=2)  # new=2 open in new tab\n",
    " \n",
    "    sys.__excepthook__(etype, value, tb)\n",
    " \n",
    "# Globaly replace sys.excepthook to raiser\n",
    "sys.excepthook = raiser"
   ]
  },
  {
   "cell_type": "markdown",
   "metadata": {},
   "source": [
    "### sys.setrecursionlimit(limit)\n",
    "\n",
    "### sys.setswitchinterval(interval)\n",
    "\n",
    "### sys.settrace(tracefunc)\n",
    "\n",
    "### sys.setprofile(profilefunc)"
   ]
  },
  {
   "cell_type": "markdown",
   "metadata": {
    "collapsed": true
   },
   "source": [
    "## [Python 標準函式庫用法 02 — random](https://blog.louie.lu/2017/07/27/%E4%BD%A0%E6%89%80%E4%B8%8D%E7%9F%A5%E9%81%93%E7%9A%84-python-%E6%A8%99%E6%BA%96%E5%87%BD%E5%BC%8F%E5%BA%AB%E7%94%A8%E6%B3%95-02-random/)\n",
    "\n",
    "### random.seed(a=None, version=2)\n",
    "\n",
    "### random.seed(a=None, version=2)\n",
    "\n",
    "### random.getstate()\n",
    "\n",
    "### random.setstate(state)"
   ]
  },
  {
   "cell_type": "code",
   "execution_count": null,
   "metadata": {
    "collapsed": true
   },
   "outputs": [],
   "source": [
    "import random\n",
    "\n",
    "random.seed('foobar')     # 設定 random seed\n",
    "random.randint(0, 100)    # 隨意消耗一些亂數\n",
    "                                 "
   ]
  },
  {
   "cell_type": "code",
   "execution_count": null,
   "metadata": {
    "collapsed": true
   },
   "outputs": [],
   "source": [
    "random.randint(0, 100)"
   ]
  },
  {
   "cell_type": "code",
   "execution_count": null,
   "metadata": {
    "collapsed": true
   },
   "outputs": [],
   "source": [
    "random.randint(0, 100)"
   ]
  },
  {
   "cell_type": "code",
   "execution_count": null,
   "metadata": {
    "collapsed": true
   },
   "outputs": [],
   "source": [
    "rs = random.getstate()    # 儲存目前的亂數狀態\n",
    "r0 = [random.randint(0, 100) for _ in range(10)]  # 生成 10 個亂數\n",
    "random.setstate(rs)                               # 回復亂數狀態\n",
    "r1 = [random.randint(0, 100) for _ in range(10)]  # 生成 10 個亂數\n",
    "r0 == r1"
   ]
  },
  {
   "cell_type": "markdown",
   "metadata": {
    "collapsed": true
   },
   "source": [
    "## 整數亂數產生\n",
    "\n",
    "### random.randrange(stop) / random.randrange(start, stop[, step])\n",
    "### random.randint(a, b)"
   ]
  },
  {
   "cell_type": "code",
   "execution_count": null,
   "metadata": {
    "collapsed": true
   },
   "outputs": [],
   "source": [
    " import random\n",
    "random.seed('foobar')\n",
    "random.randint(0, 10)"
   ]
  },
  {
   "cell_type": "code",
   "execution_count": null,
   "metadata": {
    "collapsed": true
   },
   "outputs": [],
   "source": [
    "random.randrange(0, 10, 3)   # range(0, 10, 3) -> [0, 3, 6, 9]"
   ]
  },
  {
   "cell_type": "code",
   "execution_count": null,
   "metadata": {
    "collapsed": true
   },
   "outputs": [],
   "source": [
    "random.randrange(0, 10, 3)"
   ]
  },
  {
   "cell_type": "code",
   "execution_count": null,
   "metadata": {
    "collapsed": true
   },
   "outputs": [],
   "source": [
    "random.randrange(0, 10, 3)"
   ]
  },
  {
   "cell_type": "code",
   "execution_count": null,
   "metadata": {
    "collapsed": true
   },
   "outputs": [],
   "source": [
    "rnds = [random.randint(0, 10) for _ in range(10)]\n",
    "rnds"
   ]
  },
  {
   "cell_type": "markdown",
   "metadata": {
    "collapsed": true
   },
   "source": [
    "## 序列操作相關\n",
    "\n",
    "### random.choice(seq)\n",
    "### random.choices(population, weights=None, *, cum_weights=None, k=1)\n",
    "### random.shuffle(x[, random])\n",
    "### random.sample(population, k)"
   ]
  },
  {
   "cell_type": "markdown",
   "metadata": {},
   "source": [
    "## 重置抽樣、非重置抽樣\n",
    "\n",
    "+ Sampling with replacement: 從總體抽出一個元素後，會將該元素放回總體。接著重新抽取，因此有機會抽取到相同的元素。\n",
    "+ Sampling without replacement: 從總體抽出一個元素後，不會將該元素放回總體。因此不會在次抽到已抽到的元素。"
   ]
  },
  {
   "cell_type": "code",
   "execution_count": null,
   "metadata": {
    "collapsed": true
   },
   "outputs": [],
   "source": [
    "import random\n",
    "random.seed('foobar')\n",
    "\n",
    "seq = [1, 2, 3, 4, 5]\n",
    "ranodm.choice(seq)"
   ]
  },
  {
   "cell_type": "code",
   "execution_count": null,
   "metadata": {
    "collapsed": true
   },
   "outputs": [],
   "source": [
    "random.choices(seq, k=3)  # 重置抽樣，有機會抽到相同的元素\n"
   ]
  },
  {
   "cell_type": "code",
   "execution_count": null,
   "metadata": {
    "collapsed": true
   },
   "outputs": [],
   "source": [
    "random.choices(seq, k=3)\n"
   ]
  },
  {
   "cell_type": "code",
   "execution_count": null,
   "metadata": {
    "collapsed": true
   },
   "outputs": [],
   "source": [
    "random.sample(seq, k=3)   # 非重置抽樣，不會抽到相同的元素\n"
   ]
  },
  {
   "cell_type": "code",
   "execution_count": null,
   "metadata": {
    "collapsed": true
   },
   "outputs": [],
   "source": [
    "random.sample(seq, k=3)\n"
   ]
  },
  {
   "cell_type": "code",
   "execution_count": null,
   "metadata": {
    "collapsed": true
   },
   "outputs": [],
   "source": [
    "random.shuffle(seq)       # 亂數重整 seq 順序\n",
    "seq"
   ]
  },
  {
   "cell_type": "markdown",
   "metadata": {
    "collapsed": true
   },
   "source": [
    "## [Python 標準函式庫用法 03 — abc](https://blog.louie.lu/2017/07/28/%E4%BD%A0%E6%89%80%E4%B8%8D%E7%9F%A5%E9%81%93%E7%9A%84-python-%E6%A8%99%E6%BA%96%E5%87%BD%E5%BC%8F%E5%BA%AB%E7%94%A8%E6%B3%95-03-abc/)\n",
    "\n",
    "### Quickstart Tutorial"
   ]
  },
  {
   "cell_type": "code",
   "execution_count": null,
   "metadata": {
    "collapsed": true
   },
   "outputs": [],
   "source": [
    "import abc\n",
    " \n",
    "class Animal(metaclass=abc.ABCMeta):\n",
    " \n",
    "    @abc.abstractmethod\n",
    "    def screaming(self):\n",
    "        'Return when animal screaming the sound hear likes'\n",
    "        return NotImplemented\n",
    " \n",
    "    @abc.abstractmethod\n",
    "    def walk(self, x, y):\n",
    "        'Make animal walk to position (x, y).'\n",
    "        return NotImplemented"
   ]
  },
  {
   "cell_type": "code",
   "execution_count": null,
   "metadata": {
    "collapsed": true
   },
   "outputs": [],
   "source": [
    "# different implementation\n",
    "import abc\n",
    " \n",
    "class Animal(abc.ABC):\n",
    " \n",
    "    @abc.abstractmethod\n",
    "    def screaming(self):\n",
    "        'Return when animal screaming the sound hear likes'\n",
    "        return NotImplemented\n",
    " \n",
    "    @abc.abstractmethod\n",
    "    def walk(self, x, y):\n",
    "        'Make animal walk to position (x, y).'\n",
    "        return NotImplemented"
   ]
  },
  {
   "cell_type": "code",
   "execution_count": null,
   "metadata": {
    "collapsed": true
   },
   "outputs": [],
   "source": [
    "class Dog(Animal):\n",
    "    pass\n",
    "\n",
    "Dog()"
   ]
  },
  {
   "cell_type": "code",
   "execution_count": null,
   "metadata": {
    "collapsed": true
   },
   "outputs": [],
   "source": [
    "class Dog(Animal):\n",
    "     x = 0\n",
    "     y = 0\n",
    "     def screaming(self):\n",
    "         return 'Wof, Wof'\n",
    "     def walk(self, x, y):\n",
    "         self.x = x\n",
    "         self.y = y\n",
    "         return (self.x, self.y)\n",
    " \n",
    "Dog()"
   ]
  },
  {
   "cell_type": "code",
   "execution_count": null,
   "metadata": {
    "collapsed": true
   },
   "outputs": [],
   "source": [
    "dog = Dog()\n",
    "dog.screaming()"
   ]
  },
  {
   "cell_type": "code",
   "execution_count": null,
   "metadata": {
    "collapsed": true
   },
   "outputs": [],
   "source": [
    "dog.walk(10, 20)"
   ]
  },
  {
   "cell_type": "code",
   "execution_count": null,
   "metadata": {
    "collapsed": true
   },
   "outputs": [],
   "source": [
    "isinstance(Dog(), Animal)"
   ]
  },
  {
   "cell_type": "code",
   "execution_count": null,
   "metadata": {
    "collapsed": true
   },
   "outputs": [],
   "source": [
    "issubclass(Dog, Animal)"
   ]
  },
  {
   "cell_type": "code",
   "execution_count": null,
   "metadata": {
    "collapsed": true
   },
   "outputs": [],
   "source": [
    "isinstance([], Animal)"
   ]
  },
  {
   "cell_type": "code",
   "execution_count": null,
   "metadata": {
    "collapsed": true
   },
   "outputs": [],
   "source": [
    "issubclass(list, Animal)"
   ]
  },
  {
   "cell_type": "code",
   "execution_count": null,
   "metadata": {
    "collapsed": true
   },
   "outputs": [],
   "source": [
    "Animal.register(list)  # Recognize list as Animal\n",
    "isinstance([], Animal)"
   ]
  },
  {
   "cell_type": "code",
   "execution_count": null,
   "metadata": {
    "collapsed": true
   },
   "outputs": [],
   "source": [
    "issubclass(list, Animal)"
   ]
  },
  {
   "cell_type": "code",
   "execution_count": null,
   "metadata": {
    "collapsed": true
   },
   "outputs": [],
   "source": [
    "from collections import abc\n",
    "isinstance([], abc.Sequence)"
   ]
  },
  {
   "cell_type": "code",
   "execution_count": null,
   "metadata": {
    "collapsed": true
   },
   "outputs": [],
   "source": [
    "isinstance((), abc.Sequence)"
   ]
  },
  {
   "cell_type": "code",
   "execution_count": null,
   "metadata": {
    "collapsed": true
   },
   "outputs": [],
   "source": [
    "issubclass(list, abc.Sequence)"
   ]
  },
  {
   "cell_type": "code",
   "execution_count": null,
   "metadata": {
    "collapsed": true
   },
   "outputs": [],
   "source": [
    "issubclass(tuple, abc.Sequence)"
   ]
  },
  {
   "cell_type": "markdown",
   "metadata": {},
   "source": [
    "## HOW-TO GUIDE\n",
    "\n",
    "### Abstract classmethod and staticmethod"
   ]
  },
  {
   "cell_type": "code",
   "execution_count": null,
   "metadata": {
    "collapsed": true
   },
   "outputs": [],
   "source": [
    "import abc\n",
    " \n",
    "class Base(abc.ABC):\n",
    " \n",
    "    @classmethod\n",
    "    @abc.abstractmethod\n",
    "    def setUpClass(cls):\n",
    "        return NotImplemented\n",
    " \n",
    "    @staticmethod\n",
    "    @abc.abstractmethod\n",
    "    def count(self, data):\n",
    "        return len(data)\n",
    " \n",
    " \n",
    "class Implementation(Base):\n",
    " \n",
    "    @classmethod\n",
    "    def setUpClass(cls):\n",
    "        cls.count = 0\n",
    " \n",
    "    @staticmethod\n",
    "    def count(self, data):\n",
    "        self.count = len(data)\n",
    "        return self.count"
   ]
  },
  {
   "cell_type": "markdown",
   "metadata": {},
   "source": [
    "### Abstract property"
   ]
  },
  {
   "cell_type": "code",
   "execution_count": null,
   "metadata": {
    "collapsed": true
   },
   "outputs": [],
   "source": [
    "import abc\n",
    " \n",
    " \n",
    "class Base(abc.ABC):\n",
    "    _index = 0\n",
    " \n",
    "    @property\n",
    "    @abc.abstractmethod\n",
    "    def index(self):\n",
    "        return self._index\n",
    " \n",
    "    @index.setter\n",
    "    @abc.abstractmethod\n",
    "    def index(self, new_index):\n",
    "        self._index = new_index\n",
    " \n",
    " \n",
    "class Implementation(Base):\n",
    "    MAX_LEN = 100\n",
    " \n",
    "    @property\n",
    "    def index(self):\n",
    "        return self._index\n",
    " \n",
    "    @index.setter\n",
    "    def index(self, new_index):\n",
    "        new_index = min(new_index, self.MAX_LEN)\n",
    "        self._index = new_index\n",
    " \n",
    "imp = Implementation()\n",
    "print(imp.index)\n",
    "imp.index = 50\n",
    "print(imp.index)\n",
    "imp.index = 500\n",
    "print(imp.index)"
   ]
  },
  {
   "cell_type": "markdown",
   "metadata": {},
   "source": [
    "### Discussions\n",
    "\n",
    "#### abc 的運作原理\n",
    "#### 如何做到 decorator + abstractmethod 而不需要相對應的 abstract decorator (@abstractclassmethod…etc)?\n",
    "#### abc.ABC helper class 的運作原理?\n",
    "\n",
    "abc.ABC 程式碼如下：\n",
    "```python\n",
    "class ABC(metaclass=ABCMeta):\n",
    "    \"\"\"Helper class that provides a standard way to create an ABC using\n",
    "    inheritance.\n",
    "    \"\"\"\n",
    "    __slots__ = ()\n",
    "```"
   ]
  },
  {
   "cell_type": "code",
   "execution_count": null,
   "metadata": {
    "collapsed": true
   },
   "outputs": [],
   "source": [
    "import abc\n",
    "\n",
    "class Foo(object):\n",
    "     pass"
   ]
  },
  {
   "cell_type": "code",
   "execution_count": null,
   "metadata": {
    "collapsed": true
   },
   "outputs": [],
   "source": [
    "foo = Foo()\n",
    "foo.bar = 10\n",
    "print(foo.bar)"
   ]
  },
  {
   "cell_type": "code",
   "execution_count": null,
   "metadata": {
    "collapsed": true
   },
   "outputs": [],
   "source": [
    "a = abc.ABC()\n",
    "a.bar = 10"
   ]
  },
  {
   "cell_type": "markdown",
   "metadata": {},
   "source": [
    "#### get_cache_token 的實際用途?\n",
    "#### abc.ABCMeta Performance Issue\n",
    "\n",
    "### REFERENCE\n",
    "+ [29.7. abc — Abstract Base Classes](https://docs.python.org/3/library/abc.html)\n",
    "+ [PEP 3119](https://www.python.org/dev/peps/pep-3119) – Introduce Abstract Base Classes\n",
    "+ [PEP 3141](https://www.python.org/dev/peps/pep-3141) – A Type Hierarchy for Numbers\n",
    "+ [collections.abc](https://docs.python.org/3.5/library/collections.abc.html) – Abstract Base Classes for Containers\n",
    "+ [abc – Abstract Base Classes](https://pymotw.com/3/abc/index.html) – MOTW3\n",
    "+ [What is metaclass?](https://stackoverflow.com/a/6581949/8218546) – Stackoverflow best answer of metaclass"
   ]
  },
  {
   "cell_type": "markdown",
   "metadata": {},
   "source": [
    "## [Python 標準函式庫用法 04 — weakref](https://blog.louie.lu/2017/07/29/%E4%BD%A0%E6%89%80%E4%B8%8D%E7%9F%A5%E9%81%93%E7%9A%84-python-%E6%A8%99%E6%BA%96%E5%87%BD%E5%BC%8F%E5%BA%AB%E7%94%A8%E6%B3%95-04-weakref/)\n",
    "\n",
    "### Quickstart Tutorial"
   ]
  },
  {
   "cell_type": "code",
   "execution_count": null,
   "metadata": {
    "collapsed": true
   },
   "outputs": [],
   "source": [
    "import sys  # We can use sys.getrefcount(obj) to get refcnt\n",
    " \n",
    " \n",
    "class Foo(object):\n",
    "    pass\n",
    " \n",
    " \n",
    "# Create Foo Object A\n",
    "# And print reference count\n",
    "A = Foo()\n",
    "print('Refcnt of A: ', sys.getrefcount(A))\n",
    " \n",
    "# Create a strong reference to A\n",
    "# And check if B is reference to A\n",
    "# Then print A refcnt, it should +1\n",
    "B = A\n",
    "print(\"A is B's referent: \", id(B) == id(A))\n",
    "print('Refcnt of A: ', sys.getrefcount(A))\n",
    " \n",
    "# Create three strong reference to A\n",
    "# Refcnt of A should +3\n",
    "C = A\n",
    "D = A\n",
    "E = A\n",
    "print('Refcnt of A: ', sys.getrefcount(A))\n",
    " \n",
    "# Delete E should -1 at A's refcnt\n",
    "del E\n",
    "print('Refcnt of A: ', sys.getrefcount(A))"
   ]
  },
  {
   "cell_type": "code",
   "execution_count": null,
   "metadata": {
    "collapsed": true
   },
   "outputs": [],
   "source": [
    "import sys\n",
    "import weakref\n",
    " \n",
    " \n",
    "class Foo(object):\n",
    "    def show(self):\n",
    "        print('hello')\n",
    " \n",
    " \n",
    "A = Foo()\n",
    "print('Refcnt of A: ', sys.getrefcount(A))\n",
    " \n",
    "B = weakref.ref(A)\n",
    "print(B)\n",
    "print('Refcnt of A: ', sys.getrefcount(A))"
   ]
  },
  {
   "cell_type": "code",
   "execution_count": null,
   "metadata": {
    "collapsed": true
   },
   "outputs": [],
   "source": [
    "import sys\n",
    "import weakref\n",
    "class Foo(object):\n",
    "     def show(self):\n",
    "         print('hello')\n",
    "\n",
    "A = Foo()\n",
    "B = weakref.ref(A)\n",
    "B().show()\n",
    "\n",
    "print(\"id comparision(A == B):\", id(B()) == id(A))\n",
    "\n",
    "print(\"reference count: {}\".format(sys.getrefcount(A)))\n",
    "\n",
    "C = B()\n",
    "print(\"reference count: {}\".format(sys.getrefcount(A)))\n",
    "\n",
    "del C\n",
    "print(\"reference count: {}\".format(sys.getrefcount(A)))"
   ]
  },
  {
   "cell_type": "code",
   "execution_count": null,
   "metadata": {
    "collapsed": true
   },
   "outputs": [],
   "source": [
    "A = Foo()\n",
    "B = weakref.ref(A)\n",
    "print(B)\n",
    "\n",
    "del A\n",
    "print(B)"
   ]
  },
  {
   "cell_type": "code",
   "execution_count": null,
   "metadata": {
    "collapsed": true
   },
   "outputs": [],
   "source": [
    "A = Foo()\n",
    "B = A                 # Strong reference\n",
    "C = weakref.ref(A)    # Weak reference\n",
    "print(C)\n",
    "\n",
    "del A\n",
    "print(C)              # Referent Not dead (still have B)\n",
    "\n",
    "del B\n",
    "print(C)"
   ]
  },
  {
   "cell_type": "code",
   "execution_count": null,
   "metadata": {
    "collapsed": true
   },
   "outputs": [],
   "source": [
    "import weakref\n",
    "\n",
    "class Human(object):\n",
    "     def __init__(self, name):\n",
    "         self.name = name\n",
    "     def hello(self):\n",
    "         print(\"Hello, I'm\", self.name)\n",
    "\n",
    "john = Human('John')\n",
    "w = weakref.ref(john)\n",
    "w.hello()\n",
    "\n",
    "john = None   # Another way to destroy object\n",
    "w.hello()"
   ]
  },
  {
   "cell_type": "code",
   "execution_count": null,
   "metadata": {
    "collapsed": true
   },
   "outputs": [],
   "source": [
    "import weakref\n",
    "\n",
    "class Human(object):\n",
    "     pass\n",
    "\n",
    "john = Human()\n",
    "weakref.finalize(john, print, 'You kill John!')\n",
    "\n",
    "del john"
   ]
  },
  {
   "cell_type": "code",
   "execution_count": null,
   "metadata": {
    "collapsed": true
   },
   "outputs": [],
   "source": [
    "def callback(x, y, z):\n",
    "     print('CALLBACK')\n",
    "     return x + y + z\n",
    "\n",
    "john = Human()\n",
    "finalizer = weakref.finalize(john, callback, 1, 2, z=3)\n",
    "assert finalizer.alive    # Should be True\n",
    "assert finalizer() == 6  # x + y + z = 6\n",
    "\n",
    "assert not finalizer.alive\n",
    "f()                   # Callback not called because finalizer dead\n",
    "del john              # Callback not called because finalizer dead"
   ]
  },
  {
   "cell_type": "markdown",
   "metadata": {},
   "source": [
    "### HOW-TO Guide\n",
    "\n",
    "#### Circular References"
   ]
  },
  {
   "cell_type": "code",
   "execution_count": null,
   "metadata": {
    "collapsed": true
   },
   "outputs": [],
   "source": [
    "import weakref\n",
    "\n",
    "class Object(object):\n",
    "     _obj = None\n",
    "     def store(self, obj):\n",
    "        self._obj = obj\n",
    "\n",
    "A = Object()\n",
    "B = Object()\n",
    "A.store(B)           # Circular reference !\n",
    "B.store(A)\n",
    "a = weakref.ref(A)\n",
    "b = weakref.ref(B)\n",
    "A = None             # Destroy A and B\n",
    "B = None\n",
    "print('a:', a)       # They are still alive!\n",
    "print('b:', b)"
   ]
  },
  {
   "cell_type": "code",
   "execution_count": null,
   "metadata": {
    "collapsed": true
   },
   "outputs": [],
   "source": [
    "class ObjectWeakRef(object):\n",
    "     _obj = None\n",
    "     def store(self, obj):\n",
    "         self._obj = weakref.ref(obj)\n",
    "\n",
    "A = ObjectWeakRef()\n",
    "B = ObjectWeakRef()\n",
    "A.store(B)              # Using weakref.ref\n",
    "B.store(A)\n",
    "a = weakref.ref(A)\n",
    "b = weakref.ref(B)\n",
    "A = None                # Destroy A and B\n",
    "B = None\n",
    "print('a:', a)                        # Dead!\n",
    "print('b:', b)"
   ]
  },
  {
   "cell_type": "markdown",
   "metadata": {},
   "source": [
    "#### Caching Expensive Object"
   ]
  },
  {
   "cell_type": "code",
   "execution_count": null,
   "metadata": {
    "collapsed": true
   },
   "outputs": [],
   "source": [
    "import weakref\n",
    " \n",
    "class ValidObjectChecker(object):\n",
    "    '''Checking object has been register as valid'''\n",
    " \n",
    "    def __init__(self):\n",
    "        self._valid_registry = weakref.WeakSet()\n",
    "        self._valid_cache = weakref.WeakSet()\n",
    " \n",
    "    def register(self, obj):\n",
    "        self._valid_registry.add(obj)\n",
    " \n",
    "    def check(self, obj):\n",
    "        if obj in self._valid_cache:\n",
    "            return True\n",
    "        for valid_obj in self._valid_registry:\n",
    "            if obj is valid_obj:\n",
    "                self._valid_cache.add(obj)\n",
    "                return True\n",
    "        return False\n",
    " \n",
    " \n",
    "tc = ValidObjectChecker()\n",
    "tc.register(list)\n",
    "tc.register(dict)\n",
    " \n",
    "print(tc.check(tuple))\n",
    "print(tc.check(list))"
   ]
  },
  {
   "cell_type": "markdown",
   "metadata": {},
   "source": [
    "### Discussions – PEP205 編改\n",
    "### References\n",
    "- [8.8 weakref](https://docs.python.org/3/library/weakref.html) – Python 3 Official Documentation\n",
    "- [Python Weak References](https://mindtrove.info/python-weak-references/)\n",
    "- [weakref — Impermanent References to Objects](https://pymotw.com/3/weakref/index.html) – MOTW3\n",
    "- [Weak Reference](https://en.wikipedia.org/wiki/Weak_reference) – Wikipedia\n",
    "- [PEP 205](https://www.python.org/dev/peps/pep-0205) – “Weak References” enhancement proposal."
   ]
  },
  {
   "cell_type": "markdown",
   "metadata": {
    "collapsed": true
   },
   "source": [
    "## [Python 標準函式庫用法 05 - linecache](https://blog.louie.lu/2017/07/31/%E4%BD%A0%E6%89%80%E4%B8%8D%E7%9F%A5%E9%81%93%E7%9A%84-python-%E6%A8%99%E6%BA%96%E5%87%BD%E5%BC%8F%E5%BA%AB%E7%94%A8%E6%B3%95-05-linecache/)\n",
    "### Quickstart Tutorial"
   ]
  },
  {
   "cell_type": "code",
   "execution_count": null,
   "metadata": {
    "collapsed": true
   },
   "outputs": [],
   "source": [
    "import linecache\n",
    "\n",
    "for i in range(3, 6):\n",
    "     print(linecache.getline('os.py', i))"
   ]
  },
  {
   "cell_type": "code",
   "execution_count": null,
   "metadata": {
    "collapsed": true
   },
   "outputs": [],
   "source": [
    "import os\n",
    "\n",
    "for i in range(3, 6):\n",
    "     print(linecache.getline(os.__file__, i))"
   ]
  },
  {
   "cell_type": "code",
   "execution_count": null,
   "metadata": {
    "collapsed": true
   },
   "outputs": [],
   "source": [
    "print(\"1:\", linecache.getline('os.py', 1))\n",
    "\n",
    "print(\"2:\", linecache.getline('os.py', 2))\n",
    "\n",
    "print(\"3:\", linecache.getline('os.py', 3))"
   ]
  },
  {
   "cell_type": "code",
   "execution_count": null,
   "metadata": {
    "collapsed": true
   },
   "outputs": [],
   "source": [
    "import linecache\n",
    "\n",
    "print(\"1:\", linecache.getline('os.py', 100))\n",
    "\n",
    "print(\"2:\", linecache.getline('os.py', 10000))    # File exist, but line not exists\n",
    "\n",
    "print(\"3:\", linecache.getline('__os__.py', 100))  # File not exists"
   ]
  },
  {
   "cell_type": "markdown",
   "metadata": {},
   "source": [
    "### HOW-TO Guides\n",
    "#### linecache 如何選擇哪個 os.py 來解析？\n",
    "#### linecache.getline 的 module_globals 參數的用途？\n",
    "\n",
    "Create zipfile to import\n",
    "```\n",
    "mkdir zipper\n",
    "touch zipper/__init__.py\n",
    "echo foobar = 10 >> zipper/__init__.py\n",
    "zip -r zipper zipper\n",
    "\n",
    "mv zipper _zipper\n",
    "```"
   ]
  },
  {
   "cell_type": "code",
   "execution_count": null,
   "metadata": {
    "collapsed": true
   },
   "outputs": [],
   "source": [
    "import sys\n",
    "import linecache\n",
    "\n",
    "sys.path.insert(0, 'zipper.zip')\n",
    "\n",
    "import zipper\n",
    "zipper.foobar\n",
    "\n",
    "print(\"1:\", linecache.getline(zipper.__file__, 1))  # Can't retrieve line\n",
    "\n",
    "print(\"2:\", linecache.getline(zipper.__file__, 1, zipper.__dict__))\n",
    "\n",
    "print(\"3:\", linecache.getline('zipper', 1, zipper.__dict__))"
   ]
  },
  {
   "cell_type": "markdown",
   "metadata": {},
   "source": [
    "#### 清除 linecache 的 cache？"
   ]
  },
  {
   "cell_type": "code",
   "execution_count": null,
   "metadata": {
    "collapsed": true
   },
   "outputs": [],
   "source": [
    "# The cache\n",
    " \n",
    "# The cache. Maps filenames to either a thunk which will provide source code,\n",
    "# or a tuple (size, mtime, lines, fullname) once loaded.\n",
    "cache = {}\n",
    " \n",
    " \n",
    "def clearcache():\n",
    "    \"\"\"Clear the cache entirely.\"\"\"\n",
    " \n",
    "    global cache\n",
    "    cache = {}"
   ]
  },
  {
   "cell_type": "markdown",
   "metadata": {},
   "source": [
    "### Discussions"
   ]
  },
  {
   "cell_type": "code",
   "execution_count": null,
   "metadata": {
    "collapsed": true
   },
   "outputs": [],
   "source": [
    "def getlines(filename, module_globals=None):\n",
    "    \"\"\"Get the lines for a Python source file from the cache.\n",
    "    Update the cache if it doesn't contain an entry for this file already.\"\"\"\n",
    " \n",
    "    if filename in cache:\n",
    "        entry = cache[filename]\n",
    "        if len(entry) != 1:\n",
    "            return cache[filename][2]\n",
    " \n",
    "    try:\n",
    "        return updatecache(filename, module_globals)\n",
    "    except MemoryError:\n",
    "        clearcache()\n",
    "        return []"
   ]
  },
  {
   "cell_type": "markdown",
   "metadata": {},
   "source": [
    "### References\n",
    "- [PEP 273](https://www.python.org/dev/peps/pep-0273/) – Import Modules from Zip Archives\n",
    "- [PEP 302](https://www.python.org/dev/peps/pep-0302/) – New Import Hooks\n",
    "- [linecache – Read Text File Efficiciently](https://pymotw.com/3/linecache/index.html) – MOTW3"
   ]
  },
  {
   "cell_type": "code",
   "execution_count": null,
   "metadata": {
    "collapsed": true
   },
   "outputs": [],
   "source": [
    "## Python 標準函式庫用法 06 - concurrent.futures\n",
    "### Quickstart Tutorial"
   ]
  },
  {
   "cell_type": "code",
   "execution_count": null,
   "metadata": {
    "collapsed": true
   },
   "outputs": [],
   "source": [
    "def fib(n):\n",
    "    if n < 2:\n",
    "        return 1\n",
    "    return fib(n - 1) + fib(n - 2)"
   ]
  },
  {
   "cell_type": "code",
   "execution_count": null,
   "metadata": {
    "collapsed": true
   },
   "outputs": [],
   "source": [
    "# fib_submit.py\n",
    " \n",
    "import concurrent.futures\n",
    " \n",
    "def fib(n):\n",
    "    if n < 2:\n",
    "        return 1\n",
    "    return fib(n - 1) + fib(n - 2)\n",
    " \n",
    " \n",
    "with concurrent.futures.ProcessPoolExecutor() as executor:\n",
    "    s1 = executor.submit(fib, 10)  # Return future object\n",
    "    s2 = executor.submit(fib, 20)\n",
    "    s3 = executor.submit(fib, 5)\n",
    "    s4 = executor.submit(fib, 8)\n",
    " \n",
    "print(s1.result())\n",
    "print(s2.result())\n",
    "print(s3.result())\n",
    "print(s4.result())"
   ]
  },
  {
   "cell_type": "code",
   "execution_count": null,
   "metadata": {
    "collapsed": true
   },
   "outputs": [],
   "source": [
    "# fib_process_map\n",
    " \n",
    "import concurrent.futures\n",
    " \n",
    "FIBS = [28, 10, 20, 20, 23, 30, 10, 30]\n",
    " \n",
    "def fib(n):\n",
    "    if n < 2:\n",
    "        return 1\n",
    "    return fib(n - 1) + fib(n - 2)\n",
    " \n",
    " \n",
    "def process():\n",
    "    with concurrent.futures.ProcessPoolExecutor() as executor:\n",
    "        for number, fib_value in zip(FIBS, executor.map(fib, FIBS)):\n",
    "            print(\"%d's fib number is %d\" % (number, fib_value))\n",
    " \n",
    "if __name__ == '__main__':\n",
    "    process()"
   ]
  },
  {
   "cell_type": "code",
   "execution_count": null,
   "metadata": {
    "collapsed": true
   },
   "outputs": [],
   "source": [
    "# web_scrap.py\n",
    " \n",
    "import concurrent.futures\n",
    "import requests                # This is not standard library\n",
    " \n",
    "URLS = [\n",
    "    'https://docs.python.org/3/library/ast.html',\n",
    "    'https://docs.python.org/3/library/abc.html',\n",
    "    'https://docs.python.org/3/library/time.html',\n",
    "    'https://docs.python.org/3/library/os.html',\n",
    "    'https://docs.python.org/3/library/sys.html',\n",
    "    'https://docs.python.org/3/library/io.html',\n",
    "    'https://docs.python.org/3/library/pdb.html',\n",
    "    'https://docs.python.org/3/library/weakref.html'\n",
    "]\n",
    " \n",
    " \n",
    "def get_content(url):\n",
    "    return requests.get(url).text\n",
    " \n",
    " \n",
    "def scrap():\n",
    "    with concurrent.futures.ThreadPoolExecutor(max_workers=5) as executor:\n",
    "        future_to_url = {executor.submit(get_content, url): url for url in URLS}\n",
    "        for future in concurrent.futures.as_completed(future_to_url):\n",
    "            url = future_to_url[future]\n",
    "            try:\n",
    "                data = future.result()\n",
    "            except Execption as exc:\n",
    "                print('%r generated an exception: %s' % (url, exc))\n",
    "            else:\n",
    "                print('%r page length is %d' % (url, len(data)))\n",
    " \n",
    " \n",
    "def main():\n",
    "    for url in URLS:\n",
    "        try:\n",
    "            data = get_content(url)\n",
    "        except Exception as exc:\n",
    "            print('%r generated an exception: %s' % (url, exc))\n",
    "        else:\n",
    "            print('%r page length is %d' % (url, len(data)))\n",
    " \n",
    " \n",
    "if __name__ == '__main__':\n",
    "    scrap()"
   ]
  },
  {
   "cell_type": "markdown",
   "metadata": {
    "collapsed": true
   },
   "source": [
    "```\n",
    "➜  cpython git:(master) ✗ python3 -m perf timeit 'from web_scrap import scrap;scrap()'\n",
    ".....................\n",
    "Mean +- std dev: 1.03 sec +- 0.10 sec\n",
    "➜  cpython git:(master) ✗ python3 -m perf timeit 'from web_scrap import main;main()'\n",
    "Mean +- std dev: 4.07 sec +- 0.48 sec\n",
    "```"
   ]
  },
  {
   "cell_type": "markdown",
   "metadata": {
    "collapsed": true
   },
   "source": [
    "### HOW-TO Guides\n",
    "#### Executor 改變 max_workers 來加速"
   ]
  },
  {
   "cell_type": "code",
   "execution_count": null,
   "metadata": {
    "collapsed": true
   },
   "outputs": [],
   "source": [
    "with concurrent.futures.ProcessPoolExecutor(max_workers=1) as executor:\n",
    "    results = executor.map(int, ['1', '2', '3', '4', '5'])\n",
    "    for v in results:\n",
    "        print(v)\n",
    " \n",
    " \n",
    "with concurrent.futures.ThreadPoolExecutor(max_workers=5) as executor:\n",
    "    results = executor.map(requests.get, ['https://google.com'] * 10)\n",
    "    for r in results:\n",
    "        print(len(r.text))"
   ]
  },
  {
   "cell_type": "markdown",
   "metadata": {
    "collapsed": true
   },
   "source": [
    "#### ProcessPoolExecutor.map()改變 chunksize 來加速"
   ]
  },
  {
   "cell_type": "code",
   "execution_count": null,
   "metadata": {
    "collapsed": true
   },
   "outputs": [],
   "source": [
    "# fib_process_chunksize.py\n",
    " \n",
    "import concurrent.futures\n",
    " \n",
    "FIBS = [5, 5, 5, 5, 5, 10, 10, 10, 10] * 50\n",
    " \n",
    "def fib(n):\n",
    "    if n < 2:\n",
    "        return 1\n",
    "    return fib(n - 1) + fib(n - 2)\n",
    " \n",
    " \n",
    "def process(chunksize=1):\n",
    "    with concurrent.futures.ProcessPoolExecutor() as executor:\n",
    "        for number, fib_value in zip(FIBS, executor.map(fib, FIBS, chunksize=chunksize)):\n",
    "            s = \"%d's fib number is %d\" % (number, fib_value)\n",
    " \n",
    "def main():\n",
    "    for num in FIBS:\n",
    "        s = \"%d's fib number is %d\" % (num, fib(num))\n",
    " \n",
    " \n",
    "if __name__ == '__main__':\n",
    "    process()"
   ]
  },
  {
   "cell_type": "markdown",
   "metadata": {
    "collapsed": true
   },
   "source": [
    "```\n",
    "➜  cpython git:(master) ✗ python3 -m perf timeit 'from tests import process;process(1)'  # Chunk size = 1\n",
    ".....................\n",
    "Mean +- std dev: 280 ms +- 91 ms\n",
    "➜  cpython git:(master) ✗ python3 -m perf timeit 'from tests import process;process(8)'  # Chunk size = 8\n",
    ".....................\n",
    "Mean +- std dev: 43.5 ms +- 4.0 ms\n",
    "➜  cpython git:(master) ✗ python3 -m perf timeit 'from tests import process;process(16)'\n",
    ".....................\n",
    "Mean +- std dev: 33.5 ms +- 5.9 ms\n",
    "➜  cpython git:(master) ✗ python3 -m perf timeit 'from tests import process;process(32)'\n",
    ".....................\n",
    "Mean +- std dev: 28.8 ms +- 4.5 ms\n",
    "➜  cpython git:(master) ✗ python3 -m perf timeit 'from tests import main;main()'\n",
    ".....................\n",
    "Mean +- std dev: 10.1 ms +- 2.8 ms\n",
    "```"
   ]
  },
  {
   "cell_type": "markdown",
   "metadata": {},
   "source": [
    "### Discussions\n",
    "#### 什麼時候使用 ThreadPoolExecutor ，什麼時候選用 ProcessPoolExecutor\n",
    "#### 前面的範例裡面，費氏數列計算使用 ProcessPoolExecutor 還變得更慢，你來騙錢的齁～\n",
    "#### 為什麼不使用 multiprocessing 就好？\n",
    "\n",
    "### Implementation Coding  Tips"
   ]
  },
  {
   "cell_type": "code",
   "execution_count": null,
   "metadata": {
    "collapsed": true
   },
   "outputs": [],
   "source": [
    "import itertools\n",
    " \n",
    "_counter = itertools.count().__next__\n",
    " \n",
    "print('id: %d' % (_counter())\n",
    "print('id: %d' % (_counter())\n",
    "print('id: %d' % (_counter())"
   ]
  },
  {
   "cell_type": "markdown",
   "metadata": {},
   "source": [
    "### References\n",
    "+ [Concurrency is not parallelism](https://blog.golang.org/concurrency-is-not-parallelism)\n",
    "+ [17.4. concurrent.futures — Launching parallel tasks](https://docs.python.org/3/library/concurrent.futures.html)\n",
    "+ [PEP 3148](https://www.python.org/dev/peps/pep-3148) – futures – execute computations asynchronously"
   ]
  },
  {
   "cell_type": "markdown",
   "metadata": {},
   "source": [
    "## enum – Support for enumerations\n",
    "### Quickstart Tutorial"
   ]
  },
  {
   "cell_type": "code",
   "execution_count": null,
   "metadata": {
    "collapsed": true
   },
   "outputs": [],
   "source": [
    "# -*- coding: utf-8 -*-\n",
    " \n",
    "# Input Type\n",
    "TRACK = 'track'\n",
    "ALBUM = 'album'\n",
    "ARTIST = 'atrist'\n",
    "PLAYLIST = 'playlist'\n",
    " \n",
    "# Response Type\n",
    "OK = 'ok'\n",
    "NO_RESULT = 'no_result'"
   ]
  },
  {
   "cell_type": "code",
   "execution_count": null,
   "metadata": {
    "collapsed": true
   },
   "outputs": [],
   "source": [
    "# -*- coding: utf-8 -*-\n",
    " \n",
    "from enum import Enum\n",
    " \n",
    "class InputType(Enum):\n",
    "    TRACK = 'track'\n",
    "    ALBUM = 'album'\n",
    "    ARTIST = 'atrist'\n",
    "    PLAYLIST = 'playlist'\n",
    " \n",
    "class ResponseType(Enum):\n",
    "    OK = 'ok'\n",
    "    NO_RESULT = 'no_result'"
   ]
  },
  {
   "cell_type": "code",
   "execution_count": null,
   "metadata": {
    "collapsed": true
   },
   "outputs": [],
   "source": [
    "# 比對型態\n",
    "print(\"1-1:\", InputType.ARTIST == InputType.ALBUM)\n",
    "\n",
    "print(\"1-2:\", InputType.ARTIST == InputType.ARTIST)\n",
    "\n",
    "print(\"1-3:\", ResponseType.OK == ResponseType.NO_RESULT)\n",
    "\n",
    "# 取得 name 或是 value\n",
    "print(\"2-1:\", InputType.PLAYLIST.name)\n",
    "\n",
    "print(\"2-2:\", InputType.PLAYLIST.value)\n",
    "\n",
    "# 取得 enum member\n",
    "print(\"3-1:\", InputType('playlist'))\n",
    "\n",
    "print(\"3-2:\", InputType['PLAYLIST'])\n"
   ]
  },
  {
   "cell_type": "code",
   "execution_count": null,
   "metadata": {
    "collapsed": true
   },
   "outputs": [],
   "source": [
    "import enum\n",
    "\n",
    "class Shape(enum.Enum):\n",
    "     SQUARE = 1\n",
    "     CIRCLE = 2\n",
    "\n",
    "class Response(enum.Enum):\n",
    "     OK = 1\n",
    "     BAD = 2\n",
    "\n",
    "print(Shape.SQUARE == Response.OK)"
   ]
  },
  {
   "cell_type": "code",
   "execution_count": null,
   "metadata": {
    "collapsed": true
   },
   "outputs": [],
   "source": [
    "print(\"1:\", globals())\n",
    "\n",
    "print(\"2:\", globals().update(InputType.__members__))\n",
    "print(\"3:\", globals().update(ResponseType.__members__))\n",
    "print(\"4:\", globals())\n",
    "print(\"5:\", ARTIST)\n",
    "print(\"6:\", ALBUM)\n",
    "print(\"7:\", OK)"
   ]
  },
  {
   "cell_type": "code",
   "execution_count": null,
   "metadata": {
    "collapsed": true
   },
   "outputs": [],
   "source": [
    "class Animal(IntEnum):\n",
    "     DOG = 1\n",
    "     CAT = 2\n",
    "     PANDA = 3\n",
    "\n",
    "print(\"1:\", globals().update(Animal.__members__))\n",
    "print(\"2:\", DOG)\n",
    "print(\"3:\", DOG == 1)"
   ]
  },
  {
   "cell_type": "markdown",
   "metadata": {},
   "source": [
    "### HOW-TO Guides\n",
    "#### 使用 IntEnum 來簡化整數枚舉比對"
   ]
  },
  {
   "cell_type": "code",
   "execution_count": null,
   "metadata": {
    "collapsed": true
   },
   "outputs": [],
   "source": [
    "import enum\n",
    "\n",
    "class Shape(enum.IntEnum):\n",
    "     SQUARE = 1\n",
    "     CIRCLE = 2\n",
    "     TRIANGLE = 3\n",
    "\n",
    "print(\"1:\", Shape.SQUARE == 1)\n",
    "print(\"2:\", Shape.CIRCLE == 2)\n",
    "print(\"3:\", Shape.TRIANGLE == 1)"
   ]
  },
  {
   "cell_type": "code",
   "execution_count": null,
   "metadata": {
    "collapsed": true
   },
   "outputs": [],
   "source": [
    "import enum\n",
    "\n",
    "class Mac(enum.IntEnum):\n",
    "     AIR = 6\n",
    "     PRO = 7\n",
    "\n",
    "class Android(enum.IntEnum):\n",
    "     MARSHMALLOW = 6\n",
    "     NOUGAT = 7\n",
    "\n",
    "print(\"1:\", Mac.AIR == Android.MARSHMALLOW)"
   ]
  },
  {
   "cell_type": "markdown",
   "metadata": {
    "collapsed": true
   },
   "source": [
    "#### 透過繼承來組合出不同的 default enum (e.g. StrEnum)"
   ]
  },
  {
   "cell_type": "code",
   "execution_count": null,
   "metadata": {
    "collapsed": true
   },
   "outputs": [],
   "source": [
    "import enum\n",
    "\n",
    "class StrEnum(str, enum.Enum):\n",
    "     pass\n",
    "\n",
    "class Browser(StrEnum):\n",
    "     FIREFOX = 'firefox'\n",
    "     CHROME = 'chrome'\n",
    "\n",
    "print(\"1:\", Browser.FIREFOX == 'firefox')\n",
    "print(\"2:\", Browser.CHROME == 'chromium')"
   ]
  },
  {
   "cell_type": "code",
   "execution_count": null,
   "metadata": {
    "collapsed": true
   },
   "outputs": [],
   "source": [
    "#### 透過 IntFlag 來進行 bitwise 操作"
   ]
  },
  {
   "cell_type": "code",
   "execution_count": null,
   "metadata": {
    "collapsed": true
   },
   "outputs": [],
   "source": [
    "class Permission(enum.IntFlag):\n",
    "     R = 4\n",
    "     W = 2\n",
    "     X = 1\n",
    "\n",
    "print(\"1:\", Permission.R | Permission.W)\n",
    "print(\"2:\", Permission.R | Permission.X)\n",
    "print(\"3:\", Permission.R + Permission.X)\n",
    "\n",
    "RW = Permission.R | Permission.W\n",
    "print(\"4:\", Permission.R in RW)"
   ]
  },
  {
   "cell_type": "code",
   "execution_count": null,
   "metadata": {
    "collapsed": true
   },
   "outputs": [],
   "source": [
    "#### 快速的創造 enum class"
   ]
  },
  {
   "cell_type": "code",
   "execution_count": null,
   "metadata": {
    "collapsed": true
   },
   "outputs": [],
   "source": [
    "import enum\n",
    "\n",
    "Animal = enum.Enum('Animal', 'CAT DOG PANDA')\n",
    "\n",
    "print(\"1:\",Animal)\n",
    "print(\"2:\",Animal.CAT)\n",
    "print(\"3:\",Animal.DOG)\n",
    "print(\"4:\",Animal.PANDA)"
   ]
  },
  {
   "cell_type": "code",
   "execution_count": null,
   "metadata": {
    "collapsed": true
   },
   "outputs": [],
   "source": [
    "### Discussions\n",
    "#### PEP 435 – Status of discussions\n",
    "#### Enum 實作？ Enum 的 metaclass “EnumMeta”？\n",
    "#### How metaclass work?"
   ]
  },
  {
   "cell_type": "markdown",
   "metadata": {},
   "source": [
    "### References\n",
    "- [3. Data model – metaclass](https://docs.python.org/3/reference/datamodel.html#metaclasses)\n",
    "- [8.13. enum — Support for enumerations](https://docs.python.org/3/library/enum.html)\n",
    "- [PEP 435](https://www.python.org/dev/peps/pep-0435/) – Adding an Enum type to the Python standard libarary"
   ]
  },
  {
   "cell_type": "markdown",
   "metadata": {
    "collapsed": true
   },
   "source": [
    "## [Python 標準函式庫用法 08 - atexit ](https://blog.louie.lu/2017/08/03/%E4%BD%A0%E6%89%80%E4%B8%8D%E7%9F%A5%E9%81%93%E7%9A%84-python-%E6%A8%99%E6%BA%96%E5%87%BD%E5%BC%8F%E5%BA%AB%E7%94%A8%E6%B3%95-08-atexit/)\n",
    "### Quickstart Tutorial"
   ]
  },
  {
   "cell_type": "code",
   "execution_count": null,
   "metadata": {
    "collapsed": true
   },
   "outputs": [],
   "source": [
    "# atexit_normal.py\n",
    " \n",
    "import atexit\n",
    "import sys\n",
    " \n",
    " \n",
    "def cleanup_function():\n",
    "    print(sys._getframe().f_code.co_name)\n",
    " \n",
    " \n",
    "print('registering')\n",
    "atexit.register(cleanup_function)\n",
    "print('registered')"
   ]
  },
  {
   "cell_type": "code",
   "execution_count": null,
   "metadata": {
    "collapsed": true
   },
   "outputs": [],
   "source": [
    "# atexit_multiple.py\n",
    " \n",
    "import atexit\n",
    " \n",
    "def goodbye(word):\n",
    "    print(f'{word} means goodbye.')\n",
    " \n",
    " \n",
    "atexit.register(goodbye, 'Ciao')\n",
    "atexit.register(goodbye, 'さようなら')\n",
    "atexit.register(goodbye, 'Пока')"
   ]
  },
  {
   "cell_type": "code",
   "execution_count": null,
   "metadata": {
    "collapsed": true
   },
   "outputs": [],
   "source": [
    "# atexit_decorator.py\n",
    " \n",
    "import atexit\n",
    " \n",
    "@atexit.register\n",
    "def goodbye():\n",
    "    print('Goodbye, we can not use arguments')"
   ]
  },
  {
   "cell_type": "code",
   "execution_count": null,
   "metadata": {
    "collapsed": true
   },
   "outputs": [],
   "source": [
    "# atexit_unregister.py\n",
    " \n",
    "import atexit\n",
    " \n",
    "def foo():\n",
    "    print('foobar')\n",
    " \n",
    "atexit.register(foo)\n",
    "atexit.unregister(foo)"
   ]
  },
  {
   "cell_type": "code",
   "execution_count": null,
   "metadata": {
    "collapsed": true
   },
   "outputs": [],
   "source": [
    "import atexit\n",
    " \n",
    "atexit.register(int)\n",
    "atexit.register(int)\n",
    "atexit.unregister(int)\n",
    "atexit.unregister(int)\n",
    "atexit.unregister(int)\n",
    "atexit.unregister(type)\n",
    "atexit.unregister(type)"
   ]
  },
  {
   "cell_type": "markdown",
   "metadata": {},
   "source": [
    "### HOW-TO Guides\n",
    "#### 什麼時候 atexit 註冊過的函式不會被執行？"
   ]
  },
  {
   "cell_type": "code",
   "execution_count": null,
   "metadata": {
    "collapsed": true
   },
   "outputs": [],
   "source": [
    "# atexit_interrupt.py\n",
    " \n",
    "import atexit\n",
    "import time\n",
    " \n",
    "def goodbye():\n",
    "    print('Goodbye, seeya.')\n",
    " \n",
    "atexit.register(goodbye)\n",
    " \n",
    "# Sleep forever\n",
    "time.sleep(10000000)\n",
    " \n",
    "# Never reach\n",
    "print('Never reach here')\n",
    "\n",
    "# '^C' & '^\\' to terminate"
   ]
  },
  {
   "cell_type": "code",
   "execution_count": null,
   "metadata": {
    "collapsed": true
   },
   "outputs": [],
   "source": [
    "# atexit_fatal.py\n",
    " \n",
    "import atexit\n",
    "import sys\n",
    " \n",
    "def goodbye():\n",
    "    print('Goodbye, seeya.')\n",
    " \n",
    "atexit.register(goodbye)\n",
    " \n",
    " \n",
    "# Fatal Error\n",
    "def tracer(frame, event, arg):\n",
    "    if event == 'line' and frame.f_lineno > 24:\n",
    "        frame.f_lineno = 24\n",
    "        return None\n",
    "    return tracer\n",
    "sys.settrace(tracer)\n",
    " \n",
    "def error():\n",
    "    try:\n",
    "        pass\n",
    "    except:\n",
    "        pass\n",
    "    pass\n",
    " \n",
    "error()"
   ]
  },
  {
   "cell_type": "code",
   "execution_count": null,
   "metadata": {
    "collapsed": true
   },
   "outputs": [],
   "source": [
    "# atexit_osexit.py\n",
    " \n",
    "import atexit\n",
    "import os\n",
    " \n",
    "atexit.register(lambda: print('Goodybye, seeya.'))\n",
    " \n",
    "os._exit(0)"
   ]
  },
  {
   "cell_type": "markdown",
   "metadata": {},
   "source": [
    "### Discussions\n",
    "### References\n",
    "+ [What’s New In Python 3.0](https://docs.python.org/3/whatsnew/3.0.html#library-changes) – Python 3.0 Release Documentation\n",
    "+ [29.8. atexit — Exit handlers](https://docs.python.org/3/library/atexit.html) – Python 3 Documentation\n",
    "+ [atexit — Program Shutdown Callbacks](https://pymotw.com/3/atexit/index.html) – MOTW3"
   ]
  },
  {
   "cell_type": "markdown",
   "metadata": {},
   "source": [
    "## [Python 標準函式庫用法 09 – tracemalloc](https://blog.louie.lu/2017/08/04/tracemalloc-%E8%A8%98%E6%86%B6%E9%AB%94%E9%85%8D%E7%BD%AE%E9%99%A4%E9%8C%AF-%E4%BD%A0%E6%89%80%E4%B8%8D%E7%9F%A5%E9%81%93%E7%9A%84-python-%E6%A8%99%E6%BA%96%E5%87%BD%E5%BC%8F/)\n",
    "### Quickstart Tutorial"
   ]
  },
  {
   "cell_type": "code",
   "execution_count": null,
   "metadata": {
    "collapsed": true
   },
   "outputs": [],
   "source": [
    "import tracemalloc\n",
    "tracemalloc.start() # initialize trace function\n",
    "tracemalloc.stop()  # terminate trace function\n",
    "snap = tracemalloc.take_snapshot() # log memory allocation"
   ]
  },
  {
   "cell_type": "code",
   "execution_count": null,
   "metadata": {
    "collapsed": true
   },
   "outputs": [],
   "source": [
    "# tm_snap_stats.py\n",
    " \n",
    "import tracemalloc\n",
    "import sys\n",
    " \n",
    "# Simulate memory allocate by creating bytes\n",
    "EMPTY_BYTES_SIZE = sys.getsizeof(b'')\n",
    "def allocate_bytes(size):\n",
    "    bytes_len = (size - EMPTY_BYTES_SIZE)\n",
    "    return b'x' * bytes_len\n",
    " \n",
    " \n",
    "# Start tracing\n",
    "tracemalloc.start()\n",
    " \n",
    "# Your program run here\n",
    "d = allocate_bytes(1024 * 1024)\n",
    " \n",
    "# Take memory snapshot\n",
    "snap = tracemalloc.take_snapshot()\n",
    " \n",
    "# Evaluate result\n",
    "stats = snap.statistics('lineno')\n",
    "for stat in stats:\n",
    "    print(stat)"
   ]
  },
  {
   "cell_type": "code",
   "execution_count": null,
   "metadata": {
    "collapsed": true
   },
   "outputs": [],
   "source": [
    "# tm_snap_traceback.py\n",
    " \n",
    "import tracemalloc\n",
    "import sys\n",
    " \n",
    "# Simulate memory allocate by creating bytes\n",
    "EMPTY_BYTES_SIZE = sys.getsizeof(b'')\n",
    "def allocate_bytes(size):\n",
    "    bytes_len = (size - EMPTY_BYTES_SIZE)\n",
    "    return b'x' * bytes_len\n",
    " \n",
    " \n",
    "# Storing 10 frames\n",
    "tracemalloc.start(10)\n",
    " \n",
    "# Your program run here\n",
    "d = allocate_bytes(1024 * 1024)\n",
    " \n",
    "# Take memory snapshot\n",
    "snap = tracemalloc.take_snapshot()\n",
    " \n",
    "# Evaluate Traceback\n",
    "top_stats = snap.statistics('traceback')\n",
    "stats = top_stats[0]\n",
    " \n",
    "print(stats)\n",
    "for line in stats.traceback.format():\n",
    "    print(line)"
   ]
  },
  {
   "cell_type": "markdown",
   "metadata": {},
   "source": [
    "### HOW-TO Guides\n",
    "#### Traceback 的用途？"
   ]
  },
  {
   "cell_type": "code",
   "execution_count": null,
   "metadata": {
    "collapsed": true
   },
   "outputs": [],
   "source": [
    "# tm_snap_traceback.py\n",
    " \n",
    "import tracemalloc\n",
    "import sys\n",
    " \n",
    "# Simulate memory allocate by creating bytes\n",
    "EMPTY_BYTES_SIZE = sys.getsizeof(b'')\n",
    "def allocate_bytes(size):\n",
    "    bytes_len = (size - EMPTY_BYTES_SIZE)\n",
    "    return b'x' * bytes_len\n",
    " \n",
    " \n",
    "# Storing 1 frames\n",
    "tracemalloc.start(1)\n",
    " \n",
    "# Your program run here\n",
    "d = allocate_bytes(1024 * 1024)\n",
    " \n",
    "# Take memory snapshot\n",
    "snap = tracemalloc.take_snapshot()\n",
    " \n",
    "# Evaluate Traceback\n",
    "top_stats = snap.statistics('traceback')\n",
    "stats = top_stats[0]\n",
    " \n",
    "print(stats)\n",
    "for line in stats.traceback.format():\n",
    "    print(line)"
   ]
  },
  {
   "cell_type": "markdown",
   "metadata": {},
   "source": [
    "#### 比較兩個不同的 snapshot"
   ]
  },
  {
   "cell_type": "code",
   "execution_count": null,
   "metadata": {
    "collapsed": true
   },
   "outputs": [],
   "source": [
    "# tm_snap_compare_to.py\n",
    " \n",
    "import tracemalloc\n",
    "import sys\n",
    " \n",
    "# Simulate memory allocate by creating bytes\n",
    "EMPTY_BYTES_SIZE = sys.getsizeof(b'')\n",
    "def allocate_bytes(size):\n",
    "    bytes_len = (size - EMPTY_BYTES_SIZE)\n",
    "    return b'x' * bytes_len\n",
    " \n",
    " \n",
    "# Storing 10 frames\n",
    "tracemalloc.start(10)\n",
    " \n",
    "# Your program run here\n",
    "prev = tracemalloc.take_snapshot()\n",
    "data = []\n",
    "for i in range(30):\n",
    "    data.append(allocate_bytes(1024 * 1024))\n",
    "    snap = tracemalloc.take_snapshot()\n",
    " \n",
    "    if not i % 10:\n",
    "        stats = snap.compare_to(prev, 'lineno')\n",
    "        print('[ Top 5 differences ]')\n",
    "        for stat in stats[:5]:\n",
    "            print(stat)\n",
    " \n",
    "        prev = snap"
   ]
  },
  {
   "cell_type": "code",
   "execution_count": null,
   "metadata": {
    "collapsed": true
   },
   "outputs": [],
   "source": [
    "# tm_snap_compare_to_cum.py\n",
    " \n",
    "import tracemalloc\n",
    "import sys\n",
    " \n",
    "# Simulate memory allocate by creating bytes\n",
    "EMPTY_BYTES_SIZE = sys.getsizeof(b'')\n",
    "def allocate_bytes(size):\n",
    "    bytes_len = (size - EMPTY_BYTES_SIZE)\n",
    "    return b'x' * bytes_len\n",
    " \n",
    " \n",
    "# Storing 10 frames\n",
    "tracemalloc.start(10)\n",
    " \n",
    "# Your program run here\n",
    "prev = tracemalloc.take_snapshot()\n",
    "data = []\n",
    "for i in range(30):\n",
    "    data.append(allocate_bytes(1024 * 1024))\n",
    "    snap = tracemalloc.take_snapshot()\n",
    " \n",
    "    if not i % 10:\n",
    "        stats = snap.compare_to(prev, 'lineno', True)\n",
    "        print('[ Top 5 differences ]')\n",
    "        for stat in stats[:5]:\n",
    "            print(stat)\n",
    " \n",
    "        prev = snap"
   ]
  },
  {
   "cell_type": "markdown",
   "metadata": {},
   "source": [
    "#### 透過 Filter 來篩選輸出結果"
   ]
  },
  {
   "cell_type": "code",
   "execution_count": null,
   "metadata": {
    "collapsed": true
   },
   "outputs": [],
   "source": [
    "# tm_snap_filter.py\n",
    " \n",
    "import tracemalloc\n",
    "import sys\n",
    " \n",
    "# Simulate memory allocate by creating bytes\n",
    "EMPTY_BYTES_SIZE = sys.getsizeof(b'')\n",
    "def allocate_bytes(size):\n",
    "    bytes_len = (size - EMPTY_BYTES_SIZE)\n",
    "    return b'x' * bytes_len\n",
    " \n",
    " \n",
    "# Storing 10 frames\n",
    "tracemalloc.start(10)\n",
    " \n",
    "d = allocate_bytes(1024 * 1024)\n",
    "import abc\n",
    "import idlelib\n",
    "import enum\n",
    " \n",
    "snap = tracemalloc.take_snapshot()\n",
    "snap = snap.filter_traces((\n",
    "    tracemalloc.Filter(False, '<frozen*'),\n",
    "))\n",
    " \n",
    " \n",
    "top_stats = snap.statistics('lineno')\n",
    "for stat in top_stats[:5]:\n",
    "    print(stat)"
   ]
  },
  {
   "cell_type": "code",
   "execution_count": null,
   "metadata": {
    "collapsed": true
   },
   "outputs": [],
   "source": [
    "tracemalloc.Filter(True, 'test_*')    # Only match filename start with \"test_\"\n",
    "tracemalloc.Filter(False, tracemalloc.__file__)  # Excludes tracemalloc module\n",
    "tracemalloc.Filter(False, '<unknown>')           # Excludes empty tracebacks"
   ]
  },
  {
   "cell_type": "markdown",
   "metadata": {},
   "source": [
    "### Discussions\n",
    "### References\n",
    "+ [27.7. tracemalloc](https://docs.python.org/3/library/tracemalloc.html) — Trace memory allocations\n",
    "+ [PEP 445](https://www.python.org/dev/peps/pep-0445) – Add new APIs to customize Python memory allocators\n",
    "+ [PEP 454](https://www.python.org/dev/peps/pep-0454) – Add a new tracemalloc module to trace Python memory allocations\n",
    "+ [Diagnosing and Fixing Memory Leaks in Python](https://blog.fugue.co/2017-03-06-diagnosing-and-fixing-memory-leaks-in-python.html)"
   ]
  },
  {
   "cell_type": "code",
   "execution_count": null,
   "metadata": {
    "collapsed": true
   },
   "outputs": [],
   "source": []
  },
  {
   "cell_type": "code",
   "execution_count": null,
   "metadata": {
    "collapsed": true
   },
   "outputs": [],
   "source": []
  },
  {
   "cell_type": "code",
   "execution_count": null,
   "metadata": {
    "collapsed": true
   },
   "outputs": [],
   "source": []
  },
  {
   "cell_type": "code",
   "execution_count": null,
   "metadata": {
    "collapsed": true
   },
   "outputs": [],
   "source": []
  },
  {
   "cell_type": "code",
   "execution_count": null,
   "metadata": {
    "collapsed": true
   },
   "outputs": [],
   "source": []
  },
  {
   "cell_type": "code",
   "execution_count": null,
   "metadata": {
    "collapsed": true
   },
   "outputs": [],
   "source": []
  },
  {
   "cell_type": "code",
   "execution_count": null,
   "metadata": {
    "collapsed": true
   },
   "outputs": [],
   "source": []
  },
  {
   "cell_type": "code",
   "execution_count": null,
   "metadata": {
    "collapsed": true
   },
   "outputs": [],
   "source": []
  },
  {
   "cell_type": "code",
   "execution_count": null,
   "metadata": {
    "collapsed": true
   },
   "outputs": [],
   "source": []
  },
  {
   "cell_type": "code",
   "execution_count": null,
   "metadata": {
    "collapsed": true
   },
   "outputs": [],
   "source": []
  }
 ],
 "metadata": {
  "kernelspec": {
   "display_name": "Python 3",
   "language": "python",
   "name": "python3"
  },
  "language_info": {
   "codemirror_mode": {
    "name": "ipython",
    "version": 3
   },
   "file_extension": ".py",
   "mimetype": "text/x-python",
   "name": "python",
   "nbconvert_exporter": "python",
   "pygments_lexer": "ipython3",
   "version": "3.6.1"
  }
 },
 "nbformat": 4,
 "nbformat_minor": 2
}
