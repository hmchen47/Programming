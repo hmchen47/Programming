{
 "cells": [
  {
   "cell_type": "markdown",
   "metadata": {},
   "source": [
    "# Web Scraping\n",
    "\n",
    "The work was based on the demo from Pohan on youtube.com.  The way of extraction of html contents is based on ElementTree package.  Newer method is with BeautifulSoup package.\n",
    "\n",
    "one of the most common method to collecting data\n"
   ]
  },
  {
   "cell_type": "markdown",
   "metadata": {},
   "source": [
    "## Prerequists"
   ]
  },
  {
   "cell_type": "code",
   "execution_count": 91,
   "metadata": {
    "collapsed": false
   },
   "outputs": [],
   "source": [
    "from datetime import datetime\n",
    "from lxml import html\n",
    "import requests, numpy as np, pandas as pd\n",
    "import matplotlib.pylab as plt\n",
    "\n",
    "pd.options.display.max_columns = 50"
   ]
  },
  {
   "cell_type": "markdown",
   "metadata": {},
   "source": [
    "## Data and Data Source\n",
    "working with the Nobel Prize data from wikipedia"
   ]
  },
  {
   "cell_type": "markdown",
   "metadata": {},
   "source": [
    "## Before Web Scrape\n",
    "Read the Terms of Service of the acraping website\n",
    "\n",
    "### Basic Rules\n",
    "* check if there is an API -> use it -> make things easier\n",
    "* don't use scrape too much in a short time -> slow down servers and migh get banned from the web site\n",
    "* never scrape anything private\n",
    "* chgeck /robots.txt for allowed paths"
   ]
  },
  {
   "cell_type": "markdown",
   "metadata": {},
   "source": [
    "## Fetch page and build HTML tree"
   ]
  },
  {
   "cell_type": "code",
   "execution_count": 92,
   "metadata": {
    "collapsed": true
   },
   "outputs": [],
   "source": [
    "def print_element(element):\n",
    "    print(\"<{} {}> {} ...\".format(element.tag, element.attrib, element.text_content()[:200].replace('\\n', ' ')))"
   ]
  },
  {
   "cell_type": "code",
   "execution_count": 81,
   "metadata": {
    "collapsed": false
   },
   "outputs": [],
   "source": [
    "# get the page and printout to get the information for futher processing\n",
    "page = requests.get('https://en.wikipedia.org/wiki/List_of_Nobel_laureates')\n",
    "tree = html.fromstring(page.text)\n",
    "# print_element(tree)"
   ]
  },
  {
   "cell_type": "markdown",
   "metadata": {},
   "source": [
    "## Locate the table\n",
    "\n",
    "### Find all tables"
   ]
  },
  {
   "cell_type": "code",
   "execution_count": 82,
   "metadata": {
    "collapsed": false
   },
   "outputs": [],
   "source": [
    "tables = tree.xpath('//table')\n",
    "# for table in tables:\n",
    "#     print_element(table)\n",
    "    \n",
    "# get the infomation:\n",
    "# <table {'class': 'wikitable sortable'}>   Year Physics Chemistry Physiology or Medicine Literature Peace Economics"
   ]
  },
  {
   "cell_type": "markdown",
   "metadata": {},
   "source": [
    "When locating the table watchout for client side Javascript alternation to the HTML code if the Javascript related class existed."
   ]
  },
  {
   "cell_type": "code",
   "execution_count": 83,
   "metadata": {
    "collapsed": false
   },
   "outputs": [],
   "source": [
    "table = tree.xpath('//table[@class=\"wikitable sortable\"]')[0]\n",
    "# print_element(table)"
   ]
  },
  {
   "cell_type": "markdown",
   "metadata": {},
   "source": [
    "## Extractr the subjects & years"
   ]
  },
  {
   "cell_type": "code",
   "execution_count": 84,
   "metadata": {
    "collapsed": false
   },
   "outputs": [],
   "source": [
    "subjects = [subject[0].text_content().replace('\\n', ' ') for subject in table.xpath('tr')[0][1:]]\n",
    "# print(subjects)\n",
    "years = [item[0].text for item in table.xpath('tr')[1:-1]]\n",
    "# print(years)"
   ]
  },
  {
   "cell_type": "markdown",
   "metadata": {},
   "source": [
    "## Extract Winner Data\n",
    "\n",
    "### Testing for single data"
   ]
  },
  {
   "cell_type": "code",
   "execution_count": 85,
   "metadata": {
    "collapsed": false
   },
   "outputs": [],
   "source": [
    "for index, item in enumerate(table.xpath('tr')[1][1:]):\n",
    "    subject = subjects[index]\n",
    "#     print(subject)\n",
    "    for winner in item.xpath('span[@class=\"vcard\"]/span/a'):\n",
    "        winner_name = winner.attrib['title']\n",
    "        winner_url = winner.attrib['href']\n",
    "#         print(' - {}'.format(winner_name))"
   ]
  },
  {
   "cell_type": "markdown",
   "metadata": {},
   "source": [
    "## Extra the complete table"
   ]
  },
  {
   "cell_type": "code",
   "execution_count": 86,
   "metadata": {
    "collapsed": false
   },
   "outputs": [],
   "source": [
    "year_list = []\n",
    "subject_list = []\n",
    "name_list = []\n",
    "url_list = []\n",
    "for y_index, year in enumerate(years):\n",
    "#     print(subject)\n",
    "    for index, item in enumerate(table.xpath('tr')[y_index + 1][1:]):\n",
    "        subject = subjects[index]\n",
    "#         print(subject)\n",
    "        for winner in item.xpath('span[@class=\"vcard\"]/span/a'):\n",
    "            winner_name = winner.attrib['title']\n",
    "            winner_url = winner.attrib['href']\n",
    "#             print(' - {}'.format(winner_name))\n",
    "            year_list.append(year)\n",
    "            subject_list.append(subject)\n",
    "            name_list.append(winner_name)\n",
    "            url_list.append(winner_url)\n",
    "            \n",
    "# print(year_list)\n",
    "# print(subject_list)\n",
    "# print(name_list)\n",
    "# print(url_list)"
   ]
  },
  {
   "cell_type": "markdown",
   "metadata": {},
   "source": [
    "## Post Processing in Panadas"
   ]
  },
  {
   "cell_type": "code",
   "execution_count": 87,
   "metadata": {
    "collapsed": false
   },
   "outputs": [],
   "source": [
    "# generat data frame with listes extracting from Nobel Winner table\n",
    "data_set = pd.DataFrame(name_list, columns = ['winner_name'])\n",
    "data_set['subject'] = subject_list\n",
    "data_set['year'] = year_list\n",
    "data_set['year'] = data_set[\"year\"].astype(np.int32)\n",
    "data_set['url'] = url_list\n",
    "# data_set.head(5)"
   ]
  },
  {
   "cell_type": "markdown",
   "metadata": {},
   "source": [
    "### Looking at data"
   ]
  },
  {
   "cell_type": "code",
   "execution_count": 88,
   "metadata": {
    "collapsed": false
   },
   "outputs": [],
   "source": [
    "years_df = data_set['year'].value_counts().sort_index()\n",
    "# print(years_df)"
   ]
  },
  {
   "cell_type": "markdown",
   "metadata": {},
   "source": [
    "## Post Processing in Pandas\n",
    "\n",
    "### Number of Prizes per year"
   ]
  },
  {
   "cell_type": "code",
   "execution_count": 94,
   "metadata": {
    "collapsed": false
   },
   "outputs": [],
   "source": [
    "plt.Figure(figsize = (15, 5))\n",
    "plt.plot(years_df.index, years_df.values, linewidth = 2, alpha = .6)\n",
    "plt.grid()\n",
    "plt.xlabel(\"Year\")\n",
    "plt.ylabel(\"Number of Prizes\")\n",
    "plt.show()"
   ]
  },
  {
   "cell_type": "code",
   "execution_count": 97,
   "metadata": {
    "collapsed": false
   },
   "outputs": [],
   "source": [
    "years_df.value_counts()\n",
    "plt.bar(years_df.value_counts().index, years_df.value_counts())\n",
    "plt.box(on = 'off')\n",
    "plt.grid()\n",
    "plt.xlabel('Numberof Nobel Prizes / Year')\n",
    "plt.ylabel(' ')\n",
    "plt.show()"
   ]
  },
  {
   "cell_type": "markdown",
   "metadata": {},
   "source": [
    "## By Subject"
   ]
  },
  {
   "cell_type": "code",
   "execution_count": 129,
   "metadata": {
    "collapsed": false
   },
   "outputs": [],
   "source": [
    "plt.Figure(figsize = (13, 5))\n",
    "for subject in subjects:\n",
    "    df = data_set[data_set['subject'] == subject]['year'].value_counts().sort_index().cumsum()\n",
    "    plt.plot(df.index, df, label = subject, linewidth = 2, alpha = .6)\n",
    "    \n",
    "plt.grid()\n",
    "plt.legend(loc = 'best')\n",
    "plt.xlabel('year')\n",
    "plt.ylabel('Cumulative Sum of Given Nobel Prizes')\n",
    "plt.xticks(np.arange(1900, 2020, 10))\n",
    "\n",
    "plt.show()"
   ]
  },
  {
   "cell_type": "markdown",
   "metadata": {},
   "source": [
    "## The Effects pf WWI and WWII"
   ]
  },
  {
   "cell_type": "code",
   "execution_count": 131,
   "metadata": {
    "collapsed": false
   },
   "outputs": [],
   "source": [
    "plt.Figure(figsize = (13, 5))\n",
    "for subject in subjects:\n",
    "    df = data_set[(data_set['subject'] == subject) & (data_set['year'].astype(np.int32) < 1950)\n",
    "                 ]['year'].value_counts().sort_index().cumsum()\n",
    "    plt.plot(df.index, df, label = subject, linewidth = 2, alpha = .6)\n",
    "\n",
    "plt.grid()\n",
    "plt.legend(loc = 'best')\n",
    "plt.xlabel('Year')\n",
    "plt.ylabel('Cumulative Sum of Given Nobel Prizes')\n",
    "plt.xticks(np.arange(1900, 1950, 5))\n",
    "\n",
    "gca = plt.gca()\n",
    "\n",
    "gca.add_patch(plt.Rectangle((1914, 0), 4, 60, alpha = .3, color = 'orange'))\n",
    "gca.add_patch(plt.Rectangle((1939, 0), (45 - 39), 60, alpha = .3, color = 'orange'))\n",
    "\n",
    "plt.annotate(s = 'WWI', xy = (1915, 55))\n",
    "plt.annotate(s = 'WWII', xy = (1945, 55))\n",
    "\n",
    "plt.show()"
   ]
  }
 ],
 "metadata": {
  "kernelspec": {
   "display_name": "Python 3",
   "language": "python",
   "name": "python3"
  },
  "language_info": {
   "codemirror_mode": {
    "name": "ipython",
    "version": 3
   },
   "file_extension": ".py",
   "mimetype": "text/x-python",
   "name": "python",
   "nbconvert_exporter": "python",
   "pygments_lexer": "ipython3",
   "version": "3.5.1"
  }
 },
 "nbformat": 4,
 "nbformat_minor": 0
}
