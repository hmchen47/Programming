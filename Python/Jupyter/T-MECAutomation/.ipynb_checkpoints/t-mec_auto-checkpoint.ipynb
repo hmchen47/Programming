{
 "cells": [
  {
   "cell_type": "markdown",
   "metadata": {},
   "source": [
    "This program intends to autoate the process from order to invouce and packing list."
   ]
  },
  {
   "cell_type": "code",
   "execution_count": null,
   "metadata": {
    "collapsed": true
   },
   "outputs": [],
   "source": [
    "import os\n",
    "import PyPDF2"
   ]
  },
  {
   "cell_type": "code",
   "execution_count": null,
   "metadata": {
    "collapsed": true
   },
   "outputs": [],
   "source": [
    "def openpdf(fname, debug = False):\n",
    "    try:\n",
    "        \n",
    "        with open(fname, 'rb') as pdfobj:\n",
    "            pdfReader = PyPDF2.PdfFileReader(pdfobj)\n",
    "        \n",
    "            pageObj = pdfReader.getPage(0)\n",
    "        \n",
    "            if debug:\n",
    "                print(pageObj.extractText())\n",
    "    except IOError as e:\n",
    "        errno, strerror = e.args\n",
    "        print(\"I/O Error: ({}): {} - {}\".format(errno, strerror, fname))\n",
    "        raise"
   ]
  },
  {
   "cell_type": "code",
   "execution_count": null,
   "metadata": {
    "collapsed": true
   },
   "outputs": [],
   "source": [
    "debug = True\n",
    "dataPath = \"./\"\n",
    "openpdf(datapath+\"Purchase Order  P034388 - 00.pdf\", debug)"
   ]
  }
 ],
 "metadata": {
  "kernelspec": {
   "display_name": "Python 3",
   "language": "python",
   "name": "python3"
  },
  "language_info": {
   "codemirror_mode": {
    "name": "ipython",
    "version": 3
   },
   "file_extension": ".py",
   "mimetype": "text/x-python",
   "name": "python",
   "nbconvert_exporter": "python",
   "pygments_lexer": "ipython3",
   "version": "3.6.1"
  }
 },
 "nbformat": 4,
 "nbformat_minor": 2
}
