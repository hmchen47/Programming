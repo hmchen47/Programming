{
 "cells": [
  {
   "cell_type": "markdown",
   "metadata": {},
   "source": [
    "# Collecting Data from Web"
   ]
  },
  {
   "cell_type": "code",
   "execution_count": 149,
   "metadata": {
    "collapsed": false
   },
   "outputs": [
    {
     "name": "stdout",
     "output_type": "stream",
     "text": [
      "b'<!DOCTYPE html PUBLIC \"-//W3C//DTD HTML 4.01//EN\" \"http://www.w3.org/TR/html4/strict.dtd\">\\n<html><head><meta http-equiv=\"Content-Type\" content=\"text/html; charset=utf-8\"><title>^DJI Components | Dow Jones Industrial Average Stock - Yahoo! Finance</title><script type=\"text/javascript\" src=\"http://l.yimg.com/a/i/us/fi/03rd/yg_csstare_nobgcolor.js\"></script><link rel=\"stylesheet\" href=\"http://l.yimg.com/zz/combo?kx/yucs/uh3/uh/1138/css/uh_non_mail-min.css&amp;kx/yucs/uh3s/atomic/84/css/atomic-min.css&amp;kx/yucs/uh_common/meta/3/css/meta-min.css&amp;kx/yucs/uh3/top-bar/366/css/no_icons-min.css&amp;kx/yucs/uh3/search/css/588/blue_border-min.css&amp;kx/yucs/uh3/get-the-app/151/css/get_the_app-min.css&amp;bm/lib/fi/common/p/d/static/css/2.0.356981/2.0.0/mini/yfi_yoda_legacy_lego_concat.css&amp;bm/lib/fi/common/p/d/static/css/2.0.356981/2.0.0/mini/yfi_symbol_suggest.css&amp;bm/lib/fi/common/p/d/static/css/2.0.356981/2.0.0/mini/yui_helper.css&amp;bm/lib/fi/common/p/d/static/css/2.0.356981/2.0.0/mini/yfi_theme_teal.css&amp;bm/lib/fi/common/p/d/static/css/2.0.356981/2.0.0/mini/yfi_follow_quote.css&amp;bm/lib/fi/common/p/d/static/css/2.0.356981/2.0.0/mini/yfi_follow_stencil.css\" type=\"text/css\"><script language=\"javascript\">\\n\\tll_js = new Array();\\n    </script><script type=\"text/javascript\" src=\"http://l1.yimg.com/bm/combo?fi/common/p/d/static/js/2.0.356981/2.0.0/mini/yui-min-3.9.1.js&amp;fi/common/p/d/static/js/2.0.356981/yui_2.8.0/build/yuiloader-dom-event/2.0.0/mini/yuiloader-dom-event.js&amp;fi/common/p/d/static/js/2.0.356981/yui_2.8.0/build/container/2.0.0/mini/container.js&amp;fi/common/p/d/static/js/2.0.356981/yui_2.8.0/build/datasource/2.0.0/mini/datasource.js&amp;fi/common/p/d/static/js/2.0.356981/yui_2.8.0/build/autocomplete/2.0.0/mini/autocomplete.js\"></script><script language=\"javascript\">\\n\\tYUI.YUICfg = {\"base\":\"http:\\\\/\\\\/l.yimg.com\\\\/\",\"comboBase\":\"http:\\\\/\\\\/l.yimg.com\\\\/zz\\\\/combo?\",\"combine\":true,\"allowRollup\":true,\"maxURLLength\":\"2000\"}\\n\\tYUI.YUICfg.root = \\'yui:\\'+YUI.version+\\'/build/\\';\\n\\tYUI.applyConfig(YUI.YUICfg); \\n    </script><script language=\"javascript\">\\n\\tll_js.push({\\n\\t    \\'success_callback\\' : function() {\\n                YUI().use(\\'stencil\\', \\'follow-quote\\', \\'node\\', function (Y) {\\n                    var conf = {\\'xhrBase\\': \\'/\\', \\'lang\\': \\'en-US\\', \\'region\\': \\'US\\', \\'loginUrl\\': \\'https://login.yahoo.com/config/login_verify2?&.done=http://finance.yahoo.com/q?s=AAPL&.intl=us\\'};\\n\\n                    Y.Media.FollowQuote.init(conf, function () {\\n                        var exchNode = null,\\n                            followSecClass = \"\",\\n                            followHtml = \"\",\\n                            followNode = null;\\n\\n                        followSecClass = Y.Media.FollowQuote.getFollowSectionClass();\\n                        followHtml = Y.Media.FollowQuote.getFollowBtnHTML({ ticker: \\'AAPL\\', addl_classes: \"follow-quote-always-visible\", showFollowText: true });\\n                        followNode = Y.Node.create(followHtml);\\n                        exchNode = Y.one(\".wl_sign\");\\n                        if (!Y.Lang.isNull(exchNode)) { \\n                            exchNode.append(followNode);\\n                            \\n                        }\\n\\n                    });\\n                });\\n\\t    }\\n\\t});\\n    </script><style>\\n       \\t    /* [bug 3856904]*/\\n            #ygma.ynzgma #teleban {width:100%;}\\n            \\n            /* Style to override message boards template CSS */\\n            .mboard div#footer {width: 970px !important;}\\n            .mboard #screen {width: 970px !important; text-align:left !important;}\\n            .mboard div#screen {width: 970px !important; text-align:left !important;}\\n            .mboard table.yfnc_modtitle1 td{padding-top:10px;padding-bottom:10px;} \\n\\t</style><meta name=\"keywords\" content=\"^DJI, Dow Jones Industrial Average, ^DJI stock chart, Dow Jones Industrial Average stock chart, stock chart, stocks, quotes, finance\"><meta name=\"description\" content=\"View the basic ^DJI stock chart on Yahoo! Finance. Change the date range, chart type and compare Dow Jones Industrial Average against other companies.\"><script type=\"text/javascript\"><!--\\n    var yfid    = document;\\n    var yfiagt  = navigator.userAgent.toLowerCase();\\n    var yfidom  = yfid.getElementById;\\n    var yfiie   = yfid.all;\\n    var yfimac  = (yfiagt.indexOf(\\'mac\\')!=-1);\\n    var yfimie  = (yfimac&&yfiie);\\n    var yfiie5  = (yfiie&&yfidom&&!yfimie&&!Array.prototype.pop);\\n    var yfiie55 = (yfiie&&yfidom&&!yfimie&&!yfiie5);\\n    var yfiie6  = (yfiie55&&yfid.compatMode);\\n    var yfisaf  = ((yfiagt.indexOf(\\'safari\\')>-1)?1:0);\\n    var yfimoz  = ((yfiagt.indexOf(\\'gecko\\')>-1&&!yfisaf)?1:0);\\n    var yfiopr  = ((yfiagt.indexOf(\\'opera\\')>-1&&!yfisaf)?1:0);\\n            //--></script></head><body class=\" intl-us yfin_gs gsg-0\"><div id=\"masthead\"><div class=\"yfi_doc yog-hd\" id=\"yog-hd\"><div class=\"\"><style>#header,#y-hd,#hd .yfi_doc,#yfi_hd{background:#fff !important}#yfin_gs #yfimh #yucsHead,#yfin_gs #yfi_doc #yucsHead,#yfin_gs #yfi_fp_hd #yucsHead,#yfin_gs #y-hd #yucsHead,#yfin_gs #yfi_hd #yucsHead,#yfin_gs #yfi-doc #yucsHead{-webkit-box-shadow:0 0 9px 0 #490f76 !important;-moz-box-shadow:0 0 9px 0 #490f76 !important;box-shadow:0 0 9px 0 #490f76 !important;border-bottom:1px solid #490f76 !important}#yog-hd,#yfi-hd,#ysp-hd,#hd,#yfimh,#yfi_hd,#yfi_fp_hd,#masthead,#yfi_nav_header #navigation,#y-nav #navigation,.ad_in_head{background-color:#fff;background-image:none}#header,#hd .yfi_doc,#y-hd .yfi_doc,#yfi_hd .yfi_doc{width:100% !important}#yucs{margin:0 auto;width:970px}#yfi_nav_header,.y-nav-legobg,#y-nav #navigation{margin:0 auto;width:970px}#yucs .yucs-avatar{height:22px;width:22px}#yucs #yucs-profile_text .yuhead-name-greeting{display:none}#yucs #yucs-profile_text .yuhead-name{top:0;max-width:65px}#yucs-profile_text{max-width:65px}#yog-bd .yom-stage{background:transparent}#yog-hd{height:84px}.yog-bd,.yog-grid{padding:4px 10px}.nav-stack ul.yog-grid{padding:0}#yucs #yucs-search.yucs-bbb .yucs-button_theme{background:-moz-linear-gradient(top, #01a5e1 0, #0297ce 100%);background:-webkit-gradient(linear, left top, left bottom, color-stop(0%, #01a5e1), color-stop(100%, #0297ce));background:-webkit-linear-gradient(top, #01a5e1 0, #0297ce 100%);background:-o-linear-gradient(top, #01a5e1 0, #0297ce 100%);background:-ms-linear-gradient(top, #01a5e1 0, #0297ce 100%);background:linear-gradient(to bottom, #01a5e1 0, #0297ce 100%);-webkit-box-shadow:inset 0 1px 3px 0 #01c0eb;box-shadow:inset 0 1px 3px 0 #01c0eb;background-color:#019ed8;background-color:transparent\\\\0/IE9;background-color:transparent\\\\9;*background:none;border:1px solid #595959;padding-left:0px;padding-right:0px}#yucs #yucs-search.yucs-bbb #yucs-prop_search_button_wrapper .yucs-gradient{filter:progid:DXImageTransform.Microsoft.gradient(startColorstr=\\'#01a5e1\\', endColorstr=\\'#0297ce\\',GradientType=0 );-ms-filter:\"progid:DXImageTransform.Microsoft.gradient( startColorstr=\\'#01a5e1\\', endColorstr=\\'#0297ce\\',GradientType=0 )\";background-color:#019ed8\\\\0/IE9}#yucs #yucs-search.yucs-bbb #yucs-prop_search_button_wrapper{*border:1px solid #595959}#yucs #yucs-search .yucs-button_theme{background:#0f8ed8;border:0;box-shadow:0 2px #044e6e}@media all{#yucs.yucs-mc,#yucs-top-inner{width:auto !important;margin:0 !important}#yucsHead{_text-align:left !important}#yucs-top-inner,#yucs.yucs-mc{min-width:970px !important;max-width:1240px !important;padding-left:10px !important;padding-right:10px !important}#yucs.yucs-mc{_width:970px !important;_margin:0 !important}#yucsHead #yucs .yucs-fl-left #yucs-search{position:absolute;left:190px !important;max-width:none !important;margin-left:0;_left:190px;_width:510px !important}.yog-ad-billboard #yucs-top-inner,.yog-ad-billboard #yucs.yucs-mc{max-width:1130px !important}#yucs .yog-cp{position:inherit}}#yucs #yucs-logo{width:150px !important;height:34px !important}#yucs #yucs-logo div{width:94px !important;margin:0 auto !important}.lt #yucs-logo div{background-position:-121px center !important}#yucs-logo a{margin-left:-13px !important}</style><style>#yog-hd .yom-bar, #yog-hd .yom-nav, #y-nav, #hd .ysp-full-bar,  #yfi_nav_header, #hd .mast {\\nfloat: none;\\nwidth: 970px;\\nmargin: 0 auto;\\n}\\n\\n#yog-bd .yom-stage {\\nbackground: transparent;\\n}\\n\\n#y-nav .yom-nav {\\npadding-top: 0px;\\n}\\n\\n#ysp-search-assist .bd {\\ndisplay:none;\\n}\\n\\n#ysp-search-assist h4 {\\npadding-left: 8px;\\n}\\n\\n\\n    #yfi-portfolios-multi-quotes #y-nav, #yfi-portfolios-multi-quotes #navigation, #yfi-portfolios-multi-quotes .y-nav-legobg, \\n    #yfi-portfolios-my-portfolios #y-nav, #yfi-portfolios-my-portfolios #navigation, #yfi-portfolios-my-portfolios .y-nav-legobg {\\n        width : 100%;\\n    }</style> <div id=\"yucsHead\" class=\"yucs-finance yucs-en-us  yucs-standard\"><!-- meta --><div id=\"yucs-meta\" data-authstate=\"signedout\" data-cobrand=\"standard\" data-crumb=\"\" data-mc-crumb=\"\" data-gta=\"\" data-device=\"desktop\" data-experience=\"GS\" data-firstname=\"\" data-style=\"\" data-flight=\"1462218527\" data-forcecobrand=\"standard\" data-guid=\"\" data-host=\"finance.yahoo.com\" data-https=\"0\" data-languagetag=\"en-us\" data-property=\"finance\" data-protocol=\"http\" data-shortfirstname=\"\" data-shortuserid=\"\" data-status=\"active\" data-spaceid=\"\" data-test_id=\"\" data-userid=\"\" data-stickyheader=\"true\" data-headercollapse=\"\" data-uh-test=\"acctswitch\" ></div><!-- /meta --><div id=\"yucs-comet\" style=\"display:none;\"></div><div id=\"yucs-disclaimer\" class=\"yucs-disclaimer yucs-activate yucs-hide yucs-property-finance yucs-fcb- \" data-cobrand=\"standard\" data-cu = \"0\" data-dsstext=\"Want a better search experience? {dssLink}Set your Search to Yahoo{linkEnd}\" data-dsstext-mobile=\"Search Less, Find More\" data-dsstext-mobile-ok=\"OK\" data-dsstext-mobile-set-search=\"Set Search to Yahoo\" data-dssstbtext=\"Yahoo is the preferred search engine for Firefox. Switch now.\" data-dssstb-ok=\"Yes\" data-dssstb-no=\"Not Now\" data-ylt-link=\"https://search.yahoo.com/searchset?pn=\" data-ylt-dssbarclose=\"/\" data-ylt-dssbaropen=\"/\" data-ylt-dssstb-link=\"https://downloads.yahoo.com/sp-firefox\" data-ylt-dssstbbarclose=\"/\" data-ylt-dssstbbaropen=\"/\" data-ylt-dssCookieCleanedSuccess=\"/\" data-ylt-dssCookieCleanedFailed=\"/\" data-linktarget=\"_top\" data-lang=\"en-us\" data-property=\"finance\" data-device=\"Desktop\" data-close-txt=\"Close this window\" data-maybelater-txt = \"Maybe Later\" data-killswitch = \"0\" data-host=\"finance.yahoo.com\" data-spaceid=\"\" data-pn=\"\" data-dss-cookie-cleanup=\"\" data-pn-en-ca-mobile-frontpage=\"\" data-pn-de-de-mobile-frontpage=\"\" data-pn-es-es-mobile-frontpage=\"\" data-pn-fr-fr-mobile-frontpage=\"\" data-pn-en-in-mobile-frontpage=\"\" data-pn-it-it-mobile-frontpage=\"\" data-pn-en-us-mobile-frontpage=\"\" data-pn-en-sg-mobile-frontpage=\"\" data-pn-en-gb-mobile-frontpage=\"\" data-pn-en-us-mobile-mail=\"\" data-pn-en-ca-mobile-mail=\"\" data-pn-de-de-mobile-mail=\"\" data-pn-es-es-mobile-mail=\"\" data-pn-fr-fr-mobile-mail=\"\" data-pn-en-in-mobile-mail=\"\" data-pn-it-it-mobile-mail=\"\" data-pn-en-sg-mobile-mail=\"\" data-pn-en-gb-mobile-mail=\"\" data-pn-pt-br-mobile-mail=\"\" data-pn-en-us-tablet-frontpage=\"\" data-pn-en-us-tablet-mail=\"\" data-pn-en-ca-tablet-mail=\"\" data-pn-de-de-tablet-mail=\"\" data-pn-es-es-tablet-mail=\"\" data-pn-fr-fr-tablet-mail=\"\" data-pn-en-in-tablet-mail=\"\" data-pn-it-it-tablet-mail=\"\" data-pn-en-sg-tablet-mail=\"\" data-pn-en-gb-tablet-mail=\"\" data-pn-pt-br-tablet-mail=\"\" data-news-search-yahoo-com=\"\" data-answers-search-yahoo-com=\"\" data-finance-search-yahoo-com=\"\" data-images-search-yahoo-com=\"\" data-video-search-yahoo-com=\"\" data-sports-search-yahoo-com=\"\" data-shopping-search-yahoo-com=\"\" data-shopping-yahoo-com=\"\" data-us-qa-trunk-news-search-yahoo-com =\"\" data-dss=\"1\"></div>  <div id=\"yucs-top-bar\" class=\\'yucs-ps\\' ><div id=\\'yucs-top-inner\\'><ul id=\"yucs-top-list\"><li id=\"yucs-top-home\"><a href=\"https://www.yahoo.com/\" ><span class=\"sp yucs-top-ico\"></span>Home</a></li><li id=\"yucs-top-mail\"><a href=\"https://mail.yahoo.com/?.intl=us&.lang=en-US&.src=ym\" >Mail</a></li><li id=\"yucs-top-search\"><a href=\"https://search.yahoo.com/search\" >Search</a></li><li id=\"yucs-top-news\"><a href=\"http://news.yahoo.com/\" >News</a></li><li id=\"yucs-top-sports\"><a href=\"http://sports.yahoo.com/\" >Sports</a></li><li id=\"yucs-top-finance\"><a href=\"http://finance.yahoo.com/\" >Finance</a></li><li id=\"yucs-top-celebrity\"><a href=\"https://celebrity.yahoo.com/\" >Celebrity</a></li><li id=\"yucs-top-weather\"><a href=\"https://weather.yahoo.com/\" >Weather</a></li><li id=\"yucs-top-answers\"><a href=\"https://answers.yahoo.com/\" >Answers</a></li><li id=\"yucs-top-flickr\"><a href=\"https://www.flickr.com/\" >Flickr</a></li><li id=\"yucs-top-mobile\"><a href=\"https://mobile.yahoo.com/\" >Mobile</a></li><li id=\\'yucs-more\\' class=\\'yucs-menu yucs-more-activate\\' data-ylt=\"/\"><a href=\"http://everything.yahoo.com/\" id=\\'yucs-more-link\\'>More<span class=\"sp yucs-top-ico\"></span></a><div id=\\'yucs-top-menu\\'><div class=\"yui3-menu-content\"><ul class=\"yucs-hide yucs-leavable\"><li id=\\'yucs-top-politics\\'><a href=\"https://www.yahoo.com/politics\" >Politics</a></li><li id=\\'yucs-top-movies\\'><a href=\"https://www.yahoo.com/movies\" >Movies</a></li><li id=\\'yucs-top-music\\'><a href=\"https://www.yahoo.com/music\" >Music</a></li><li id=\\'yucs-top-tv\\'><a href=\"https://www.yahoo.com/tv\" >TV</a></li><li id=\\'yucs-top-groups\\'><a href=\"https://groups.yahoo.com/\" >Groups</a></li><li id=\\'yucs-top-style\\'><a href=\"https://www.yahoo.com/style\" >Style</a></li><li id=\\'yucs-top-beauty\\'><a href=\"https://www.yahoo.com/beauty\" >Beauty</a></li><li id=\\'yucs-top-tech\\'><a href=\"https://www.yahoo.com/tech\" >Tech</a></li><li id=\\'yucs-top-shopping\\'><a href=\"http://shopping.yahoo.com/\" >Shopping</a></li><li id=\\'yucs-top-autos\\'><a href=\"https://autos.yahoo.com/\" >Autos</a></li></ul></div></div></li></ul></div><style>#yucs-top-ff-promo { position:absolute; right:0; right:auto\\\\9; left:950px\\\\9; right:0\\\\9\\\\0; left:auto\\\\9\\\\0; margin-left:18px;}#yucs-top-ff-promo a span { text-decoration: none; display: inline-block;}@media screen and (max-width: 1124px) { #UH.yucs-mail #yucs-top-ff-promo { display:none; }}@media screen and (max-width:1150px) { #yucs-top-ff-promo { right:auto; }}</style><li id=\\'yucs-top-ff-promo\\' class=\"D(ib) Zoom Va(t) Mend(18px) Pstart(14px) D(n)\"><a class=\"D(b) C(#fff)! Pstart(4px) Td(n)! Td(u)!:h Fz(13px)\" href=\"https://www.mozilla.org/firefox/new/?utm_source=yahoo&utm_medium=referral&utm_campaign=y-uh&utm_content=y-finance-try\" data-ylk=\"t5:ff-promo;slk:ff-promo;t4:pty-mu;\" target=\"_blank\"><img id=\"yucs-ff-img\" class=\"Pend(4px) yucs_Va(m)\" src=\\'https://s.yimg.com/kx/yucs/uh3s/promo-ff/1/images/ff_icon-compressed.png\\' width=\"15\" height=\"15\" alt=\"Firefox\" />Try Yahoo Finance on Firefox<span>&nbsp;&raquo;</span></a></li><script> var s = false, ts,re2,sdts,v2= null, cookies = \"; \" + document.cookie, dss = cookies.split(\"; DSS=\"), m, ua = window.navigator.userAgent.toLowerCase(); m = ua.match(/firefox\\\\/(\\\\d+)/); if (!m || (m && m[1] && parseInt(m[1]) < 34)) { if (ua.indexOf(\\'version\\') >= 0 && ua.indexOf(\\'crios\\') < 0) { s = true; } if (!!window.opera || navigator.userAgent.indexOf(\\' OPR/\\') >= 0) { s = true; } if (dss && dss.length === 2) { re2 = new RegExp(\\'sdts=(\\\\\\\\d+)\\'); v2 = re2.exec(dss[1]); if (v2 && v2.length === 2) { sdts = v2[1]; } if (sdts && (parseInt(new Date().getTime()/1000) - sdts) < 604800) { s = true; } } if (!s) { m = document.getElementById(\\'yucs-top-ff-promo\\'); m.className = m.className.replace(/D\\\\(n\\\\)/g,\\'\\'); } }</script></div><div id=\"yucs\" class=\"yucs yucs-mc  yog-grid\" data-lang=\"en-us\" data-property=\"finance\" data-flight=\"1462218527\" data-linktarget=\"_top\" data-uhvc=\"/\"> <div class=\"yucs-fl-left yog-cp\">   <div id=\"yucs-logo\"> <style> #yucs #yucs-logo-ani { width:120px ; height:34px; background-image:url(https://s.yimg.com/rz/l/yahoo_finance_en-US_f_pw_119x34.png) ; _background-image:url(https://s.yimg.com/rz/l/yahoo_finance_en-US_f_pw_119x34.gif) ; *left: 0px; display:block ; visibility: visible; position: relative; clip: auto; } .lt #yucs-logo-ani { background-position: 100% 0px !important; } .lt #yucs[data-property=\\'mail\\'] #yucs-logo-ani { background-position: -350px 0px !important; } #yucs-logo { margin-top:0px!important; padding-top: 11px; width: 120px; } #yucs[data-property=\\'homes\\'] #yucs-logo { width: 102px; } .advisor #yucs-link-ani { left: 21px !important; } #yucs #yucs-logo a {margin-left: 0!important;}#yucs #yucs-link-ani {width: 100% !important;} @media only screen and (-webkit-min-device-pixel-ratio: 2), only screen and ( min--moz-device-pixel-ratio: 2), only screen and ( -o-min-device-pixel-ratio: 2/1), only screen and ( min-device-pixel-ratio: 2), only screen and ( min-resolution: 192dpi), only screen and ( min-resolution: 2dppx) { #yucs #yucs-logo-ani { background-image: url(https://s.yimg.com/rz/l/yahoo_finance_en-US_f_pw_119x34_2x.png) !important; background-size: 235px 34px; } } </style> <div> <a id=\"yucs-logo-ani\" class=\"\" href=\"http://finance.yahoo.com\" target=\"_top\" data-alg=\"\"> Yahoo Finance </a> </div> <img id=\"imageCheck\" src=\"http://l.yimg.com/os/mit/media/m/base/images/transparent-1093278.png\" alt=\"\"/> </div><noscript><style>#yucs #yucs-logo-ani {visibility: visible;position: relative;clip: auto;}</style></noscript> <div id=\"yucs-search\" style=\"width: 570px; display: block;\" class=\\' yucs-search-activate\\'> <form role=\"search\" class=\"yucs-search yucs-activate\" target=\"_top\" data-webaction=\"https://search.yahoo.com/search\" action=\"http://finance.yahoo.com/q\" method=\"get\"> <table role=\"presentation\"> <tbody role=\"presentation\"> <tr role=\"presentation\"> <td class=\"yucs-form-input\" role=\"presentation\"> <input autocomplete=\"off\" class=\"yucs-search-input\" name=\"s\" type=\"search\" aria-describedby=\"mnp-search_box\" data-yltvsearch=\"http://finance.yahoo.com/q\" data-yltvsearchsugg=\"/\" data-satype=\"mini\" data-gosurl=\"https://s.yimg.com/aq/autoc\" data-pubid=\"666\" data-enter-ylt=\"http://finance.yahoo.com/q\" data-enter-fr=\"\" data-maxresults=\"\" id=\"mnp-search_box\" data-rapidbucket=\"\"/> </td><td NOWRAP class=\"yucs-form-btn\" role=\"presentation\"><div id=\"yucs-prop_search_button_wrapper\" class=\"yucs-search-buttons\"><div class=\"yucs-shadow\"><div class=\"yucs-gradient\"></div></div><button id=\"yucs-sprop_button\" class=\"yucs-action_btn yucs-button_theme yucs-vsearch-button\" type=\"submit\" data-vfr=\"uh3_finance_vert_gs\" onclick=\"var vfr = this.getAttribute(\\'data-vfr\\'); if(vfr){document.getElementById(\\'fr\\').value = vfr}\" data-vsearch=\"http://finance.yahoo.com/q\">Search Finance</button></div><div id=\"yucs-web_search_button_wrapper\" class=\"yucs-search-buttons\"><div class=\"yucs-shadow\"><div class=\"yucs-gradient\"></div></div><button id=\"yucs-search_button\" class=\"yucs-action_btn yucs-wsearch-button\" onclick=\"var form=document.getElementById(\\'yucs-search\\').children[0];var wa=form.getAttribute(\\'data-webaction\\');form.setAttribute(\\'action\\',wa);var searchbox=document.getElementById(\\'mnp-search_box\\');searchbox.setAttribute(\\'name\\',\\'p\\');\" type=\"submit\">Search Web</button></div></td></tr> </tbody> </table> <input type=\"hidden\" id=\"uhb\" name=\"uhb\" value=\"uhb2\" /> <input type=\"hidden\" id=\"fr\" name=\"fr\" value=\"uh3_finance_web_gs\" />   </form><div id=\"yucs-satray\" class=\"sa-tray sa-hidden\" data-wstext=\"Search Web for: \" data-wsearch=\"https://search.yahoo.com/search\" data-vfr=\"uh3_finance_vert_gs\" data-vsearchAll=\"/\" data-vsearch=\"http://finance.yahoo.com/q\" data-vstext= \"Search news for: \" data-vert_fin_search=\"https://finance.search.yahoo.com/search/\"></div> </div></div><div class=\"yucs-fl-right\"> <div id=\"yucs-profile\" class=\"yucs-profile yucs-signedout\"> <a id=\"yucs-menu_link_profile_signed_out\" href=\"https://login.yahoo.com/config/login?.src=quote&.intl=us&.lang=en-US&.done=http://finance.yahoo.com/q/cp%3fs=%255EDJI%2bComponents\" target=\"_top\" rel=\"nofollow\" class=\"sp yucs-fc\" aria-label=\"Profile\"> </a> <div id=\"yucs-profile_text\" class=\"yucs-fc\"> <a id=\"yucs-login_signIn\" href=\"https://login.yahoo.com/config/login?.src=quote&.intl=us&.lang=en-US&.done=http://finance.yahoo.com/q/cp%3fs=%255EDJI%2bComponents\" target=\"_top\" rel=\"nofollow\" class=\"yucs-fc\"> Sign In </a> </div></div><div class=\"yucs-mail_link yucs-mailpreview-ancestor\"><a id=\"yucs-mail_link_id\" class=\"sp yltasis yucs-fc\" href=\"https://mail.yahoo.com/?.intl=us&.lang=en-US&.src=ym\" rel=\"nofollow\" target=\"_top\"> Mail <span class=\"yucs-activate yucs-mail-count yucs-hide yucs-alert-count-con\" data-uri-scheme=\"https\" data-uri-path=\"mg.mail.yahoo.com/mailservices/v1/newmailcount\" data-authstate=\"signedout\" data-crumb=\"\" data-mc-crumb=\"\"><span class=\"yucs-alert-count\"></span></span></a><div class=\"yucs-mail-preview-panel yucs-menu yucs-hide\" data-mail-txt=\"Mail\" data-uri-scheme=\"http\" data-uri-path=\"ucs.query.yahoo.com/v1/console/yql\" data-mail-view=\"Go to Mail\" data-mail-help-txt=\"Help\" data-mail-help-url=\"http://help.yahoo.com/l/us/yahoo/mail/ymail/\" data-mail-loading-txt=\"Loading...\" data-languagetag=\"en-us\" data-mrd-crumb=\"\" data-authstate=\"signedout\" data-middleauth-signin-text=\"Click here to view your mail\" data-popup-login-url=\"https://login.yahoo.com/config/login_verify2?.pd=c%3DOIVaOGq62e5hAP8Tv..nr5E3&.src=sc\" data-middleauthtext=\"You have {count} new messages.\" data-yltmessage-link=\"https://mrd.mail.yahoo.com/msg?mid={msgID}&fid=Inbox&src=uh&.crumb=\" data-yltviewall-link=\"https://mail.yahoo.com/\" data-yltpanelshown=\"/\" data-ylterror=\"/\" data-ylttimeout=\"/\" data-generic-error=\"We\\'re unable to preview your mail.<br>Go to Mail.\" data-nosubject=\"[No Subject]\" data-timestamp=\\'short\\'></div></div> <div id=\"yucs-help\" class=\"yucs-activate yucs-help yucs-menu_nav\"> <a id=\"yucs-help_button\" class=\"sp yltasis\" href=\"javascript:void(0);\" aria-label=\"Help\" rel=\"nofollow\"> <em class=\"yucs-hide yucs-menu_anchor\">Help</em> </a> <div id=\"yucs-help_inner\" class=\"yucs-hide yucs-menu yucs-hm-activate\" data-yltmenushown=\"/\"> <span class=\"sp yucs-dock\"></span> <ul id=\"yuhead-help-panel\"> <li><a class=\"yucs-acct-link\" href=\"https://login.yahoo.com/account/personalinfo?.intl=us&.lang=en-US&.done=http://finance.yahoo.com/q/cp%3fs=%255EDJI%2bComponents&amp;.src=quote&amp;.intl=us&amp;.lang=en-US\" target=\"_top\">Account Info</a></li> <li><a href=\"https://help.yahoo.com/l/us/yahoo/finance/\" rel=\"nofollow\" >Help</a></li> <span class=\"yucs-separator\" role=\"presentation\" style=\"display: block;\"></span><li><a href=\"http://feedback.yahoo.com/forums/207809\" rel=\"nofollow\" >Suggestions</a></li>  </ul> </div></div>  <div id=\"yucs-network_link\"><a id=\"yucs-home_link\" href=\"https://www.yahoo.com/\" rel=\"nofollow\" target=\"_top\"><em class=\"sp\">Yahoo</em><span class=\"yucs-fc\">Home</span></a></div>  <!-- empty breaking news component -->     </div>    </div> <div id=\"yucs-location-js\" class=\"yucs-hide yucs-offscreen yucs-location-activate\" data-appid=\"yahoo.locdrop.ucs.desktop\" data-crumb=\"\"><!-- empty for ie --></div><div id=\"yUnivHead\" class=\"yucs-hide\"><!-- empty --></div><div id=\"yhelp_container\" class=\"yui3-skin-sam\"></div></div><!-- alert --><!-- /alert --></div><script type=\"text/javascript\">\\n\\t\\tvar yfi_dd = \\'finance.yahoo.com\\';\\n\\t\\t\\n\\t\\t\\tll_js.push({\\n\\t\\t\\t\\'file\\':\\'http://l.yimg.com/zz/combo?kx/yucs/uh3/uh/1078/js/uh-min.js&kx/yucs/uh3/uh/1078/js/gallery-jsonp-min.js&kx/yucs/uh3/uh/1134/js/menu_utils_v3-min.js&kx/yucs/uh3/uh/1078/js/localeDateFormat-min.js&kx/yucs/uh3/uh/1078/js/timestamp_library_v2-min.js&kx/yucs/uh3/uh/1104/js/logo_debug-min.js&kx/yucs/uh3/switch-theme/6/js/switch_theme-min.js&kx/yucs/uhc/meta/66/js/meta-min.js&kx/yucs/uh_common/beacon/18/js/beacon-min.js&kx/yucs/uh2/comet/84/js/cometd-yui3-min.js&kx/yucs/uh2/comet/84/js/conn-min.js&kx/yucs/uh2/comet/84/js/dark-test-min.js&kx/yucs/uh3/disclaimer/388/js/disclaimer_seed-min.js&kx/yucs/uh3/top-bar/321/js/top_bar_v3-min.js&kx/yucs/uh3/search/598/js/search-min.js&kx/yucs/uh3/search/611/js/search_plugin-min.js&kx/yucs/uh2/common/145/js/jsonp-super-cached-min.js&kx/yucs/uh3/avatar/40/js/avatar-min.js&kx/yucs/uh3/mail-link/96/js/mailcount_ssl-min.js&kx/yucs/uh3/help/83/js/help_menu_v3-min.js&kx/yucs/uhc/rapid/49/js/uh_rapid-min.js&kx/yucs/uh3/get-the-app/148/js/inputMaskClient-min.js&kx/yucs/uh3/get-the-app/160/js/get_the_app-min.js&kx/yucs/uh3/location/10/js/uh_locdrop-min.js\\'\\n\\t\\t\\t});\\n\\t\\t\\n              if(window.LH) {\\n                  LH.init({spaceid:\\'2712293\\'});\\n              }\\n\\t</script><style>\\n\\t.yfin_gs #yog-hd{\\n\\t    position: relative;\\n\\t}\\n        html {\\n            padding-top: 0 !important;\\n        }\\n\\n        @media screen and (min-width: 806px) {\\n                html {\\n                    padding-top:83px !important;\\n                }\\n                .yfin_gs #yog-hd{\\n                    position: fixed;\\n                }\\n        }\\n        /* bug 6768808 - allow UH scrolling for smartphone */\\n        @media  only screen and (device-width: 320px) and (device-height: 480px) and (-webkit-device-pixel-ratio: 2),\\n            only screen and (device-width: 320px) and (device-height: 568px) and (-webkit-min-device-pixel-ratio: 1),\\n            only screen and (device-width: 320px) and (device-height: 534px) and (-webkit-device-pixel-ratio: 1.5),\\n            only screen and (device-width: 720px) and (device-height: 1280px) and (-webkit-min-device-pixel-ratio: 2),\\n            only screen and (device-width: 480px) and (device-height: 800px) and (-webkit-device-pixel-ratio: 1.5 ),\\n            only screen and (device-width: 384px) and (device-height: 592px) and (-webkit-device-pixel-ratio: 2),\\n            only screen and (device-width: 360px) and (device-height: 640px) and (-webkit-device-pixel-ratio: 3){\\n                html {\\n                    padding-top: 0 !important;\\n                }\\n                .yfin_gs #yog-hd{\\n                    position: relative;\\n                    border-bottom: 0 none !important;\\n                    box-shadow: none !important;\\n                }\\n            }\\n        </style><script type=\"text/javascript\">\\n\\tYUI().use(\\'node\\',function(Y){\\n\\t    var gs_hdr_elem = Y.one(\\'.yfin_gs #yog-hd\\');\\n\\t    var _window = Y.one(\\'window\\');\\n\\t    \\n\\t    if(gs_hdr_elem) {\\n\\t\\t_window.on(\\'scroll\\', function() {\\n\\t\\t    var scrollTop   = _window.get(\\'scrollTop\\');\\n\\n\\t\\t    if (scrollTop === 0 ) {\\n\\t\\t\\tgs_hdr_elem.removeClass(\\'yog-hd-border\\');\\n\\t\\t    }\\n\\t\\t    else {\\n\\t\\t\\tgs_hdr_elem.addClass(\\'yog-hd-border\\');\\n\\t\\t    }\\n\\t\\t});\\n\\t    }\\n\\t});\\n\\t</script><script type=\"text/javascript\">\\n                if(typeof YAHOO == \"undefined\"){YAHOO={};}\\n                if(typeof YAHOO.Finance == \"undefined\"){YAHOO.Finance={};}\\n                if(typeof YAHOO.Finance.ComscoreConfig == \"undefined\"){YAHOO.Finance.ComscoreConfig={};}\\n                YAHOO.Finance.ComscoreConfig={ \"config\" : [\\n                        {\\n                        c5: \"2712293\",\\n                        c7: \"http://finance.yahoo.com/q/cp?s=%255EDJI+Components\"\\n                        }\\n                ] }\\n                \\n\\n                ll_js.push({\\n                            \\'file\\': \\'bm/lib/fi/common/p/d/static/js/2.0.356981/2.0.0/mini/yfi_comscore.js\\',\\n                            \\'combo\\' : \\'1\\'\\n                });\\n        </script><noscript><img src=\"http://b.scorecardresearch.com/p?c1=2&amp;c2=7241469&amp;c4=http://finance.yahoo.com/q/cp?s=%255EDJI+Components&amp;c5=2712293&amp;cv=2.0&amp;cj=1\"></noscript></div></div><div class=\"ad_in_head\"><div class=\"yfi_doc\"></div><table width=\"752\" id=\"yfncmkttme\" cellpadding=\"0\" cellspacing=\"0\" border=\"0\"><tr><td></td></tr></table></div><div id=\"y-nav\"><div id=\"navigation\" class=\"yom-mod yom-nav\" role=\"navigation\"><div class=\"bd\"><div class=\"nav\"><div class=\"y-nav-pri-legobg\"><div id=\"y-nav-pri\" class=\"nav-stack nav-0 yfi_doc\"><ul class=\"yog-grid\" id=\"y-main-nav\"><li id=\"finance%2520home\"><div class=\"level1\"><a href=\"/\"><span>Finance Home</span></a></div></li><li class=\"nav-fin-portfolios\"><div id=\"y-my-portfolios\" class=\"level1\"><a id=\"yfmya\" href=\"/portfolios.html\"><span>My Portfolio</span></a><div class=\"arrow\"><em></em></div><div class=\"pointer\"></div><ul class=\"nav-sub\"><li><a href=\"/portfolios/\">Sign in to access My Portfolios</a></li><li><a href=\"http://billing.finance.yahoo.com/realtime_quotes/signup?.src=quote&amp;.refer=nb\">Free trial of Real-Time Quotes</a></li></ul></div></li><li id=\"my%2520quotes%2520news\"><div class=\"level1\"><a href=\"/my-quotes-news/\"><span>My Quotes News</span></a></div></li><li id=\"market%2520data\"><div class=\"level1\"><a href=\"/market-overview/\"><span>Market Data</span></a><div class=\"arrow\"><em></em></div><div class=\"pointer\"></div><ul class=\"nav-sub\"><li><a href=\"/stock-center/\">Stocks</a></li><li><a href=\"/funds/\">Mutual Funds</a></li><li><a href=\"/options/\">Options</a></li><li><a href=\"/etf/\">ETFs</a></li><li><a href=\"/bonds\">Bonds</a></li><li><a href=\"/futures\">Commodities</a></li><li><a href=\"/currency-investing\">Currencies</a></li><li><a href=\"http://biz.yahoo.com/research/earncal/today.html\">Calendars</a></li></ul></div></li><li id=\"yahoo%2520originals\"><div class=\"level1\"><a href=\"/yahoofinance/\"><span>Yahoo Originals</span></a><div class=\"arrow\"><em></em></div><div class=\"pointer\"></div><ul class=\"nav-sub\"><li><a href=\"/brklivestream/\">Berkshire Hathaway</a></li><li><a href=\"/news/marketmovers/\">Market Movers</a></li><li><a href=\"/news/middaymovers/\">Midday Movers</a></li><li><a href=\"/news/thefinalround\">The Final Round</a></li><li><a href=\"/news/sportsbook\">Sportsbook</a></li><li><a href=\"/yahoofinance/business/\">Business</a></li><li><a href=\"/yahoofinance/investing\">Investing</a></li><li><a href=\"/yahoofinance/personalfinance\">Personal Finance</a></li><li><a href=\"/blogs/author/rick-newman/\">Rick Newman</a></li><li><a href=\"/blogs/author/mandi-woodruff/\">Mandi Woodruff</a></li><li><a href=\"/blogs/author/daniel-roberts/\">Daniel Roberts</a></li><li><a href=\"/blogs/author/nicole-sinclair/\">Nicole Sinclair</a></li><li><a href=\"/blogs/author/melody-hahm-20151026/\">Melody Hahm</a></li><li><a href=\"/blogs/author/brittany-jones-cooper/\">Brittany Jones-Cooper</a></li></ul></div></li><li id=\"business%2520%2526%2520finance\"><div class=\"level1\"><a href=\"/news/\"><span>Business &amp; Finance</span></a><div class=\"arrow\"><em></em></div><div class=\"pointer\"></div><ul class=\"nav-sub\"><li><a href=\"/corporate-news/\">Company News</a></li><li><a href=\"/economic-policy-news/\">Economic News</a></li><li><a href=\"/investing-news/\">Market News</a></li></ul></div></li><li id=\"personal%2520finance\"><div class=\"level1\"><a href=\"/personal-finance/\"><span>Personal Finance</span></a><div class=\"arrow\"><em></em></div><div class=\"pointer\"></div><ul class=\"nav-sub\"><li><a href=\"/career-education/\">Career & Education</a></li><li><a href=\"/real-estate/\">Real Estate</a></li><li><a href=\"/retirement/\">Retirement</a></li><li><a href=\"/credit-debt/\">Credit & Debt</a></li><li><a href=\"https://taxes.yahoo.com/\">Taxes</a></li><li><a href=\"/lifestyle/\">Health & Lifestyle</a></li><li><a href=\"/videos/\">Featured Videos</a></li><li><a href=\"/rates/\">Rates in Your Area</a></li><li><a href=\"/calculator/index/\">Calculators</a></li></ul></div></li><li id=\"cnbc\"><div class=\"level1\"><a href=\"/cnbc/\"><span>CNBC</span></a></div></li><li id=\"contributors\"><div class=\"level1\"><a href=\"/contributors/\"><span>Contributors</span></a></div></li></ul></div></div>      </div></div></div><script>\\n        \\n        (function(el) {\\n            function focusHandler(e){\\n                if (e && e.target){\\n                    e.target == document ? null : e.target;\\n                    document.activeElement = e.target;\\n                }\\n            }\\n            // Handle !IE browsers that do not support the .activeElement property\\n            if(!document.activeElement){\\n                if (document.addEventListener){ \\n                    document.addEventListener(\"focus\", focusHandler, true);\\n                }\\n            }\\n        })(document);\\n        \\n        </script><div class=\"y-nav-legobg\"><div class=\"yfi_doc\"><div id=\"y-nav-sec\" class=\"clear\"><div id=\"searchQuotes\" class=\"ticker-search mod\" mode=\"search\"><div class=\"hd\"></div><div class=\"bd\"><form id=\"quote\" name=\"quote\" action=\"/q\"><h2 class=\"yfi_signpost\">Search for share prices</h2><label for=\"txtQuotes\">Search for share prices</label><input id=\"txtQuotes\" name=\"s\" value=\"\" type=\"text\" autocomplete=\"off\" placeholder=\"Enter Symbol\"><input id=\"get_quote_logic_opt\" name=\"ql\" value=\"1\" type=\"hidden\" autocomplete=\"off\"><div id=\"yfi_quotes_submit\"><span><span><span><input type=\"submit\" value=\"Look Up\" id=\"btnQuotes\" class=\"rapid-nf\"></span></span></span></div></form></div><div class=\"ft\"><a href=\"http://finance.search.yahoo.com?fr=fin-v1\">Finance Search</a><!-- this is required only for the yoda pages, /page/settings/@page is available only on yoda pages --><div class=\"report_issue\"><a href=\"https://yahoo.uservoice.com/forums/207809-finance-gs/category/68435-data-accuracy\" class=\"Fz-xs\" target=\"_blank\">Report an Issue</a></div><div class=\"mkt_time\"><p><span id=\"yfs_market_time\">Mon, May 2, 2016, 3:48PM EDT - U.S. Markets close in 12 mins.</span></p></div></div></div></div></div></div></div><div id=\"screen\"><span id=\"yfs_ad_\" ></span><style type=\"text/css\">\\n     .yfi-price-change-up{\\n        color:#008800\\n     }\\n     \\n    .yfi-price-change-down{\\n        color:#cc0000\\n    }\\n    </style><div id=\"marketindices\">&nbsp;<a href=\"/q?s=%5EDJI\">Dow</a>&nbsp;<img width=\"10\" height=\"14\" style=\"margin-right:-2px;\" border=\"0\" src=\"http://l.yimg.com/os/mit/media/m/base/images/transparent-1093278.png\" class=\"pos_arrow\" alt=\"Up\"><b style=\"color:#008800;\">0.72%</b>&nbsp;<a href=\"/q?s=%5EIXIC\">Nasdaq</a>&nbsp;<img width=\"10\" height=\"14\" style=\"margin-right:-2px;\" border=\"0\" src=\"http://l.yimg.com/os/mit/media/m/base/images/transparent-1093278.png\" class=\"pos_arrow\" alt=\"Up\"><b style=\"color:#008800;\">0.93%</b></div><div id=\"companynav\"><table cellpadding=\"0\" cellspacing=\"0\" border=\"0\"><tr><td height=\"5\"></td></tr></table></div><div id=\"leftcol\"><div id=\"yfi_investing_nav\"><div class=\"hd\"><h2>More On ^DJI</h2></div><div class=\"bd\"><h3>Quotes</h3><ul><li><a href=\"/q?s=%5EDJI\">Summary</a></li><li class=\"selected\">Components</li><li class=\"deselected\">Options</li><li><a href=\"/q/hp?s=%5EDJI+Historical+Prices\">Historical Prices</a></li></ul><h3>Charts</h3><ul><li><a href=\"/echarts?s=%5EDJI+Interactive#symbol=%5EDJI;range=\">Interactive</a></li></ul><h3>News &amp; Info</h3><ul><li><a href=\"/q/h?s=%5EDJI+Headlines\">Headlines</a></li></ul></div><div class=\"ft\"></div></div></div><div id=\"rightcol\"><table border=\"0\" cellspacing=\"0\" cellpadding=\"0\" width=\"580\" id=\"yfncbrobtn\" style=\"padding-top:1px;\"><tr><td align=\"center\"><!-- SpaceID=0 robot -->\\n</td></tr></table><br><div class=\"rtq_leaf\"><div class=\"rtq_div\"><div class=\"yui-g\"><div class=\"yfi_rt_quote_summary\" id=\"yfi_rt_quote_summary\"><div class=\"hd\"><div class=\"title\"><h2>Dow Jones Industrial Average (^DJI)</h2> <span class=\"rtq_exch\"><span class=\"rtq_dash\">-</span>DJI  </span><span class=\"wl_sign\"></span></div></div><div class=\"yfi_rt_quote_summary_rt_top sigfig_promo_1\"><div> <span class=\"time_rtq_ticker\">17,900.78</span> <span class=\"up_g time_rtq_content\"><img width=\"10\" height=\"14\" style=\"margin-right:-2px;\" border=\"0\" src=\"http://l.yimg.com/os/mit/media/m/base/images/transparent-1093278.png\" class=\"pos_arrow\" alt=\"Up\">   127.14(0.72%) </span><span class=\"time_rtq\"> 3:48PM EDT</span></div><div></div></div></div></div></div></div><table width=\"580\" id=\"yfncsumtab\" cellpadding=\"0\" cellspacing=\"0\" border=\"0\"><tr><td colspan=\"3\"><table border=\"0\" cellspacing=\"0\" class=\"yfnc_modtitle1\" style=\"border-bottom:1px solid #dcdcdc; margin-bottom:10px; width:100%;\"><form action=\"/q/cp\" accept-charset=\"utf-8\"><tr><td><big><b>Components</b></big></td><td align=\"right\"><small><b>Get Components for:</b> <input name=\"s\" id=\"pageTicker\" size=\"10\" /></small><input id=\"get_quote_logic_opt\" name=\"ql\" value=\"1\" type=\"hidden\" autocomplete=\"off\"><input value=\"GO\" type=\"submit\" style=\"margin-left:3px;\" class=\"rapid-nf\"></td></tr></form></table></td></tr><tr valign=\"top\"><td><div align=\"center\" style=\"padding: 5px 0px; word-spacing: 5px; font-weight: bold;\">All | \\n            <a href=\"/q/cp?s=%5EDJI&amp;alpha=A\">A</a> | <a href=\"/q/cp?s=%5EDJI&amp;alpha=B\">B</a> | <a href=\"/q/cp?s=%5EDJI&amp;alpha=C\">C</a> | <a href=\"/q/cp?s=%5EDJI&amp;alpha=D\">D</a> | <a href=\"/q/cp?s=%5EDJI&amp;alpha=G\">G</a> | <a href=\"/q/cp?s=%5EDJI&amp;alpha=H\">H</a> | <a href=\"/q/cp?s=%5EDJI&amp;alpha=I\">I</a> | <a href=\"/q/cp?s=%5EDJI&amp;alpha=J\">J</a> | <a href=\"/q/cp?s=%5EDJI&amp;alpha=K\">K</a> | <a href=\"/q/cp?s=%5EDJI&amp;alpha=M\">M</a> | <a href=\"/q/cp?s=%5EDJI&amp;alpha=N\">N</a> | <a href=\"/q/cp?s=%5EDJI&amp;alpha=P\">P</a> | <a href=\"/q/cp?s=%5EDJI&amp;alpha=T\">T</a> | <a href=\"/q/cp?s=%5EDJI&amp;alpha=U\">U</a> | <a href=\"/q/cp?s=%5EDJI&amp;alpha=V\">V</a> | <a href=\"/q/cp?s=%5EDJI&amp;alpha=W\">W</a> | <a href=\"/q/cp?s=%5EDJI&amp;alpha=X\">X</a><hr width=\"100%\" size=\"1\" color=\"#dcdcdc\"></div><div align=\"right\">1 - 30 of 30 | <strong>First</strong> | Previous |\\n            Next | <b>Last</b></div><table width=\"100%\" class=\"yfnc_mod_table_title1\" cellpadding=\"2\" cellspacing=\"0\" border=\"0\"><tr><th align=\"left\">Components for ^DJI</th><th align=\"right\">&nbsp;</th></tr></table><table width=\"100%\" cellpadding=\"0\" cellspacing=\"0\" border=\"0\" class=\"yfnc_tableout1\"><tr><td><table width=\"100%\" cellpadding=\"2\" cellspacing=\"1\" border=\"0\"><tr><th scope=\"col\" class=\"yfnc_tablehead1\" align=\"left\">Symbol</th><th scope=\"col\" class=\"yfnc_tablehead1\" align=\"left\">Name</th><th scope=\"col\" class=\"yfnc_tablehead1\" align=\"right\">Last Trade</th><th scope=\"col\" class=\"yfnc_tablehead1\" align=\"right\">Change</th><th scope=\"col\" class=\"yfnc_tablehead1\" align=\"right\">Volume</th></tr><tr><td class=\"yfnc_tabledata1\"><b><a href=\"/q?s=AAPL\">AAPL</a></b></td><td class=\"yfnc_tabledata1\">Apple Inc.</td><td class=\"yfnc_tabledata1\" align=\"right\"><b>93.93</b> <nobr><small>3:48PM EDT</small></nobr></td><td class=\"yfnc_tabledata1\" align=\"right\"><img width=\"10\" height=\"14\" style=\"margin-right:-2px;\" border=\"0\" src=\"http://l.yimg.com/os/mit/media/m/base/images/transparent-1093278.png\" class=\"pos_arrow\" alt=\"Up\"> <b style=\"color:#008800;\">0.19</b><b style=\"color:#008800;\"> (0.20%)</b></td><td class=\"yfnc_tabledata1\" align=\"right\">43,521,433</td></tr><tr><td class=\"yfnc_tabledata1\"><b><a href=\"/q?s=AXP\">AXP</a></b></td><td class=\"yfnc_tabledata1\">American Express Company</td><td class=\"yfnc_tabledata1\" align=\"right\"><b>65.70</b> <nobr><small>3:48PM EDT</small></nobr></td><td class=\"yfnc_tabledata1\" align=\"right\"><img width=\"10\" height=\"14\" style=\"margin-right:-2px;\" border=\"0\" src=\"http://l.yimg.com/os/mit/media/m/base/images/transparent-1093278.png\" class=\"pos_arrow\" alt=\"Up\"> <b style=\"color:#008800;\">0.27</b><b style=\"color:#008800;\"> (0.41%)</b></td><td class=\"yfnc_tabledata1\" align=\"right\">3,717,945</td></tr><tr><td class=\"yfnc_tabledata1\"><b><a href=\"/q?s=BA\">BA</a></b></td><td class=\"yfnc_tabledata1\">The Boeing Company</td><td class=\"yfnc_tabledata1\" align=\"right\"><b>134.05</b> <nobr><small>3:48PM EDT</small></nobr></td><td class=\"yfnc_tabledata1\" align=\"right\"><img width=\"10\" height=\"14\" style=\"margin-right:-2px;\" border=\"0\" src=\"http://l.yimg.com/os/mit/media/m/base/images/transparent-1093278.png\" class=\"neg_arrow\" alt=\"Down\"> <b style=\"color:#cc0000;\">0.75</b> <b style=\"color:#cc0000;\"> (0.56%)</b></td><td class=\"yfnc_tabledata1\" align=\"right\">3,053,257</td></tr><tr><td class=\"yfnc_tabledata1\"><b><a href=\"/q?s=CAT\">CAT</a></b></td><td class=\"yfnc_tabledata1\">Caterpillar Inc.</td><td class=\"yfnc_tabledata1\" align=\"right\"><b>77.86</b> <nobr><small>3:48PM EDT</small></nobr></td><td class=\"yfnc_tabledata1\" align=\"right\"><img width=\"10\" height=\"14\" style=\"margin-right:-2px;\" border=\"0\" src=\"http://l.yimg.com/os/mit/media/m/base/images/transparent-1093278.png\" class=\"pos_arrow\" alt=\"Up\"> <b style=\"color:#008800;\">0.14</b><b style=\"color:#008800;\"> (0.19%)</b></td><td class=\"yfnc_tabledata1\" align=\"right\">2,912,518</td></tr><tr><td class=\"yfnc_tabledata1\"><b><a href=\"/q?s=CSCO\">CSCO</a></b></td><td class=\"yfnc_tabledata1\">Cisco Systems, Inc.</td><td class=\"yfnc_tabledata1\" align=\"right\"><b>27.40</b> <nobr><small>3:48PM EDT</small></nobr></td><td class=\"yfnc_tabledata1\" align=\"right\"><img width=\"10\" height=\"14\" style=\"margin-right:-2px;\" border=\"0\" src=\"http://l.yimg.com/os/mit/media/m/base/images/transparent-1093278.png\" class=\"neg_arrow\" alt=\"Down\"> <b style=\"color:#cc0000;\">0.09</b> <b style=\"color:#cc0000;\"> (0.35%)</b></td><td class=\"yfnc_tabledata1\" align=\"right\">23,337,669</td></tr><tr><td class=\"yfnc_tabledata1\"><b><a href=\"/q?s=CVX\">CVX</a></b></td><td class=\"yfnc_tabledata1\">Chevron Corporation</td><td class=\"yfnc_tabledata1\" align=\"right\"><b>103.31</b> <nobr><small>3:48PM EDT</small></nobr></td><td class=\"yfnc_tabledata1\" align=\"right\"><img width=\"10\" height=\"14\" style=\"margin-right:-2px;\" border=\"0\" src=\"http://l.yimg.com/os/mit/media/m/base/images/transparent-1093278.png\" class=\"pos_arrow\" alt=\"Up\"> <b style=\"color:#008800;\">1.13</b><b style=\"color:#008800;\"> (1.11%)</b></td><td class=\"yfnc_tabledata1\" align=\"right\">5,770,347</td></tr><tr><td class=\"yfnc_tabledata1\"><b><a href=\"/q?s=DD\">DD</a></b></td><td class=\"yfnc_tabledata1\">E. I. du Pont de Nemours and Company</td><td class=\"yfnc_tabledata1\" align=\"right\"><b>66.16</b> <nobr><small>3:48PM EDT</small></nobr></td><td class=\"yfnc_tabledata1\" align=\"right\"><img width=\"10\" height=\"14\" style=\"margin-right:-2px;\" border=\"0\" src=\"http://l.yimg.com/os/mit/media/m/base/images/transparent-1093278.png\" class=\"pos_arrow\" alt=\"Up\"> <b style=\"color:#008800;\">0.25</b><b style=\"color:#008800;\"> (0.38%)</b></td><td class=\"yfnc_tabledata1\" align=\"right\">1,248,029</td></tr><tr><td class=\"yfnc_tabledata1\"><b><a href=\"/q?s=DIS\">DIS</a></b></td><td class=\"yfnc_tabledata1\">The Walt Disney Company</td><td class=\"yfnc_tabledata1\" align=\"right\"><b>104.51</b> <nobr><small>3:48PM EDT</small></nobr></td><td class=\"yfnc_tabledata1\" align=\"right\"><img width=\"10\" height=\"14\" style=\"margin-right:-2px;\" border=\"0\" src=\"http://l.yimg.com/os/mit/media/m/base/images/transparent-1093278.png\" class=\"pos_arrow\" alt=\"Up\"> <b style=\"color:#008800;\">1.25</b><b style=\"color:#008800;\"> (1.21%)</b></td><td class=\"yfnc_tabledata1\" align=\"right\">4,417,316</td></tr><tr><td class=\"yfnc_tabledata1\"><b><a href=\"/q?s=GE\">GE</a></b></td><td class=\"yfnc_tabledata1\">General Electric Company</td><td class=\"yfnc_tabledata1\" align=\"right\"><b>30.89</b> <nobr><small>3:48PM EDT</small></nobr></td><td class=\"yfnc_tabledata1\" align=\"right\"><img width=\"10\" height=\"14\" style=\"margin-right:-2px;\" border=\"0\" src=\"http://l.yimg.com/os/mit/media/m/base/images/transparent-1093278.png\" class=\"pos_arrow\" alt=\"Up\"> <b style=\"color:#008800;\">0.14</b><b style=\"color:#008800;\"> (0.46%)</b></td><td class=\"yfnc_tabledata1\" align=\"right\">14,030,615</td></tr><tr><td class=\"yfnc_tabledata1\"><b><a href=\"/q?s=GS\">GS</a></b></td><td class=\"yfnc_tabledata1\">The Goldman Sachs Group, Inc.</td><td class=\"yfnc_tabledata1\" align=\"right\"><b>166.34</b> <nobr><small>3:48PM EDT</small></nobr></td><td class=\"yfnc_tabledata1\" align=\"right\"><img width=\"10\" height=\"14\" style=\"margin-right:-2px;\" border=\"0\" src=\"http://l.yimg.com/os/mit/media/m/base/images/transparent-1093278.png\" class=\"pos_arrow\" alt=\"Up\"> <b style=\"color:#008800;\">2.23</b><b style=\"color:#008800;\"> (1.36%)</b></td><td class=\"yfnc_tabledata1\" align=\"right\">1,735,232</td></tr><tr><td class=\"yfnc_tabledata1\"><b><a href=\"/q?s=HD\">HD</a></b></td><td class=\"yfnc_tabledata1\">The Home Depot, Inc.</td><td class=\"yfnc_tabledata1\" align=\"right\"><b>136.13</b> <nobr><small>3:48PM EDT</small></nobr></td><td class=\"yfnc_tabledata1\" align=\"right\"><img width=\"10\" height=\"14\" style=\"margin-right:-2px;\" border=\"0\" src=\"http://l.yimg.com/os/mit/media/m/base/images/transparent-1093278.png\" class=\"pos_arrow\" alt=\"Up\"> <b style=\"color:#008800;\">2.24</b><b style=\"color:#008800;\"> (1.67%)</b></td><td class=\"yfnc_tabledata1\" align=\"right\">3,601,455</td></tr><tr><td class=\"yfnc_tabledata1\"><b><a href=\"/q?s=IBM\">IBM</a></b></td><td class=\"yfnc_tabledata1\">International Business Machines Corporation</td><td class=\"yfnc_tabledata1\" align=\"right\"><b>145.45</b> <nobr><small>3:48PM EDT</small></nobr></td><td class=\"yfnc_tabledata1\" align=\"right\"><img width=\"10\" height=\"14\" style=\"margin-right:-2px;\" border=\"0\" src=\"http://l.yimg.com/os/mit/media/m/base/images/transparent-1093278.png\" class=\"neg_arrow\" alt=\"Down\"> <b style=\"color:#cc0000;\">0.49</b> <b style=\"color:#cc0000;\"> (0.34%)</b></td><td class=\"yfnc_tabledata1\" align=\"right\">2,575,777</td></tr><tr><td class=\"yfnc_tabledata1\"><b><a href=\"/q?s=INTC\">INTC</a></b></td><td class=\"yfnc_tabledata1\">Intel Corporation</td><td class=\"yfnc_tabledata1\" align=\"right\"><b>30.67</b> <nobr><small>3:48PM EDT</small></nobr></td><td class=\"yfnc_tabledata1\" align=\"right\"><img width=\"10\" height=\"14\" style=\"margin-right:-2px;\" border=\"0\" src=\"http://l.yimg.com/os/mit/media/m/base/images/transparent-1093278.png\" class=\"pos_arrow\" alt=\"Up\"> <b style=\"color:#008800;\">0.39</b><b style=\"color:#008800;\"> (1.27%)</b></td><td class=\"yfnc_tabledata1\" align=\"right\">17,279,619</td></tr><tr><td class=\"yfnc_tabledata1\"><b><a href=\"/q?s=JNJ\">JNJ</a></b></td><td class=\"yfnc_tabledata1\">Johnson &amp; Johnson</td><td class=\"yfnc_tabledata1\" align=\"right\"><b>112.73</b> <nobr><small>3:48PM EDT</small></nobr></td><td class=\"yfnc_tabledata1\" align=\"right\"><img width=\"10\" height=\"14\" style=\"margin-right:-2px;\" border=\"0\" src=\"http://l.yimg.com/os/mit/media/m/base/images/transparent-1093278.png\" class=\"pos_arrow\" alt=\"Up\"> <b style=\"color:#008800;\">0.65</b><b style=\"color:#008800;\"> (0.58%)</b></td><td class=\"yfnc_tabledata1\" align=\"right\">4,175,567</td></tr><tr><td class=\"yfnc_tabledata1\"><b><a href=\"/q?s=JPM\">JPM</a></b></td><td class=\"yfnc_tabledata1\">JPMorgan Chase &amp; Co.</td><td class=\"yfnc_tabledata1\" align=\"right\"><b>63.81</b> <nobr><small>3:48PM EDT</small></nobr></td><td class=\"yfnc_tabledata1\" align=\"right\"><img width=\"10\" height=\"14\" style=\"margin-right:-2px;\" border=\"0\" src=\"http://l.yimg.com/os/mit/media/m/base/images/transparent-1093278.png\" class=\"pos_arrow\" alt=\"Up\"> <b style=\"color:#008800;\">0.61</b><b style=\"color:#008800;\"> (0.97%)</b></td><td class=\"yfnc_tabledata1\" align=\"right\">8,544,231</td></tr><tr><td class=\"yfnc_tabledata1\"><b><a href=\"/q?s=KO\">KO</a></b></td><td class=\"yfnc_tabledata1\">The Coca-Cola Company</td><td class=\"yfnc_tabledata1\" align=\"right\"><b>45.03</b> <nobr><small>3:48PM EDT</small></nobr></td><td class=\"yfnc_tabledata1\" align=\"right\"><img width=\"10\" height=\"14\" style=\"margin-right:-2px;\" border=\"0\" src=\"http://l.yimg.com/os/mit/media/m/base/images/transparent-1093278.png\" class=\"pos_arrow\" alt=\"Up\"> <b style=\"color:#008800;\">0.23</b><b style=\"color:#008800;\"> (0.51%)</b></td><td class=\"yfnc_tabledata1\" align=\"right\">10,314,446</td></tr><tr><td class=\"yfnc_tabledata1\"><b><a href=\"/q?s=MCD\">MCD</a></b></td><td class=\"yfnc_tabledata1\">McDonald\\'s Corp.</td><td class=\"yfnc_tabledata1\" align=\"right\"><b>128.11</b> <nobr><small>3:48PM EDT</small></nobr></td><td class=\"yfnc_tabledata1\" align=\"right\"><img width=\"10\" height=\"14\" style=\"margin-right:-2px;\" border=\"0\" src=\"http://l.yimg.com/os/mit/media/m/base/images/transparent-1093278.png\" class=\"pos_arrow\" alt=\"Up\"> <b style=\"color:#008800;\">1.62</b><b style=\"color:#008800;\"> (1.28%)</b></td><td class=\"yfnc_tabledata1\" align=\"right\">4,398,776</td></tr><tr><td class=\"yfnc_tabledata1\"><b><a href=\"/q?s=MMM\">MMM</a></b></td><td class=\"yfnc_tabledata1\">3M Company</td><td class=\"yfnc_tabledata1\" align=\"right\"><b>168.40</b> <nobr><small>3:48PM EDT</small></nobr></td><td class=\"yfnc_tabledata1\" align=\"right\"><img width=\"10\" height=\"14\" style=\"margin-right:-2px;\" border=\"0\" src=\"http://l.yimg.com/os/mit/media/m/base/images/transparent-1093278.png\" class=\"pos_arrow\" alt=\"Up\"> <b style=\"color:#008800;\">1.02</b><b style=\"color:#008800;\"> (0.61%)</b></td><td class=\"yfnc_tabledata1\" align=\"right\">1,360,987</td></tr><tr><td class=\"yfnc_tabledata1\"><b><a href=\"/q?s=MRK\">MRK</a></b></td><td class=\"yfnc_tabledata1\">Merck &amp; Co. Inc.</td><td class=\"yfnc_tabledata1\" align=\"right\"><b>55.28</b> <nobr><small>3:48PM EDT</small></nobr></td><td class=\"yfnc_tabledata1\" align=\"right\"><img width=\"10\" height=\"14\" style=\"margin-right:-2px;\" border=\"0\" src=\"http://l.yimg.com/os/mit/media/m/base/images/transparent-1093278.png\" class=\"pos_arrow\" alt=\"Up\"> <b style=\"color:#008800;\">0.44</b><b style=\"color:#008800;\"> (0.79%)</b></td><td class=\"yfnc_tabledata1\" align=\"right\">7,681,698</td></tr><tr><td class=\"yfnc_tabledata1\"><b><a href=\"/q?s=MSFT\">MSFT</a></b></td><td class=\"yfnc_tabledata1\">Microsoft Corporation</td><td class=\"yfnc_tabledata1\" align=\"right\"><b>50.65</b> <nobr><small>3:48PM EDT</small></nobr></td><td class=\"yfnc_tabledata1\" align=\"right\"><img width=\"10\" height=\"14\" style=\"margin-right:-2px;\" border=\"0\" src=\"http://l.yimg.com/os/mit/media/m/base/images/transparent-1093278.png\" class=\"pos_arrow\" alt=\"Up\"> <b style=\"color:#008800;\">0.79</b><b style=\"color:#008800;\"> (1.57%)</b></td><td class=\"yfnc_tabledata1\" align=\"right\">29,400,262</td></tr><tr><td class=\"yfnc_tabledata1\"><b><a href=\"/q?s=NKE\">NKE</a></b></td><td class=\"yfnc_tabledata1\">NIKE, Inc.</td><td class=\"yfnc_tabledata1\" align=\"right\"><b>59.67</b> <nobr><small>3:48PM EDT</small></nobr></td><td class=\"yfnc_tabledata1\" align=\"right\"><img width=\"10\" height=\"14\" style=\"margin-right:-2px;\" border=\"0\" src=\"http://l.yimg.com/os/mit/media/m/base/images/transparent-1093278.png\" class=\"pos_arrow\" alt=\"Up\"> <b style=\"color:#008800;\">0.73</b><b style=\"color:#008800;\"> (1.23%)</b></td><td class=\"yfnc_tabledata1\" align=\"right\">7,693,523</td></tr><tr><td class=\"yfnc_tabledata1\"><b><a href=\"/q?s=PFE\">PFE</a></b></td><td class=\"yfnc_tabledata1\">Pfizer Inc.</td><td class=\"yfnc_tabledata1\" align=\"right\"><b>32.72</b> <nobr><small>3:48PM EDT</small></nobr></td><td class=\"yfnc_tabledata1\" align=\"right\"><img width=\"10\" height=\"14\" style=\"margin-right:-2px;\" border=\"0\" src=\"http://l.yimg.com/os/mit/media/m/base/images/transparent-1093278.png\" class=\"pos_arrow\" alt=\"Up\"> <b style=\"color:#008800;\">0.01</b><b style=\"color:#008800;\"> (0.05%)</b></td><td class=\"yfnc_tabledata1\" align=\"right\">31,820,823</td></tr><tr><td class=\"yfnc_tabledata1\"><b><a href=\"/q?s=PG\">PG</a></b></td><td class=\"yfnc_tabledata1\">The Procter &amp; Gamble Company</td><td class=\"yfnc_tabledata1\" align=\"right\"><b>81.11</b> <nobr><small>3:48PM EDT</small></nobr></td><td class=\"yfnc_tabledata1\" align=\"right\"><img width=\"10\" height=\"14\" style=\"margin-right:-2px;\" border=\"0\" src=\"http://l.yimg.com/os/mit/media/m/base/images/transparent-1093278.png\" class=\"pos_arrow\" alt=\"Up\"> <b style=\"color:#008800;\">0.99</b><b style=\"color:#008800;\"> (1.24%)</b></td><td class=\"yfnc_tabledata1\" align=\"right\">6,491,105</td></tr><tr><td class=\"yfnc_tabledata1\"><b><a href=\"/q?s=TRV\">TRV</a></b></td><td class=\"yfnc_tabledata1\">The Travelers Companies, Inc.</td><td class=\"yfnc_tabledata1\" align=\"right\"><b>110.92</b> <nobr><small>3:48PM EDT</small></nobr></td><td class=\"yfnc_tabledata1\" align=\"right\"><img width=\"10\" height=\"14\" style=\"margin-right:-2px;\" border=\"0\" src=\"http://l.yimg.com/os/mit/media/m/base/images/transparent-1093278.png\" class=\"pos_arrow\" alt=\"Up\"> <b style=\"color:#008800;\">1.02</b><b style=\"color:#008800;\"> (0.93%)</b></td><td class=\"yfnc_tabledata1\" align=\"right\">1,095,320</td></tr><tr><td class=\"yfnc_tabledata1\"><b><a href=\"/q?s=UNH\">UNH</a></b></td><td class=\"yfnc_tabledata1\">UnitedHealth Group Incorporated</td><td class=\"yfnc_tabledata1\" align=\"right\"><b>132.13</b> <nobr><small>3:48PM EDT</small></nobr></td><td class=\"yfnc_tabledata1\" align=\"right\"><img width=\"10\" height=\"14\" style=\"margin-right:-2px;\" border=\"0\" src=\"http://l.yimg.com/os/mit/media/m/base/images/transparent-1093278.png\" class=\"pos_arrow\" alt=\"Up\"> <b style=\"color:#008800;\">0.45</b><b style=\"color:#008800;\"> (0.34%)</b></td><td class=\"yfnc_tabledata1\" align=\"right\">2,437,343</td></tr><tr><td class=\"yfnc_tabledata1\"><b><a href=\"/q?s=UTX\">UTX</a></b></td><td class=\"yfnc_tabledata1\">United Technologies Corporation</td><td class=\"yfnc_tabledata1\" align=\"right\"><b>104.51</b> <nobr><small>3:48PM EDT</small></nobr></td><td class=\"yfnc_tabledata1\" align=\"right\"><img width=\"10\" height=\"14\" style=\"margin-right:-2px;\" border=\"0\" src=\"http://l.yimg.com/os/mit/media/m/base/images/transparent-1093278.png\" class=\"pos_arrow\" alt=\"Up\"> <b style=\"color:#008800;\">0.14</b><b style=\"color:#008800;\"> (0.14%)</b></td><td class=\"yfnc_tabledata1\" align=\"right\">3,741,354</td></tr><tr><td class=\"yfnc_tabledata1\"><b><a href=\"/q?s=V\">V</a></b></td><td class=\"yfnc_tabledata1\">Visa Inc.</td><td class=\"yfnc_tabledata1\" align=\"right\"><b>78.46</b> <nobr><small>3:48PM EDT</small></nobr></td><td class=\"yfnc_tabledata1\" align=\"right\"><img width=\"10\" height=\"14\" style=\"margin-right:-2px;\" border=\"0\" src=\"http://l.yimg.com/os/mit/media/m/base/images/transparent-1093278.png\" class=\"pos_arrow\" alt=\"Up\"> <b style=\"color:#008800;\">1.22</b><b style=\"color:#008800;\"> (1.58%)</b></td><td class=\"yfnc_tabledata1\" align=\"right\">6,506,766</td></tr><tr><td class=\"yfnc_tabledata1\"><b><a href=\"/q?s=VZ\">VZ</a></b></td><td class=\"yfnc_tabledata1\">Verizon Communications Inc.</td><td class=\"yfnc_tabledata1\" align=\"right\"><b>51.28</b> <nobr><small>3:48PM EDT</small></nobr></td><td class=\"yfnc_tabledata1\" align=\"right\"><img width=\"10\" height=\"14\" style=\"margin-right:-2px;\" border=\"0\" src=\"http://l.yimg.com/os/mit/media/m/base/images/transparent-1093278.png\" class=\"pos_arrow\" alt=\"Up\"> <b style=\"color:#008800;\">0.34</b><b style=\"color:#008800;\"> (0.66%)</b></td><td class=\"yfnc_tabledata1\" align=\"right\">8,448,928</td></tr><tr><td class=\"yfnc_tabledata1\"><b><a href=\"/q?s=WMT\">WMT</a></b></td><td class=\"yfnc_tabledata1\">Wal-Mart Stores Inc.</td><td class=\"yfnc_tabledata1\" align=\"right\"><b>67.59</b> <nobr><small>3:48PM EDT</small></nobr></td><td class=\"yfnc_tabledata1\" align=\"right\"><img width=\"10\" height=\"14\" style=\"margin-right:-2px;\" border=\"0\" src=\"http://l.yimg.com/os/mit/media/m/base/images/transparent-1093278.png\" class=\"pos_arrow\" alt=\"Up\"> <b style=\"color:#008800;\">0.72</b><b style=\"color:#008800;\"> (1.08%)</b></td><td class=\"yfnc_tabledata1\" align=\"right\">5,841,820</td></tr><tr><td class=\"yfnc_tabledata1\"><b><a href=\"/q?s=XOM\">XOM</a></b></td><td class=\"yfnc_tabledata1\">Exxon Mobil Corporation</td><td class=\"yfnc_tabledata1\" align=\"right\"><b>89.06</b> <nobr><small>3:48PM EDT</small></nobr></td><td class=\"yfnc_tabledata1\" align=\"right\"><img width=\"10\" height=\"14\" style=\"margin-right:-2px;\" border=\"0\" src=\"http://l.yimg.com/os/mit/media/m/base/images/transparent-1093278.png\" class=\"pos_arrow\" alt=\"Up\"> <b style=\"color:#008800;\">0.66</b><b style=\"color:#008800;\"> (0.75%)</b></td><td class=\"yfnc_tabledata1\" align=\"right\">8,587,444</td></tr></table></td></tr></table><div align=\"center\" style=\"padding: 5px 0px; word-spacing: 5px; font-weight: bold;\">All | \\n            <a href=\"/q/cp?s=%5EDJI&amp;alpha=A\">A</a> | <a href=\"/q/cp?s=%5EDJI&amp;alpha=B\">B</a> | <a href=\"/q/cp?s=%5EDJI&amp;alpha=C\">C</a> | <a href=\"/q/cp?s=%5EDJI&amp;alpha=D\">D</a> | <a href=\"/q/cp?s=%5EDJI&amp;alpha=G\">G</a> | <a href=\"/q/cp?s=%5EDJI&amp;alpha=H\">H</a> | <a href=\"/q/cp?s=%5EDJI&amp;alpha=I\">I</a> | <a href=\"/q/cp?s=%5EDJI&amp;alpha=J\">J</a> | <a href=\"/q/cp?s=%5EDJI&amp;alpha=K\">K</a> | <a href=\"/q/cp?s=%5EDJI&amp;alpha=M\">M</a> | <a href=\"/q/cp?s=%5EDJI&amp;alpha=N\">N</a> | <a href=\"/q/cp?s=%5EDJI&amp;alpha=P\">P</a> | <a href=\"/q/cp?s=%5EDJI&amp;alpha=T\">T</a> | <a href=\"/q/cp?s=%5EDJI&amp;alpha=U\">U</a> | <a href=\"/q/cp?s=%5EDJI&amp;alpha=V\">V</a> | <a href=\"/q/cp?s=%5EDJI&amp;alpha=W\">W</a> | <a href=\"/q/cp?s=%5EDJI&amp;alpha=X\">X</a><hr width=\"100%\" size=\"1\" color=\"#dcdcdc\"></div><div align=\"right\">1 - 30 of 30 | <strong>First</strong> | Previous |\\n            Next | <b>Last</b></div></td><td width=\"15\"></td><td width=\"1%\" class=\"skycell\"><!-- SpaceID=0 robot -->\\n</td></tr></table> <div id=\"yfi_media_net\" style=\"width:475px;height:200px;\"></div><script id=\"mNCC\" type=\"text/javascript\"> \\n                    medianet_width=\\'475\\';\\n                    medianet_height= \\'200\\';\\n                    medianet_crid=\\'625102783\\';\\n                    medianet_divid = \\'yfi_media_net\\';\\n                </script><script type=\"text/javascript\">\\n                ll_js.push({\\n                    \\'file\\':\\'//mycdn.media.net/dmedianet.js?cid=8CUJ144F7\\'\\n                });\\n                </script></div> <div class=\"yfi_ad_s\"></div></div><div class=\"footer_copyright\"><div class=\"yfi_doc\"><div id=\"footer\" style=\"clear:both;width:100% !important;border:none;\"><hr noshade size=\"1\"><table cellpadding=\"0\" cellspacing=\"0\" border=\"0\" width=\"100%\"><tr><td class=\"footer_legal\">Copyright &amp;copy; 2009 Yahoo! All rights reserved.</td></tr><tr><td><div class=\"footer_legal\"></div><div class=\"footer_disclaimer\"><p>Quotes are <strong>real-time</strong> for NASDAQ, NYSE, and NYSE MKT. See also delay times for <a href=\"http://help.yahoo.com/l/us/yahoo/finance/quotes/fitadelay.html\">other exchanges</a>. All information provided \"as is\" for informational purposes only, not intended for trading purposes or advice. Neither Yahoo! nor any of independent providers is liable for any informational errors, incompleteness, or delays, or for any actions taken in reliance on information contained herein. By accessing the Yahoo! site, you agree not to redistribute the information found therein.</p><p>Fundamental company data provided by <a href=\"http://www.capitaliq.com\">Capital IQ</a>. Historical chart data and daily updates provided by <a href=\"http://www.csidata.com\">Commodity Systems, Inc. (CSI)</a>. International historical chart data, daily updates, fund summary, fund performance, dividend data and Morningstar Index data provided by <a href=\"http://www.morningstar.com/\">Morningstar, Inc.</a></p></div></td></tr></table></div></div></div><!-- SpaceID=0 robot -->\\n<script type=\"text/javascript\">\\n            ( function() {\\n                var nav = document.getElementById(\"yfi_investing_nav\");\\n                if (nav) {\\n                    var content = document.getElementById(\"rightcol\");\\n                    if ( content && nav.offsetHeight < content.offsetHeight) {\\n                        nav.style.height = content.offsetHeight + \"px\";\\n                    }\\n                }\\n             }());\\n        </script><div id=\"spaceid\" style=\"display:none;\">2712293</div><script type=\"text/javascript\">\\n                if(typeof YAHOO == \"undefined\"){YAHOO={};}\\n                if(typeof YAHOO.Finance == \"undefined\"){YAHOO.Finance={};}\\n                if(typeof YAHOO.Finance.SymbolSuggestConfig == \"undefined\"){YAHOO.Finance.SymbolSuggestConfig=[];}\\n\\n                    YAHOO.Finance.SymbolSuggestConfig.push({\\n                        dsServer:\\'http://d.yimg.com/aq/autoc\\',\\n                        dsRegion:\\'US\\',\\n                        dsLang:\\'en-US\\',\\n                        dsFooter:\\'<div class=\"moreresults\"><a class=\"[[tickdquote]]\" href=\"http://finance.yahoo.com/lookup?s=[[link]]\">Show all results for [[tickdquote]]</a></div><div class=\"tip\"><em>Tip:</em> Use comma (,) to separate multiple quotes. <a href=\"http://help.yahoo.com/l/us/yahoo/finance/quotes/quotelookup.html\">Learn more...</a></div>\\',\\n                        acInputId:\\'pageTicker\\',\\n                        acInputFormId:\\'quote2\\',\\n                        acContainerId:\\'quote2Container\\',\\n                        acModId:\\'componentsget\\',\\n\\t\\t\\tacInputFocus:\\'0\\'\\n                    });\\n\\t\\t\\t\\t</script></body><div id=\"spaceid\" style=\"display:none;\">2712293</div><script type=\"text/javascript\">\\n                if(typeof YAHOO == \"undefined\"){YAHOO={};}\\n                if(typeof YAHOO.Finance == \"undefined\"){YAHOO.Finance={};}\\n                if(typeof YAHOO.Finance.SymbolSuggestConfig == \"undefined\"){YAHOO.Finance.SymbolSuggestConfig=[];}\\n\\n                    YAHOO.Finance.SymbolSuggestConfig.push({\\n                        dsServer:\\'http://d.yimg.com/aq/autoc\\',\\n                        dsRegion:\\'US\\',\\n                        dsLang:\\'en-US\\',\\n                        dsFooter:\\'<div class=\"moreresults\"><a class=\"[[tickdquote]]\" href=\"http://finance.yahoo.com/lookup?s=[[link]]\">Show all results for [[tickdquote]]</a></div><div class=\"tip\"><em>Tip:</em> Use comma (,) to separate multiple quotes. <a href=\"http://help.yahoo.com/l/us/yahoo/finance/quotes/quotelookup.html\">Learn more...</a></div>\\',\\n                        acInputId:\\'txtQuotes\\',\\n                        acInputFormId:\\'quote\\',\\n                        acContainerId:\\'quoteContainer\\',\\n                        acModId:\\'mediaquotessearch\\',\\n\\t\\t\\tacInputFocus:\\'0\\'\\n                    });\\n\\t\\t\\t\\t</script><script src=\"http://l.yimg.com/zz/combo?os/mit/td/stencil-0.1.150/stencil/stencil-min.js&amp;os/mit/td/mjata-0.4.2/mjata-util/mjata-util-min.js&amp;os/mit/td/stencil-0.1.150/stencil-source/stencil-source-min.js&amp;os/mit/td/stencil-0.1.150/stencil-tooltip/stencil-tooltip-min.js&amp;os/mit/td/stencil-0.1.150/stencil-imageloader/stencil-imageloader-min.js&amp;ss/rapid-3.38.js\"></script><script type=\"text/javascript\" src=\"http://l1.yimg.com/bm/combo?fi/common/p/d/static/js/2.0.356981/2.0.0/mini/ylc_1.9.js&amp;fi/common/p/d/static/js/2.0.356981/2.0.0/mini/yfi_loader.js&amp;fi/common/p/d/static/js/2.0.356981/2.0.0/mini/yfi_symbol_suggest.js&amp;fi/common/p/d/static/js/2.0.356981/2.0.0/mini/yfi_init_symbol_suggest.js&amp;fi/common/p/d/static/js/2.0.356981/2.0.0/mini/yfi_nav_topnav_init.js&amp;fi/common/p/d/static/js/2.0.356981/2.0.0/mini/yfi_nav_topnav.js&amp;fi/common/p/d/static/js/2.0.356981/2.0.0/mini/yfi_nav_portfolio.js&amp;fi/common/p/d/static/js/2.0.356981/yui_2.8.0/build/get/2.0.0/mini/get.js&amp;fi/common/p/d/static/js/2.0.356981/2.0.0/mini/yfi_lazy_load.js&amp;fi/common/p/d/static/js/2.0.356981/2.0.0/mini/yfi_related_videos.js&amp;fi/common/p/d/static/js/2.0.356981/2.0.0/mini/yfi_follow_quote.js\"></script><span style=\"display:none\" id=\"yfs_enable_chrome\">1</span><script type=\"text/javascript\">\\n            window.RAPID_ULT ={\\n                tracked_mods:{\\n                    \\'navigation\\':\\'Navigation\\',\\n                    \\'marketindices\\' : \\'Market Indices\\',\\n                    \\'yfi_investing_nav\\' : \\'Left nav\\',\\n                    \\'searchQuotes\\':\\'Quote Bar\\',\\n                    \\'yfncsumtab\\' : \\'Components\\',\\n                    \\'yfi_ft\\' : \\'Footer\\'\\n                },\\n                page_params:{\\n                    \\'pstcat\\' : \\'Quotes\\',\\n                    \\'pt\\' : \\'Quote Leaf Pages\\',\\n                    \\'pstth\\' : \\'Quotes Components\\'\\n                }\\n            }\\n        </script><script type=\"text/javascript\">\\n                if(window.RAPID_ULT) {\\n                    var conf = {\\n                        compr_type:\\'deflate\\',\\n                        tracked_mods:window.RAPID_ULT.tracked_mods,\\n                        keys:window.RAPID_ULT.page_params,\\n                        spaceid:2712293,\\n                        client_only:0,\\n                        webworker_file:\"\\\\/__rapid-worker-1.2.js\",\\n                        nofollow_class:\\'rapid-nf\\',\\n                        test_id:\\'\\',\\n                        ywa: {\\n                            project_id:1000911397279,\\n                            document_group:\"\",\\n                            document_name:\\'^DJI\\',\\n                            host:\\'y.analytics.yahoo.com\\'\\n                        }\\n                    };\\n                    YAHOO.i13n.YWA_CF_MAP = {\"q\":118,\"qlen\":29,\"symbol\":119,\"symbolLen\":30,\"assetCls\":120,\"_p\":20,\"ad\":58,\"authfb\":11,\"bpos\":24,\"camp\":54,\"cat\":25,\"code\":55,\"cpos\":21,\"ct\":23,\"dcl\":26,\"dir\":108,\"domContentLoadedEventEnd\":44,\"elm\":56,\"elmt\":57,\"f\":40,\"ft\":51,\"grpt\":109,\"ilc\":39,\"itc\":111,\"loadEventEnd\":45,\"ltxt\":17,\"mpos\":110,\"mrkt\":12,\"pcp\":67,\"pct\":48,\"pd\":46,\"pkgt\":22,\"pos\":20,\"prov\":114,\"pst\":68,\"pstcat\":47,\"pt\":13,\"rescode\":27,\"responseEnd\":43,\"responseStart\":41,\"rspns\":107,\"sca\":53,\"sec\":18,\"site\":42,\"slk\":19,\"sort\":28,\"t1\":121,\"t2\":122,\"t3\":123,\"t4\":124,\"t5\":125,\"t6\":126,\"t7\":127,\"t8\":128,\"t9\":129,\"tar\":113,\"test\":14,\"v\":52,\"ver\":49,\"x\":50};\\n                    YAHOO.i13n.YWA_ACTION_MAP = {\"click\":12,\"drag\":21,\"drop\":106,\"error\":99,\"hover\":17,\"hswipe\":19,\"hvr\":115,\"key\":13,\"rchvw\":100,\"scrl\":104,\"scrolldown\":16,\"scrollup\":15,\"secview\":18,\"secvw\":116,\"svct\":14,\"swp\":103};\\n                    YAHOO.i13n.YWA_OUTCOME_MAP = {\"abuse\":51,\"close\":34,\"cmmt\":128,\"cnct\":127,\"comment\":49,\"connect\":36,\"cueauthview\":43,\"cueconnectview\":46,\"cuedcl\":61,\"cuehpset\":50,\"cueinfoview\":45,\"cueloadview\":44,\"cueswipeview\":42,\"cuetop\":48,\"dclent\":101,\"dclitm\":102,\"drop\":22,\"dtctloc\":118,\"end\":31,\"entitydeclaration\":40,\"exprt\":122,\"favorite\":56,\"fetch\":30,\"filter\":35,\"flagcat\":131,\"flagitm\":129,\"follow\":52,\"hpset\":27,\"imprt\":123,\"insert\":28,\"itemdeclaration\":37,\"lgn\":125,\"lgo\":126,\"login\":33,\"msgview\":47,\"navigate\":25,\"open\":29,\"pa\":111,\"pgnt\":113,\"pl\":112,\"prnt\":124,\"reauthfb\":24,\"reply\":54,\"retweet\":55,\"rmct\":32,\"rmloc\":120,\"rmsvct\":117,\"sbmt\":114,\"setlayout\":38,\"sh\":107,\"share\":23,\"slct\":121,\"slctfltr\":133,\"slctloc\":119,\"sort\":39,\"srch\":134,\"svct\":109,\"top\":26,\"undo\":41,\"unflagcat\":132,\"unflagitm\":130,\"unfollow\":53,\"unsvct\":110};\\n                    window.rapidTracker = new YAHOO.i13n.Rapid(conf); //Making rapiTracker a global variable because it might be needed by other module js\\n                }\\n        </script><script>\\n    var aft_beacon_callback = function() {\\n        if (window.LH !== undefined && Math.floor(Math.random()*100) <= 3) {\\n            if (!window.LH.isInitialized) {\\n                window.LH.init(\\n                {\\n                    spaceid:\\'2712293\\', //your space id goes here\\n                    serverip:\\'\\',\\n                    pvid:\\'\\',\\n                    crumb:\\'\\'\\n                });\\n            }\\n        } \\n        if (window.YAFT !== undefined) {\\n            var show_report = (window.location.href.indexOf(\\'showaft=\\') != -1) ? 1 : 0;\\n            var aft_mods = [],\\n            each_mod = \\'\\';\\n            var mods = window.RAPID_ULT.tracked_mods; //Reusing the module list from rapid\\n            for (each_mod in mods) {\\n                aft_mods.push(each_mod)\\n            }\\n            window.YAFT.init(\\n            {\\n                modules: aft_mods,\\n                modulesExclude: [\\'yfi_ft\\'],\\n                canShowVisualReport: show_report, //make it configurable and 1 for YNET users\\n                maxWaitTime: 5000 // make it configurable\\n            }, function (data, error) {\\n                if (!error) {\\n                    var rapidPerfData = {\\n                        \\'perf_navigationtime\\':2,\\n                        \\'perf_commontime\\': {\\n                            \\'initialPageLoad\\' : {\\n                                \\'AFT\\': Math.round(data.aft),\\n                                \\'AFT1\\': Math.round(data.aft),\\n                                \\'STR\\': Math.round(data.startRender),\\n                                \\'VIC\\': Math.round(data.visuallyComplete),\\n                                \\'DOMC\\': Math.round(data.domElementsCount),\\n                                \\'HTTPC\\': Math.round(data.httpRequests.count),\\n                                \\'CP\\': Math.round(data.totalCoveragePercentage),\\n                                \\'NCP\\': Math.round(data.normTotalCoveragePercentage)\\n                            }\\n                        },\\n                    };\\n                    window.rapidTracker.beaconPerformanceData(rapidPerfData, window.RAPID_ULT.page_params)\\n                    if (window.LH !== undefined && window.LH.isInitialized) {\\n                        //UH might initilized LH or above cases satisfied. Now configure YAFT\\n                        window.LH.tag(\"b\",\\n                        {\\n                            val: \\'\\' //set your bucket id\\n                        });\\n                        window.LH.record(\\'AFT\\', {\\n                            name: \\'AFT\\', type: \\'mark\\', startTime: Math.round(data.aft), duration: 0\\n                        });\\n                        window.LH.record(\\'VIC\\', {\\n                            name: \\'VIC\\', type: \\'mark\\', startTime: Math.round(data.visuallyComplete), duration: 0\\n                        });\\n                        //this is for darla ads\\n                        if ( window.___adLT___ !== undefined && window.___adLT___.length && window.___adLT___.length > 0) {\\n                            for (var __i__ = 0; __i__ < ___adLT___.length; __i__++) {\\n                                window.LH.record(___adLT___[__i__][0], {\\n                                    name: ___adLT___[__i__][0], type: \\'mark\\', startTime: ___adLT___[__i__][1], duration: 0\\n                                });\\n                            }\\n                        }\\n                        //finally fire all LH beacons\\n                        window.LH.beacon( {\\n                            clearMarks:false, clearMeasures: false, clearCustomEntries: true, clearTags: false\\n                        });\\n                    }\\n                }\\n            });\\n        }\\n    }\\n    YAHOO.util.Get.script(\\'http://l.yimg.com/zz/combo?aj/lh-0.9.js&os/yaft/yaft-0.3.6.min.js&os/yaft/yaft-plugin-aftnoad-0.1.3.min.js\\', {\\n        onSuccess: aft_beacon_callback\\n    });\\n</script></html><!--c9.finance.bf1.yahoo.com-->\\n<!-- xslt3.finance.bf1.yahoo.com uncompressed/chunked Mon May  2 19:48:47 UTC 2016 -->\\n<!-- c9.finance.bf1.yahoo.com uncompressed/chunked Mon May  2 19:48:47 UTC 2016 -->\\n'\n"
     ]
    }
   ],
   "source": [
    "# urllib - open arbitrary resources by URL\n",
    "import urllib\n",
    "r = urllib.request.urlopen('http://finance.yahoo.com/q/cp?s=%5EDJI+Components')\n",
    "html = r.read()\n",
    "print(html)"
   ]
  },
  {
   "cell_type": "code",
   "execution_count": null,
   "metadata": {
    "collapsed": true
   },
   "outputs": [],
   "source": [
    "# urllib - open arbitrary resources by URL\n",
    "import urllib\n",
    "r = urllib.request.urlopen('http://finance.yahoo.com/q/cp?s=%5EDJI+Components')\n",
    "m = re.findall(\"</tr><tr><td class=\\\"yfnc_tabledata1\\\"><b><a href=\\\".>(.?)\")\n"
   ]
  },
  {
   "cell_type": "code",
   "execution_count": 141,
   "metadata": {
    "collapsed": false
   },
   "outputs": [
    {
     "name": "stdout",
     "output_type": "stream",
     "text": [
      "Help on package urllib:\n",
      "\n",
      "NAME\n",
      "    urllib\n",
      "\n",
      "PACKAGE CONTENTS\n",
      "    error\n",
      "    parse\n",
      "    request\n",
      "    response\n",
      "    robotparser\n",
      "\n",
      "FILE\n",
      "    c:\\program files\\cae\\anaconda3\\lib\\urllib\\__init__.py\n",
      "\n",
      "\n"
     ]
    }
   ],
   "source": [
    "help(urllib)\n"
   ]
  },
  {
   "cell_type": "markdown",
   "metadata": {},
   "source": [
    "# Pandas/NumPy/SciPy"
   ]
  },
  {
   "cell_type": "code",
   "execution_count": 70,
   "metadata": {
    "collapsed": false
   },
   "outputs": [
    {
     "name": "stdout",
     "output_type": "stream",
     "text": [
      "aArray = \n",
      "[[1 2 3]\n",
      " [4 5 6]\n",
      " [7 8 9]]\n",
      "bArray = [ 1.   1.5  2.   2.5  3.   3.5  4.   4.5]\n",
      "all element sum for aArray= 45\n",
      "column element sum for aArray= [12 15 18]\n",
      "row element sum for aArray= [ 6 15 24]\n",
      "30\n",
      "[1 3 5 7]\n"
     ]
    }
   ],
   "source": [
    "#!/usr/bin/env python3\n",
    "# _*_ coding: utf-8 _*_\n",
    "\n",
    "# ndarray\n",
    "import numpy as np\n",
    "\n",
    "aArray = np.array([(1, 2, 3), (4, 5, 6), (7, 8, 9)])\n",
    "print(\"aArray = \\n{}\".format(aArray))\n",
    "\n",
    "bArray = np.arange(1, 5, 0.5)\n",
    "print(\"bArray = {}\".format(bArray))\n",
    "\n",
    "print(\"all element sum for aArray= {}\".format(aArray.sum()))\n",
    "print(\"column element sum for aArray= {}\".format(aArray.sum(axis=0)))\n",
    "print(\"row element sum for aArray= {}\".format(aArray.sum(axis=1)))\n",
    "\n",
    "a = np.arange(1, 5)\n",
    "print(np.power(a, 2).sum())\n",
    "print(np.add(a, np.arange(4)))\n",
    "\n",
    "cArray = np.array([1, 2, 3])\n",
    "# cArray\n",
    "\n",
    "dArray = np.array([2, 4, 6])\n",
    "eArray = np.array([7, 8, 9])\n",
    "np.where(cArray > 2, dArray, eArray)\n",
    "\n",
    "\n",
    "# time table\n",
    "def times(x, y):\n",
    "    return (x+1)*(y+1)\n",
    "\n",
    "timeTable = np.fromfunction(times,(9, 9))\n",
    "# (0, 0), (0, 1), ..., (0, m-1), (1, 0), ..., (n-1, m-1)\n",
    "print(\"timeTable: \\n {}\".format(timeTable))\n"
   ]
  },
  {
   "cell_type": "markdown",
   "metadata": {},
   "source": [
    "# Series"
   ]
  },
  {
   "cell_type": "code",
   "execution_count": 71,
   "metadata": {
    "collapsed": false
   },
   "outputs": [],
   "source": [
    "from pandas import Series\n",
    "\n",
    "# first try\n",
    "data = {\"Scala\": 2003, \"Java\": 1995, \"Python\": 1991, \"Go\": 2009}\n",
    "ser = Series(data)\n",
    "# print(\"C\" in ser)\n",
    "# print(\"Go\" in ser)\n",
    "# print(ser.mean())\n",
    "\n",
    "aSer = Series([1, 2.0, 'a'])\n",
    "bSer = Series(['apple', 'peach', 'lemon'], index=[1, 2, 3])"
   ]
  },
  {
   "cell_type": "code",
   "execution_count": 14,
   "metadata": {
    "collapsed": false
   },
   "outputs": [
    {
     "data": {
      "text/plain": [
       "0    1\n",
       "1    2\n",
       "2    a\n",
       "dtype: object"
      ]
     },
     "execution_count": 14,
     "metadata": {},
     "output_type": "execute_result"
    }
   ],
   "source": [
    "aSer"
   ]
  },
  {
   "cell_type": "code",
   "execution_count": 15,
   "metadata": {
    "collapsed": false
   },
   "outputs": [
    {
     "data": {
      "text/plain": [
       "1    apple\n",
       "2    peach\n",
       "3    lemon\n",
       "dtype: object"
      ]
     },
     "execution_count": 15,
     "metadata": {},
     "output_type": "execute_result"
    }
   ],
   "source": [
    "bSer"
   ]
  },
  {
   "cell_type": "code",
   "execution_count": 17,
   "metadata": {
    "collapsed": false
   },
   "outputs": [
    {
     "data": {
      "text/plain": [
       "Int64Index([1, 2, 3], dtype='int64')"
      ]
     },
     "execution_count": 17,
     "metadata": {},
     "output_type": "execute_result"
    }
   ],
   "source": [
    "bSer.index"
   ]
  },
  {
   "cell_type": "code",
   "execution_count": 20,
   "metadata": {
    "collapsed": false
   },
   "outputs": [
    {
     "data": {
      "text/plain": [
       "array(['apple', 'peach', 'lemon'], dtype=object)"
      ]
     },
     "execution_count": 20,
     "metadata": {},
     "output_type": "execute_result"
    }
   ],
   "source": [
    "bSer.values"
   ]
  },
  {
   "cell_type": "code",
   "execution_count": 72,
   "metadata": {
    "collapsed": false
   },
   "outputs": [],
   "source": [
    "data = {\"AXP\": '86.40', \"CSCO\": '112.64', \"BA\": '99.44'}\n",
    "sindex = {\"AXP\", \"CSCO\", \"BA\", \"AAPL\"}\n",
    "cSer = Series(data, index=sindex)\n",
    "# cSer"
   ]
  },
  {
   "cell_type": "code",
   "execution_count": 74,
   "metadata": {
    "collapsed": false
   },
   "outputs": [],
   "source": [
    "aDict = {\"AXP\": '86.40', 'CSCO': '122.64', \"CVX\": '23.78'}\n",
    "dSer = Series(aDict)\n",
    "# cSer + dSer"
   ]
  },
  {
   "cell_type": "code",
   "execution_count": 73,
   "metadata": {
    "collapsed": false
   },
   "outputs": [],
   "source": [
    "# name attribute\n",
    "eSer = Series(data, index=sindex)\n",
    "eSer.name = 'cnames'\n",
    "eSer.index.name = 'volume'\n",
    "# eSer"
   ]
  },
  {
   "cell_type": "markdown",
   "metadata": {},
   "source": [
    "# DataFrame"
   ]
  },
  {
   "cell_type": "code",
   "execution_count": 75,
   "metadata": {
    "collapsed": false
   },
   "outputs": [],
   "source": [
    "from pandas import DataFrame\n",
    "\n",
    "data = {\"name\": ['A', 'B', 'C'], 'pay': [4000, 5000, 6000]}\n",
    "df = DataFrame(data)\n",
    "# df"
   ]
  },
  {
   "cell_type": "code",
   "execution_count": 76,
   "metadata": {
    "collapsed": false
   },
   "outputs": [],
   "source": [
    "# df['name']"
   ]
  },
  {
   "cell_type": "code",
   "execution_count": 49,
   "metadata": {
    "collapsed": false
   },
   "outputs": [
    {
     "data": {
      "text/plain": [
       "0    4000\n",
       "1    5000\n",
       "2    6000\n",
       "Name: pay, dtype: int64"
      ]
     },
     "execution_count": 49,
     "metadata": {},
     "output_type": "execute_result"
    }
   ],
   "source": [
    "df.pay"
   ]
  },
  {
   "cell_type": "code",
   "execution_count": 77,
   "metadata": {
    "collapsed": false
   },
   "outputs": [],
   "source": [
    "# df.ix[2]"
   ]
  },
  {
   "cell_type": "code",
   "execution_count": 78,
   "metadata": {
    "collapsed": false
   },
   "outputs": [],
   "source": [
    "df['name'] = 'admin'\n",
    "# df"
   ]
  },
  {
   "cell_type": "code",
   "execution_count": 79,
   "metadata": {
    "collapsed": false
   },
   "outputs": [],
   "source": [
    "df.index.name = 'No'\n",
    "# df"
   ]
  },
  {
   "cell_type": "code",
   "execution_count": 80,
   "metadata": {
    "collapsed": false
   },
   "outputs": [
    {
     "name": "stdout",
     "output_type": "stream",
     "text": [
      "Please input the name:xiaohong\n",
      "5555555\n"
     ]
    }
   ],
   "source": [
    "a = np.array([[1, 2, 3], [4, 5, 6], [7, 8, 9]])\n",
    "a[[2]].sum()\n",
    "\n",
    "sa = Series(['a', 'b', 'c'], index = [0, 1, 2])\n",
    "sb = Series(['a', 'b', 'c'])\n",
    "sc = Series(['a', 'c', 'b'])\n",
    "sa.equals(sc)\n",
    "sb.equals(sa)\n",
    "sa*3 + sc*2\n",
    "\n",
    "data = {'language': ['Java', 'PHP', 'Python', 'R', 'C#'],\n",
    "            'year': [ 1995 ,  1995 , 1991   ,1993, 2000]}\n",
    "frame = DataFrame(data)\n",
    "frame['IDE'] = Series(['Intellij', 'Notepad', 'IPython', 'R studio', 'VS'])\n",
    "'VS' in frame['IDE']\n",
    "frame.ix[2]\n",
    "\n",
    "dict1 = {'xiaoyun':88888,'xiaohong':5555555,'xiaoteng':11111,'xiaoyi':12341234,'xiaoyang':1212121}\n",
    "name = input(\"Please input the name:\")\n",
    "print(dict1[name])"
   ]
  },
  {
   "cell_type": "markdown",
   "metadata": {},
   "source": [
    "# Data Preparation"
   ]
  },
  {
   "cell_type": "markdown",
   "metadata": {},
   "source": [
    "## Data Collection and Indexing"
   ]
  },
  {
   "cell_type": "code",
   "execution_count": 12,
   "metadata": {
    "collapsed": false
   },
   "outputs": [
    {
     "name": "stdout",
     "output_type": "stream",
     "text": [
      "        0          1          2          3          4        5\n",
      "0  735729  77.740123  78.920235  77.700784  78.379346  5827400\n",
      "1  735730  77.838465  78.113823  77.140230  77.769625  4575700\n",
      "2  735731  78.182663  78.684214  77.956472  78.536699  5494500\n",
      "3  735732  79.008741  79.559467  78.939902  79.411951  4450800\n",
      "4  735733  79.559467  79.815161  78.664542  78.890734  4479300\n"
     ]
    }
   ],
   "source": [
    "from matplotlib.finance import quotes_historical_yahoo_ohlc, candlestick_ohlc\n",
    "from datetime import date\n",
    "import pandas as pd\n",
    "\n",
    "today = date.today()\n",
    "start = (today.year - 1, today.month, today.day)\n",
    "quotes = quotes_historical_yahoo_ohlc('AXP', start, today)\n",
    "df = pd.DataFrame(quotes)\n",
    "print(df.head())"
   ]
  },
  {
   "cell_type": "code",
   "execution_count": 13,
   "metadata": {
    "collapsed": false
   },
   "outputs": [],
   "source": [
    "from nltk.corpus import gutenberg\n",
    "# import nltk\n",
    "# print(gutenberg.fileids())\n",
    "# nltk.download()\n",
    "\n",
    "texts = gutenberg.words('shakespeare-hamlet.txt')\n",
    "# print(texts)"
   ]
  },
  {
   "cell_type": "code",
   "execution_count": 11,
   "metadata": {
    "collapsed": false
   },
   "outputs": [],
   "source": [
    "from matplotlib.finance import quotes_historical_yahoo_ohlc, candlestick_ohlc\n",
    "from datetime import date\n",
    "import pandas as pd\n",
    "\n",
    "today = date.today()\n",
    "start = (today.year - 1, today.month, today.day)\n",
    "quotes = quotes_historical_yahoo_ohlc('AXP', start, today)\n",
    "fields = ['date', 'open', 'close', 'high', 'low', 'volume']\n",
    "df = pd.DataFrame(quotes, columns=fields)\n",
    "# print(df)\n"
   ]
  },
  {
   "cell_type": "code",
   "execution_count": 15,
   "metadata": {
    "collapsed": false
   },
   "outputs": [],
   "source": [
    "from matplotlib.finance import quotes_historical_yahoo_ohlc, candlestick_ohlc\n",
    "from datetime import date\n",
    "import pandas as pd\n",
    "\n",
    "today = date.today()\n",
    "start = (today.year - 1, today.month, today.day)\n",
    "quotes = quotes_historical_yahoo_ohlc('AXP', start, today)\n",
    "fields = ['date', 'open', 'close', 'high', 'low', 'volume']\n",
    "\n",
    "lst = []\n",
    "for idx in range(len(quotes)):\n",
    "    x = date.fromordinal(int(quotes[idx][0]))\n",
    "    y = date.strftime(x, '%Y-%m-%d')\n",
    "    lst.append(y)\n",
    "quotesdf = pd.DataFrame(quotes, index = lst, columns = fields)\n",
    "quotesdf = quotesdf.drop('date', axis=1)\n",
    "\n",
    "# print(quotesdf)"
   ]
  },
  {
   "cell_type": "code",
   "execution_count": 8,
   "metadata": {
    "collapsed": false
   },
   "outputs": [
    {
     "name": "stdout",
     "output_type": "stream",
     "text": [
      "DatetimeIndex(['2016-05-02', '2016-05-03', '2016-05-04', '2016-05-05',\n",
      "               '2016-05-06', '2016-05-07', '2016-05-08'],\n",
      "              dtype='datetime64[ns]', freq='D')\n"
     ]
    }
   ],
   "source": [
    "import pandas as pd\n",
    "\n",
    "dates = pd.date_range('20160502', periods=7)\n",
    "print(dates)"
   ]
  },
  {
   "cell_type": "code",
   "execution_count": 9,
   "metadata": {
    "collapsed": false
   },
   "outputs": [
    {
     "name": "stdout",
     "output_type": "stream",
     "text": [
      "                   A         B         C\n",
      "2016-05-02 -0.458333  0.633837 -0.175859\n",
      "2016-05-03  0.743099  0.288491  1.351047\n",
      "2016-05-04  1.560467 -0.027359  0.155127\n",
      "2016-05-05 -0.238635  1.353368  0.168356\n",
      "2016-05-06  0.108246  1.133969 -0.607185\n",
      "2016-05-07  0.320254  0.169498 -0.246295\n",
      "2016-05-08  0.203331  2.825523 -0.532373\n"
     ]
    }
   ],
   "source": [
    "import numpy as np\n",
    "\n",
    "dates = pd.DataFrame(np.random.randn(7, 3), index = dates, columns = list('ABC'))\n",
    "print(dates)"
   ]
  },
  {
   "cell_type": "markdown",
   "metadata": {},
   "source": [
    "## Data Represntation"
   ]
  },
  {
   "cell_type": "code",
   "execution_count": 58,
   "metadata": {
    "collapsed": false
   },
   "outputs": [],
   "source": [
    "print(quotesdf.index)\n",
    "print(quotesdf.columns)\n",
    "print(quotesdf.values)\n",
    "print(quotesdf.describe)"
   ]
  },
  {
   "cell_type": "code",
   "execution_count": 80,
   "metadata": {
    "collapsed": false
   },
   "outputs": [],
   "source": [
    "# top and tail 5\n",
    "# print(quotesdf.head(5))\n",
    "# print(quotesdf.tail(5))"
   ]
  },
  {
   "cell_type": "markdown",
   "metadata": {},
   "source": [
    "## Data Selection"
   ]
  },
  {
   "cell_type": "code",
   "execution_count": 81,
   "metadata": {
    "collapsed": false
   },
   "outputs": [
    {
     "data": {
      "text/html": [
       "<div>\n",
       "<table border=\"1\" class=\"dataframe\">\n",
       "  <thead>\n",
       "    <tr style=\"text-align: right;\">\n",
       "      <th></th>\n",
       "      <th>open</th>\n",
       "      <th>close</th>\n",
       "      <th>high</th>\n",
       "      <th>low</th>\n",
       "      <th>volume</th>\n",
       "    </tr>\n",
       "  </thead>\n",
       "  <tbody>\n",
       "    <tr>\n",
       "      <th>2015-05-05</th>\n",
       "      <td>76.687854</td>\n",
       "      <td>77.218900</td>\n",
       "      <td>76.491164</td>\n",
       "      <td>76.550167</td>\n",
       "      <td>5325800</td>\n",
       "    </tr>\n",
       "    <tr>\n",
       "      <th>2015-05-06</th>\n",
       "      <td>77.395917</td>\n",
       "      <td>77.543433</td>\n",
       "      <td>76.107626</td>\n",
       "      <td>76.560003</td>\n",
       "      <td>5896600</td>\n",
       "    </tr>\n",
       "  </tbody>\n",
       "</table>\n",
       "</div>"
      ],
      "text/plain": [
       "                 open      close       high        low   volume\n",
       "2015-05-05  76.687854  77.218900  76.491164  76.550167  5325800\n",
       "2015-05-06  77.395917  77.543433  76.107626  76.560003  5896600"
      ]
     },
     "execution_count": 81,
     "metadata": {},
     "output_type": "execute_result"
    }
   ],
   "source": [
    "# row selection\n",
    "quotesdf[1:3]"
   ]
  },
  {
   "cell_type": "code",
   "execution_count": 97,
   "metadata": {
    "collapsed": false
   },
   "outputs": [
    {
     "data": {
      "text/html": [
       "<div>\n",
       "<table border=\"1\" class=\"dataframe\">\n",
       "  <thead>\n",
       "    <tr style=\"text-align: right;\">\n",
       "      <th></th>\n",
       "      <th>open</th>\n",
       "      <th>close</th>\n",
       "      <th>high</th>\n",
       "      <th>low</th>\n",
       "      <th>volume</th>\n",
       "    </tr>\n",
       "  </thead>\n",
       "  <tbody>\n",
       "  </tbody>\n",
       "</table>\n",
       "</div>"
      ],
      "text/plain": [
       "Empty DataFrame\n",
       "Columns: [open, close, high, low, volume]\n",
       "Index: []"
      ]
     },
     "execution_count": 97,
     "metadata": {},
     "output_type": "execute_result"
    }
   ],
   "source": [
    "# column selection\n",
    "quotesdf['2015-05-05':'2015-05-08']\n",
    "\n",
    "# slicing and multiple columne not allowed\n",
    "quotesdf['open']\n",
    "# quotesdf['open', 'close'] # not allowed\n",
    "quotesdf['open':'high']     # no data presented"
   ]
  },
  {
   "cell_type": "code",
   "execution_count": 116,
   "metadata": {
    "collapsed": false
   },
   "outputs": [
    {
     "data": {
      "text/plain": [
       "76.491164165910718"
      ]
     },
     "execution_count": 116,
     "metadata": {},
     "output_type": "execute_result"
    }
   ],
   "source": [
    "# select with label\n",
    "quotesdf.loc['2015-05-05':'2015-05-10',]\n",
    "quotesdf.loc['2015-05-05':'2015-05-10', ['open','high']]\n",
    "\n",
    "quotesdf.at['2015-05-05', 'high']"
   ]
  },
  {
   "cell_type": "code",
   "execution_count": 124,
   "metadata": {
    "collapsed": false
   },
   "outputs": [
    {
     "name": "stdout",
     "output_type": "stream",
     "text": [
      "rows with index:                  open      close       high        low   volume\n",
      "2015-05-05  76.687854  77.218900  76.491164  76.550167  5325800\n",
      "2015-05-06  77.395917  77.543433  76.107626  76.560003  5896600\n",
      "2015-05-07  76.550167  77.435255  76.314145  77.130394  7924600\n",
      "2015-05-08  77.582770  78.320343  77.464757  77.671283  7198100\n",
      "\n",
      "columns with index:                  open        low\n",
      "2015-05-04  76.668180  76.982878\n",
      "2015-05-05  76.687854  76.550167\n",
      "2015-05-06  77.395917  76.560003\n",
      "2015-05-07  76.550167  77.130394\n",
      "2015-05-08  77.582770  77.671283\n",
      "\n",
      "single with index: 76.49116416591072\n"
     ]
    }
   ],
   "source": [
    "# index location\n",
    "print(\"rows with index: {}\\n\".format(quotesdf.iloc[1:5,]))\n",
    "print(\"columns with index: {}\\n\".format((quotesdf.iloc[:, [0, 3]]).head(5)))\n",
    "\n",
    "print(\"single with index: {}\".format(quotesdf.iat[1, 2]))"
   ]
  },
  {
   "cell_type": "code",
   "execution_count": 137,
   "metadata": {
    "collapsed": false
   },
   "outputs": [
    {
     "data": {
      "text/html": [
       "<div>\n",
       "<table border=\"1\" class=\"dataframe\">\n",
       "  <thead>\n",
       "    <tr style=\"text-align: right;\">\n",
       "      <th></th>\n",
       "      <th>open</th>\n",
       "      <th>close</th>\n",
       "      <th>high</th>\n",
       "      <th>low</th>\n",
       "      <th>volume</th>\n",
       "    </tr>\n",
       "  </thead>\n",
       "  <tbody>\n",
       "    <tr>\n",
       "      <th>2016-01-04</th>\n",
       "      <td>67.466655</td>\n",
       "      <td>67.555835</td>\n",
       "      <td>66.158740</td>\n",
       "      <td>66.971232</td>\n",
       "      <td>9248300</td>\n",
       "    </tr>\n",
       "    <tr>\n",
       "      <th>2016-01-05</th>\n",
       "      <td>66.753252</td>\n",
       "      <td>67.090136</td>\n",
       "      <td>65.068810</td>\n",
       "      <td>65.940759</td>\n",
       "      <td>10809200</td>\n",
       "    </tr>\n",
       "    <tr>\n",
       "      <th>2016-04-21</th>\n",
       "      <td>67.000000</td>\n",
       "      <td>67.339996</td>\n",
       "      <td>65.400002</td>\n",
       "      <td>65.610001</td>\n",
       "      <td>9466700</td>\n",
       "    </tr>\n",
       "    <tr>\n",
       "      <th>2016-04-22</th>\n",
       "      <td>65.050003</td>\n",
       "      <td>66.220001</td>\n",
       "      <td>65.050003</td>\n",
       "      <td>65.930000</td>\n",
       "      <td>5946300</td>\n",
       "    </tr>\n",
       "    <tr>\n",
       "      <th>2016-04-26</th>\n",
       "      <td>65.980003</td>\n",
       "      <td>66.430000</td>\n",
       "      <td>65.629997</td>\n",
       "      <td>66.199997</td>\n",
       "      <td>3978700</td>\n",
       "    </tr>\n",
       "    <tr>\n",
       "      <th>2016-04-27</th>\n",
       "      <td>66.389999</td>\n",
       "      <td>66.669998</td>\n",
       "      <td>65.830002</td>\n",
       "      <td>66.230003</td>\n",
       "      <td>4534600</td>\n",
       "    </tr>\n",
       "    <tr>\n",
       "      <th>2016-04-28</th>\n",
       "      <td>65.730003</td>\n",
       "      <td>66.489998</td>\n",
       "      <td>65.559998</td>\n",
       "      <td>65.839996</td>\n",
       "      <td>3775900</td>\n",
       "    </tr>\n",
       "  </tbody>\n",
       "</table>\n",
       "</div>"
      ],
      "text/plain": [
       "                 open      close       high        low    volume\n",
       "2016-01-04  67.466655  67.555835  66.158740  66.971232   9248300\n",
       "2016-01-05  66.753252  67.090136  65.068810  65.940759  10809200\n",
       "2016-04-21  67.000000  67.339996  65.400002  65.610001   9466700\n",
       "2016-04-22  65.050003  66.220001  65.050003  65.930000   5946300\n",
       "2016-04-26  65.980003  66.430000  65.629997  66.199997   3978700\n",
       "2016-04-27  66.389999  66.669998  65.830002  66.230003   4534600\n",
       "2016-04-28  65.730003  66.489998  65.559998  65.839996   3775900"
      ]
     },
     "execution_count": 137,
     "metadata": {},
     "output_type": "execute_result"
    }
   ],
   "source": [
    "# selection with filters\n",
    "quotesdf[quotesdf.index <= '2015-05-20']\n",
    "quotesdf[(quotesdf.index >= '2016-01-01') & (quotesdf.close >= 66)]"
   ]
  },
  {
   "cell_type": "markdown",
   "metadata": {},
   "source": [
    "# Statistical Operations"
   ]
  },
  {
   "cell_type": "code",
   "execution_count": 23,
   "metadata": {
    "collapsed": false
   },
   "outputs": [
    {
     "name": "stdout",
     "output_type": "stream",
     "text": [
      "open           69.849440\n",
      "close          70.393013\n",
      "high           69.291966\n",
      "low            69.864813\n",
      "volume    6384665.476190\n",
      "dtype: float64\n",
      "open mean: 69.84944041199644\n"
     ]
    }
   ],
   "source": [
    "# mean of a column\n",
    "print(quotesdf.mean())\n",
    "print(\"open mean: {}\".format(quotesdf.open.mean()))"
   ]
  },
  {
   "cell_type": "code",
   "execution_count": 28,
   "metadata": {
    "collapsed": false
   },
   "outputs": [
    {
     "name": "stdout",
     "output_type": "stream",
     "text": [
      "250\n",
      "2\n"
     ]
    }
   ],
   "source": [
    "# price increasing/decreaaseing days\n",
    "print(len(quotesdf[quotesdf.close > quotesdf.open]))\n",
    "print(len(quotesdf) - len(quotesdf[quotesdf.close > quotesdf.open]))"
   ]
  },
  {
   "cell_type": "code",
   "execution_count": 35,
   "metadata": {
    "collapsed": false
   },
   "outputs": [
    {
     "name": "stdout",
     "output_type": "stream",
     "text": [
      "126\n",
      "125\n"
     ]
    }
   ],
   "source": [
    "# price increase/decrease for two days\n",
    "status = np.sign(np.diff(quotesdf.close))\n",
    "print(status[np.where(status == 1.)].size)\n",
    "print(status[np.where(status == -1.)].size)"
   ]
  },
  {
   "cell_type": "code",
   "execution_count": 43,
   "metadata": {
    "collapsed": false
   },
   "outputs": [
    {
     "data": {
      "text/html": [
       "<div>\n",
       "<table border=\"1\" class=\"dataframe\">\n",
       "  <thead>\n",
       "    <tr style=\"text-align: right;\">\n",
       "      <th></th>\n",
       "      <th>open</th>\n",
       "      <th>close</th>\n",
       "      <th>high</th>\n",
       "      <th>low</th>\n",
       "      <th>volume</th>\n",
       "    </tr>\n",
       "  </thead>\n",
       "  <tbody>\n",
       "    <tr>\n",
       "      <th>2015-06-23</th>\n",
       "      <td>80.090518</td>\n",
       "      <td>80.562561</td>\n",
       "      <td>79.943003</td>\n",
       "      <td>80.011843</td>\n",
       "      <td>5356300</td>\n",
       "    </tr>\n",
       "    <tr>\n",
       "      <th>2015-05-20</th>\n",
       "      <td>80.061018</td>\n",
       "      <td>80.100349</td>\n",
       "      <td>79.441453</td>\n",
       "      <td>79.618470</td>\n",
       "      <td>3986700</td>\n",
       "    </tr>\n",
       "    <tr>\n",
       "      <th>2015-08-18</th>\n",
       "      <td>80.005202</td>\n",
       "      <td>80.370428</td>\n",
       "      <td>79.659708</td>\n",
       "      <td>80.192748</td>\n",
       "      <td>4458300</td>\n",
       "    </tr>\n",
       "  </tbody>\n",
       "</table>\n",
       "</div>"
      ],
      "text/plain": [
       "                 open      close       high        low   volume\n",
       "2015-06-23  80.090518  80.562561  79.943003  80.011843  5356300\n",
       "2015-05-20  80.061018  80.100349  79.441453  79.618470  3986700\n",
       "2015-08-18  80.005202  80.370428  79.659708  80.192748  4458300"
      ]
     },
     "execution_count": 43,
     "metadata": {},
     "output_type": "execute_result"
    }
   ],
   "source": [
    "# sorting\n",
    "quotesdf.sort_values(by = ['open', 'close'], ascending=False)[:3]"
   ]
  },
  {
   "cell_type": "code",
   "execution_count": 58,
   "metadata": {
    "collapsed": false
   },
   "outputs": [
    {
     "data": {
      "text/plain": [
       "22"
      ]
     },
     "execution_count": 58,
     "metadata": {},
     "output_type": "execute_result"
    }
   ],
   "source": [
    "# counting\n",
    "# quotesdf.index[0]\n",
    "t = quotesdf[(quotesdf.index >= '2015-07-01') & (quotesdf.index < '2015-08-01')]\n",
    "len(t)"
   ]
  },
  {
   "cell_type": "code",
   "execution_count": 78,
   "metadata": {
    "collapsed": false
   },
   "outputs": [
    {
     "name": "stdout",
     "output_type": "stream",
     "text": [
      "12    22\n",
      "10    22\n",
      "7     22\n",
      "Name: month, dtype: int64\n"
     ]
    }
   ],
   "source": [
    "import time\n",
    "\n",
    "tmpLst = []\n",
    "for i in range(len(quotesdf)):\n",
    "    tmp = time.strptime(quotesdf.index[i], \"%Y-%m-%d\")\n",
    "    tmpLst.append(tmp[1])\n",
    "# print(tmpLst)\n",
    "\n",
    "tmpdf = quotesdf.copy()\n",
    "tmpdf['month'] = tmpLst\n",
    "# tmpdf\n",
    "print(tmpdf['month'].value_counts()[:3])"
   ]
  },
  {
   "cell_type": "code",
   "execution_count": 82,
   "metadata": {
    "collapsed": false
   },
   "outputs": [
    {
     "name": "stdout",
     "output_type": "stream",
     "text": [
      "month\n",
      "1    19\n",
      "2    20\n",
      "3    22\n",
      "Name: open, dtype: int64\n",
      "month\n",
      "1    237308200\n",
      "2    159711400\n",
      "3    129864200\n",
      "Name: volume, dtype: float64\n"
     ]
    }
   ],
   "source": [
    "# groupby\n",
    "print(tmpdf.groupby('month').count().open[:3])\n",
    "\n",
    "print(tmpdf.groupby('month').sum().volume[:3])"
   ]
  },
  {
   "cell_type": "code",
   "execution_count": 86,
   "metadata": {
    "collapsed": false
   },
   "outputs": [
    {
     "name": "stdout",
     "output_type": "stream",
     "text": [
      "month\n",
      "1    237308200\n",
      "2    159711400\n",
      "3    129864200\n",
      "Name: volume, dtype: float64\n"
     ]
    }
   ],
   "source": [
    "# alternative with more efficient computing\n",
    "gmdf = tmpdf.groupby('month')\n",
    "gvolume = gmdf['volume'].sum()\n",
    "print(gvolume[:3])"
   ]
  },
  {
   "cell_type": "markdown",
   "metadata": {},
   "source": [
    "## Merging"
   ]
  },
  {
   "cell_type": "code",
   "execution_count": 91,
   "metadata": {
    "collapsed": false
   },
   "outputs": [
    {
     "data": {
      "text/html": [
       "<div>\n",
       "<table border=\"1\" class=\"dataframe\">\n",
       "  <thead>\n",
       "    <tr style=\"text-align: right;\">\n",
       "      <th></th>\n",
       "      <th>open</th>\n",
       "      <th>close</th>\n",
       "      <th>high</th>\n",
       "      <th>low</th>\n",
       "      <th>volume</th>\n",
       "    </tr>\n",
       "  </thead>\n",
       "  <tbody>\n",
       "    <tr>\n",
       "      <th>2015-05-04</th>\n",
       "      <td>76.668180</td>\n",
       "      <td>77.238572</td>\n",
       "      <td>76.451825</td>\n",
       "      <td>76.982878</td>\n",
       "      <td>3896700</td>\n",
       "    </tr>\n",
       "    <tr>\n",
       "      <th>2015-05-05</th>\n",
       "      <td>76.687854</td>\n",
       "      <td>77.218900</td>\n",
       "      <td>76.491164</td>\n",
       "      <td>76.550167</td>\n",
       "      <td>5325800</td>\n",
       "    </tr>\n",
       "    <tr>\n",
       "      <th>2015-06-01</th>\n",
       "      <td>78.615375</td>\n",
       "      <td>78.841560</td>\n",
       "      <td>77.641775</td>\n",
       "      <td>78.153162</td>\n",
       "      <td>4716900</td>\n",
       "    </tr>\n",
       "    <tr>\n",
       "      <th>2015-06-02</th>\n",
       "      <td>77.946642</td>\n",
       "      <td>78.939901</td>\n",
       "      <td>77.867966</td>\n",
       "      <td>78.664542</td>\n",
       "      <td>4197300</td>\n",
       "    </tr>\n",
       "  </tbody>\n",
       "</table>\n",
       "</div>"
      ],
      "text/plain": [
       "                 open      close       high        low   volume\n",
       "2015-05-04  76.668180  77.238572  76.451825  76.982878  3896700\n",
       "2015-05-05  76.687854  77.218900  76.491164  76.550167  5325800\n",
       "2015-06-01  78.615375  78.841560  77.641775  78.153162  4716900\n",
       "2015-06-02  77.946642  78.939901  77.867966  78.664542  4197300"
      ]
     },
     "execution_count": 91,
     "metadata": {},
     "output_type": "execute_result"
    }
   ],
   "source": [
    "# append\n",
    "p = quotesdf[:2]\n",
    "q = quotesdf['2015-06-01':'2015-06-02']\n",
    "p.append(q)"
   ]
  },
  {
   "cell_type": "code",
   "execution_count": 99,
   "metadata": {
    "collapsed": false
   },
   "outputs": [
    {
     "name": "stdout",
     "output_type": "stream",
     "text": [
      "                 open      close       high        low   volume  month\n",
      "2015-05-04  76.668180  77.238572  76.451825  76.982878  3896700      5\n",
      "2015-05-05  76.687854  77.218900  76.491164  76.550167  5325800      5\n",
      "2016-04-29  65.570000  65.790001  64.849998  65.430000  5031800      4\n",
      "2016-05-02  65.580002  66.050003  65.180000  65.680000  4328100      5\n",
      "       close       high        low  month       open   volume\n",
      "0  77.238572  76.451825  76.982878    NaN  76.668180  3896700\n",
      "1  77.218900  76.491164  76.550167    NaN  76.687854  5325800\n",
      "2  77.238572  76.451825  76.982878      5  76.668180  3896700\n",
      "3  77.218900  76.491164  76.550167      5  76.687854  5325800\n"
     ]
    }
   ],
   "source": [
    "# contact\n",
    "pieces = [tmpdf[:2], tmpdf[-2:]]\n",
    "print(pd.concat(pieces))\n",
    "\n",
    "# different indices\n",
    "piece1 = quotesdf[:2]\n",
    "piece2 = tmpdf[:2]\n",
    "print(pd.concat([piece1, piece2], ignore_index = True))"
   ]
  },
  {
   "cell_type": "code",
   "execution_count": 140,
   "metadata": {
    "collapsed": false
   },
   "outputs": [
    {
     "name": "stderr",
     "output_type": "stream",
     "text": [
      "C:\\Program Files\\CAE\\Anaconda3\\lib\\site-packages\\ipykernel\\__main__.py:22: FutureWarning: sort(columns=....) is deprecated, use sort_values(by=.....)\n"
     ]
    },
    {
     "data": {
      "text/html": [
       "<div>\n",
       "<table border=\"1\" class=\"dataframe\">\n",
       "  <thead>\n",
       "    <tr style=\"text-align: right;\">\n",
       "      <th></th>\n",
       "      <th>open</th>\n",
       "      <th>close</th>\n",
       "      <th>high</th>\n",
       "      <th>low</th>\n",
       "      <th>volume</th>\n",
       "    </tr>\n",
       "  </thead>\n",
       "  <tbody>\n",
       "    <tr>\n",
       "      <th>14/11/14</th>\n",
       "      <td>47.775266</td>\n",
       "      <td>48.073018</td>\n",
       "      <td>47.439088</td>\n",
       "      <td>47.621586</td>\n",
       "      <td>29081700</td>\n",
       "    </tr>\n",
       "    <tr>\n",
       "      <th>14/11/17</th>\n",
       "      <td>47.458299</td>\n",
       "      <td>47.746448</td>\n",
       "      <td>47.198963</td>\n",
       "      <td>47.506323</td>\n",
       "      <td>30315500</td>\n",
       "    </tr>\n",
       "    <tr>\n",
       "      <th>14/11/13</th>\n",
       "      <td>46.882000</td>\n",
       "      <td>47.688821</td>\n",
       "      <td>46.785948</td>\n",
       "      <td>47.650400</td>\n",
       "      <td>26208800</td>\n",
       "    </tr>\n",
       "    <tr>\n",
       "      <th>14/11/18</th>\n",
       "      <td>47.486995</td>\n",
       "      <td>47.680307</td>\n",
       "      <td>47.071375</td>\n",
       "      <td>47.110038</td>\n",
       "      <td>23995500</td>\n",
       "    </tr>\n",
       "    <tr>\n",
       "      <th>14/12/04</th>\n",
       "      <td>46.771740</td>\n",
       "      <td>47.419336</td>\n",
       "      <td>46.588096</td>\n",
       "      <td>47.206692</td>\n",
       "      <td>30320400</td>\n",
       "    </tr>\n",
       "  </tbody>\n",
       "</table>\n",
       "</div>"
      ],
      "text/plain": [
       "               open      close       high        low    volume\n",
       "14/11/14  47.775266  48.073018  47.439088  47.621586  29081700\n",
       "14/11/17  47.458299  47.746448  47.198963  47.506323  30315500\n",
       "14/11/13  46.882000  47.688821  46.785948  47.650400  26208800\n",
       "14/11/18  47.486995  47.680307  47.071375  47.110038  23995500\n",
       "14/12/04  46.771740  47.419336  46.588096  47.206692  30320400"
      ]
     },
     "execution_count": 140,
     "metadata": {},
     "output_type": "execute_result"
    }
   ],
   "source": [
    "# Examples\n",
    "from matplotlib.finance import quotes_historical_yahoo_ohlc, candlestick_ohlc\n",
    "from datetime import date\n",
    "import pandas as pd\n",
    "\n",
    "today = date.today()\n",
    "start = (today.year-2, today.month, today.day)\n",
    "quotesMS = quotes_historical_yahoo_ohlc('MSFT', start, today)\n",
    "attributes=['date','open','close','high','low','volume']\n",
    "quotesdfMS = pd.DataFrame(quotesMS, columns= attributes)\n",
    "\n",
    "list = []\n",
    "for i in range(0, len(quotesMS)):\n",
    "    x = date.fromordinal(int(quotesMS[i][0]))\n",
    "    y = date.strftime(x, '%y/%m/%d')\n",
    "    list.append(y)\n",
    "    \n",
    "quotesdfMS.index = list\n",
    "quotesdfMS = quotesdfMS.drop(['date'], axis = 1)\n",
    "\n",
    "# quotesdfMS.ix['14/01/30':'14/02/10',['open', 'close']]\n",
    "quotesdfMS['14/01/01':'14/12/31'].sort('close', ascending=False)[:5]\n",
    "\n",
    "# sorted = quotesdfMS.sort_values('close')\n",
    "# sorted\n",
    "\n",
    "# list = []\n",
    "# quotesdfMS14 = quotesdfMS['15/01/01':'15/12/31']\n",
    "# for i in range(0, len(quotesdfMS14)):\n",
    "#     list.append(int(quotesdfMS14.index[i][3:5])) #get month just like '02'\n",
    "    \n",
    "# quotesdfMS14['month'] = list\n",
    "# # quotesdfMS14.loc['month'] = list\n",
    "# print( quotesdfMS14.groupby('month').mean().close)"
   ]
  },
  {
   "cell_type": "markdown",
   "metadata": {},
   "source": [
    "# K-Means"
   ]
  },
  {
   "cell_type": "code",
   "execution_count": null,
   "metadata": {
    "collapsed": false
   },
   "outputs": [],
   "source": [
    "# filename: kmeansStu.py\n",
    "from pylab import *\n",
    "from scipy.cluster.vq import *\n",
    "\n",
    "lst1 = [88, 74, 96, 85]\n",
    "lst2 = [92, 99, 95, 94]\n",
    "lst3 = [91, 87, 99, 95]\n",
    "lst4 = [78, 99, 97, 81]\n",
    "lst5 = [88, 78, 98, 84]\n",
    "lst6 = [100, 95, 100, 92]\n",
    "\n",
    "data = vstack([lst1, lst2, lst3, lst4, lst5, lst6])\n",
    "\n",
    "centroids, _ = kmeans(data, 2)\n",
    "results, _ = vq(data, centroids)\n",
    "print(results)"
   ]
  },
  {
   "cell_type": "code",
   "execution_count": 29,
   "metadata": {
    "collapsed": false
   },
   "outputs": [
    {
     "ename": "TypeError",
     "evalue": "type other than float or double not supported",
     "output_type": "error",
     "traceback": [
      "\u001b[1;31m---------------------------------------------------------------------------\u001b[0m",
      "\u001b[1;31mTypeError\u001b[0m                                 Traceback (most recent call last)",
      "\u001b[1;32m<ipython-input-29-78349640caf4>\u001b[0m in \u001b[0;36m<module>\u001b[1;34m()\u001b[0m\n\u001b[0;32m     20\u001b[0m \u001b[1;31m# print(lstTemp)\u001b[0m\u001b[1;33m\u001b[0m\u001b[1;33m\u001b[0m\u001b[0m\n\u001b[0;32m     21\u001b[0m \u001b[0mdata\u001b[0m \u001b[1;33m=\u001b[0m \u001b[0mvstack\u001b[0m\u001b[1;33m(\u001b[0m\u001b[0mlstTemp\u001b[0m\u001b[1;33m)\u001b[0m\u001b[1;33m\u001b[0m\u001b[0m\n\u001b[1;32m---> 22\u001b[1;33m \u001b[0mcentroids\u001b[0m\u001b[1;33m,\u001b[0m\u001b[0m_\u001b[0m \u001b[1;33m=\u001b[0m \u001b[0mkmeans\u001b[0m\u001b[1;33m(\u001b[0m\u001b[0mdata\u001b[0m\u001b[1;33m,\u001b[0m \u001b[1;36m4\u001b[0m\u001b[1;33m)\u001b[0m\u001b[1;33m\u001b[0m\u001b[0m\n\u001b[0m\u001b[0;32m     23\u001b[0m \u001b[0mresult\u001b[0m\u001b[1;33m,\u001b[0m\u001b[0m_\u001b[0m \u001b[1;33m=\u001b[0m \u001b[0mvq\u001b[0m\u001b[1;33m(\u001b[0m\u001b[0mdata\u001b[0m\u001b[1;33m,\u001b[0m \u001b[0mcentroids\u001b[0m\u001b[1;33m)\u001b[0m\u001b[1;33m\u001b[0m\u001b[0m\n",
      "\u001b[1;32mC:\\Program Files\\CAE\\Anaconda3\\lib\\site-packages\\scipy\\cluster\\vq.py\u001b[0m in \u001b[0;36mkmeans\u001b[1;34m(obs, k_or_guess, iter, thresh, check_finite)\u001b[0m\n\u001b[0;32m    566\u001b[0m             \u001b[1;31m# the initial code book is randomly selected from observations\u001b[0m\u001b[1;33m\u001b[0m\u001b[1;33m\u001b[0m\u001b[0m\n\u001b[0;32m    567\u001b[0m             \u001b[0mguess\u001b[0m \u001b[1;33m=\u001b[0m \u001b[0mtake\u001b[0m\u001b[1;33m(\u001b[0m\u001b[0mobs\u001b[0m\u001b[1;33m,\u001b[0m \u001b[0mrandint\u001b[0m\u001b[1;33m(\u001b[0m\u001b[1;36m0\u001b[0m\u001b[1;33m,\u001b[0m \u001b[0mNo\u001b[0m\u001b[1;33m,\u001b[0m \u001b[0mk\u001b[0m\u001b[1;33m)\u001b[0m\u001b[1;33m,\u001b[0m \u001b[1;36m0\u001b[0m\u001b[1;33m)\u001b[0m\u001b[1;33m\u001b[0m\u001b[0m\n\u001b[1;32m--> 568\u001b[1;33m             \u001b[0mbook\u001b[0m\u001b[1;33m,\u001b[0m \u001b[0mdist\u001b[0m \u001b[1;33m=\u001b[0m \u001b[0m_kmeans\u001b[0m\u001b[1;33m(\u001b[0m\u001b[0mobs\u001b[0m\u001b[1;33m,\u001b[0m \u001b[0mguess\u001b[0m\u001b[1;33m,\u001b[0m \u001b[0mthresh\u001b[0m\u001b[1;33m=\u001b[0m\u001b[0mthresh\u001b[0m\u001b[1;33m)\u001b[0m\u001b[1;33m\u001b[0m\u001b[0m\n\u001b[0m\u001b[0;32m    569\u001b[0m             \u001b[1;32mif\u001b[0m \u001b[0mdist\u001b[0m \u001b[1;33m<\u001b[0m \u001b[0mbest_dist\u001b[0m\u001b[1;33m:\u001b[0m\u001b[1;33m\u001b[0m\u001b[0m\n\u001b[0;32m    570\u001b[0m                 \u001b[0mbest_book\u001b[0m \u001b[1;33m=\u001b[0m \u001b[0mbook\u001b[0m\u001b[1;33m\u001b[0m\u001b[0m\n",
      "\u001b[1;32mC:\\Program Files\\CAE\\Anaconda3\\lib\\site-packages\\scipy\\cluster\\vq.py\u001b[0m in \u001b[0;36m_kmeans\u001b[1;34m(obs, guess, thresh)\u001b[0m\n\u001b[0;32m    434\u001b[0m         \u001b[1;31m# recalc code_book as centroids of associated obs\u001b[0m\u001b[1;33m\u001b[0m\u001b[1;33m\u001b[0m\u001b[0m\n\u001b[0;32m    435\u001b[0m         \u001b[1;32mif\u001b[0m\u001b[1;33m(\u001b[0m\u001b[0mdiff\u001b[0m \u001b[1;33m>\u001b[0m \u001b[0mthresh\u001b[0m\u001b[1;33m)\u001b[0m\u001b[1;33m:\u001b[0m\u001b[1;33m\u001b[0m\u001b[0m\n\u001b[1;32m--> 436\u001b[1;33m             \u001b[0mcode_book\u001b[0m\u001b[1;33m,\u001b[0m \u001b[0mhas_members\u001b[0m \u001b[1;33m=\u001b[0m \u001b[0m_vq\u001b[0m\u001b[1;33m.\u001b[0m\u001b[0mupdate_cluster_means\u001b[0m\u001b[1;33m(\u001b[0m\u001b[0mobs\u001b[0m\u001b[1;33m,\u001b[0m \u001b[0mobs_code\u001b[0m\u001b[1;33m,\u001b[0m \u001b[0mnc\u001b[0m\u001b[1;33m)\u001b[0m\u001b[1;33m\u001b[0m\u001b[0m\n\u001b[0m\u001b[0;32m    437\u001b[0m             \u001b[0mcode_book\u001b[0m \u001b[1;33m=\u001b[0m \u001b[0mcode_book\u001b[0m\u001b[1;33m.\u001b[0m\u001b[0mcompress\u001b[0m\u001b[1;33m(\u001b[0m\u001b[0mhas_members\u001b[0m\u001b[1;33m,\u001b[0m \u001b[0maxis\u001b[0m\u001b[1;33m=\u001b[0m\u001b[1;36m0\u001b[0m\u001b[1;33m)\u001b[0m\u001b[1;33m\u001b[0m\u001b[0m\n\u001b[0;32m    438\u001b[0m         \u001b[1;32mif\u001b[0m \u001b[0mlen\u001b[0m\u001b[1;33m(\u001b[0m\u001b[0mavg_dist\u001b[0m\u001b[1;33m)\u001b[0m \u001b[1;33m>\u001b[0m \u001b[1;36m1\u001b[0m\u001b[1;33m:\u001b[0m\u001b[1;33m\u001b[0m\u001b[0m\n",
      "\u001b[1;32mscipy/cluster/_vq.pyx\u001b[0m in \u001b[0;36mscipy.cluster._vq.update_cluster_means (scipy\\cluster\\_vq.c:4654)\u001b[1;34m()\u001b[0m\n",
      "\u001b[1;31mTypeError\u001b[0m: type other than float or double not supported"
     ]
    }
   ],
   "source": [
    "# Filename: kmeansDJI.py\n",
    "from matplotlib.finance import quotes_historical_yahoo_ohlc, candlestick_ohlc\n",
    "from datetime import date\n",
    "import pandas as pd\n",
    "\n",
    "lstDji = [\"AXP\", \"BA\", \"CAT\", \"CSCO\", \"CVX\", \"DIS\", \"JNJ\", \"MCD\", \"UTX\", \"GE\", \"GS\", \"JPM\", \"MMM\", \"NKE\", \"PFE\", \"TRV\", \"V\",  \\\n",
    "          \"VZ\", \"IBM\", \"INTC\", \"KO\", \"MSFT\", \"T\", \"VZ\", \"DD\", \"HD\", \"PG\", \"UNH\", \"WMT\", \"XOM\"]\n",
    "\n",
    "quotes = [[0 for col in range(90)] for row in range(30)]\n",
    "lstTemp = [[0 for col in range(90)] for row in range(30)]\n",
    "\n",
    "today = date.today()\n",
    "start = (today.year - 1, today.month, today.day)\n",
    "end = (today.year, today.month, today.day - 1)\n",
    "\n",
    "for i in range(30):\n",
    "#     print(lstDji[i])\n",
    "    quotes[i] = quotes_historical_yahoo_ohlc(lstDji[i], start, end)\n",
    "\n",
    "lstTemp[i][i+1] = 1 or -1 # 1 if the later is larger than the former, otehrwise the result is -1\n",
    "# print(lstTemp)\n",
    "data = vstack(lstTemp)\n",
    "centroids,_ = kmeans(data, 4)\n",
    "result,_ = vq(data, centroids)"
   ]
  },
  {
   "cell_type": "code",
   "execution_count": 8,
   "metadata": {
    "collapsed": false
   },
   "outputs": [
    {
     "name": "stderr",
     "output_type": "stream",
     "text": [
      "C:\\Program Files\\CAE\\Anaconda3\\lib\\site-packages\\matplotlib\\__init__.py:1350: UserWarning:  This call to matplotlib.use() has no effect\n",
      "because the backend has already been chosen;\n",
      "matplotlib.use() must be called *before* pylab, matplotlib.pyplot,\n",
      "or matplotlib.backends is imported for the first time.\n",
      "\n",
      "  warnings.warn(_use_error_msg)\n"
     ]
    },
    {
     "ename": "ValueError",
     "evalue": "object arrays are not supported",
     "output_type": "error",
     "traceback": [
      "\u001b[1;31m---------------------------------------------------------------------------\u001b[0m",
      "\u001b[1;31mValueError\u001b[0m                                Traceback (most recent call last)",
      "\u001b[1;32m<ipython-input-8-a6668caf68a9>\u001b[0m in \u001b[0;36m<module>\u001b[1;34m()\u001b[0m\n\u001b[0;32m     23\u001b[0m \u001b[1;33m\u001b[0m\u001b[0m\n\u001b[0;32m     24\u001b[0m \u001b[1;31m# kmeans for 3 clusters\u001b[0m\u001b[1;33m\u001b[0m\u001b[1;33m\u001b[0m\u001b[0m\n\u001b[1;32m---> 25\u001b[1;33m \u001b[0mres\u001b[0m\u001b[1;33m,\u001b[0m \u001b[0midx\u001b[0m \u001b[1;33m=\u001b[0m \u001b[0mkmeans2\u001b[0m\u001b[1;33m(\u001b[0m\u001b[0mnumpy\u001b[0m\u001b[1;33m.\u001b[0m\u001b[0marray\u001b[0m\u001b[1;33m(\u001b[0m\u001b[0mzip\u001b[0m\u001b[1;33m(\u001b[0m\u001b[0mxy\u001b[0m\u001b[1;33m[\u001b[0m\u001b[1;33m:\u001b[0m\u001b[1;33m,\u001b[0m\u001b[1;36m0\u001b[0m\u001b[1;33m]\u001b[0m\u001b[1;33m,\u001b[0m\u001b[0mxy\u001b[0m\u001b[1;33m[\u001b[0m\u001b[1;33m:\u001b[0m\u001b[1;33m,\u001b[0m\u001b[1;36m1\u001b[0m\u001b[1;33m]\u001b[0m\u001b[1;33m)\u001b[0m\u001b[1;33m)\u001b[0m\u001b[1;33m,\u001b[0m\u001b[1;36m3\u001b[0m\u001b[1;33m)\u001b[0m\u001b[1;33m\u001b[0m\u001b[0m\n\u001b[0m\u001b[0;32m     26\u001b[0m \u001b[1;33m\u001b[0m\u001b[0m\n\u001b[0;32m     27\u001b[0m \u001b[0mcolors\u001b[0m \u001b[1;33m=\u001b[0m \u001b[1;33m(\u001b[0m\u001b[1;33m[\u001b[0m\u001b[1;33m(\u001b[0m\u001b[1;33m[\u001b[0m\u001b[1;36m0.4\u001b[0m\u001b[1;33m,\u001b[0m\u001b[1;36m1\u001b[0m\u001b[1;33m,\u001b[0m\u001b[1;36m0.4\u001b[0m\u001b[1;33m]\u001b[0m\u001b[1;33m,\u001b[0m\u001b[1;33m[\u001b[0m\u001b[1;36m1\u001b[0m\u001b[1;33m,\u001b[0m\u001b[1;36m0.4\u001b[0m\u001b[1;33m,\u001b[0m\u001b[1;36m0.4\u001b[0m\u001b[1;33m]\u001b[0m\u001b[1;33m,\u001b[0m\u001b[1;33m[\u001b[0m\u001b[1;36m0.1\u001b[0m\u001b[1;33m,\u001b[0m\u001b[1;36m0.8\u001b[0m\u001b[1;33m,\u001b[0m\u001b[1;36m1\u001b[0m\u001b[1;33m]\u001b[0m\u001b[1;33m)\u001b[0m\u001b[1;33m[\u001b[0m\u001b[0mi\u001b[0m\u001b[1;33m]\u001b[0m \u001b[1;32mfor\u001b[0m \u001b[0mi\u001b[0m \u001b[1;32min\u001b[0m \u001b[0midx\u001b[0m\u001b[1;33m]\u001b[0m\u001b[1;33m)\u001b[0m\u001b[1;33m\u001b[0m\u001b[0m\n",
      "\u001b[1;32mC:\\Program Files\\CAE\\Anaconda3\\lib\\site-packages\\scipy\\cluster\\vq.py\u001b[0m in \u001b[0;36mkmeans2\u001b[1;34m(data, k, iter, thresh, minit, missing, check_finite)\u001b[0m\n\u001b[0;32m    732\u001b[0m \u001b[1;33m\u001b[0m\u001b[0m\n\u001b[0;32m    733\u001b[0m     \"\"\"\n\u001b[1;32m--> 734\u001b[1;33m     \u001b[0mdata\u001b[0m \u001b[1;33m=\u001b[0m \u001b[0m_asarray_validated\u001b[0m\u001b[1;33m(\u001b[0m\u001b[0mdata\u001b[0m\u001b[1;33m,\u001b[0m \u001b[0mcheck_finite\u001b[0m\u001b[1;33m=\u001b[0m\u001b[0mcheck_finite\u001b[0m\u001b[1;33m)\u001b[0m\u001b[1;33m\u001b[0m\u001b[0m\n\u001b[0m\u001b[0;32m    735\u001b[0m     \u001b[1;32mif\u001b[0m \u001b[0mmissing\u001b[0m \u001b[1;32mnot\u001b[0m \u001b[1;32min\u001b[0m \u001b[0m_valid_miss_meth\u001b[0m\u001b[1;33m:\u001b[0m\u001b[1;33m\u001b[0m\u001b[0m\n\u001b[0;32m    736\u001b[0m         \u001b[1;32mraise\u001b[0m \u001b[0mValueError\u001b[0m\u001b[1;33m(\u001b[0m\u001b[1;34m\"Unkown missing method: %s\"\u001b[0m \u001b[1;33m%\u001b[0m \u001b[0mstr\u001b[0m\u001b[1;33m(\u001b[0m\u001b[0mmissing\u001b[0m\u001b[1;33m)\u001b[0m\u001b[1;33m)\u001b[0m\u001b[1;33m\u001b[0m\u001b[0m\n",
      "\u001b[1;32mC:\\Program Files\\CAE\\Anaconda3\\lib\\site-packages\\scipy\\_lib\\_util.py\u001b[0m in \u001b[0;36m_asarray_validated\u001b[1;34m(a, check_finite, sparse_ok, objects_ok, mask_ok, as_inexact)\u001b[0m\n\u001b[0;32m    188\u001b[0m     \u001b[1;32mif\u001b[0m \u001b[1;32mnot\u001b[0m \u001b[0mobjects_ok\u001b[0m\u001b[1;33m:\u001b[0m\u001b[1;33m\u001b[0m\u001b[0m\n\u001b[0;32m    189\u001b[0m         \u001b[1;32mif\u001b[0m \u001b[0ma\u001b[0m\u001b[1;33m.\u001b[0m\u001b[0mdtype\u001b[0m \u001b[1;32mis\u001b[0m \u001b[0mnp\u001b[0m\u001b[1;33m.\u001b[0m\u001b[0mdtype\u001b[0m\u001b[1;33m(\u001b[0m\u001b[1;34m'O'\u001b[0m\u001b[1;33m)\u001b[0m\u001b[1;33m:\u001b[0m\u001b[1;33m\u001b[0m\u001b[0m\n\u001b[1;32m--> 190\u001b[1;33m             \u001b[1;32mraise\u001b[0m \u001b[0mValueError\u001b[0m\u001b[1;33m(\u001b[0m\u001b[1;34m'object arrays are not supported'\u001b[0m\u001b[1;33m)\u001b[0m\u001b[1;33m\u001b[0m\u001b[0m\n\u001b[0m\u001b[0;32m    191\u001b[0m     \u001b[1;32mif\u001b[0m \u001b[0mas_inexact\u001b[0m\u001b[1;33m:\u001b[0m\u001b[1;33m\u001b[0m\u001b[0m\n\u001b[0;32m    192\u001b[0m         \u001b[1;32mif\u001b[0m \u001b[1;32mnot\u001b[0m \u001b[0mnp\u001b[0m\u001b[1;33m.\u001b[0m\u001b[0missubdtype\u001b[0m\u001b[1;33m(\u001b[0m\u001b[0ma\u001b[0m\u001b[1;33m.\u001b[0m\u001b[0mdtype\u001b[0m\u001b[1;33m,\u001b[0m \u001b[0mnp\u001b[0m\u001b[1;33m.\u001b[0m\u001b[0minexact\u001b[0m\u001b[1;33m)\u001b[0m\u001b[1;33m:\u001b[0m\u001b[1;33m\u001b[0m\u001b[0m\n",
      "\u001b[1;31mValueError\u001b[0m: object arrays are not supported"
     ]
    }
   ],
   "source": [
    "#!/usr/bin/env python3\n",
    "# _*_ coding: utf-8 _*_\n",
    " \n",
    "# Adapted from http://hackmap.blogspot.com/2007/09/k-means-clustering-in-scipy.html\n",
    " \n",
    "import numpy\n",
    "import matplotlib\n",
    "matplotlib.use('Agg')\n",
    "from scipy.cluster.vq import *\n",
    "import pylab\n",
    "pylab.close()\n",
    " \n",
    "# generate 3 sets of normally distributed points around\n",
    "# different means with different variances\n",
    "pt1 = numpy.random.normal(1, 0.2, (100,2))\n",
    "pt2 = numpy.random.normal(2, 0.5, (300,2))\n",
    "pt3 = numpy.random.normal(3, 0.3, (100,2))\n",
    " \n",
    "# slightly move sets 2 and 3 (for a prettier output)\n",
    "pt2[:,0] += 1\n",
    "pt3[:,0] -= 0.5\n",
    " \n",
    "xy = numpy.concatenate((pt1, pt2, pt3))\n",
    " \n",
    "# kmeans for 3 clusters\n",
    "res, idx = kmeans2(numpy.array(zip(xy[:,0],xy[:,1])),3)\n",
    " \n",
    "colors = ([([0.4,1,0.4],[1,0.4,0.4],[0.1,0.8,1])[i] for i in idx])\n",
    " \n",
    "# plot colored points\n",
    "pylab.scatter(xy[:,0],xy[:,1], c=colors)\n",
    " \n",
    "# mark centroids as (X)\n",
    "pylab.scatter(res[:,0],res[:,1], marker='o', s = 500, linewidths=2, c='none')\n",
    "pylab.scatter(res[:,0],res[:,1], marker='x', s = 500, linewidths=2)\n",
    " \n",
    "pylab.savefig('/tmp/kmeans.png')"
   ]
  },
  {
   "cell_type": "markdown",
   "metadata": {},
   "source": [
    "\n",
    "## Visualization"
   ]
  },
  {
   "cell_type": "code",
   "execution_count": 22,
   "metadata": {
    "collapsed": false
   },
   "outputs": [
    {
     "ename": "NameError",
     "evalue": "name 'closeMeansKO' is not defined",
     "output_type": "error",
     "traceback": [
      "\u001b[1;31m---------------------------------------------------------------------------\u001b[0m",
      "\u001b[1;31mNameError\u001b[0m                                 Traceback (most recent call last)",
      "\u001b[1;32m<ipython-input-22-5db991800da9>\u001b[0m in \u001b[0;36m<module>\u001b[1;34m()\u001b[0m\n\u001b[0;32m      4\u001b[0m \u001b[0mlstKO\u001b[0m \u001b[1;33m=\u001b[0m \u001b[1;33m[\u001b[0m\u001b[1;33m]\u001b[0m\u001b[1;33m\u001b[0m\u001b[0m\n\u001b[0;32m      5\u001b[0m \u001b[1;32mfor\u001b[0m \u001b[0mi\u001b[0m \u001b[1;32min\u001b[0m \u001b[0mrange\u001b[0m \u001b[1;33m(\u001b[0m\u001b[1;36m1\u001b[0m\u001b[1;33m,\u001b[0m \u001b[1;36m13\u001b[0m\u001b[1;33m)\u001b[0m\u001b[1;33m:\u001b[0m\u001b[1;33m\u001b[0m\u001b[0m\n\u001b[1;32m----> 6\u001b[1;33m     \u001b[0mlstKO\u001b[0m\u001b[1;33m.\u001b[0m\u001b[0mappend\u001b[0m\u001b[1;33m(\u001b[0m\u001b[0mcloseMeansKO\u001b[0m\u001b[1;33m[\u001b[0m\u001b[0mi\u001b[0m\u001b[1;33m]\u001b[0m\u001b[1;33m)\u001b[0m\u001b[1;33m\u001b[0m\u001b[0m\n\u001b[0m\u001b[0;32m      7\u001b[0m \u001b[1;33m\u001b[0m\u001b[0m\n\u001b[0;32m      8\u001b[0m \u001b[0mlstKOIndex\u001b[0m \u001b[1;33m=\u001b[0m \u001b[0mcloseMeansKO\u001b[0m\u001b[1;33m.\u001b[0m\u001b[0mindex\u001b[0m\u001b[1;33m\u001b[0m\u001b[0m\n",
      "\u001b[1;31mNameError\u001b[0m: name 'closeMeansKO' is not defined"
     ]
    }
   ],
   "source": [
    "# Filename: closeMeanKO.py\n",
    "import matplotlib.pyplot as plt\n",
    "\n",
    "lstKO = []\n",
    "for i in range (1, 13):\n",
    "    lstKO.append(closeMeansKO[i])\n",
    "\n",
    "lstKOIndex = closeMeansKO.index\n",
    "plt.plot(lstKOIndex, lstKO)\n",
    "plot.show()"
   ]
  },
  {
   "cell_type": "code",
   "execution_count": 27,
   "metadata": {
    "collapsed": false
   },
   "outputs": [],
   "source": [
    "import numpy\n",
    "import matplotlib.pyplot as plt\n",
    "\n",
    "t = np.arange(0., 4., 0.1)\n",
    "plt.plot(t, t, t, t+2, t, t**2)\n",
    "plt.show()"
   ]
  },
  {
   "cell_type": "code",
   "execution_count": 28,
   "metadata": {
    "collapsed": true
   },
   "outputs": [],
   "source": [
    "import numpy\n",
    "import matplotlib.pyplot as plt\n",
    "\n",
    "t = np.arange(0., 4., 0.1)\n",
    "plt.bar(t, t, t+2, t**2)\n",
    "plt.show()"
   ]
  },
  {
   "cell_type": "code",
   "execution_count": 29,
   "metadata": {
    "collapsed": false
   },
   "outputs": [
    {
     "ename": "NameError",
     "evalue": "name 'closeMeansKO' is not defined",
     "output_type": "error",
     "traceback": [
      "\u001b[1;31m---------------------------------------------------------------------------\u001b[0m",
      "\u001b[1;31mNameError\u001b[0m                                 Traceback (most recent call last)",
      "\u001b[1;32m<ipython-input-29-33d03f46fc53>\u001b[0m in \u001b[0;36m<module>\u001b[1;34m()\u001b[0m\n\u001b[0;32m      4\u001b[0m \u001b[0mlstKO\u001b[0m \u001b[1;33m=\u001b[0m \u001b[1;33m[\u001b[0m\u001b[1;33m]\u001b[0m\u001b[1;33m\u001b[0m\u001b[0m\n\u001b[0;32m      5\u001b[0m \u001b[1;32mfor\u001b[0m \u001b[0mi\u001b[0m \u001b[1;32min\u001b[0m \u001b[0mrange\u001b[0m \u001b[1;33m(\u001b[0m\u001b[1;36m1\u001b[0m\u001b[1;33m,\u001b[0m \u001b[1;36m13\u001b[0m\u001b[1;33m)\u001b[0m\u001b[1;33m:\u001b[0m\u001b[1;33m\u001b[0m\u001b[0m\n\u001b[1;32m----> 6\u001b[1;33m     \u001b[0mlstKO\u001b[0m\u001b[1;33m.\u001b[0m\u001b[0mappend\u001b[0m\u001b[1;33m(\u001b[0m\u001b[0mcloseMeansKO\u001b[0m\u001b[1;33m[\u001b[0m\u001b[0mi\u001b[0m\u001b[1;33m]\u001b[0m\u001b[1;33m)\u001b[0m\u001b[1;33m\u001b[0m\u001b[0m\n\u001b[0m\u001b[0;32m      7\u001b[0m \u001b[1;33m\u001b[0m\u001b[0m\n\u001b[0;32m      8\u001b[0m \u001b[0mlstKOIndex\u001b[0m \u001b[1;33m=\u001b[0m \u001b[0mcloseMeansKO\u001b[0m\u001b[1;33m.\u001b[0m\u001b[0mindex\u001b[0m\u001b[1;33m\u001b[0m\u001b[0m\n",
      "\u001b[1;31mNameError\u001b[0m: name 'closeMeansKO' is not defined"
     ]
    }
   ],
   "source": [
    "# Filename: closeMeanKO.py\n",
    "import matplotlib.pyplot as plt\n",
    "\n",
    "lstKO = []\n",
    "for i in range (1, 13):\n",
    "    lstKO.append(closeMeansKO[i])\n",
    "\n",
    "lstKOIndex = closeMeansKO.index\n",
    "plt.plot(lstKOIndex, lstKO)\n",
    "plt.title(\"Stock Statistics of Coca-Cola\")\n",
    "plt.xlabel(\"Month\")\n",
    "plt.ylabel(\"Average Close Proce\")\n",
    "plt.show()"
   ]
  },
  {
   "cell_type": "markdown",
   "metadata": {
    "collapsed": true
   },
   "source": [
    "## Pandas Graphs"
   ]
  },
  {
   "cell_type": "code",
   "execution_count": 34,
   "metadata": {
    "collapsed": false
   },
   "outputs": [
    {
     "data": {
      "text/plain": [
       "<matplotlib.text.Text at 0x929d4d0>"
      ]
     },
     "execution_count": 34,
     "metadata": {},
     "output_type": "execute_result"
    }
   ],
   "source": [
    "import pandas as pd\n",
    "\n",
    "closeMeansKO.plot()\n",
    "plt.title(\"Stock Statistics of Coca-Cola\")\n",
    "plt.xlabel(\"Month\")\n",
    "plt.ylabel(\"Average Close Price\")"
   ]
  },
  {
   "cell_type": "code",
   "execution_count": null,
   "metadata": {
    "collapsed": true
   },
   "outputs": [],
   "source": [
    "# Filename: quotesdfbar.py\n",
    "\n",
    "start = datetime(2014, 1, 1)\n",
    "end = datetime(2014, 12, 31)\n",
    "quotes = quotes_historical_yahoo_ohcl(\"IBM\", start, end)\n",
    "\n",
    "fiedls = [\"date\", \"open\", \"close\", \"high\", \"low\", \"volume\"]\n",
    "...\n",
    "quotesdfIBM = pd.DataFrame(quotesIBM, index=lst1, columns=fields)\n",
    "quotesdfIBM = quotesdfIBM.drop(['date'], axis=1)\n",
    "quotesdfIBM.close.plot()"
   ]
  },
  {
   "cell_type": "markdown",
   "metadata": {},
   "source": [
    "## Data Access"
   ]
  },
  {
   "cell_type": "code",
   "execution_count": null,
   "metadata": {
    "collapsed": true
   },
   "outputs": [],
   "source": [
    "# Filename: to_csv.py\n",
    "from matplotlib.finance import quotes_historical_yahoo_ohcl\n",
    "from datetime import date\n",
    "import panadas as pd\n",
    "\n",
    "today = date.todat()\n",
    "start = (today.year - 1, today.month, today.day) \n",
    "quotes = quotes_historical_yahoo_ohcl(\"IBM\", start, today)\n",
    "df.pd.DataFrame(quotes)\n",
    "df.tp_csv('stockIBM.csv')"
   ]
  },
  {
   "cell_type": "markdown",
   "metadata": {},
   "source": [
    " ## Python for Scientific Usage"
   ]
  },
  {
   "cell_type": "code",
   "execution_count": 38,
   "metadata": {
    "collapsed": false
   },
   "outputs": [],
   "source": [
    "# Filename: mathA.py\n",
    "import numpy as np\n",
    "import pylab as pl\n",
    "\n",
    "x = np.linspace(-np.pi, np.pi, 256)\n",
    "s = np.sin(x)\n",
    "c = np.cos(x)\n",
    "\n",
    "pl.title(\"Trigonometric Function\")\n",
    "pl.xlabel(\"X\")\n",
    "pl.ylabel(\"Y\")\n",
    "pl.plot(x, s)\n",
    "pl.plot(x, c)\n",
    "pl.show()"
   ]
  },
  {
   "cell_type": "code",
   "execution_count": 39,
   "metadata": {
    "collapsed": false
   },
   "outputs": [
    {
     "name": "stderr",
     "output_type": "stream",
     "text": [
      "C:\\Program Files\\CAE\\Anaconda3\\lib\\site-packages\\numpy\\core\\numeric.py:474: ComplexWarning: Casting complex values to real discards the imaginary part\n",
      "  return array(a, dtype, copy=False, order=order)\n"
     ]
    }
   ],
   "source": [
    "# filename: mathB.py\n",
    "\n",
    "import scipy as sp\n",
    "import pylab as pl\n",
    "\n",
    "listA = sp.ones(500)\n",
    "listA[100:300] = -1\n",
    "f = sp.fft(listA)\n",
    "pl.plot(f)\n",
    "pl.show()"
   ]
  },
  {
   "cell_type": "code",
   "execution_count": 43,
   "metadata": {
    "collapsed": false
   },
   "outputs": [
    {
     "name": "stdout",
     "output_type": "stream",
     "text": [
      "37360\n",
      "99\n",
      "['Circumstances', 'Guildensterne', 'Incontinencie', 'Recognizances', 'Vnderstanding', 'determination', 'encompassement', 'entertainment', 'imperfections', 'indifferently', 'instrumentall', 'reconcilement', 'stubbornnesse', 'transformation', 'vnderstanding']\n"
     ]
    }
   ],
   "source": [
    "from nltk.corpus import gutenberg\n",
    "allwords = gutenberg.words(\"shakespeare-hamlet.txt\")\n",
    "print(len(allwords))\n",
    "print(allwords.count(\"Hamlet\"))\n",
    "A = set(allwords)\n",
    "longwords = [w for w in A if len(w) > 12]\n",
    "print(sorted(longwords))"
   ]
  },
  {
   "cell_type": "code",
   "execution_count": 49,
   "metadata": {
    "collapsed": false
   },
   "outputs": [
    {
     "name": "stdout",
     "output_type": "stream",
     "text": [
      "4699\n",
      "30266\n",
      " the  and   to   of    i  you    a   my   it   in that  ham   is  not  his this with your  but  for \n",
      " 993  863  685  610  574  527  511  502  419  400  377  337  328  300  285  276  254  253  249  245 \n"
     ]
    }
   ],
   "source": [
    "# filename: freqG20.py\n",
    "from nltk.corpus import gutenberg\n",
    "from nltk.probability import *\n",
    "\n",
    "fd2 = FreqDist([sx.lower() for sx in allwords if sx.isalpha()])\n",
    "print(fd2.B())\n",
    "print(fd2.N())\n",
    "\n",
    "fd2.tabulate(20)\n",
    "fd2.plot(20)\n",
    "fd2.plot(20, cumulative=True)"
   ]
  },
  {
   "cell_type": "code",
   "execution_count": 54,
   "metadata": {
    "collapsed": false
   },
   "outputs": [
    {
     "ename": "LookupError",
     "evalue": "\n**********************************************************************\n  Resource 'corpora/inaugural' not found.  Please use the NLTK\n  Downloader to obtain the resource:  >>> nltk.download()\n  Searched in:\n    - 'D:\\\\Users\\\\hmchen\\\\Documents\\\\CurrentProjects/nltk_data'\n    - 'C:\\\\nltk_data'\n    - 'D:\\\\nltk_data'\n    - 'E:\\\\nltk_data'\n    - 'C:\\\\Program Files\\\\CAE\\\\Anaconda3\\\\nltk_data'\n    - 'C:\\\\Program Files\\\\CAE\\\\Anaconda3\\\\lib\\\\nltk_data'\n    - 'C:\\\\Users\\\\hmchen\\\\AppData\\\\Roaming\\\\nltk_data'\n**********************************************************************",
     "output_type": "error",
     "traceback": [
      "\u001b[1;31m---------------------------------------------------------------------------\u001b[0m",
      "\u001b[1;31mLookupError\u001b[0m                               Traceback (most recent call last)",
      "\u001b[1;32mC:\\Program Files\\CAE\\Anaconda3\\lib\\site-packages\\nltk\\corpus\\util.py\u001b[0m in \u001b[0;36m__load\u001b[1;34m(self)\u001b[0m\n\u001b[0;32m     62\u001b[0m             \u001b[1;32mexcept\u001b[0m \u001b[0mLookupError\u001b[0m \u001b[1;32mas\u001b[0m \u001b[0me\u001b[0m\u001b[1;33m:\u001b[0m\u001b[1;33m\u001b[0m\u001b[0m\n\u001b[1;32m---> 63\u001b[1;33m                 \u001b[1;32mtry\u001b[0m\u001b[1;33m:\u001b[0m \u001b[0mroot\u001b[0m \u001b[1;33m=\u001b[0m \u001b[0mnltk\u001b[0m\u001b[1;33m.\u001b[0m\u001b[0mdata\u001b[0m\u001b[1;33m.\u001b[0m\u001b[0mfind\u001b[0m\u001b[1;33m(\u001b[0m\u001b[1;34m'corpora/%s'\u001b[0m \u001b[1;33m%\u001b[0m \u001b[0mzip_name\u001b[0m\u001b[1;33m)\u001b[0m\u001b[1;33m\u001b[0m\u001b[0m\n\u001b[0m\u001b[0;32m     64\u001b[0m                 \u001b[1;32mexcept\u001b[0m \u001b[0mLookupError\u001b[0m\u001b[1;33m:\u001b[0m \u001b[1;32mraise\u001b[0m \u001b[0me\u001b[0m\u001b[1;33m\u001b[0m\u001b[0m\n",
      "\u001b[1;32mC:\\Program Files\\CAE\\Anaconda3\\lib\\site-packages\\nltk\\data.py\u001b[0m in \u001b[0;36mfind\u001b[1;34m(resource_name, paths)\u001b[0m\n\u001b[0;32m    635\u001b[0m     \u001b[0mresource_not_found\u001b[0m \u001b[1;33m=\u001b[0m \u001b[1;34m'\\n%s\\n%s\\n%s'\u001b[0m \u001b[1;33m%\u001b[0m \u001b[1;33m(\u001b[0m\u001b[0msep\u001b[0m\u001b[1;33m,\u001b[0m \u001b[0mmsg\u001b[0m\u001b[1;33m,\u001b[0m \u001b[0msep\u001b[0m\u001b[1;33m)\u001b[0m\u001b[1;33m\u001b[0m\u001b[0m\n\u001b[1;32m--> 636\u001b[1;33m     \u001b[1;32mraise\u001b[0m \u001b[0mLookupError\u001b[0m\u001b[1;33m(\u001b[0m\u001b[0mresource_not_found\u001b[0m\u001b[1;33m)\u001b[0m\u001b[1;33m\u001b[0m\u001b[0m\n\u001b[0m\u001b[0;32m    637\u001b[0m \u001b[1;33m\u001b[0m\u001b[0m\n",
      "\u001b[1;31mLookupError\u001b[0m: \n**********************************************************************\n  Resource 'corpora/inaugural.zip/inaugural/' not found.  Please\n  use the NLTK Downloader to obtain the resource:  >>>\n  nltk.download()\n  Searched in:\n    - 'D:\\\\Users\\\\hmchen\\\\Documents\\\\CurrentProjects/nltk_data'\n    - 'C:\\\\nltk_data'\n    - 'D:\\\\nltk_data'\n    - 'E:\\\\nltk_data'\n    - 'C:\\\\Program Files\\\\CAE\\\\Anaconda3\\\\nltk_data'\n    - 'C:\\\\Program Files\\\\CAE\\\\Anaconda3\\\\lib\\\\nltk_data'\n    - 'C:\\\\Users\\\\hmchen\\\\AppData\\\\Roaming\\\\nltk_data'\n**********************************************************************",
      "\nDuring handling of the above exception, another exception occurred:\n",
      "\u001b[1;31mLookupError\u001b[0m                               Traceback (most recent call last)",
      "\u001b[1;32m<ipython-input-54-fce6fd3cab14>\u001b[0m in \u001b[0;36m<module>\u001b[1;34m()\u001b[0m\n\u001b[0;32m      4\u001b[0m cdf = ConditionalFreqDist(\n\u001b[0;32m      5\u001b[0m     \u001b[1;33m(\u001b[0m\u001b[0mfileid\u001b[0m\u001b[1;33m,\u001b[0m \u001b[0mlen\u001b[0m\u001b[1;33m(\u001b[0m\u001b[0mw\u001b[0m\u001b[1;33m)\u001b[0m\u001b[1;33m)\u001b[0m\u001b[1;33m\u001b[0m\u001b[0m\n\u001b[1;32m----> 6\u001b[1;33m     \u001b[1;32mfor\u001b[0m \u001b[0mfileid\u001b[0m \u001b[1;32min\u001b[0m \u001b[0minaugural\u001b[0m\u001b[1;33m.\u001b[0m\u001b[0mfileids\u001b[0m\u001b[1;33m(\u001b[0m\u001b[1;33m)\u001b[0m\u001b[1;33m\u001b[0m\u001b[0m\n\u001b[0m\u001b[0;32m      7\u001b[0m     \u001b[1;32mfor\u001b[0m \u001b[0mw\u001b[0m \u001b[1;32min\u001b[0m \u001b[0minaugural\u001b[0m\u001b[1;33m.\u001b[0m\u001b[0mwords\u001b[0m\u001b[1;33m(\u001b[0m\u001b[0mfields\u001b[0m\u001b[1;33m)\u001b[0m\u001b[1;33m\u001b[0m\u001b[0m\n\u001b[0;32m      8\u001b[0m     if fileid > '1950')\n",
      "\u001b[1;32mC:\\Program Files\\CAE\\Anaconda3\\lib\\site-packages\\nltk\\corpus\\util.py\u001b[0m in \u001b[0;36m__getattr__\u001b[1;34m(self, attr)\u001b[0m\n\u001b[0;32m     97\u001b[0m             \u001b[1;32mraise\u001b[0m \u001b[0mAttributeError\u001b[0m\u001b[1;33m(\u001b[0m\u001b[1;34m\"LazyCorpusLoader object has no attribute '__bases__'\"\u001b[0m\u001b[1;33m)\u001b[0m\u001b[1;33m\u001b[0m\u001b[0m\n\u001b[0;32m     98\u001b[0m \u001b[1;33m\u001b[0m\u001b[0m\n\u001b[1;32m---> 99\u001b[1;33m         \u001b[0mself\u001b[0m\u001b[1;33m.\u001b[0m\u001b[0m__load\u001b[0m\u001b[1;33m(\u001b[0m\u001b[1;33m)\u001b[0m\u001b[1;33m\u001b[0m\u001b[0m\n\u001b[0m\u001b[0;32m    100\u001b[0m         \u001b[1;31m# This looks circular, but its not, since __load() changes our\u001b[0m\u001b[1;33m\u001b[0m\u001b[1;33m\u001b[0m\u001b[0m\n\u001b[0;32m    101\u001b[0m         \u001b[1;31m# __class__ to something new:\u001b[0m\u001b[1;33m\u001b[0m\u001b[1;33m\u001b[0m\u001b[0m\n",
      "\u001b[1;32mC:\\Program Files\\CAE\\Anaconda3\\lib\\site-packages\\nltk\\corpus\\util.py\u001b[0m in \u001b[0;36m__load\u001b[1;34m(self)\u001b[0m\n\u001b[0;32m     62\u001b[0m             \u001b[1;32mexcept\u001b[0m \u001b[0mLookupError\u001b[0m \u001b[1;32mas\u001b[0m \u001b[0me\u001b[0m\u001b[1;33m:\u001b[0m\u001b[1;33m\u001b[0m\u001b[0m\n\u001b[0;32m     63\u001b[0m                 \u001b[1;32mtry\u001b[0m\u001b[1;33m:\u001b[0m \u001b[0mroot\u001b[0m \u001b[1;33m=\u001b[0m \u001b[0mnltk\u001b[0m\u001b[1;33m.\u001b[0m\u001b[0mdata\u001b[0m\u001b[1;33m.\u001b[0m\u001b[0mfind\u001b[0m\u001b[1;33m(\u001b[0m\u001b[1;34m'corpora/%s'\u001b[0m \u001b[1;33m%\u001b[0m \u001b[0mzip_name\u001b[0m\u001b[1;33m)\u001b[0m\u001b[1;33m\u001b[0m\u001b[0m\n\u001b[1;32m---> 64\u001b[1;33m                 \u001b[1;32mexcept\u001b[0m \u001b[0mLookupError\u001b[0m\u001b[1;33m:\u001b[0m \u001b[1;32mraise\u001b[0m \u001b[0me\u001b[0m\u001b[1;33m\u001b[0m\u001b[0m\n\u001b[0m\u001b[0;32m     65\u001b[0m \u001b[1;33m\u001b[0m\u001b[0m\n\u001b[0;32m     66\u001b[0m         \u001b[1;31m# Load the corpus.\u001b[0m\u001b[1;33m\u001b[0m\u001b[1;33m\u001b[0m\u001b[0m\n",
      "\u001b[1;32mC:\\Program Files\\CAE\\Anaconda3\\lib\\site-packages\\nltk\\corpus\\util.py\u001b[0m in \u001b[0;36m__load\u001b[1;34m(self)\u001b[0m\n\u001b[0;32m     59\u001b[0m         \u001b[1;32melse\u001b[0m\u001b[1;33m:\u001b[0m\u001b[1;33m\u001b[0m\u001b[0m\n\u001b[0;32m     60\u001b[0m             \u001b[1;32mtry\u001b[0m\u001b[1;33m:\u001b[0m\u001b[1;33m\u001b[0m\u001b[0m\n\u001b[1;32m---> 61\u001b[1;33m                 \u001b[0mroot\u001b[0m \u001b[1;33m=\u001b[0m \u001b[0mnltk\u001b[0m\u001b[1;33m.\u001b[0m\u001b[0mdata\u001b[0m\u001b[1;33m.\u001b[0m\u001b[0mfind\u001b[0m\u001b[1;33m(\u001b[0m\u001b[1;34m'corpora/%s'\u001b[0m \u001b[1;33m%\u001b[0m \u001b[0mself\u001b[0m\u001b[1;33m.\u001b[0m\u001b[0m__name\u001b[0m\u001b[1;33m)\u001b[0m\u001b[1;33m\u001b[0m\u001b[0m\n\u001b[0m\u001b[0;32m     62\u001b[0m             \u001b[1;32mexcept\u001b[0m \u001b[0mLookupError\u001b[0m \u001b[1;32mas\u001b[0m \u001b[0me\u001b[0m\u001b[1;33m:\u001b[0m\u001b[1;33m\u001b[0m\u001b[0m\n\u001b[0;32m     63\u001b[0m                 \u001b[1;32mtry\u001b[0m\u001b[1;33m:\u001b[0m \u001b[0mroot\u001b[0m \u001b[1;33m=\u001b[0m \u001b[0mnltk\u001b[0m\u001b[1;33m.\u001b[0m\u001b[0mdata\u001b[0m\u001b[1;33m.\u001b[0m\u001b[0mfind\u001b[0m\u001b[1;33m(\u001b[0m\u001b[1;34m'corpora/%s'\u001b[0m \u001b[1;33m%\u001b[0m \u001b[0mzip_name\u001b[0m\u001b[1;33m)\u001b[0m\u001b[1;33m\u001b[0m\u001b[0m\n",
      "\u001b[1;32mC:\\Program Files\\CAE\\Anaconda3\\lib\\site-packages\\nltk\\data.py\u001b[0m in \u001b[0;36mfind\u001b[1;34m(resource_name, paths)\u001b[0m\n\u001b[0;32m    634\u001b[0m     \u001b[0msep\u001b[0m \u001b[1;33m=\u001b[0m \u001b[1;34m'*'\u001b[0m \u001b[1;33m*\u001b[0m \u001b[1;36m70\u001b[0m\u001b[1;33m\u001b[0m\u001b[0m\n\u001b[0;32m    635\u001b[0m     \u001b[0mresource_not_found\u001b[0m \u001b[1;33m=\u001b[0m \u001b[1;34m'\\n%s\\n%s\\n%s'\u001b[0m \u001b[1;33m%\u001b[0m \u001b[1;33m(\u001b[0m\u001b[0msep\u001b[0m\u001b[1;33m,\u001b[0m \u001b[0mmsg\u001b[0m\u001b[1;33m,\u001b[0m \u001b[0msep\u001b[0m\u001b[1;33m)\u001b[0m\u001b[1;33m\u001b[0m\u001b[0m\n\u001b[1;32m--> 636\u001b[1;33m     \u001b[1;32mraise\u001b[0m \u001b[0mLookupError\u001b[0m\u001b[1;33m(\u001b[0m\u001b[0mresource_not_found\u001b[0m\u001b[1;33m)\u001b[0m\u001b[1;33m\u001b[0m\u001b[0m\n\u001b[0m\u001b[0;32m    637\u001b[0m \u001b[1;33m\u001b[0m\u001b[0m\n\u001b[0;32m    638\u001b[0m \u001b[1;33m\u001b[0m\u001b[0m\n",
      "\u001b[1;31mLookupError\u001b[0m: \n**********************************************************************\n  Resource 'corpora/inaugural' not found.  Please use the NLTK\n  Downloader to obtain the resource:  >>> nltk.download()\n  Searched in:\n    - 'D:\\\\Users\\\\hmchen\\\\Documents\\\\CurrentProjects/nltk_data'\n    - 'C:\\\\nltk_data'\n    - 'D:\\\\nltk_data'\n    - 'E:\\\\nltk_data'\n    - 'C:\\\\Program Files\\\\CAE\\\\Anaconda3\\\\nltk_data'\n    - 'C:\\\\Program Files\\\\CAE\\\\Anaconda3\\\\lib\\\\nltk_data'\n    - 'C:\\\\Users\\\\hmchen\\\\AppData\\\\Roaming\\\\nltk_data'\n**********************************************************************"
     ]
    }
   ],
   "source": [
    "# filename: inaugural.py\n",
    "from nltk.corpus import inaugural\n",
    "\n",
    "cdf = ConditionalFreqDist(\n",
    "    (fileid, len(w))\n",
    "    for fileid in inaugural.fileids()\n",
    "    for w in inaugural.words(fields)\n",
    "    if fileid > '1950')\n",
    "print(cdf.items()[:40])\n",
    "cdf.plot()"
   ]
  },
  {
   "cell_type": "code",
   "execution_count": 58,
   "metadata": {
    "collapsed": false
   },
   "outputs": [
    {
     "data": {
      "text/plain": [
       "[<matplotlib.lines.Line2D at 0xd8fdcb0>]"
      ]
     },
     "execution_count": 58,
     "metadata": {},
     "output_type": "execute_result"
    }
   ],
   "source": [
    "# Example\n",
    "import time\n",
    "from matplotlib.finance import quotes_historical_yahoo_ohlc\n",
    "from datetime import date\n",
    "from datetime import datetime\n",
    "import pandas as pd\n",
    "import matplotlib.pyplot as plt\n",
    "import pylab as pl\n",
    "import numpy as np\n",
    "\n",
    "start = datetime(2014,1,1)\n",
    "end = datetime(2014,12,31)\n",
    "quotesMSFT = quotes_historical_yahoo_ohlc('MSFT', start, end)\n",
    "quotesINTC = quotes_historical_yahoo_ohlc('INTC', start, end)\n",
    "fields = ['date','open','close','high','low','volume']\n",
    "#quotesdf = pd.DataFrame(quotes, columns = fields)\n",
    "#quotesdf = pd.DataFrame(quotes, index = range(1,len(quotes)+1),columns = fields)\n",
    "\n",
    "list1 = []\n",
    "for i in range(0,len(quotesMSFT)):\n",
    "    x = date.fromordinal(int(quotesMSFT[i][0]))\n",
    "    y = datetime.strftime(x,'%Y-%m-%d')\n",
    "    list1.append(y)\n",
    "#print list1\n",
    "\n",
    "list2 = []\n",
    "for i in range(0,len(quotesINTC)):\n",
    "    x = date.fromordinal(int(quotesINTC[i][0]))\n",
    "    y = datetime.strftime(x,'%Y-%m-%d')\n",
    "    list2.append(y)\n",
    "quotesmsftdf = pd.DataFrame(quotesMSFT, index = list1, columns = fields)\n",
    "quotesmsftdf = quotesmsftdf.drop(['date'], axis = 1)\n",
    "#print quotesdf\n",
    "\n",
    "quotesintcdf = pd.DataFrame(quotesINTC, index = list1, columns = fields)\n",
    "quotesintcdf = quotesintcdf.drop(['date'], axis = 1)\n",
    "\n",
    "listtemp1 = []\n",
    "for i in range(0,len(quotesmsftdf)):\n",
    "    temp = time.strptime(quotesmsftdf.index[i],\"%Y-%m-%d\")\n",
    "    listtemp1.append(temp.tm_mon)\n",
    "    \n",
    "listtemp2 = []\n",
    "for i in range(0,len(quotesintcdf)):\n",
    "    temp = time.strptime(quotesintcdf.index[i],\"%Y-%m-%d\")\n",
    "    listtemp2.append(temp.tm_mon)\n",
    "    \n",
    "tempmsftdf = quotesmsftdf.copy()\n",
    "tempmsftdf['month'] = listtemp1\n",
    "closemaxMSFT = tempmsftdf.groupby('month').max().close\n",
    "\n",
    "listMSFT = []\n",
    "for i in range(1,13):\n",
    "    listMSFT.append(closemaxMSFT[i])\n",
    "listMSFTIndex = closemaxMSFT.index    \n",
    "tempintcdf = quotesintcdf.copy()\n",
    "tempintcdf['month'] = listtemp2\n",
    "closemaxINTC = tempintcdf.groupby('month').max().close\n",
    "\n",
    "listINTC = []\n",
    "for i in range(1,13):\n",
    "    listINTC.append(closemaxINTC[i])\n",
    "listINTCIndex = closemaxINTC.index \n",
    "\n",
    "pl.subplot(211)\n",
    "plt.plot(listMSFTIndex,listMSFT,color='r',marker='o')\n",
    "pl.subplot(212)\n",
    "plt.plot(listINTCIndex,listINTC,color='green',marker='o')"
   ]
  },
  {
   "cell_type": "markdown",
   "metadata": {},
   "source": [
    "# GUI"
   ]
  },
  {
   "cell_type": "code",
   "execution_count": 65,
   "metadata": {
    "collapsed": false
   },
   "outputs": [
    {
     "ename": "ImportError",
     "evalue": "No module named 'wx'",
     "output_type": "error",
     "traceback": [
      "\u001b[1;31m---------------------------------------------------------------------------\u001b[0m",
      "\u001b[1;31mImportError\u001b[0m                               Traceback (most recent call last)",
      "\u001b[1;32m<ipython-input-65-6da03763f114>\u001b[0m in \u001b[0;36m<module>\u001b[1;34m()\u001b[0m\n\u001b[0;32m      1\u001b[0m \u001b[1;31m# Filename: firstwxPython.py\u001b[0m\u001b[1;33m\u001b[0m\u001b[1;33m\u001b[0m\u001b[0m\n\u001b[0;32m      2\u001b[0m \u001b[1;33m\u001b[0m\u001b[0m\n\u001b[1;32m----> 3\u001b[1;33m \u001b[1;32mimport\u001b[0m \u001b[0mwx\u001b[0m\u001b[1;33m\u001b[0m\u001b[0m\n\u001b[0m\u001b[0;32m      4\u001b[0m \u001b[1;33m\u001b[0m\u001b[0m\n\u001b[0;32m      5\u001b[0m \u001b[0mapp\u001b[0m \u001b[1;33m=\u001b[0m \u001b[0mwx\u001b[0m\u001b[1;33m.\u001b[0m\u001b[0mApp\u001b[0m\u001b[1;33m(\u001b[0m\u001b[1;33m)\u001b[0m\u001b[1;33m\u001b[0m\u001b[0m\n",
      "\u001b[1;31mImportError\u001b[0m: No module named 'wx'"
     ]
    }
   ],
   "source": [
    "# Filename: firstwxPython.py\n",
    "# wxPython: Python2 windows binary GUI\n",
    "# python3: PyQy\n",
    "\n",
    "import wx\n",
    "\n",
    "app = wx.App()\n",
    "frame = wx.Frame(None, title = \"Hello, World!\")\n",
    "frame.Show(True)\n",
    "app.MainLoop()"
   ]
  },
  {
   "cell_type": "code",
   "execution_count": 68,
   "metadata": {
    "collapsed": false
   },
   "outputs": [
    {
     "name": "stdout",
     "output_type": "stream",
     "text": [
      "gender\n",
      "F    1.170951\n",
      "M    1.109556\n",
      "Name: rating, dtype: float64\n"
     ]
    }
   ],
   "source": [
    "#!/usr/bin/env python3\n",
    "# _*_ coding: utf-16 _*_\n",
    "\n",
    "# Quiz Question 50\n",
    "\n",
    "import numpy as np\n",
    "import pandas as pd\n",
    "\n",
    "def read_data_to_dfs():\n",
    "    uDheaders = [\"user id\", \"item id\", \"rating\", \"timestamp\"]\n",
    "    uDdf = pd.read_table(\"./Quiz/ml-100k/u.data\", sep='\\t', names=uDheaders)\n",
    "    \n",
    "    uUheaders = [\"user id\", \"age\", \"gender\", \"occupation\", \"zip code\"]\n",
    "    uUdf = pd.read_table(\"./Quiz/ml-100k/u.user\", sep='|', names=uUheaders)\n",
    "\n",
    "    uIheaders = [\"movie id\", \"movie title\", \"release date\", \"video release date\", \"IMDb URL\", \"unknown\", \"Action\", \\\n",
    "                 \"Adventure\", \"Animation\", \"Children's\", \"Comedy\", \"Crime\", \"Documentary\", \"Drama\", \"Fantasy\", \\\n",
    "                 \"Film-Noir\", \"Horror\", \"Musical\", \"Mystery\", \"Romance\", \"Sci-Fi\", \"Thriller\", \"War\", \"Western\"]\n",
    "    \n",
    "    uIdf = pd.read_table(\"./Quiz/ml-100k/u.item\", sep='|', names=uIheaders, encoding = \"ISO-8859-1\")\n",
    "    \n",
    "    return (uDdf, uUdf, uIdf)\n",
    "\n",
    "if __name__ == \"__main__\":\n",
    "    uDdf, uUdf, uIdf = read_data_to_dfs()\n",
    "    \n",
    "#     print(uDdf.head())\n",
    "#     print(uUdf.head())\n",
    "#     print(uIdf.head())\n",
    "    \n",
    "    genderRatingdf = pd.merge(uDdf, uUdf,  on = \"user id\", how = \"inner\")\n",
    "    \n",
    "    print(genderRatingdf.groupby('gender').std().rating)\n",
    "    \n",
    "#     print(genderRatingdf.head())"
   ]
  },
  {
   "cell_type": "code",
   "execution_count": 66,
   "metadata": {
    "collapsed": false
   },
   "outputs": [
    {
     "name": "stdout",
     "output_type": "stream",
     "text": [
      "Help on function std in module pandas.core.generic:\n",
      "\n",
      "std(self, axis=None, skipna=None, level=None, ddof=1, numeric_only=None, **kwargs)\n",
      "    Return unbiased standard deviation over requested axis.\n",
      "    \n",
      "    Normalized by N-1 by default. This can be changed using the ddof argument\n",
      "    \n",
      "    Parameters\n",
      "    ----------\n",
      "    axis : {index (0), columns (1)}\n",
      "    skipna : boolean, default True\n",
      "        Exclude NA/null values. If an entire row/column is NA, the result\n",
      "        will be NA\n",
      "    level : int or level name, default None\n",
      "        If the axis is a MultiIndex (hierarchical), count along a\n",
      "        particular level, collapsing into a Series\n",
      "    ddof : int, default 1\n",
      "        degrees of freedom\n",
      "    numeric_only : boolean, default None\n",
      "        Include only float, int, boolean data. If None, will attempt to use\n",
      "        everything, then use only numeric data\n",
      "    \n",
      "    Returns\n",
      "    -------\n",
      "    std : Series or DataFrame (if level specified)\n",
      "\n"
     ]
    }
   ],
   "source": [
    "help(pd.DataFrame.std)"
   ]
  }
 ],
 "metadata": {
  "kernelspec": {
   "display_name": "Python 3",
   "language": "python",
   "name": "python3"
  },
  "language_info": {
   "codemirror_mode": {
    "name": "ipython",
    "version": 3
   },
   "file_extension": ".py",
   "mimetype": "text/x-python",
   "name": "python",
   "nbconvert_exporter": "python",
   "pygments_lexer": "ipython3",
   "version": "3.5.1"
  }
 },
 "nbformat": 4,
 "nbformat_minor": 0
}
