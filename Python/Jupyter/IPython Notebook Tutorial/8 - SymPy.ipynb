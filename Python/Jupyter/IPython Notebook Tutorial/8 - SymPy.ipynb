








<!DOCTYPE html>
<html lang="en">

<head>
  <meta charset="utf-8">
  <title>Jupyter Notebook Viewer</title>
  <meta name="viewport" content="width=device-width, initial-scale=1.0">
  <meta name="description" content="">
  <meta name="author" content="">
  
  <meta name="robots" content="noindex,nofollow">
  

  <!--NEW RELIC Start Perf Measurement-->
  
  <!--NREND-->

  <!-- Le styles -->
  <script type="text/javascript">
//<![CDATA[
try{if (!window.CloudFlare) {var CloudFlare=[{verbose:0,p:0,byc:0,owlid:"cf",bag2:1,mirage2:0,oracle:0,paths:{cloudflare:"/cdn-cgi/nexp/dok3v=1613a3a185/"},atok:"8abd9c9a379d7d508d76caa772429427",petok:"fb66d3c6fd409ac514b1baa54c24b07fb1b464f8-1458575099-1800",zone:"jupyter.org",rocket:"0",apps:{"ga_key":{"ua":"UA-52617120-5","ga_bs":"2"}},sha2test:0}];!function(a,b){a=document.createElement("script"),b=document.getElementsByTagName("script")[0],a.async=!0,a.src="//ajax.cloudflare.com/cdn-cgi/nexp/dok3v=e982913d31/cloudflare.min.js",b.parentNode.insertBefore(a,b)}()}}catch(e){};
//]]>
</script>
<link href="/static/build/styles.css" rel="stylesheet">

  <!-- Le HTML5 shim, for IE6-8 support of HTML5 elements -->
  <!--[if lt IE 9]>
    <script src="http://html5shim.googlecode.com/svn/trunk/html5.js"></script>
  <![endif]-->

  <!-- Le fav and touch icons -->
  <link rel="shortcut icon" href="/static/ico/ipynb_icon_16x16.png">
  <link rel="apple-touch-icon-precomposed" sizes="144x144"
        href="/static/ico/apple-touch-icon-144-precomposed.png">
  <link rel="apple-touch-icon-precomposed" sizes="114x114"
        href="/static/ico/apple-touch-icon-114-precomposed.png">
  <link rel="apple-touch-icon-precomposed" sizes="72x72"
        href="/static/ico/apple-touch-icon-72-precomposed.png">
  <link rel="apple-touch-icon-precomposed"
        href="/static/ico/apple-touch-icon-57-precomposed.png">
  
  

  

  
  <meta name="twitter:card" content="summary">
  <meta name="twitter:title" content="Notebook on nbviewer">
  <meta name="twitter:description" content="Check out this Jupyter notebook!">

  
  <meta name="twitter:domain" content="nbviewer.ipython.org">
  <meta name="twitter:image:src" content="http://ipython.org/ipython-doc/dev/_images/ipynb_icon_128x128.png">

  
    <link href="/static/build/notebook.css" rel="stylesheet">
  

  

  
    <script src="https://cdn.mathjax.org/mathjax/latest/MathJax.js?config=TeX-AMS_HTML" type="text/javascript">
    </script>
    <script type="text/javascript">
      init_mathjax = function() {
        if (window.MathJax) {
          // MathJax loaded
          MathJax.Hub.Config({
            TeX: {
              equationNumbers: {
                autoNumber: "AMS",
                useLabelIds: true
              }
            },
            tex2jax: {
              inlineMath: [ ['$','$'], ["\\(","\\)"] ],
              displayMath: [ ['$$','$$'], ["\\[","\\]"] ],
              processEscapes: true,
              processEnvironments: true
            },
            displayAlign: 'center',
            "HTML-CSS": {
              styles: {'.MathJax_Display': {"margin": 0}},
              linebreaks: { automatic: true }
            }
          });
          MathJax.Hub.Queue(["Typeset", MathJax.Hub]);
        }
      }
      init_mathjax();
    </script>
  

<script type="text/javascript">
/* <![CDATA[ */
var _gaq = _gaq || [];
_gaq.push(['_setAccount', 'UA-52617120-5']);
_gaq.push(['_trackPageview']);

(function() {
var ga = document.createElement('script'); ga.type = 'text/javascript'; ga.async = true;
ga.src = ('https:' == document.location.protocol ? 'https://ssl' : 'http://www') + '.google-analytics.com/ga.js';
var s = document.getElementsByTagName('script')[0]; s.parentNode.insertBefore(ga, s);
})();

(function(b){(function(a){"__CF"in b&&"DJS"in b.__CF?b.__CF.DJS.push(a):"addEventListener"in b?b.addEventListener("load",a,!1):b.attachEvent("onload",a)})(function(){"FB"in b&&"Event"in FB&&"subscribe"in FB.Event&&(FB.Event.subscribe("edge.create",function(a){_gaq.push(["_trackSocial","facebook","like",a])}),FB.Event.subscribe("edge.remove",function(a){_gaq.push(["_trackSocial","facebook","unlike",a])}),FB.Event.subscribe("message.send",function(a){_gaq.push(["_trackSocial","facebook","send",a])}));"twttr"in b&&"events"in twttr&&"bind"in twttr.events&&twttr.events.bind("tweet",function(a){if(a){var b;if(a.target&&a.target.nodeName=="IFRAME")a:{if(a=a.target.src){a=a.split("#")[0].match(/[^?=&]+=([^&]*)?/g);b=0;for(var c;c=a[b];++b)if(c.indexOf("url")===0){b=unescape(c.split("=")[1]);break a}}b=void 0}_gaq.push(["_trackSocial","twitter","tweet",b])}})})})(window);
/* ]]> */
</script>
</head>

<body>

  <!-- These are loaded at the top of the body so they are available to
       notebook cells when they are loaded below. -->
  <script src="/static/components/jquery/dist/jquery.min.js"></script>
  <script src="/static/components/requirejs/require.js"></script>
  <script src="/static/components/moment/min/moment.min.js"></script>

<!-- Navbar
================================================== -->
  <nav id="menubar" class="navbar navbar-default navbar-fixed-top" data-spy="affix">
    <div class="container">
      <div class="navbar-header">
        <button type="button" class="navbar-toggle collapsed" data-toggle="collapse" data-target=".navbar-collapse">
          <span class="sr-only">Toggle navigation</span>
          <i class="fa fa-bars"></i>
        </button>
        <a class="navbar-brand" href="/">
          <img src="/static/img/nav_logo.svg" width="159"/>
        </a>
      </div>

      <div class="collapse navbar-collapse">
        <ul class="nav navbar-nav navbar-right">
          <li>
            <a class="active" href="http://jupyter.org">JUPYTER</a>
          </li>
          <li>
    <a href="/faq" title="FAQ" >
      
        <span>FAQ</span>
      
    </a>
  </li>

          
  
    
  
    
      
        <li>
    <a href="/format/script/github/twistedhardware/mltutorial/blob/master/notebooks/IPython-Tutorial/8%20-%20SymPy.ipynb" title="View as Code" >
      <span class="fa fa- fa-2x menu-icon"></span>
      <span class="menu-text">View as Code</span>
    </a>
  </li>
      
    
  

  

  
    <li>
    <a href="https://github.com/twistedhardware/mltutorial/blob/master/notebooks/IPython-Tutorial/8%20-%20SymPy.ipynb" title="View on GitHub" >
      <span class="fa fa-github fa-2x menu-icon"></span>
      <span class="menu-text">View on GitHub</span>
    </a>
  </li>
  

  <li>
    <a href="https://raw.githubusercontent.com/twistedhardware/mltutorial/master/notebooks/IPython-Tutorial/8%20-%20SymPy.ipynb" title="Download Notebook" download>
      <span class="fa fa-download fa-2x menu-icon"></span>
      <span class="menu-text">Download Notebook</span>
    </a>
  </li>

        </ul>
      </div><!-- /.navbar-collapse -->
      
      
    </div>
  </nav>

  <div class="container container-main">
    
  
  <ol class="breadcrumb">
    
      <li>
        <a href="/github/twistedhardware/mltutorial/tree/master">mltutorial</a>
      </li>
    
      <li>
        <a href="/github/twistedhardware/mltutorial/tree/master/notebooks">notebooks</a>
      </li>
    
      <li>
        <a href="/github/twistedhardware/mltutorial/tree/master/notebooks/IPython-Tutorial">IPython-Tutorial</a>
      </li>
    
  </ol>
  
  <div id="notebook">
    <div id="notebook-container">
      
<div class="cell border-box-sizing text_cell rendered">
<div class="prompt input_prompt">
</div>
<div class="inner_cell">
<div class="text_cell_render border-box-sizing rendered_html">
<h1 id="Tutorial-Brief">Tutorial Brief<a class="anchor-link" href="#Tutorial-Brief">&#182;</a></h1>
</div>
</div>
</div>
<div class="cell border-box-sizing text_cell rendered">
<div class="prompt input_prompt">
</div>
<div class="inner_cell">
<div class="text_cell_render border-box-sizing rendered_html">
<p>SymPy is symbolic mathematics library written completely in Python and doesn't require any dependencies.</p>
<p>Finding Help:</p>
<ul>
<li><a href="http://docs.sympy.org/latest/index.html">http://docs.sympy.org/latest/index.html</a></li>
<li><a href="http://sympy.org/en/features.html">http://sympy.org/en/features.html</a></li>
<li><a href="http://nbviewer.ipython.org/github/jrjohansson/scientific-python-lectures/blob/master/Lecture-5-Sympy.ipynb">http://nbviewer.ipython.org/github/jrjohansson/scientific-python-lectures/blob/master/Lecture-5-Sympy.ipynb</a></li>
</ul>

</div>
</div>
</div>
<div class="cell border-box-sizing text_cell rendered">
<div class="prompt input_prompt">
</div>
<div class="inner_cell">
<div class="text_cell_render border-box-sizing rendered_html">
<table>
<tr>
    <td><img src="http://www.scipy.org/_static/images/numpylogo_med.png"  style="width:50px;height:50px;" /></td>
    <td><h4>NumPy</h4> Base N-dimensional array package </td>
    <td><img src="http://www.scipy.org/_static/images/scipy_med.png" style="width:50px;height:50px;" /></td>
    <td><h4>SciPy</h4> Fundamental library for scientific computing </td>
    <td><img src="http://www.scipy.org/_static/images/matplotlib_med.png" style="width:50px;height:50px;" /></td>
    <td><h4>Matplotlib</h4> Comprehensive 2D Plotting </td>
</tr>
<tr>
    <td><img src="http://www.scipy.org/_static/images/ipython.png" style="width:50px;height:50px;" /></td>
    <td><h4>IPython</h4> Enhanced Interactive Console </td>
    <td style="background:Lavender;"><img src="http://www.scipy.org/_static/images/sympy_logo.png" style="width:50px;height:50px;" /></td>
    <td style="background:Lavender;"><h4>SymPy</h4> Symbolic mathematics </td>
    <td><img src="http://www.scipy.org/_static/images/pandas_badge2.jpg" style="width:50px;height:50px;" /></td>
    <td><h4>Pandas</h4> Data structures & analysis </td>
</tr>
</table><blockquote><h3 id="SymPy-is-a-Python-library-for-symbolic-mathematics.-It-aims-to-become-a-full-featured-computer-algebra-system-(CAS)-while-keeping-the-code-as-simple-as-possible-in-order-to-be-comprehensible-and-easily-extensible.-SymPy-is-written-entirely-in-Python-and-does-not-require-any-external-libraries.">SymPy is a Python library for symbolic mathematics. It aims to become a full-featured computer algebra system (CAS) while keeping the code as simple as possible in order to be comprehensible and easily extensible. SymPy is written entirely in Python and does not require any external libraries.<a class="anchor-link" href="#SymPy-is-a-Python-library-for-symbolic-mathematics.-It-aims-to-become-a-full-featured-computer-algebra-system-(CAS)-while-keeping-the-code-as-simple-as-possible-in-order-to-be-comprehensible-and-easily-extensible.-SymPy-is-written-entirely-in-Python-and-does-not-require-any-external-libraries.">&#182;</a></h3><p><strong><a href="http://sympy.org/">http://sympy.org/</a></strong></p>
</blockquote>

</div>
</div>
</div>
<div class="cell border-box-sizing text_cell rendered">
<div class="prompt input_prompt">
</div>
<div class="inner_cell">
<div class="text_cell_render border-box-sizing rendered_html">
<h1 id="Import-SymPy">Import SymPy<a class="anchor-link" href="#Import-SymPy">&#182;</a></h1>
</div>
</div>
</div>
<div class="cell border-box-sizing code_cell rendered">
<div class="input">
<div class="prompt input_prompt">In&nbsp;[1]:</div>
<div class="inner_cell">
    <div class="input_area">
<div class=" highlight hl-ipython3"><pre><span></span><span class="kn">from</span> <span class="nn">sympy</span> <span class="k">import</span> <span class="o">*</span>
</pre></div>

</div>
</div>
</div>

</div>
<div class="cell border-box-sizing code_cell rendered">
<div class="input">
<div class="prompt input_prompt">In&nbsp;[2]:</div>
<div class="inner_cell">
    <div class="input_area">
<div class=" highlight hl-ipython3"><pre><span></span><span class="mi">3</span> <span class="o">+</span> <span class="n">math</span><span class="o">.</span><span class="n">sqrt</span><span class="p">(</span><span class="mi">3</span><span class="p">)</span>
</pre></div>

</div>
</div>
</div>

<div class="output_wrapper">
<div class="output">


<div class="output_area"><div class="prompt output_prompt">Out[2]:</div>


<div class="output_text output_subarea output_execute_result">
<pre>4.732050807568877</pre>
</div>

</div>

</div>
</div>

</div>
<div class="cell border-box-sizing code_cell rendered">
<div class="input">
<div class="prompt input_prompt">In&nbsp;[3]:</div>
<div class="inner_cell">
    <div class="input_area">
<div class=" highlight hl-ipython3"><pre><span></span><span class="n">expr</span> <span class="o">=</span> <span class="mi">3</span> <span class="o">*</span> <span class="n">sqrt</span><span class="p">(</span><span class="mi">3</span><span class="p">)</span>
<span class="n">expr</span>
</pre></div>

</div>
</div>
</div>

<div class="output_wrapper">
<div class="output">


<div class="output_area"><div class="prompt output_prompt">Out[3]:</div>


<div class="output_text output_subarea output_execute_result">
<pre>3*sqrt(3)</pre>
</div>

</div>

</div>
</div>

</div>
<div class="cell border-box-sizing code_cell rendered">
<div class="input">
<div class="prompt input_prompt">In&nbsp;[4]:</div>
<div class="inner_cell">
    <div class="input_area">
<div class=" highlight hl-ipython3"><pre><span></span><span class="n">init_printing</span><span class="p">(</span><span class="n">use_latex</span><span class="o">=</span><span class="s1">&#39;mathjax&#39;</span><span class="p">)</span>
</pre></div>

</div>
</div>
</div>

</div>
<div class="cell border-box-sizing code_cell rendered">
<div class="input">
<div class="prompt input_prompt">In&nbsp;[5]:</div>
<div class="inner_cell">
    <div class="input_area">
<div class=" highlight hl-ipython3"><pre><span></span><span class="n">expr</span>
</pre></div>

</div>
</div>
</div>

<div class="output_wrapper">
<div class="output">


<div class="output_area"><div class="prompt output_prompt">Out[5]:</div>


<div class="output_latex output_subarea output_execute_result">
$$3 \sqrt{3}$$
</div>

</div>

</div>
</div>

</div>
<div class="cell border-box-sizing code_cell rendered">
<div class="input">
<div class="prompt input_prompt">In&nbsp;[6]:</div>
<div class="inner_cell">
    <div class="input_area">
<div class=" highlight hl-ipython3"><pre><span></span><span class="n">expr</span> <span class="o">=</span> <span class="n">sqrt</span><span class="p">(</span><span class="mi">8</span><span class="p">)</span>
<span class="n">expr</span>
</pre></div>

</div>
</div>
</div>

<div class="output_wrapper">
<div class="output">


<div class="output_area"><div class="prompt output_prompt">Out[6]:</div>


<div class="output_latex output_subarea output_execute_result">
$$2 \sqrt{2}$$
</div>

</div>

</div>
</div>

</div>
<div class="cell border-box-sizing text_cell rendered">
<div class="prompt input_prompt">
</div>
<div class="inner_cell">
<div class="text_cell_render border-box-sizing rendered_html">
<h1 id="symbols()-&amp;-Symbol()"><code>symbols()</code> &amp; <code>Symbol()</code><a class="anchor-link" href="#symbols()-&amp;-Symbol()">&#182;</a></h1>
</div>
</div>
</div>
<div class="cell border-box-sizing code_cell rendered">
<div class="input">
<div class="prompt input_prompt">In&nbsp;[7]:</div>
<div class="inner_cell">
    <div class="input_area">
<div class=" highlight hl-ipython3"><pre><span></span><span class="n">x</span><span class="p">,</span> <span class="n">y</span> <span class="o">=</span> <span class="n">symbols</span><span class="p">(</span><span class="s2">&quot;x y&quot;</span><span class="p">)</span>
</pre></div>

</div>
</div>
</div>

</div>
<div class="cell border-box-sizing code_cell rendered">
<div class="input">
<div class="prompt input_prompt">In&nbsp;[8]:</div>
<div class="inner_cell">
    <div class="input_area">
<div class=" highlight hl-ipython3"><pre><span></span><span class="n">expr</span> <span class="o">=</span> <span class="n">x</span><span class="o">**</span><span class="mi">2</span> <span class="o">+</span> <span class="n">y</span><span class="o">**</span><span class="mi">2</span>
<span class="n">expr</span>
</pre></div>

</div>
</div>
</div>

<div class="output_wrapper">
<div class="output">


<div class="output_area"><div class="prompt output_prompt">Out[8]:</div>


<div class="output_latex output_subarea output_execute_result">
$$x^{2} + y^{2}$$
</div>

</div>

</div>
</div>

</div>
<div class="cell border-box-sizing code_cell rendered">
<div class="input">
<div class="prompt input_prompt">In&nbsp;[9]:</div>
<div class="inner_cell">
    <div class="input_area">
<div class=" highlight hl-ipython3"><pre><span></span><span class="n">expr</span> <span class="o">=</span> <span class="p">(</span><span class="n">x</span><span class="o">+</span><span class="n">y</span><span class="p">)</span><span class="o">**</span><span class="mi">3</span>
<span class="n">expr</span>
</pre></div>

</div>
</div>
</div>

<div class="output_wrapper">
<div class="output">


<div class="output_area"><div class="prompt output_prompt">Out[9]:</div>


<div class="output_latex output_subarea output_execute_result">
$$\left(x + y\right)^{3}$$
</div>

</div>

</div>
</div>

</div>
<div class="cell border-box-sizing text_cell rendered">
<div class="prompt input_prompt">
</div>
<div class="inner_cell">
<div class="text_cell_render border-box-sizing rendered_html">
<h2 id="Assumptions-for-symbols">Assumptions for symbols<a class="anchor-link" href="#Assumptions-for-symbols">&#182;</a></h2>
</div>
</div>
</div>
<div class="cell border-box-sizing code_cell rendered">
<div class="input">
<div class="prompt input_prompt">In&nbsp;[10]:</div>
<div class="inner_cell">
    <div class="input_area">
<div class=" highlight hl-ipython3"><pre><span></span><span class="n">a</span> <span class="o">=</span> <span class="n">Symbol</span><span class="p">(</span><span class="s2">&quot;a&quot;</span><span class="p">)</span>
</pre></div>

</div>
</div>
</div>

</div>
<div class="cell border-box-sizing code_cell rendered">
<div class="input">
<div class="prompt input_prompt">In&nbsp;[11]:</div>
<div class="inner_cell">
    <div class="input_area">
<div class=" highlight hl-ipython3"><pre><span></span><span class="n">a</span><span class="o">.</span><span class="n">is_imaginary</span>
</pre></div>

</div>
</div>
</div>

</div>
<div class="cell border-box-sizing code_cell rendered">
<div class="input">
<div class="prompt input_prompt">In&nbsp;[12]:</div>
<div class="inner_cell">
    <div class="input_area">
<div class=" highlight hl-ipython3"><pre><span></span><span class="n">b</span> <span class="o">=</span> <span class="n">Symbol</span><span class="p">(</span><span class="s2">&quot;b&quot;</span><span class="p">,</span> <span class="n">integer</span><span class="o">=</span><span class="kc">True</span><span class="p">)</span>
</pre></div>

</div>
</div>
</div>

</div>
<div class="cell border-box-sizing code_cell rendered">
<div class="input">
<div class="prompt input_prompt">In&nbsp;[13]:</div>
<div class="inner_cell">
    <div class="input_area">
<div class=" highlight hl-ipython3"><pre><span></span><span class="n">b</span><span class="o">.</span><span class="n">is_imaginary</span>
</pre></div>

</div>
</div>
</div>

<div class="output_wrapper">
<div class="output">


<div class="output_area"><div class="prompt output_prompt">Out[13]:</div>


<div class="output_text output_subarea output_execute_result">
<pre>False</pre>
</div>

</div>

</div>
</div>

</div>
<div class="cell border-box-sizing code_cell rendered">
<div class="input">
<div class="prompt input_prompt">In&nbsp;[14]:</div>
<div class="inner_cell">
    <div class="input_area">
<div class=" highlight hl-ipython3"><pre><span></span><span class="n">c</span> <span class="o">=</span> <span class="n">Symbol</span><span class="p">(</span><span class="s2">&quot;c&quot;</span><span class="p">,</span> <span class="n">positive</span><span class="o">=</span><span class="kc">True</span><span class="p">)</span>
</pre></div>

</div>
</div>
</div>

</div>
<div class="cell border-box-sizing code_cell rendered">
<div class="input">
<div class="prompt input_prompt">In&nbsp;[15]:</div>
<div class="inner_cell">
    <div class="input_area">
<div class=" highlight hl-ipython3"><pre><span></span><span class="n">c</span><span class="o">.</span><span class="n">is_positive</span>
</pre></div>

</div>
</div>
</div>

<div class="output_wrapper">
<div class="output">


<div class="output_area"><div class="prompt output_prompt">Out[15]:</div>


<div class="output_text output_subarea output_execute_result">
<pre>True</pre>
</div>

</div>

</div>
</div>

</div>
<div class="cell border-box-sizing code_cell rendered">
<div class="input">
<div class="prompt input_prompt">In&nbsp;[16]:</div>
<div class="inner_cell">
    <div class="input_area">
<div class=" highlight hl-ipython3"><pre><span></span><span class="n">c</span><span class="o">.</span><span class="n">is_imaginary</span>
</pre></div>

</div>
</div>
</div>

<div class="output_wrapper">
<div class="output">


<div class="output_area"><div class="prompt output_prompt">Out[16]:</div>


<div class="output_text output_subarea output_execute_result">
<pre>False</pre>
</div>

</div>

</div>
</div>

</div>
<div class="cell border-box-sizing text_cell rendered">
<div class="prompt input_prompt">
</div>
<div class="inner_cell">
<div class="text_cell_render border-box-sizing rendered_html">
<h1 id="Imaginary-Numbers">Imaginary Numbers<a class="anchor-link" href="#Imaginary-Numbers">&#182;</a></h1>
</div>
</div>
</div>
<div class="cell border-box-sizing code_cell rendered">
<div class="input">
<div class="prompt input_prompt">In&nbsp;[17]:</div>
<div class="inner_cell">
    <div class="input_area">
<div class=" highlight hl-ipython3"><pre><span></span><span class="n">I</span>
</pre></div>

</div>
</div>
</div>

<div class="output_wrapper">
<div class="output">


<div class="output_area"><div class="prompt output_prompt">Out[17]:</div>


<div class="output_latex output_subarea output_execute_result">
$$i$$
</div>

</div>

</div>
</div>

</div>
<div class="cell border-box-sizing code_cell rendered">
<div class="input">
<div class="prompt input_prompt">In&nbsp;[18]:</div>
<div class="inner_cell">
    <div class="input_area">
<div class=" highlight hl-ipython3"><pre><span></span><span class="n">I</span> <span class="o">**</span> <span class="mi">2</span>
</pre></div>

</div>
</div>
</div>

<div class="output_wrapper">
<div class="output">


<div class="output_area"><div class="prompt output_prompt">Out[18]:</div>


<div class="output_latex output_subarea output_execute_result">
$$-1$$
</div>

</div>

</div>
</div>

</div>
<div class="cell border-box-sizing text_cell rendered">
<div class="prompt input_prompt">
</div>
<div class="inner_cell">
<div class="text_cell_render border-box-sizing rendered_html">
<h1 id="Rational()"><code>Rational()</code><a class="anchor-link" href="#Rational()">&#182;</a></h1>
</div>
</div>
</div>
<div class="cell border-box-sizing code_cell rendered">
<div class="input">
<div class="prompt input_prompt">In&nbsp;[19]:</div>
<div class="inner_cell">
    <div class="input_area">
<div class=" highlight hl-ipython3"><pre><span></span><span class="n">Rational</span><span class="p">(</span><span class="mi">1</span><span class="p">,</span><span class="mi">3</span><span class="p">)</span>
</pre></div>

</div>
</div>
</div>

<div class="output_wrapper">
<div class="output">


<div class="output_area"><div class="prompt output_prompt">Out[19]:</div>


<div class="output_latex output_subarea output_execute_result">
$$\frac{1}{3}$$
</div>

</div>

</div>
</div>

</div>
<div class="cell border-box-sizing code_cell rendered">
<div class="input">
<div class="prompt input_prompt">In&nbsp;[20]:</div>
<div class="inner_cell">
    <div class="input_area">
<div class=" highlight hl-ipython3"><pre><span></span><span class="n">Rational</span><span class="p">(</span><span class="mi">1</span><span class="p">,</span><span class="mi">3</span><span class="p">)</span> <span class="o">+</span> <span class="n">Rational</span><span class="p">(</span><span class="mi">1</span><span class="p">,</span><span class="mi">2</span><span class="p">)</span>
</pre></div>

</div>
</div>
</div>

<div class="output_wrapper">
<div class="output">


<div class="output_area"><div class="prompt output_prompt">Out[20]:</div>


<div class="output_latex output_subarea output_execute_result">
$$\frac{5}{6}$$
</div>

</div>

</div>
</div>

</div>
<div class="cell border-box-sizing text_cell rendered">
<div class="prompt input_prompt">
</div>
<div class="inner_cell">
<div class="text_cell_render border-box-sizing rendered_html">
<h1 id="Numerical-evaluation">Numerical evaluation<a class="anchor-link" href="#Numerical-evaluation">&#182;</a></h1>
</div>
</div>
</div>
<div class="cell border-box-sizing code_cell rendered">
<div class="input">
<div class="prompt input_prompt">In&nbsp;[21]:</div>
<div class="inner_cell">
    <div class="input_area">
<div class=" highlight hl-ipython3"><pre><span></span><span class="n">expr</span> <span class="o">=</span> <span class="n">Rational</span><span class="p">(</span><span class="mi">1</span><span class="p">,</span><span class="mi">3</span><span class="p">)</span> <span class="o">+</span> <span class="n">Rational</span><span class="p">(</span><span class="mi">1</span><span class="p">,</span><span class="mi">2</span><span class="p">)</span>
<span class="n">N</span><span class="p">(</span><span class="n">expr</span><span class="p">)</span>
</pre></div>

</div>
</div>
</div>

<div class="output_wrapper">
<div class="output">


<div class="output_area"><div class="prompt output_prompt">Out[21]:</div>


<div class="output_latex output_subarea output_execute_result">
$$0.833333333333333$$
</div>

</div>

</div>
</div>

</div>
<div class="cell border-box-sizing code_cell rendered">
<div class="input">
<div class="prompt input_prompt">In&nbsp;[22]:</div>
<div class="inner_cell">
    <div class="input_area">
<div class=" highlight hl-ipython3"><pre><span></span><span class="n">N</span><span class="p">(</span><span class="n">pi</span><span class="p">,</span> <span class="mi">100</span><span class="p">)</span>
</pre></div>

</div>
</div>
</div>

<div class="output_wrapper">
<div class="output">


<div class="output_area"><div class="prompt output_prompt">Out[22]:</div>


<div class="output_latex output_subarea output_execute_result">
$$3.141592653589793238462643383279502884197169399375105820974944592307816406286208998628034825342117068$$
</div>

</div>

</div>
</div>

</div>
<div class="cell border-box-sizing code_cell rendered">
<div class="input">
<div class="prompt input_prompt">In&nbsp;[23]:</div>
<div class="inner_cell">
    <div class="input_area">
<div class=" highlight hl-ipython3"><pre><span></span><span class="n">pi</span><span class="o">.</span><span class="n">evalf</span><span class="p">(</span><span class="mi">100</span><span class="p">)</span>
</pre></div>

</div>
</div>
</div>

<div class="output_wrapper">
<div class="output">


<div class="output_area"><div class="prompt output_prompt">Out[23]:</div>


<div class="output_latex output_subarea output_execute_result">
$$3.141592653589793238462643383279502884197169399375105820974944592307816406286208998628034825342117068$$
</div>

</div>

</div>
</div>

</div>
<div class="cell border-box-sizing text_cell rendered">
<div class="prompt input_prompt">
</div>
<div class="inner_cell">
<div class="text_cell_render border-box-sizing rendered_html">
<h1 id="subs()"><code>subs()</code><a class="anchor-link" href="#subs()">&#182;</a></h1>
</div>
</div>
</div>
<div class="cell border-box-sizing code_cell rendered">
<div class="input">
<div class="prompt input_prompt">In&nbsp;[24]:</div>
<div class="inner_cell">
    <div class="input_area">
<div class=" highlight hl-ipython3"><pre><span></span><span class="n">expr</span> <span class="o">=</span> <span class="n">x</span><span class="o">**</span><span class="mi">2</span> <span class="o">+</span> <span class="mi">2</span><span class="o">*</span><span class="n">x</span> <span class="o">+</span> <span class="mi">1</span>
<span class="n">expr</span>
</pre></div>

</div>
</div>
</div>

<div class="output_wrapper">
<div class="output">


<div class="output_area"><div class="prompt output_prompt">Out[24]:</div>


<div class="output_latex output_subarea output_execute_result">
$$x^{2} + 2 x + 1$$
</div>

</div>

</div>
</div>

</div>
<div class="cell border-box-sizing code_cell rendered">
<div class="input">
<div class="prompt input_prompt">In&nbsp;[25]:</div>
<div class="inner_cell">
    <div class="input_area">
<div class=" highlight hl-ipython3"><pre><span></span><span class="n">expr</span><span class="o">.</span><span class="n">subs</span><span class="p">(</span><span class="n">x</span><span class="p">,</span> <span class="mi">1</span><span class="p">)</span>
</pre></div>

</div>
</div>
</div>

<div class="output_wrapper">
<div class="output">


<div class="output_area"><div class="prompt output_prompt">Out[25]:</div>


<div class="output_latex output_subarea output_execute_result">
$$4$$
</div>

</div>

</div>
</div>

</div>
<div class="cell border-box-sizing code_cell rendered">
<div class="input">
<div class="prompt input_prompt">In&nbsp;[26]:</div>
<div class="inner_cell">
    <div class="input_area">
<div class=" highlight hl-ipython3"><pre><span></span><span class="n">expr</span> <span class="o">=</span> <span class="n">pi</span> <span class="o">*</span> <span class="n">x</span><span class="o">**</span><span class="mi">2</span>
<span class="n">expr</span>
</pre></div>

</div>
</div>
</div>

<div class="output_wrapper">
<div class="output">


<div class="output_area"><div class="prompt output_prompt">Out[26]:</div>


<div class="output_latex output_subarea output_execute_result">
$$\pi x^{2}$$
</div>

</div>

</div>
</div>

</div>
<div class="cell border-box-sizing code_cell rendered">
<div class="input">
<div class="prompt input_prompt">In&nbsp;[27]:</div>
<div class="inner_cell">
    <div class="input_area">
<div class=" highlight hl-ipython3"><pre><span></span><span class="n">expr</span><span class="o">.</span><span class="n">subs</span><span class="p">(</span><span class="n">x</span><span class="p">,</span> <span class="mi">3</span><span class="p">)</span>
</pre></div>

</div>
</div>
</div>

<div class="output_wrapper">
<div class="output">


<div class="output_area"><div class="prompt output_prompt">Out[27]:</div>


<div class="output_latex output_subarea output_execute_result">
$$9 \pi$$
</div>

</div>

</div>
</div>

</div>
<div class="cell border-box-sizing code_cell rendered">
<div class="input">
<div class="prompt input_prompt">In&nbsp;[28]:</div>
<div class="inner_cell">
    <div class="input_area">
<div class=" highlight hl-ipython3"><pre><span></span><span class="n">N</span><span class="p">(</span><span class="n">_</span><span class="p">)</span>
</pre></div>

</div>
</div>
</div>

<div class="output_wrapper">
<div class="output">


<div class="output_area"><div class="prompt output_prompt">Out[28]:</div>


<div class="output_latex output_subarea output_execute_result">
$$28.2743338823081$$
</div>

</div>

</div>
</div>

</div>
<div class="cell border-box-sizing text_cell rendered">
<div class="prompt input_prompt">
</div>
<div class="inner_cell">
<div class="text_cell_render border-box-sizing rendered_html">
<h1 id="factor()-and-expand()"><code>factor()</code> and <code>expand()</code><a class="anchor-link" href="#factor()-and-expand()">&#182;</a></h1>
</div>
</div>
</div>
<div class="cell border-box-sizing code_cell rendered">
<div class="input">
<div class="prompt input_prompt">In&nbsp;[29]:</div>
<div class="inner_cell">
    <div class="input_area">
<div class=" highlight hl-ipython3"><pre><span></span><span class="n">expr</span> <span class="o">=</span> <span class="p">(</span><span class="n">x</span> <span class="o">+</span> <span class="n">y</span><span class="p">)</span> <span class="o">**</span> <span class="mi">2</span>
<span class="n">expr</span>
</pre></div>

</div>
</div>
</div>

<div class="output_wrapper">
<div class="output">


<div class="output_area"><div class="prompt output_prompt">Out[29]:</div>


<div class="output_latex output_subarea output_execute_result">
$$\left(x + y\right)^{2}$$
</div>

</div>

</div>
</div>

</div>
<div class="cell border-box-sizing code_cell rendered">
<div class="input">
<div class="prompt input_prompt">In&nbsp;[30]:</div>
<div class="inner_cell">
    <div class="input_area">
<div class=" highlight hl-ipython3"><pre><span></span><span class="n">expand</span><span class="p">(</span><span class="n">expr</span><span class="p">)</span>
</pre></div>

</div>
</div>
</div>

<div class="output_wrapper">
<div class="output">


<div class="output_area"><div class="prompt output_prompt">Out[30]:</div>


<div class="output_latex output_subarea output_execute_result">
$$x^{2} + 2 x y + y^{2}$$
</div>

</div>

</div>
</div>

</div>
<div class="cell border-box-sizing code_cell rendered">
<div class="input">
<div class="prompt input_prompt">In&nbsp;[31]:</div>
<div class="inner_cell">
    <div class="input_area">
<div class=" highlight hl-ipython3"><pre><span></span><span class="n">factor</span><span class="p">(</span><span class="n">_</span><span class="p">)</span>
</pre></div>

</div>
</div>
</div>

<div class="output_wrapper">
<div class="output">


<div class="output_area"><div class="prompt output_prompt">Out[31]:</div>


<div class="output_latex output_subarea output_execute_result">
$$\left(x + y\right)^{2}$$
</div>

</div>

</div>
</div>

</div>
<div class="cell border-box-sizing text_cell rendered">
<div class="prompt input_prompt">
</div>
<div class="inner_cell">
<div class="text_cell_render border-box-sizing rendered_html">
<h1 id="simplify()"><code>simplify()</code><a class="anchor-link" href="#simplify()">&#182;</a></h1>
</div>
</div>
</div>
<div class="cell border-box-sizing code_cell rendered">
<div class="input">
<div class="prompt input_prompt">In&nbsp;[32]:</div>
<div class="inner_cell">
    <div class="input_area">
<div class=" highlight hl-ipython3"><pre><span></span><span class="n">expr</span> <span class="o">=</span> <span class="p">(</span><span class="mi">2</span><span class="o">*</span><span class="n">x</span> <span class="o">+</span> <span class="n">Rational</span><span class="p">(</span><span class="mi">1</span><span class="p">,</span><span class="mi">3</span><span class="p">)</span><span class="o">*</span><span class="n">x</span> <span class="o">+</span> <span class="mi">4</span><span class="p">)</span> <span class="o">/</span> <span class="n">x</span>
<span class="n">expr</span>
</pre></div>

</div>
</div>
</div>

<div class="output_wrapper">
<div class="output">


<div class="output_area"><div class="prompt output_prompt">Out[32]:</div>


<div class="output_latex output_subarea output_execute_result">
$$\frac{1}{x} \left(\frac{7 x}{3} + 4\right)$$
</div>

</div>

</div>
</div>

</div>
<div class="cell border-box-sizing code_cell rendered">
<div class="input">
<div class="prompt input_prompt">In&nbsp;[33]:</div>
<div class="inner_cell">
    <div class="input_area">
<div class=" highlight hl-ipython3"><pre><span></span><span class="n">simplify</span><span class="p">(</span><span class="n">expr</span><span class="p">)</span>
</pre></div>

</div>
</div>
</div>

<div class="output_wrapper">
<div class="output">


<div class="output_area"><div class="prompt output_prompt">Out[33]:</div>


<div class="output_latex output_subarea output_execute_result">
$$\frac{7}{3} + \frac{4}{x}$$
</div>

</div>

</div>
</div>

</div>
<div class="cell border-box-sizing code_cell rendered">
<div class="input">
<div class="prompt input_prompt">In&nbsp;[34]:</div>
<div class="inner_cell">
    <div class="input_area">
<div class=" highlight hl-ipython3"><pre><span></span><span class="n">expr</span> <span class="o">=</span> <span class="s2">&quot;(2*x + 1/3*x + 4)/x&quot;</span>
<span class="n">simplify</span><span class="p">(</span><span class="n">expr</span><span class="p">)</span>
</pre></div>

</div>
</div>
</div>

<div class="output_wrapper">
<div class="output">


<div class="output_area"><div class="prompt output_prompt">Out[34]:</div>


<div class="output_latex output_subarea output_execute_result">
$$\frac{7}{3} + \frac{4}{x}$$
</div>

</div>

</div>
</div>

</div>
<div class="cell border-box-sizing code_cell rendered">
<div class="input">
<div class="prompt input_prompt">In&nbsp;[35]:</div>
<div class="inner_cell">
    <div class="input_area">
<div class=" highlight hl-ipython3"><pre><span></span><span class="n">expr</span> <span class="o">=</span> <span class="n">sin</span><span class="p">(</span><span class="n">x</span><span class="p">)</span><span class="o">/</span><span class="n">cos</span><span class="p">(</span><span class="n">x</span><span class="p">)</span>
<span class="n">expr</span>
</pre></div>

</div>
</div>
</div>

<div class="output_wrapper">
<div class="output">


<div class="output_area"><div class="prompt output_prompt">Out[35]:</div>


<div class="output_latex output_subarea output_execute_result">
$$\frac{\sin{\left (x \right )}}{\cos{\left (x \right )}}$$
</div>

</div>

</div>
</div>

</div>
<div class="cell border-box-sizing code_cell rendered">
<div class="input">
<div class="prompt input_prompt">In&nbsp;[36]:</div>
<div class="inner_cell">
    <div class="input_area">
<div class=" highlight hl-ipython3"><pre><span></span><span class="n">simplify</span><span class="p">(</span><span class="n">expr</span><span class="p">)</span>
</pre></div>

</div>
</div>
</div>

<div class="output_wrapper">
<div class="output">


<div class="output_area"><div class="prompt output_prompt">Out[36]:</div>


<div class="output_latex output_subarea output_execute_result">
$$\tan{\left (x \right )}$$
</div>

</div>

</div>
</div>

</div>
<div class="cell border-box-sizing text_cell rendered">
<div class="prompt input_prompt">
</div>
<div class="inner_cell">
<div class="text_cell_render border-box-sizing rendered_html">
<h1 id="apart()-and-together()"><code>apart()</code> and <code>together()</code><a class="anchor-link" href="#apart()-and-together()">&#182;</a></h1>
</div>
</div>
</div>
<div class="cell border-box-sizing code_cell rendered">
<div class="input">
<div class="prompt input_prompt">In&nbsp;[37]:</div>
<div class="inner_cell">
    <div class="input_area">
<div class=" highlight hl-ipython3"><pre><span></span><span class="n">expr</span> <span class="o">=</span> <span class="mi">1</span><span class="o">/</span><span class="p">(</span><span class="n">x</span><span class="o">**</span><span class="mi">2</span> <span class="o">+</span> <span class="mi">2</span><span class="o">*</span><span class="n">x</span><span class="p">)</span>
<span class="n">expr</span>
</pre></div>

</div>
</div>
</div>

<div class="output_wrapper">
<div class="output">


<div class="output_area"><div class="prompt output_prompt">Out[37]:</div>


<div class="output_latex output_subarea output_execute_result">
$$\frac{1}{x^{2} + 2 x}$$
</div>

</div>

</div>
</div>

</div>
<div class="cell border-box-sizing code_cell rendered">
<div class="input">
<div class="prompt input_prompt">In&nbsp;[38]:</div>
<div class="inner_cell">
    <div class="input_area">
<div class=" highlight hl-ipython3"><pre><span></span><span class="n">apart</span><span class="p">(</span><span class="n">expr</span><span class="p">)</span>
</pre></div>

</div>
</div>
</div>

<div class="output_wrapper">
<div class="output">


<div class="output_area"><div class="prompt output_prompt">Out[38]:</div>


<div class="output_latex output_subarea output_execute_result">
$$- \frac{1}{2 x + 4} + \frac{1}{2 x}$$
</div>

</div>

</div>
</div>

</div>
<div class="cell border-box-sizing code_cell rendered">
<div class="input">
<div class="prompt input_prompt">In&nbsp;[39]:</div>
<div class="inner_cell">
    <div class="input_area">
<div class=" highlight hl-ipython3"><pre><span></span><span class="n">together</span><span class="p">(</span><span class="n">_</span><span class="p">)</span>
</pre></div>

</div>
</div>
</div>

<div class="output_wrapper">
<div class="output">


<div class="output_area"><div class="prompt output_prompt">Out[39]:</div>


<div class="output_latex output_subarea output_execute_result">
$$\frac{1}{x \left(x + 2\right)}$$
</div>

</div>

</div>
</div>

</div>
<div class="cell border-box-sizing text_cell rendered">
<div class="prompt input_prompt">
</div>
<div class="inner_cell">
<div class="text_cell_render border-box-sizing rendered_html">
<h1 id="Calculus">Calculus<a class="anchor-link" href="#Calculus">&#182;</a></h1>
</div>
</div>
</div>
<div class="cell border-box-sizing code_cell rendered">
<div class="input">
<div class="prompt input_prompt">In&nbsp;[40]:</div>
<div class="inner_cell">
    <div class="input_area">
<div class=" highlight hl-ipython3"><pre><span></span><span class="n">diff</span><span class="p">(</span><span class="n">sin</span><span class="p">(</span><span class="n">x</span><span class="p">),</span> <span class="n">x</span><span class="p">)</span>
</pre></div>

</div>
</div>
</div>

<div class="output_wrapper">
<div class="output">


<div class="output_area"><div class="prompt output_prompt">Out[40]:</div>


<div class="output_latex output_subarea output_execute_result">
$$\cos{\left (x \right )}$$
</div>

</div>

</div>
</div>

</div>
<div class="cell border-box-sizing code_cell rendered">
<div class="input">
<div class="prompt input_prompt">In&nbsp;[41]:</div>
<div class="inner_cell">
    <div class="input_area">
<div class=" highlight hl-ipython3"><pre><span></span><span class="n">diff</span><span class="p">(</span><span class="n">log</span><span class="p">(</span><span class="n">x</span><span class="o">**</span><span class="mi">2</span> <span class="o">+</span> <span class="mi">1</span><span class="p">)</span> <span class="o">+</span> <span class="mi">2</span><span class="o">*</span><span class="n">x</span><span class="p">,</span> <span class="n">x</span><span class="p">)</span>
</pre></div>

</div>
</div>
</div>

<div class="output_wrapper">
<div class="output">


<div class="output_area"><div class="prompt output_prompt">Out[41]:</div>


<div class="output_latex output_subarea output_execute_result">
$$\frac{2 x}{x^{2} + 1} + 2$$
</div>

</div>

</div>
</div>

</div>
<div class="cell border-box-sizing code_cell rendered">
<div class="input">
<div class="prompt input_prompt">In&nbsp;[42]:</div>
<div class="inner_cell">
    <div class="input_area">
<div class=" highlight hl-ipython3"><pre><span></span><span class="n">integrate</span><span class="p">(</span><span class="n">cos</span><span class="p">(</span><span class="n">x</span><span class="p">),</span> <span class="n">x</span><span class="p">)</span>
</pre></div>

</div>
</div>
</div>

<div class="output_wrapper">
<div class="output">


<div class="output_area"><div class="prompt output_prompt">Out[42]:</div>


<div class="output_latex output_subarea output_execute_result">
$$\sin{\left (x \right )}$$
</div>

</div>

</div>
</div>

</div>
<div class="cell border-box-sizing code_cell rendered">
<div class="input">
<div class="prompt input_prompt">In&nbsp;[43]:</div>
<div class="inner_cell">
    <div class="input_area">
<div class=" highlight hl-ipython3"><pre><span></span><span class="n">Integral</span><span class="p">(</span><span class="n">sin</span><span class="p">(</span><span class="n">x</span><span class="p">),</span> <span class="p">(</span><span class="n">x</span><span class="p">,</span><span class="mi">0</span><span class="p">,</span><span class="n">pi</span><span class="p">))</span>
</pre></div>

</div>
</div>
</div>

<div class="output_wrapper">
<div class="output">


<div class="output_area"><div class="prompt output_prompt">Out[43]:</div>


<div class="output_latex output_subarea output_execute_result">
$$\int_{0}^{\pi} \sin{\left (x \right )}\, dx$$
</div>

</div>

</div>
</div>

</div>
<div class="cell border-box-sizing code_cell rendered">
<div class="input">
<div class="prompt input_prompt">In&nbsp;[44]:</div>
<div class="inner_cell">
    <div class="input_area">
<div class=" highlight hl-ipython3"><pre><span></span><span class="n">N</span><span class="p">(</span><span class="n">_</span><span class="p">)</span>
</pre></div>

</div>
</div>
</div>

<div class="output_wrapper">
<div class="output">


<div class="output_area"><div class="prompt output_prompt">Out[44]:</div>


<div class="output_latex output_subarea output_execute_result">
$$2.0$$
</div>

</div>

</div>
</div>

</div>
<div class="cell border-box-sizing text_cell rendered">
<div class="prompt input_prompt">
</div>
<div class="inner_cell">
<div class="text_cell_render border-box-sizing rendered_html">
<h1 id="Sum()"><code>Sum()</code><a class="anchor-link" href="#Sum()">&#182;</a></h1>
</div>
</div>
</div>
<div class="cell border-box-sizing code_cell rendered">
<div class="input">
<div class="prompt input_prompt">In&nbsp;[45]:</div>
<div class="inner_cell">
    <div class="input_area">
<div class=" highlight hl-ipython3"><pre><span></span><span class="n">expr</span> <span class="o">=</span> <span class="n">Sum</span><span class="p">(</span><span class="mi">1</span><span class="o">/</span><span class="p">(</span><span class="n">x</span><span class="o">**</span><span class="mi">2</span> <span class="o">+</span> <span class="mi">2</span><span class="o">*</span><span class="n">x</span><span class="p">),</span> <span class="p">(</span><span class="n">x</span><span class="p">,</span> <span class="mi">1</span><span class="p">,</span> <span class="mi">10</span><span class="p">))</span>
<span class="n">expr</span>
</pre></div>

</div>
</div>
</div>

<div class="output_wrapper">
<div class="output">


<div class="output_area"><div class="prompt output_prompt">Out[45]:</div>


<div class="output_latex output_subarea output_execute_result">
$$\sum_{x=1}^{10} \frac{1}{x^{2} + 2 x}$$
</div>

</div>

</div>
</div>

</div>
<div class="cell border-box-sizing code_cell rendered">
<div class="input">
<div class="prompt input_prompt">In&nbsp;[46]:</div>
<div class="inner_cell">
    <div class="input_area">
<div class=" highlight hl-ipython3"><pre><span></span><span class="n">expr</span><span class="o">.</span><span class="n">doit</span><span class="p">()</span>
</pre></div>

</div>
</div>
</div>

<div class="output_wrapper">
<div class="output">


<div class="output_area"><div class="prompt output_prompt">Out[46]:</div>


<div class="output_latex output_subarea output_execute_result">
$$\frac{175}{264}$$
</div>

</div>

</div>
</div>

</div>
<div class="cell border-box-sizing text_cell rendered">
<div class="prompt input_prompt">
</div>
<div class="inner_cell">
<div class="text_cell_render border-box-sizing rendered_html">
<h1 id="Product()"><code>Product()</code><a class="anchor-link" href="#Product()">&#182;</a></h1>
</div>
</div>
</div>
<div class="cell border-box-sizing code_cell rendered">
<div class="input">
<div class="prompt input_prompt">In&nbsp;[47]:</div>
<div class="inner_cell">
    <div class="input_area">
<div class=" highlight hl-ipython3"><pre><span></span><span class="n">expr</span> <span class="o">=</span> <span class="n">Product</span><span class="p">(</span><span class="mi">1</span><span class="o">/</span><span class="p">(</span><span class="n">x</span><span class="o">**</span><span class="mi">2</span> <span class="o">+</span> <span class="mi">2</span><span class="o">*</span><span class="n">x</span><span class="p">),</span> <span class="p">(</span><span class="n">x</span><span class="p">,</span> <span class="mi">1</span><span class="p">,</span> <span class="mi">10</span><span class="p">))</span>
<span class="n">expr</span>
</pre></div>

</div>
</div>
</div>

<div class="output_wrapper">
<div class="output">


<div class="output_area"><div class="prompt output_prompt">Out[47]:</div>


<div class="output_latex output_subarea output_execute_result">
$$\prod_{x=1}^{10} \frac{1}{x^{2} + 2 x}$$
</div>

</div>

</div>
</div>

</div>
<div class="cell border-box-sizing code_cell rendered">
<div class="input">
<div class="prompt input_prompt">In&nbsp;[48]:</div>
<div class="inner_cell">
    <div class="input_area">
<div class=" highlight hl-ipython3"><pre><span></span><span class="n">expr</span><span class="o">.</span><span class="n">doit</span><span class="p">()</span>
</pre></div>

</div>
</div>
</div>

<div class="output_wrapper">
<div class="output">


<div class="output_area"><div class="prompt output_prompt">Out[48]:</div>


<div class="output_latex output_subarea output_execute_result">
$$\frac{1}{869100503040000}$$
</div>

</div>

</div>
</div>

</div>
<div class="cell border-box-sizing text_cell rendered">
<div class="prompt input_prompt">
</div>
<div class="inner_cell">
<div class="text_cell_render border-box-sizing rendered_html">
<h1 id="Solve()"><code>Solve()</code><a class="anchor-link" href="#Solve()">&#182;</a></h1>
</div>
</div>
</div>
<div class="cell border-box-sizing code_cell rendered">
<div class="input">
<div class="prompt input_prompt">In&nbsp;[49]:</div>
<div class="inner_cell">
    <div class="input_area">
<div class=" highlight hl-ipython3"><pre><span></span><span class="n">expr</span> <span class="o">=</span> <span class="mi">2</span><span class="o">*</span><span class="n">x</span> <span class="o">+</span> <span class="mi">1</span>
<span class="n">solve</span><span class="p">(</span><span class="n">expr</span><span class="p">)</span>
</pre></div>

</div>
</div>
</div>

<div class="output_wrapper">
<div class="output">


<div class="output_area"><div class="prompt output_prompt">Out[49]:</div>


<div class="output_latex output_subarea output_execute_result">
$$\begin{bmatrix}- \frac{1}{2}\end{bmatrix}$$
</div>

</div>

</div>
</div>

</div>
<div class="cell border-box-sizing code_cell rendered">
<div class="input">
<div class="prompt input_prompt">In&nbsp;[50]:</div>
<div class="inner_cell">
    <div class="input_area">
<div class=" highlight hl-ipython3"><pre><span></span><span class="n">expr</span> <span class="o">=</span> <span class="n">x</span><span class="o">**</span><span class="mi">2</span> <span class="o">-</span> <span class="mi">1</span>
<span class="n">solve</span><span class="p">(</span><span class="n">expr</span><span class="p">)</span>
</pre></div>

</div>
</div>
</div>

<div class="output_wrapper">
<div class="output">


<div class="output_area"><div class="prompt output_prompt">Out[50]:</div>


<div class="output_latex output_subarea output_execute_result">
$$\begin{bmatrix}-1, & 1\end{bmatrix}$$
</div>

</div>

</div>
</div>

</div>
<div class="cell border-box-sizing code_cell rendered">
<div class="input">
<div class="prompt input_prompt">In&nbsp;[51]:</div>
<div class="inner_cell">
    <div class="input_area">
<div class=" highlight hl-ipython3"><pre><span></span><span class="n">expr_1</span> <span class="o">=</span> <span class="mi">2</span><span class="o">*</span><span class="n">x</span> <span class="o">+</span> <span class="n">y</span> <span class="o">+</span> <span class="mi">3</span>
<span class="n">expr_2</span> <span class="o">=</span> <span class="mi">2</span><span class="o">*</span><span class="n">y</span> <span class="o">-</span> <span class="n">x</span>
<span class="n">solve</span><span class="p">([</span><span class="n">expr_1</span><span class="p">,</span> <span class="n">expr_2</span><span class="p">],(</span><span class="n">x</span><span class="p">,</span><span class="n">y</span><span class="p">))</span>
</pre></div>

</div>
</div>
</div>

<div class="output_wrapper">
<div class="output">


<div class="output_area"><div class="prompt output_prompt">Out[51]:</div>


<div class="output_latex output_subarea output_execute_result">
$$\begin{Bmatrix}x : - \frac{6}{5}, & y : - \frac{3}{5}\end{Bmatrix}$$
</div>

</div>

</div>
</div>

</div>
<div class="cell border-box-sizing text_cell rendered">
<div class="prompt input_prompt">
</div>
<div class="inner_cell">
<div class="text_cell_render border-box-sizing rendered_html">
<h1 id="Units">Units<a class="anchor-link" href="#Units">&#182;</a></h1>
</div>
</div>
</div>
<div class="cell border-box-sizing code_cell rendered">
<div class="input">
<div class="prompt input_prompt">In&nbsp;[52]:</div>
<div class="inner_cell">
    <div class="input_area">
<div class=" highlight hl-ipython3"><pre><span></span><span class="kn">from</span> <span class="nn">sympy.physics</span> <span class="k">import</span> <span class="n">units</span> <span class="k">as</span> <span class="n">u</span>
</pre></div>

</div>
</div>
</div>

</div>
<div class="cell border-box-sizing code_cell rendered">
<div class="input">
<div class="prompt input_prompt">In&nbsp;[53]:</div>
<div class="inner_cell">
    <div class="input_area">
<div class=" highlight hl-ipython3"><pre><span></span><span class="mf">5.</span> <span class="o">*</span> <span class="n">u</span><span class="o">.</span><span class="n">milligram</span>
</pre></div>

</div>
</div>
</div>

<div class="output_wrapper">
<div class="output">


<div class="output_area"><div class="prompt output_prompt">Out[53]:</div>


<div class="output_latex output_subarea output_execute_result">
$$5.0 \cdot 10^{-6} kg$$
</div>

</div>

</div>
</div>

</div>
<div class="cell border-box-sizing code_cell rendered">
<div class="input">
<div class="prompt input_prompt">In&nbsp;[54]:</div>
<div class="inner_cell">
    <div class="input_area">
<div class=" highlight hl-ipython3"><pre><span></span><span class="mf">1.</span><span class="o">/</span><span class="mi">2</span> <span class="o">*</span> <span class="n">u</span><span class="o">.</span><span class="n">inch</span>
</pre></div>

</div>
</div>
</div>

<div class="output_wrapper">
<div class="output">


<div class="output_area"><div class="prompt output_prompt">Out[54]:</div>


<div class="output_latex output_subarea output_execute_result">
$$0.0127 m$$
</div>

</div>

</div>
</div>

</div>
<div class="cell border-box-sizing code_cell rendered">
<div class="input">
<div class="prompt input_prompt">In&nbsp;[55]:</div>
<div class="inner_cell">
    <div class="input_area">
<div class=" highlight hl-ipython3"><pre><span></span><span class="mf">1.</span> <span class="o">*</span> <span class="n">u</span><span class="o">.</span><span class="n">nano</span>
</pre></div>

</div>
</div>
</div>

<div class="output_wrapper">
<div class="output">


<div class="output_area"><div class="prompt output_prompt">Out[55]:</div>


<div class="output_latex output_subarea output_execute_result">
$$1.0 \cdot 10^{-9}$$
</div>

</div>

</div>
</div>

</div>
<div class="cell border-box-sizing code_cell rendered">
<div class="input">
<div class="prompt input_prompt">In&nbsp;[56]:</div>
<div class="inner_cell">
    <div class="input_area">
<div class=" highlight hl-ipython3"><pre><span></span><span class="n">u</span><span class="o">.</span><span class="n">watt</span>
</pre></div>

</div>
</div>
</div>

<div class="output_wrapper">
<div class="output">


<div class="output_area"><div class="prompt output_prompt">Out[56]:</div>


<div class="output_latex output_subarea output_execute_result">
$$\frac{kg m^{2}}{s^{3}}$$
</div>

</div>

</div>
</div>

</div>
<div class="cell border-box-sizing code_cell rendered">
<div class="input">
<div class="prompt input_prompt">In&nbsp;[57]:</div>
<div class="inner_cell">
    <div class="input_area">
<div class=" highlight hl-ipython3"><pre><span></span><span class="n">u</span><span class="o">.</span><span class="n">ohm</span>
</pre></div>

</div>
</div>
</div>

<div class="output_wrapper">
<div class="output">


<div class="output_area"><div class="prompt output_prompt">Out[57]:</div>


<div class="output_latex output_subarea output_execute_result">
$$\frac{kg m^{2}}{A^{2} s^{3}}$$
</div>

</div>

</div>
</div>

</div>
<div class="cell border-box-sizing text_cell rendered">
<div class="prompt input_prompt">
</div>
<div class="inner_cell">
<div class="text_cell_render border-box-sizing rendered_html">
<h2 id="Converting-from-Kilometers/hours-to-Miles/hours">Converting from Kilometers/hours to Miles/hours<a class="anchor-link" href="#Converting-from-Kilometers/hours-to-Miles/hours">&#182;</a></h2>
</div>
</div>
</div>
<div class="cell border-box-sizing code_cell rendered">
<div class="input">
<div class="prompt input_prompt">In&nbsp;[58]:</div>
<div class="inner_cell">
    <div class="input_area">
<div class=" highlight hl-ipython3"><pre><span></span><span class="n">kmph</span> <span class="o">=</span> <span class="n">u</span><span class="o">.</span><span class="n">km</span> <span class="o">/</span> <span class="n">u</span><span class="o">.</span><span class="n">hour</span>
<span class="n">mph</span> <span class="o">=</span> <span class="n">u</span><span class="o">.</span><span class="n">mile</span> <span class="o">/</span> <span class="n">u</span><span class="o">.</span><span class="n">hour</span>

<span class="n">N</span><span class="p">(</span><span class="n">mph</span> <span class="o">/</span> <span class="n">kmph</span><span class="p">)</span>
</pre></div>

</div>
</div>
</div>

<div class="output_wrapper">
<div class="output">


<div class="output_area"><div class="prompt output_prompt">Out[58]:</div>


<div class="output_latex output_subarea output_execute_result">
$$1.609344$$
</div>

</div>

</div>
</div>

</div>
<div class="cell border-box-sizing code_cell rendered">
<div class="input">
<div class="prompt input_prompt">In&nbsp;[69]:</div>
<div class="inner_cell">
    <div class="input_area">
<div class=" highlight hl-ipython3"><pre><span></span><span class="mi">80</span> <span class="o">*</span> <span class="n">N</span><span class="p">(</span><span class="n">mph</span> <span class="o">/</span> <span class="n">kmph</span><span class="p">)</span>
</pre></div>

</div>
</div>
</div>

<div class="output_wrapper">
<div class="output">


<div class="output_area"><div class="prompt output_prompt">Out[69]:</div>


<div class="output_latex output_subarea output_execute_result">
$$128.74752$$
</div>

</div>

</div>
</div>

</div>
<div class="cell border-box-sizing text_cell rendered">
<div class="prompt input_prompt">
</div>
<div class="inner_cell">
<div class="text_cell_render border-box-sizing rendered_html">
<h1 id="Working-with-NumPy-/-Pandas-and-Matplotlib">Working with NumPy / Pandas and Matplotlib<a class="anchor-link" href="#Working-with-NumPy-/-Pandas-and-Matplotlib">&#182;</a></h1>
</div>
</div>
</div>
<div class="cell border-box-sizing code_cell rendered">
<div class="input">
<div class="prompt input_prompt">In&nbsp;[59]:</div>
<div class="inner_cell">
    <div class="input_area">
<div class=" highlight hl-ipython3"><pre><span></span><span class="k">def</span> <span class="nf">sympy_expr</span><span class="p">(</span><span class="n">x_val</span><span class="p">):</span>
    <span class="n">expr</span> <span class="o">=</span> <span class="n">x</span><span class="o">**</span><span class="mi">2</span> <span class="o">+</span> <span class="n">sqrt</span><span class="p">(</span><span class="mi">3</span><span class="p">)</span><span class="o">*</span><span class="n">x</span> <span class="o">-</span> <span class="n">Rational</span><span class="p">(</span><span class="mi">1</span><span class="p">,</span><span class="mi">3</span><span class="p">)</span>
    <span class="k">return</span> <span class="n">expr</span><span class="o">.</span><span class="n">subs</span><span class="p">(</span><span class="n">x</span><span class="p">,</span> <span class="n">x_val</span><span class="p">)</span>
</pre></div>

</div>
</div>
</div>

</div>
<div class="cell border-box-sizing code_cell rendered">
<div class="input">
<div class="prompt input_prompt">In&nbsp;[60]:</div>
<div class="inner_cell">
    <div class="input_area">
<div class=" highlight hl-ipython3"><pre><span></span><span class="n">sympy_expr</span><span class="p">(</span><span class="mi">3</span><span class="p">)</span>
</pre></div>

</div>
</div>
</div>

<div class="output_wrapper">
<div class="output">


<div class="output_area"><div class="prompt output_prompt">Out[60]:</div>


<div class="output_latex output_subarea output_execute_result">
$$3 \sqrt{3} + \frac{26}{3}$$
</div>

</div>

</div>
</div>

</div>
<div class="cell border-box-sizing code_cell rendered">
<div class="input">
<div class="prompt input_prompt">In&nbsp;[61]:</div>
<div class="inner_cell">
    <div class="input_area">
<div class=" highlight hl-ipython3"><pre><span></span><span class="kn">import</span> <span class="nn">numpy</span> <span class="k">as</span> <span class="nn">np</span>
<span class="kn">import</span> <span class="nn">pandas</span> <span class="k">as</span> <span class="nn">pd</span>
<span class="kn">import</span> <span class="nn">matplotlib.pyplot</span> <span class="k">as</span> <span class="nn">plt</span>
</pre></div>

</div>
</div>
</div>

</div>
<div class="cell border-box-sizing code_cell rendered">
<div class="input">
<div class="prompt input_prompt">In&nbsp;[62]:</div>
<div class="inner_cell">
    <div class="input_area">
<div class=" highlight hl-ipython3"><pre><span></span><span class="n">list1</span> <span class="o">=</span> <span class="n">np</span><span class="o">.</span><span class="n">arange</span><span class="p">(</span><span class="mi">1</span><span class="p">,</span><span class="mi">1000</span><span class="p">)</span>
<span class="n">list2</span> <span class="o">=</span> <span class="n">pd</span><span class="o">.</span><span class="n">Series</span><span class="p">(</span><span class="n">list1</span><span class="p">)</span>
</pre></div>

</div>
</div>
</div>

</div>
<div class="cell border-box-sizing code_cell rendered">
<div class="input">
<div class="prompt input_prompt">In&nbsp;[63]:</div>
<div class="inner_cell">
    <div class="input_area">
<div class=" highlight hl-ipython3"><pre><span></span><span class="o">%</span><span class="k">timeit</span> [sympy_expr(item) for item in list1]
<span class="o">%</span><span class="k">timeit</span> [sympy_expr(item) for item in list2]
</pre></div>

</div>
</div>
</div>

<div class="output_wrapper">
<div class="output">


<div class="output_area"><div class="prompt"></div>
<div class="output_subarea output_stream output_stdout output_text">
<pre>1 loops, best of 3: 103 ms per loop
10 loops, best of 3: 105 ms per loop
</pre>
</div>
</div>

</div>
</div>

</div>
<div class="cell border-box-sizing code_cell rendered">
<div class="input">
<div class="prompt input_prompt">In&nbsp;[64]:</div>
<div class="inner_cell">
    <div class="input_area">
<div class=" highlight hl-ipython3"><pre><span></span><span class="o">%</span><span class="k">timeit</span> np.vectorize(sympy_expr)(list1)
<span class="o">%</span><span class="k">timeit</span> list2.apply(sympy_expr)
</pre></div>

</div>
</div>
</div>

<div class="output_wrapper">
<div class="output">


<div class="output_area"><div class="prompt"></div>
<div class="output_subarea output_stream output_stdout output_text">
<pre>10 loops, best of 3: 776 ms per loop
1 loops, best of 3: 1.09 s per loop
</pre>
</div>
</div>

</div>
</div>

</div>
<div class="cell border-box-sizing code_cell rendered">
<div class="input">
<div class="prompt input_prompt">In&nbsp;[65]:</div>
<div class="inner_cell">
    <div class="input_area">
<div class=" highlight hl-ipython3"><pre><span></span><span class="n">expr</span> <span class="o">=</span> <span class="n">x</span><span class="o">**</span><span class="mi">2</span> <span class="o">+</span> <span class="n">sqrt</span><span class="p">(</span><span class="mi">3</span><span class="p">)</span><span class="o">*</span><span class="n">x</span> <span class="o">-</span> <span class="n">Rational</span><span class="p">(</span><span class="mi">1</span><span class="p">,</span><span class="mi">3</span><span class="p">)</span>

<span class="n">lf</span> <span class="o">=</span> <span class="n">lambdify</span><span class="p">(</span><span class="n">x</span><span class="p">,</span> <span class="n">expr</span><span class="p">)</span>
</pre></div>

</div>
</div>
</div>

</div>
<div class="cell border-box-sizing code_cell rendered">
<div class="input">
<div class="prompt input_prompt">In&nbsp;[66]:</div>
<div class="inner_cell">
    <div class="input_area">
<div class=" highlight hl-ipython3"><pre><span></span><span class="o">%</span><span class="k">timeit</span> lf(list1)
<span class="o">%</span><span class="k">timeit</span> lf(list2)
</pre></div>

</div>
</div>
</div>

<div class="output_wrapper">
<div class="output">


<div class="output_area"><div class="prompt"></div>
<div class="output_subarea output_stream output_stdout output_text">
<pre>1000 loops, best of 3: 242 µs per loop
100 loops, best of 3: 4.8 ms per loop
</pre>
</div>
</div>

</div>
</div>

</div>
<div class="cell border-box-sizing code_cell rendered">
<div class="input">
<div class="prompt input_prompt">In&nbsp;[67]:</div>
<div class="inner_cell">
    <div class="input_area">
<div class=" highlight hl-ipython3"><pre><span></span><span class="n">fig</span> <span class="o">=</span> <span class="n">plt</span><span class="o">.</span><span class="n">figure</span><span class="p">()</span>
<span class="n">axes</span> <span class="o">=</span> <span class="n">fig</span><span class="o">.</span><span class="n">add_subplot</span><span class="p">(</span><span class="mi">111</span><span class="p">)</span>

<span class="n">x_vals</span> <span class="o">=</span> <span class="n">np</span><span class="o">.</span><span class="n">linspace</span><span class="p">(</span><span class="o">-</span><span class="mf">5.</span><span class="p">,</span><span class="mf">5.</span><span class="p">)</span>
<span class="n">y_vals</span> <span class="o">=</span> <span class="n">lf</span><span class="p">(</span><span class="n">x_vals</span><span class="p">)</span>

<span class="n">axes</span><span class="o">.</span><span class="n">grid</span><span class="p">()</span>
<span class="n">axes</span><span class="o">.</span><span class="n">plot</span><span class="p">(</span><span class="n">x_vals</span><span class="p">,</span> <span class="n">y_vals</span><span class="p">)</span>

<span class="n">plt</span><span class="o">.</span><span class="n">show</span><span class="p">();</span>
</pre></div>

</div>
</div>
</div>

<div class="output_wrapper">
<div class="output">


<div class="output_area"><div class="prompt"></div>


<div class="output_png output_subarea ">
<img src="data:image/png;base64,iVBORw0KGgoAAAANSUhEUgAAAXAAAAEACAYAAACqOy3+AAAABHNCSVQICAgIfAhkiAAAAAlwSFlz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"
>
</div>

</div>

</div>
</div>

</div>
    </div>
  </div>

  </div>


  
    <footer class="footer hidden-print">
      <div class="container">
        <div class="col-md-4">
          <p>
            This website does not host notebooks, it only renders notebooks
            available on other websites.
          </p>
        </div>

        <div class="col-md-4">
          <p>
            Delivered by <a href="http://www.fastly.com/">Fastly</a>,
            Rendered by <a href="https://developer.rackspace.com/?nbviewer=awesome">Rackspace</a>
          </p>
          <p>
            nbviewer GitHub <a href="https://github.com/jupyter/nbviewer">repository</a>.
          </p>
        </div>

        <div class="col-md-4">
          
  
            
              <p>
                nbviewer version:
                <a href="https://github.com/jupyter/nbviewer/commit/41cd82f09350776a356420a4f7dedcaf52410650">
                  41cd82f
                </a>
              </p>
            
          
  
  <p>
    notebook version: <a href="https://github.com/jupyter/notebook/releases/tag/">
      
    </a>
  </p>
  <p>
    nbconvert version: <a href="https://github.com/jupyter/nbconvert/releases/tag/4.1.0">
      4.1.0
    </a>
  </p>
  

          
  
  
  <p>
    Rendered
    <span class='date' data-date='Mon, 21 Mar 2016 15:44:58 UTC' title='Mon, 21 Mar 2016 15:44:58 UTC'>(Mon, 21 Mar 2016 15:44:58 UTC)</span>
  </p>
  

        </div>
      </div>
    </footer>
  

  <script src="/static/components/bootstrap/js/bootstrap.min.js"></script>
  <script src="/static/components/headroom.js/dist/headroom.min.js"></script>
  <script src="/static/components/headroom.js/dist/jQuery.headroom.min.js"></script>

  
  
  <script>
    $(function(){ $("#menubar").headroom({
      tolerance: 5,
      offset: 205,
      classes: {
        initial: "animated",
        pinned: "slideInDown",
        unpinned: "slideOutUp"
      }
    })});
  </script>


  <script>
    (function(i,s,o,g,r,a,m){i['GoogleAnalyticsObject']=r;i[r]=i[r]||function(){
      (i[r].q=i[r].q||[]).push(arguments)},i[r].l=1*new Date();a=s.createElement(o),
      m=s.getElementsByTagName(o)[0];a.async=1;a.src=g;m.parentNode.insertBefore(a,m)
    })(window,document,'script','//www.google-analytics.com/analytics.js','ga');
    ga('create', 'UA-38683231-2', 'auto');
    ga('send', 'pageview');
  </script>
  <script>
    require({
        paths: {
          moment: "/static/components/moment/min/moment.min.js"
        }
      }, ["moment"], function(moment){
      var date = $("footer .date"),
        m = moment(new Date(date.data('date'))),
        update = function(){ date.text(m.fromNow()); };
      setInterval(update, 61*1000);
      update();
      var w = $(window).scroll(function(event){
        $("body").toggleClass("scrolled", w.scrollTop() > 0);
      });
    });
  </script>
  <!--NEW RELIC Stop Perf Measurement-->
  
  <!--NEW RELIC End-->
</body>
</html>