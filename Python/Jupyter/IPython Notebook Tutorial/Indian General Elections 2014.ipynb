








<!DOCTYPE html>
<html lang="en">

<head>
  <meta charset="utf-8">
  <title>Jupyter Notebook Viewer</title>
  <meta name="viewport" content="width=device-width, initial-scale=1.0">
  <meta name="description" content="">
  <meta name="author" content="">
  
  <meta name="robots" content="noindex,nofollow">
  

  <!--NEW RELIC Start Perf Measurement-->
  
  <!--NREND-->

  <!-- Le styles -->
  <script type="text/javascript">
//<![CDATA[
try{if (!window.CloudFlare) {var CloudFlare=[{verbose:0,p:0,byc:0,owlid:"cf",bag2:1,mirage2:0,oracle:0,paths:{cloudflare:"/cdn-cgi/nexp/dok3v=1613a3a185/"},atok:"8abd9c9a379d7d508d76caa772429427",petok:"df3bb0bd1adabbbda86c2c668b781b068c648c49-1458576604-1800",zone:"jupyter.org",rocket:"0",apps:{"ga_key":{"ua":"UA-52617120-5","ga_bs":"2"}},sha2test:0}];!function(a,b){a=document.createElement("script"),b=document.getElementsByTagName("script")[0],a.async=!0,a.src="//ajax.cloudflare.com/cdn-cgi/nexp/dok3v=e982913d31/cloudflare.min.js",b.parentNode.insertBefore(a,b)}()}}catch(e){};
//]]>
</script>
<link href="/static/build/styles.css" rel="stylesheet">

  <!-- Le HTML5 shim, for IE6-8 support of HTML5 elements -->
  <!--[if lt IE 9]>
    <script src="http://html5shim.googlecode.com/svn/trunk/html5.js"></script>
  <![endif]-->

  <!-- Le fav and touch icons -->
  <link rel="shortcut icon" href="/static/ico/ipynb_icon_16x16.png">
  <link rel="apple-touch-icon-precomposed" sizes="144x144"
        href="/static/ico/apple-touch-icon-144-precomposed.png">
  <link rel="apple-touch-icon-precomposed" sizes="114x114"
        href="/static/ico/apple-touch-icon-114-precomposed.png">
  <link rel="apple-touch-icon-precomposed" sizes="72x72"
        href="/static/ico/apple-touch-icon-72-precomposed.png">
  <link rel="apple-touch-icon-precomposed"
        href="/static/ico/apple-touch-icon-57-precomposed.png">
  
  

  

  
  <meta name="twitter:card" content="summary">
  <meta name="twitter:title" content="Notebook on nbviewer">
  <meta name="twitter:description" content="Check out this Jupyter notebook!">

  
  <meta name="twitter:domain" content="nbviewer.ipython.org">
  <meta name="twitter:image:src" content="http://ipython.org/ipython-doc/dev/_images/ipynb_icon_128x128.png">

  
    <link href="/static/build/notebook.css" rel="stylesheet">
  

  

  
    <script src="https://cdn.mathjax.org/mathjax/latest/MathJax.js?config=TeX-AMS_HTML" type="text/javascript">
    </script>
    <script type="text/javascript">
      init_mathjax = function() {
        if (window.MathJax) {
          // MathJax loaded
          MathJax.Hub.Config({
            TeX: {
              equationNumbers: {
                autoNumber: "AMS",
                useLabelIds: true
              }
            },
            tex2jax: {
              inlineMath: [ ['$','$'], ["\\(","\\)"] ],
              displayMath: [ ['$$','$$'], ["\\[","\\]"] ],
              processEscapes: true,
              processEnvironments: true
            },
            displayAlign: 'center',
            "HTML-CSS": {
              styles: {'.MathJax_Display': {"margin": 0}},
              linebreaks: { automatic: true }
            }
          });
          MathJax.Hub.Queue(["Typeset", MathJax.Hub]);
        }
      }
      init_mathjax();
    </script>
  

<script type="text/javascript">
/* <![CDATA[ */
var _gaq = _gaq || [];
_gaq.push(['_setAccount', 'UA-52617120-5']);
_gaq.push(['_trackPageview']);

(function() {
var ga = document.createElement('script'); ga.type = 'text/javascript'; ga.async = true;
ga.src = ('https:' == document.location.protocol ? 'https://ssl' : 'http://www') + '.google-analytics.com/ga.js';
var s = document.getElementsByTagName('script')[0]; s.parentNode.insertBefore(ga, s);
})();

(function(b){(function(a){"__CF"in b&&"DJS"in b.__CF?b.__CF.DJS.push(a):"addEventListener"in b?b.addEventListener("load",a,!1):b.attachEvent("onload",a)})(function(){"FB"in b&&"Event"in FB&&"subscribe"in FB.Event&&(FB.Event.subscribe("edge.create",function(a){_gaq.push(["_trackSocial","facebook","like",a])}),FB.Event.subscribe("edge.remove",function(a){_gaq.push(["_trackSocial","facebook","unlike",a])}),FB.Event.subscribe("message.send",function(a){_gaq.push(["_trackSocial","facebook","send",a])}));"twttr"in b&&"events"in twttr&&"bind"in twttr.events&&twttr.events.bind("tweet",function(a){if(a){var b;if(a.target&&a.target.nodeName=="IFRAME")a:{if(a=a.target.src){a=a.split("#")[0].match(/[^?=&]+=([^&]*)?/g);b=0;for(var c;c=a[b];++b)if(c.indexOf("url")===0){b=unescape(c.split("=")[1]);break a}}b=void 0}_gaq.push(["_trackSocial","twitter","tweet",b])}})})})(window);
/* ]]> */
</script>
</head>

<body>

  <!-- These are loaded at the top of the body so they are available to
       notebook cells when they are loaded below. -->
  <script src="/static/components/jquery/dist/jquery.min.js"></script>
  <script src="/static/components/requirejs/require.js"></script>
  <script src="/static/components/moment/min/moment.min.js"></script>

<!-- Navbar
================================================== -->
  <nav id="menubar" class="navbar navbar-default navbar-fixed-top" data-spy="affix">
    <div class="container">
      <div class="navbar-header">
        <button type="button" class="navbar-toggle collapsed" data-toggle="collapse" data-target=".navbar-collapse">
          <span class="sr-only">Toggle navigation</span>
          <i class="fa fa-bars"></i>
        </button>
        <a class="navbar-brand" href="/">
          <img src="/static/img/nav_logo.svg" width="159"/>
        </a>
      </div>

      <div class="collapse navbar-collapse">
        <ul class="nav navbar-nav navbar-right">
          <li>
            <a class="active" href="http://jupyter.org">JUPYTER</a>
          </li>
          <li>
    <a href="/faq" title="FAQ" >
      
        <span>FAQ</span>
      
    </a>
  </li>

          
  
    
  
    
      
        <li>
    <a href="/format/script/github/twistedhardware/mltutorial/blob/master/notebooks/IPython-Tutorial/Indian%20General%20Elections%202014.ipynb" title="View as Code" >
      <span class="fa fa- fa-2x menu-icon"></span>
      <span class="menu-text">View as Code</span>
    </a>
  </li>
      
    
  

  

  
    <li>
    <a href="https://github.com/twistedhardware/mltutorial/blob/master/notebooks/IPython-Tutorial/Indian%20General%20Elections%202014.ipynb" title="View on GitHub" >
      <span class="fa fa-github fa-2x menu-icon"></span>
      <span class="menu-text">View on GitHub</span>
    </a>
  </li>
  

  <li>
    <a href="https://raw.githubusercontent.com/twistedhardware/mltutorial/master/notebooks/IPython-Tutorial/Indian%20General%20Elections%202014.ipynb" title="Download Notebook" download>
      <span class="fa fa-download fa-2x menu-icon"></span>
      <span class="menu-text">Download Notebook</span>
    </a>
  </li>

        </ul>
      </div><!-- /.navbar-collapse -->
      
      
    </div>
  </nav>

  <div class="container container-main">
    
  
  <ol class="breadcrumb">
    
      <li>
        <a href="/github/twistedhardware/mltutorial/tree/master">mltutorial</a>
      </li>
    
      <li>
        <a href="/github/twistedhardware/mltutorial/tree/master/notebooks">notebooks</a>
      </li>
    
      <li>
        <a href="/github/twistedhardware/mltutorial/tree/master/notebooks/IPython-Tutorial">IPython-Tutorial</a>
      </li>
    
  </ol>
  
  <div id="notebook">
    <div id="notebook-container">
      
<div class="cell border-box-sizing text_cell rendered">
<div class="prompt input_prompt">
</div>
<div class="inner_cell">
<div class="text_cell_render border-box-sizing rendered_html">
<h1 id="Tutorial-Brief">Tutorial Brief<a class="anchor-link" href="#Tutorial-Brief">&#182;</a></h1>
</div>
</div>
</div>
<div class="cell border-box-sizing text_cell rendered">
<div class="prompt input_prompt">
</div>
<div class="inner_cell">
<div class="text_cell_render border-box-sizing rendered_html">
<p>This is an a review of how to use IPython Notebooks.</p>

</div>
</div>
</div>
<div class="cell border-box-sizing text_cell rendered">
<div class="prompt input_prompt">
</div>
<div class="inner_cell">
<div class="text_cell_render border-box-sizing rendered_html">
<h1 id="Data-Sources">Data Sources<a class="anchor-link" href="#Data-Sources">&#182;</a></h1>
</div>
</div>
</div>
<div class="cell border-box-sizing text_cell rendered">
<div class="prompt input_prompt">
</div>
<div class="inner_cell">
<div class="text_cell_render border-box-sizing rendered_html">
<ul>
<li><a href="http://en.wikipedia.org/wiki/List_of_constituencies_of_the_Lok_Sabha">http://en.wikipedia.org/wiki/List_of_constituencies_of_the_Lok_Sabha</a></li>
<li><a href="http://eci.nic.in/eci_main1/GE2014/ge.html">http://eci.nic.in/eci_main1/GE2014/ge.html</a></li>
<li><a href="http://eci.nic.in/eci/eci.html">http://eci.nic.in/eci/eci.html</a></li>
<li><a href="http://eci.nic.in/eci_main1/current/ImpIns04042014.pdf">http://eci.nic.in/eci_main1/current/ImpIns04042014.pdf</a></li>
<li><a href="http://eci.nic.in/eci_main1/GE2014/PC_WISE_TURNOUT.htm">http://eci.nic.in/eci_main1/GE2014/PC_WISE_TURNOUT.htm</a></li>
</ul>

</div>
</div>
</div>
<div class="cell border-box-sizing text_cell rendered">
<div class="prompt input_prompt">
</div>
<div class="inner_cell">
<div class="text_cell_render border-box-sizing rendered_html">
<h1 id="Loading-the-data-using-Pandas">Loading the data using Pandas<a class="anchor-link" href="#Loading-the-data-using-Pandas">&#182;</a></h1>
</div>
</div>
</div>
<div class="cell border-box-sizing code_cell rendered">
<div class="input">
<div class="prompt input_prompt">In&nbsp;[1]:</div>
<div class="inner_cell">
    <div class="input_area">
<div class=" highlight hl-ipython3"><pre><span></span><span class="kn">import</span> <span class="nn">pandas</span> <span class="k">as</span> <span class="nn">pd</span>
<span class="c1">#This line is to make float division the default. For int division use //</span>
<span class="kn">from</span> <span class="nn">__future__</span> <span class="k">import</span> <span class="n">division</span>
</pre></div>

</div>
</div>
</div>

</div>
<div class="cell border-box-sizing code_cell rendered">
<div class="input">
<div class="prompt input_prompt">In&nbsp;[2]:</div>
<div class="inner_cell">
    <div class="input_area">
<div class=" highlight hl-ipython3"><pre><span></span><span class="n">path</span> <span class="o">=</span> <span class="s2">&quot;data/2014_indian_election_turnout.csv&quot;</span>
<span class="n">csv_data</span> <span class="o">=</span> <span class="n">pd</span><span class="o">.</span><span class="n">read_csv</span><span class="p">(</span><span class="n">path</span><span class="p">)</span>
<span class="n">csv_data</span>
</pre></div>

</div>
</div>
</div>

<div class="output_wrapper">
<div class="output">


<div class="output_area"><div class="prompt output_prompt">Out[2]:</div>

<div class="output_html rendered_html output_subarea output_execute_result">
<div style="max-height:1000px;max-width:1500px;overflow:auto;">
<table border="1" class="dataframe">
  <thead>
    <tr style="text-align: right;">
      <th></th>
      <th>State</th>
      <th>PC Name</th>
      <th>Male Electors</th>
      <th>Male Voters</th>
      <th>Female Electors</th>
      <th>Female Voters</th>
      <th>Total Electors</th>
      <th>Total Voters</th>
    </tr>
  </thead>
  <tbody>
    <tr>
      <th>0 </th>
      <td> Andaman &amp; Nicobar Islands</td>
      <td> 1 - Andaman &amp; Nicobar Islands</td>
      <td>  142782</td>
      <td> 101178</td>
      <td>  126578</td>
      <td>  89150</td>
      <td>  269360</td>
      <td>  190328</td>
    </tr>
    <tr>
      <th>1 </th>
      <td>            Andhra Pradesh</td>
      <td>                 1 - Adilabad </td>
      <td>  687389</td>
      <td> 519364</td>
      <td>  698844</td>
      <td> 526475</td>
      <td> 1386233</td>
      <td> 1045839</td>
    </tr>
    <tr>
      <th>2 </th>
      <td>            Andhra Pradesh</td>
      <td>               2 - Peddapalle </td>
      <td>  725767</td>
      <td> 520598</td>
      <td>  699594</td>
      <td> 501586</td>
      <td> 1425361</td>
      <td> 1022184</td>
    </tr>
    <tr>
      <th>3 </th>
      <td>            Andhra Pradesh</td>
      <td>               3 - Karimnagar </td>
      <td>  777458</td>
      <td> 552489</td>
      <td>  773376</td>
      <td> 573202</td>
      <td> 1550834</td>
      <td> 1125691</td>
    </tr>
    <tr>
      <th>4 </th>
      <td>            Andhra Pradesh</td>
      <td>                 4 - Nizamabad</td>
      <td>  724504</td>
      <td> 469712</td>
      <td>  771689</td>
      <td> 564212</td>
      <td> 1496193</td>
      <td> 1033924</td>
    </tr>
    <tr>
      <th>5 </th>
      <td>            Andhra Pradesh</td>
      <td>                 5 - Zahirabad</td>
      <td>  717811</td>
      <td> 546746</td>
      <td>  727435</td>
      <td> 548060</td>
      <td> 1445246</td>
      <td> 1094806</td>
    </tr>
    <tr>
      <th>6 </th>
      <td>            Andhra Pradesh</td>
      <td>                     6 - Medak</td>
      <td>  775903</td>
      <td> 606863</td>
      <td>  760812</td>
      <td> 584233</td>
      <td> 1536715</td>
      <td> 1191096</td>
    </tr>
    <tr>
      <th>7 </th>
      <td>            Andhra Pradesh</td>
      <td>                7 - Malkajgiri</td>
      <td> 1723413</td>
      <td> 878093</td>
      <td> 1459912</td>
      <td> 742304</td>
      <td> 3183325</td>
      <td> 1620397</td>
    </tr>
    <tr>
      <th>8 </th>
      <td>            Andhra Pradesh</td>
      <td>               8 - Secundrabad</td>
      <td> 1012378</td>
      <td> 545749</td>
      <td>  881269</td>
      <td> 458020</td>
      <td> 1893647</td>
      <td> 1003769</td>
    </tr>
    <tr>
      <th>9 </th>
      <td>            Andhra Pradesh</td>
      <td>                 9 - Hyderabad</td>
      <td>  961290</td>
      <td> 526510</td>
      <td>  862374</td>
      <td> 444911</td>
      <td> 1823664</td>
      <td>  971421</td>
    </tr>
    <tr>
      <th>10</th>
      <td>            Andhra Pradesh</td>
      <td>                10 - CHELVELLA</td>
      <td> 1153049</td>
      <td> 696749</td>
      <td> 1032130</td>
      <td> 619113</td>
      <td> 2185179</td>
      <td> 1315862</td>
    </tr>
    <tr>
      <th>11</th>
      <td>            Andhra Pradesh</td>
      <td>              11 - Mahbubnagar</td>
      <td>  709711</td>
      <td> 511764</td>
      <td>  708961</td>
      <td> 503036</td>
      <td> 1418672</td>
      <td> 1014800</td>
    </tr>
    <tr>
      <th>12</th>
      <td>            Andhra Pradesh</td>
      <td>             12 - Nagarkurnool</td>
      <td>  745038</td>
      <td> 570342</td>
      <td>  732300</td>
      <td> 538626</td>
      <td> 1477338</td>
      <td> 1108968</td>
    </tr>
    <tr>
      <th>13</th>
      <td>            Andhra Pradesh</td>
      <td>                 13 - Nalgonda</td>
      <td>  747281</td>
      <td> 602193</td>
      <td>  748299</td>
      <td> 587206</td>
      <td> 1495580</td>
      <td> 1189399</td>
    </tr>
    <tr>
      <th>14</th>
      <td>            Andhra Pradesh</td>
      <td>                 14 - Bhongir </td>
      <td>  756963</td>
      <td> 622333</td>
      <td>  735288</td>
      <td> 589610</td>
      <td> 1492251</td>
      <td> 1211943</td>
    </tr>
    <tr>
      <th>15</th>
      <td>            Andhra Pradesh</td>
      <td>                 15 - Warangal</td>
      <td>  771756</td>
      <td> 592484</td>
      <td>  766025</td>
      <td> 582147</td>
      <td> 1537781</td>
      <td> 1174631</td>
    </tr>
    <tr>
      <th>16</th>
      <td>            Andhra Pradesh</td>
      <td>            16 - Mahabubabad  </td>
      <td>  688398</td>
      <td> 562073</td>
      <td>  698945</td>
      <td> 562297</td>
      <td> 1387343</td>
      <td> 1124370</td>
    </tr>
    <tr>
      <th>17</th>
      <td>            Andhra Pradesh</td>
      <td>                 17 - Khammam </td>
      <td>  712329</td>
      <td> 588728</td>
      <td>  727960</td>
      <td> 594169</td>
      <td> 1440289</td>
      <td> 1182897</td>
    </tr>
    <tr>
      <th>18</th>
      <td>            Andhra Pradesh</td>
      <td>                   18 - Aruku </td>
      <td>  622416</td>
      <td> 451350</td>
      <td>  650308</td>
      <td> 458264</td>
      <td> 1272724</td>
      <td>  909614</td>
    </tr>
    <tr>
      <th>19</th>
      <td>            Andhra Pradesh</td>
      <td>               19 - Srikakulam</td>
      <td>  706828</td>
      <td> 505010</td>
      <td>  707161</td>
      <td> 546436</td>
      <td> 1413989</td>
      <td> 1051446</td>
    </tr>
    <tr>
      <th>20</th>
      <td>            Andhra Pradesh</td>
      <td>             20 - Vizianagaram</td>
      <td>  700837</td>
      <td> 555005</td>
      <td>  703290</td>
      <td> 565311</td>
      <td> 1404127</td>
      <td> 1120316</td>
    </tr>
    <tr>
      <th>21</th>
      <td>            Andhra Pradesh</td>
      <td>            21 - Visakhapatnam</td>
      <td>  875187</td>
      <td> 585270</td>
      <td>  847850</td>
      <td> 578288</td>
      <td> 1723037</td>
      <td> 1163558</td>
    </tr>
    <tr>
      <th>22</th>
      <td>            Andhra Pradesh</td>
      <td>               22 - Anakapalli</td>
      <td>  689132</td>
      <td> 563818</td>
      <td>  712342</td>
      <td> 584254</td>
      <td> 1401474</td>
      <td> 1148072</td>
    </tr>
    <tr>
      <th>23</th>
      <td>            Andhra Pradesh</td>
      <td>                 23 - Kakinada</td>
      <td>  709101</td>
      <td> 558689</td>
      <td>  709189</td>
      <td> 541310</td>
      <td> 1418290</td>
      <td> 1099999</td>
    </tr>
    <tr>
      <th>24</th>
      <td>            Andhra Pradesh</td>
      <td>              24 - Amalapuram </td>
      <td>  682607</td>
      <td> 568534</td>
      <td>  675259</td>
      <td> 552393</td>
      <td> 1357866</td>
      <td> 1120927</td>
    </tr>
    <tr>
      <th>25</th>
      <td>            Andhra Pradesh</td>
      <td>              25 - Rajahmundry</td>
      <td>  701707</td>
      <td> 577999</td>
      <td>  719581</td>
      <td> 576382</td>
      <td> 1421288</td>
      <td> 1154381</td>
    </tr>
    <tr>
      <th>26</th>
      <td>            Andhra Pradesh</td>
      <td>               26 - Narsapuram</td>
      <td>  652668</td>
      <td> 539357</td>
      <td>  672475</td>
      <td> 549594</td>
      <td> 1325143</td>
      <td> 1088951</td>
    </tr>
    <tr>
      <th>27</th>
      <td>            Andhra Pradesh</td>
      <td>                   27 - Eluru </td>
      <td>  706916</td>
      <td> 597603</td>
      <td>  720844</td>
      <td> 604093</td>
      <td> 1427760</td>
      <td> 1201696</td>
    </tr>
    <tr>
      <th>28</th>
      <td>            Andhra Pradesh</td>
      <td>           28 - Machilipatnam </td>
      <td>  675774</td>
      <td> 567908</td>
      <td>  693537</td>
      <td> 573157</td>
      <td> 1369311</td>
      <td> 1141065</td>
    </tr>
    <tr>
      <th>29</th>
      <td>            Andhra Pradesh</td>
      <td>               29 - Vijayawada</td>
      <td>  781156</td>
      <td> 602198</td>
      <td>  783357</td>
      <td> 592877</td>
      <td> 1564513</td>
      <td> 1195075</td>
    </tr>
    <tr>
      <th>30</th>
      <td>            Andhra Pradesh</td>
      <td>                   30 - Guntur</td>
      <td>  773027</td>
      <td> 617483</td>
      <td>  798989</td>
      <td> 627443</td>
      <td> 1572016</td>
      <td> 1244926</td>
    </tr>
    <tr>
      <th>31</th>
      <td>            Andhra Pradesh</td>
      <td>             31 - Narasaraopet</td>
      <td>  748465</td>
      <td> 638080</td>
      <td>  766396</td>
      <td> 643978</td>
      <td> 1514861</td>
      <td> 1282058</td>
    </tr>
    <tr>
      <th>32</th>
      <td>            Andhra Pradesh</td>
      <td>                 32 - Bapatla </td>
      <td>  686482</td>
      <td> 587223</td>
      <td>  706483</td>
      <td> 597411</td>
      <td> 1392965</td>
      <td> 1184634</td>
    </tr>
    <tr>
      <th>33</th>
      <td>            Andhra Pradesh</td>
      <td>                  33 - Ongole </td>
      <td>  736245</td>
      <td> 603025</td>
      <td>  734238</td>
      <td> 605200</td>
      <td> 1470483</td>
      <td> 1208225</td>
    </tr>
    <tr>
      <th>34</th>
      <td>            Andhra Pradesh</td>
      <td>                  34 - Nandyal</td>
      <td>  783266</td>
      <td> 603562</td>
      <td>  793862</td>
      <td> 601394</td>
      <td> 1577128</td>
      <td> 1204956</td>
    </tr>
    <tr>
      <th>35</th>
      <td>            Andhra Pradesh</td>
      <td>                  35 - Kurnool</td>
      <td>  738791</td>
      <td> 544802</td>
      <td>  743016</td>
      <td> 520930</td>
      <td> 1481807</td>
      <td> 1065732</td>
    </tr>
    <tr>
      <th>36</th>
      <td>            Andhra Pradesh</td>
      <td>                36 - Anantapur</td>
      <td>  775509</td>
      <td> 612890</td>
      <td>  761403</td>
      <td> 592164</td>
      <td> 1536912</td>
      <td> 1205054</td>
    </tr>
    <tr>
      <th>37</th>
      <td>            Andhra Pradesh</td>
      <td>                 37 - Hindupur</td>
      <td>  734638</td>
      <td> 601932</td>
      <td>  711865</td>
      <td> 575325</td>
      <td> 1446503</td>
      <td> 1177257</td>
    </tr>
    <tr>
      <th>38</th>
      <td>            Andhra Pradesh</td>
      <td>                   38 - Kadapa</td>
      <td>  765036</td>
      <td> 588805</td>
      <td>  785543</td>
      <td> 611857</td>
      <td> 1550579</td>
      <td> 1200662</td>
    </tr>
    <tr>
      <th>39</th>
      <td>            Andhra Pradesh</td>
      <td>                  39 - Nellore</td>
      <td>  796583</td>
      <td> 593468</td>
      <td>  809557</td>
      <td> 594180</td>
      <td> 1606140</td>
      <td> 1187648</td>
    </tr>
    <tr>
      <th>40</th>
      <td>            Andhra Pradesh</td>
      <td>                40 - Tirupati </td>
      <td>  778778</td>
      <td> 604834</td>
      <td>  795766</td>
      <td> 608230</td>
      <td> 1574544</td>
      <td> 1213064</td>
    </tr>
    <tr>
      <th>41</th>
      <td>            Andhra Pradesh</td>
      <td>                 41 - Rajampet</td>
      <td>  735347</td>
      <td> 573019</td>
      <td>  752151</td>
      <td> 585298</td>
      <td> 1487498</td>
      <td> 1158317</td>
    </tr>
    <tr>
      <th>42</th>
      <td>            Andhra Pradesh</td>
      <td>                42 - Chittoor </td>
      <td>  723996</td>
      <td> 598259</td>
      <td>  728145</td>
      <td> 600656</td>
      <td> 1452141</td>
      <td> 1198915</td>
    </tr>
    <tr>
      <th>43</th>
      <td>         Arunachal Pradesh</td>
      <td>            1 - ARUNACHAL WEST</td>
      <td>  219334</td>
      <td> 159978</td>
      <td>  227181</td>
      <td> 175687</td>
      <td>  446515</td>
      <td>  335665</td>
    </tr>
    <tr>
      <th>44</th>
      <td>         Arunachal Pradesh</td>
      <td>            2 - ARUNACHAL EAST</td>
      <td>  160293</td>
      <td> 129313</td>
      <td>  152579</td>
      <td> 131978</td>
      <td>  312872</td>
      <td>  261291</td>
    </tr>
    <tr>
      <th>45</th>
      <td>                     Assam</td>
      <td>                1 - Karimganj </td>
      <td>  615198</td>
      <td> 482484</td>
      <td>  550799</td>
      <td> 404436</td>
      <td> 1165997</td>
      <td>  886920</td>
    </tr>
    <tr>
      <th>46</th>
      <td>                     Assam</td>
      <td>                   2 - Silchar</td>
      <td>  554540</td>
      <td> 428949</td>
      <td>  505635</td>
      <td> 370881</td>
      <td> 1060175</td>
      <td>  799830</td>
    </tr>
    <tr>
      <th>47</th>
      <td>                     Assam</td>
      <td>       3 - Autonomous District</td>
      <td>  358880</td>
      <td> 279409</td>
      <td>  343010</td>
      <td> 263871</td>
      <td>  701890</td>
      <td>  543280</td>
    </tr>
    <tr>
      <th>48</th>
      <td>                     Assam</td>
      <td>                    4 - Dhubri</td>
      <td>  798124</td>
      <td> 709191</td>
      <td>  754430</td>
      <td> 660433</td>
      <td> 1552554</td>
      <td> 1369624</td>
    </tr>
    <tr>
      <th>49</th>
      <td>                     Assam</td>
      <td>                 5 - Kokrajhar</td>
      <td>  776071</td>
      <td> 636657</td>
      <td>  729405</td>
      <td> 587212</td>
      <td> 1505476</td>
      <td> 1223869</td>
    </tr>
    <tr>
      <th>50</th>
      <td>                     Assam</td>
      <td>                   6 - Barpeta</td>
      <td>  755559</td>
      <td> 634405</td>
      <td>  674616</td>
      <td> 571458</td>
      <td> 1430175</td>
      <td> 1205863</td>
    </tr>
    <tr>
      <th>51</th>
      <td>                     Assam</td>
      <td>                   7 - Gauhati</td>
      <td>  988067</td>
      <td> 785494</td>
      <td>  934203</td>
      <td> 726235</td>
      <td> 1922270</td>
      <td> 1511729</td>
    </tr>
    <tr>
      <th>52</th>
      <td>                     Assam</td>
      <td>                 8 - Mangaldoi</td>
      <td>  791539</td>
      <td> 651272</td>
      <td>  724137</td>
      <td> 581965</td>
      <td> 1515676</td>
      <td> 1233237</td>
    </tr>
    <tr>
      <th>53</th>
      <td>                     Assam</td>
      <td>                    9 - Tezpur</td>
      <td>  654866</td>
      <td> 505643</td>
      <td>  604702</td>
      <td> 475045</td>
      <td> 1259568</td>
      <td>  980688</td>
    </tr>
    <tr>
      <th>54</th>
      <td>                     Assam</td>
      <td>                  10 - Nowgong</td>
      <td>  792424</td>
      <td> 639392</td>
      <td>  731457</td>
      <td> 590682</td>
      <td> 1523881</td>
      <td> 1230074</td>
    </tr>
    <tr>
      <th>55</th>
      <td>                     Assam</td>
      <td>                 11 - Kaliabor</td>
      <td>  752785</td>
      <td> 605292</td>
      <td>  705080</td>
      <td> 561198</td>
      <td> 1457865</td>
      <td> 1166490</td>
    </tr>
    <tr>
      <th>56</th>
      <td>                     Assam</td>
      <td>                   12 - Jorhat</td>
      <td>  634236</td>
      <td> 483829</td>
      <td>  600212</td>
      <td> 447507</td>
      <td> 1234448</td>
      <td>  931336</td>
    </tr>
    <tr>
      <th>57</th>
      <td>                     Assam</td>
      <td>                13 - Dibrugarh</td>
      <td>  579657</td>
      <td> 462412</td>
      <td>  544648</td>
      <td> 428556</td>
      <td> 1124305</td>
      <td>  890968</td>
    </tr>
    <tr>
      <th>58</th>
      <td>                     Assam</td>
      <td>                14 - Lakhimpur</td>
      <td>  735263</td>
      <td> 572334</td>
      <td>  695731</td>
      <td> 539641</td>
      <td> 1430994</td>
      <td> 1111975</td>
    </tr>
    <tr>
      <th>59</th>
      <td>                     Bihar</td>
      <td>             1 - Valmiki Nagar</td>
      <td>  786297</td>
      <td> 484621</td>
      <td>  670279</td>
      <td> 415493</td>
      <td> 1456576</td>
      <td>  900114</td>
    </tr>
    <tr>
      <th></th>
      <td>...</td>
      <td>...</td>
      <td>...</td>
      <td>...</td>
      <td>...</td>
      <td>...</td>
      <td>...</td>
      <td>...</td>
    </tr>
  </tbody>
</table>
<p>543 rows × 8 columns</p>
</div>
</div>

</div>

</div>
</div>

</div>
<div class="cell border-box-sizing text_cell rendered">
<div class="prompt input_prompt">
</div>
<div class="inner_cell">
<div class="text_cell_render border-box-sizing rendered_html">
<h1 id="Understanding-the-data">Understanding the data<a class="anchor-link" href="#Understanding-the-data">&#182;</a></h1>
</div>
</div>
</div>
<div class="cell border-box-sizing text_cell rendered">
<div class="prompt input_prompt">
</div>
<div class="inner_cell">
<div class="text_cell_render border-box-sizing rendered_html">
<ul>
<li><strong>State</strong>: State Name.</li>
<li><strong>PC Name</strong>:  Parliamentary Constituencies Names.</li>
<li><strong>Male Electors</strong>: The number of elegeble male voters.</li>
<li><strong>Male Voters</strong>: The number of male voters turnout.</li>
<li><strong>Female Electors</strong>: The number of elegeble female voters.</li>
<li><strong>Female Voters</strong>: The number of female voters turnout.</li>
<li><strong>Total Electors</strong>: The number of elegeble voters.</li>
<li><strong>Total Voters</strong>: The number of voters turnout.</li>
</ul>

</div>
</div>
</div>
<div class="cell border-box-sizing text_cell rendered">
<div class="prompt input_prompt">
</div>
<div class="inner_cell">
<div class="text_cell_render border-box-sizing rendered_html">
<p><img src="http://upload.wikimedia.org/wikipedia/commons/3/3a/Lok_Sabha_constituencies_of_India.png" alt="">
<img src="http://upload.wikimedia.org/wikipedia/commons/c/c1/State_and_union_territories_map.png" alt=""></p>

</div>
</div>
</div>
<div class="cell border-box-sizing text_cell rendered">
<div class="prompt input_prompt">
</div>
<div class="inner_cell">
<div class="text_cell_render border-box-sizing rendered_html">
<h1 id="Calculating-Turnout">Calculating Turnout<a class="anchor-link" href="#Calculating-Turnout">&#182;</a></h1>
</div>
</div>
</div>
<div class="cell border-box-sizing code_cell rendered">
<div class="input">
<div class="prompt input_prompt">In&nbsp;[3]:</div>
<div class="inner_cell">
    <div class="input_area">
<div class=" highlight hl-ipython3"><pre><span></span><span class="n">csv_data</span><span class="p">[</span><span class="s2">&quot;Male Turnout&quot;</span><span class="p">]</span> <span class="o">=</span> <span class="n">csv_data</span><span class="p">[</span><span class="s2">&quot;Male Voters&quot;</span><span class="p">]</span> <span class="o">/</span> <span class="n">csv_data</span><span class="p">[</span><span class="s2">&quot;Male Electors&quot;</span><span class="p">]</span>
<span class="n">csv_data</span><span class="p">[</span><span class="s2">&quot;Female Turnout&quot;</span><span class="p">]</span> <span class="o">=</span> <span class="n">csv_data</span><span class="p">[</span><span class="s2">&quot;Female Voters&quot;</span><span class="p">]</span> <span class="o">/</span> <span class="n">csv_data</span><span class="p">[</span><span class="s2">&quot;Female Electors&quot;</span><span class="p">]</span>
<span class="n">csv_data</span><span class="p">[</span><span class="s2">&quot;Total Turnout&quot;</span><span class="p">]</span> <span class="o">=</span> <span class="n">csv_data</span><span class="p">[</span><span class="s2">&quot;Total Voters&quot;</span><span class="p">]</span> <span class="o">/</span> <span class="n">csv_data</span><span class="p">[</span><span class="s2">&quot;Total Electors&quot;</span><span class="p">]</span>
</pre></div>

</div>
</div>
</div>

</div>
<div class="cell border-box-sizing text_cell rendered">
<div class="prompt input_prompt">
</div>
<div class="inner_cell">
<div class="text_cell_render border-box-sizing rendered_html">
<h1 id="Statistical-Analysis-of-Turnout">Statistical Analysis of Turnout<a class="anchor-link" href="#Statistical-Analysis-of-Turnout">&#182;</a></h1>
</div>
</div>
</div>
<div class="cell border-box-sizing code_cell rendered">
<div class="input">
<div class="prompt input_prompt">In&nbsp;[4]:</div>
<div class="inner_cell">
    <div class="input_area">
<div class=" highlight hl-ipython3"><pre><span></span><span class="n">csv_data</span><span class="o">.</span><span class="n">describe</span><span class="p">()</span>
</pre></div>

</div>
</div>
</div>

<div class="output_wrapper">
<div class="output">


<div class="output_area"><div class="prompt output_prompt">Out[4]:</div>

<div class="output_html rendered_html output_subarea output_execute_result">
<div style="max-height:1000px;max-width:1500px;overflow:auto;">
<table border="1" class="dataframe">
  <thead>
    <tr style="text-align: right;">
      <th></th>
      <th>Male Electors</th>
      <th>Male Voters</th>
      <th>Female Electors</th>
      <th>Female Voters</th>
      <th>Total Electors</th>
      <th>Total Voters</th>
      <th>Male Turnout</th>
      <th>Female Turnout</th>
      <th>Total Turnout</th>
    </tr>
  </thead>
  <tbody>
    <tr>
      <th>count</th>
      <td>     543.000000</td>
      <td>    543.000000</td>
      <td>     543.000000</td>
      <td>    543.000000</td>
      <td>     543.000000</td>
      <td>     543.000000</td>
      <td> 543.000000</td>
      <td> 543.000000</td>
      <td> 543.000000</td>
    </tr>
    <tr>
      <th>mean</th>
      <td>  804883.127072</td>
      <td> 540030.900552</td>
      <td>  731215.360958</td>
      <td> 479861.918969</td>
      <td> 1536098.488029</td>
      <td> 1019892.819521</td>
      <td>   0.680646</td>
      <td>   0.663664</td>
      <td>   0.672688</td>
    </tr>
    <tr>
      <th>std</th>
      <td>  165950.096614</td>
      <td> 105316.219120</td>
      <td>  127159.414206</td>
      <td>  96137.678162</td>
      <td>  288064.231735</td>
      <td>  192716.272135</td>
      <td>   0.100641</td>
      <td>   0.111115</td>
      <td>   0.102917</td>
    </tr>
    <tr>
      <th>min</th>
      <td>   25433.000000</td>
      <td>  21585.000000</td>
      <td>   24489.000000</td>
      <td>  21654.000000</td>
      <td>   49922.000000</td>
      <td>   43239.000000</td>
      <td>   0.283097</td>
      <td>   0.232644</td>
      <td>   0.259047</td>
    </tr>
    <tr>
      <th>25%</th>
      <td>  728644.000000</td>
      <td> 491359.000000</td>
      <td>  691996.500000</td>
      <td> 430761.500000</td>
      <td> 1425052.000000</td>
      <td>  940426.500000</td>
      <td>   0.608490</td>
      <td>   0.578545</td>
      <td>   0.592252</td>
    </tr>
    <tr>
      <th>50%</th>
      <td>  814968.000000</td>
      <td> 549484.000000</td>
      <td>  740045.000000</td>
      <td> 484001.000000</td>
      <td> 1555779.000000</td>
      <td> 1033783.000000</td>
      <td>   0.680857</td>
      <td>   0.656567</td>
      <td>   0.667207</td>
    </tr>
    <tr>
      <th>75%</th>
      <td>  899919.500000</td>
      <td> 597803.000000</td>
      <td>  791426.500000</td>
      <td> 540898.000000</td>
      <td> 1692364.500000</td>
      <td> 1129424.500000</td>
      <td>   0.763453</td>
      <td>   0.756988</td>
      <td>   0.755237</td>
    </tr>
    <tr>
      <th>max</th>
      <td> 1723413.000000</td>
      <td> 878093.000000</td>
      <td> 1459912.000000</td>
      <td> 742304.000000</td>
      <td> 3183325.000000</td>
      <td> 1620397.000000</td>
      <td>   0.888572</td>
      <td>   0.892712</td>
      <td>   0.882175</td>
    </tr>
  </tbody>
</table>
<p>8 rows × 9 columns</p>
</div>
</div>

</div>

</div>
</div>

</div>
<div class="cell border-box-sizing text_cell rendered">
<div class="prompt input_prompt">
</div>
<div class="inner_cell">
<div class="text_cell_render border-box-sizing rendered_html">
<h2 id="Quick-Facts">Quick Facts<a class="anchor-link" href="#Quick-Facts">&#182;</a></h2>
</div>
</div>
</div>
<div class="cell border-box-sizing text_cell rendered">
<div class="prompt input_prompt">
</div>
<div class="inner_cell">
<div class="text_cell_render border-box-sizing rendered_html">
<h3 id="Total-Electors">Total Electors<a class="anchor-link" href="#Total-Electors">&#182;</a></h3>
</div>
</div>
</div>
<div class="cell border-box-sizing code_cell rendered">
<div class="input">
<div class="prompt input_prompt">In&nbsp;[5]:</div>
<div class="inner_cell">
    <div class="input_area">
<div class=" highlight hl-ipython3"><pre><span></span><span class="nb">print</span> <span class="s1">&#39;</span><span class="si">{0:,}</span><span class="s1">&#39;</span><span class="o">.</span><span class="n">format</span><span class="p">(</span><span class="n">csv_data</span><span class="p">[</span><span class="s2">&quot;Total Electors&quot;</span><span class="p">]</span><span class="o">.</span><span class="n">sum</span><span class="p">())</span>
</pre></div>

</div>
</div>
</div>

<div class="output_wrapper">
<div class="output">


<div class="output_area"><div class="prompt"></div>
<div class="output_subarea output_stream output_stdout output_text">
<pre>834,101,479
</pre>
</div>
</div>

</div>
</div>

</div>
<div class="cell border-box-sizing text_cell rendered">
<div class="prompt input_prompt">
</div>
<div class="inner_cell">
<div class="text_cell_render border-box-sizing rendered_html">
<h3 id="Gender-Ration-(Men-to-Women)">Gender Ration (Men to Women)<a class="anchor-link" href="#Gender-Ration-(Men-to-Women)">&#182;</a></h3>
</div>
</div>
</div>
<div class="cell border-box-sizing code_cell rendered">
<div class="input">
<div class="prompt input_prompt">In&nbsp;[6]:</div>
<div class="inner_cell">
    <div class="input_area">
<div class=" highlight hl-ipython3"><pre><span></span><span class="nb">print</span> <span class="s1">&#39;</span><span class="si">%.2f%%</span><span class="s1">&#39;</span> <span class="o">%</span> <span class="p">(</span><span class="n">csv_data</span><span class="p">[</span><span class="s2">&quot;Female Electors&quot;</span><span class="p">]</span><span class="o">.</span><span class="n">sum</span><span class="p">()</span> <span class="o">/</span> <span class="n">csv_data</span><span class="p">[</span><span class="s2">&quot;Male Electors&quot;</span><span class="p">]</span><span class="o">.</span><span class="n">sum</span><span class="p">()</span><span class="o">*</span><span class="mi">100</span><span class="p">)</span>
</pre></div>

</div>
</div>
</div>

<div class="output_wrapper">
<div class="output">


<div class="output_area"><div class="prompt"></div>
<div class="output_subarea output_stream output_stdout output_text">
<pre>90.85%
</pre>
</div>
</div>

</div>
</div>

</div>
<div class="cell border-box-sizing text_cell rendered">
<div class="prompt input_prompt">
</div>
<div class="inner_cell">
<div class="text_cell_render border-box-sizing rendered_html">
<h3 id="Total-Voters">Total Voters<a class="anchor-link" href="#Total-Voters">&#182;</a></h3>
</div>
</div>
</div>
<div class="cell border-box-sizing code_cell rendered">
<div class="input">
<div class="prompt input_prompt">In&nbsp;[7]:</div>
<div class="inner_cell">
    <div class="input_area">
<div class=" highlight hl-ipython3"><pre><span></span><span class="nb">print</span> <span class="s1">&#39;</span><span class="si">{0:,}</span><span class="s1">&#39;</span><span class="o">.</span><span class="n">format</span><span class="p">(</span><span class="n">csv_data</span><span class="p">[</span><span class="s2">&quot;Total Voters&quot;</span><span class="p">]</span><span class="o">.</span><span class="n">sum</span><span class="p">())</span>
</pre></div>

</div>
</div>
</div>

<div class="output_wrapper">
<div class="output">


<div class="output_area"><div class="prompt"></div>
<div class="output_subarea output_stream output_stdout output_text">
<pre>553,801,801
</pre>
</div>
</div>

</div>
</div>

</div>
<div class="cell border-box-sizing text_cell rendered">
<div class="prompt input_prompt">
</div>
<div class="inner_cell">
<div class="text_cell_render border-box-sizing rendered_html">
<h3 id="Total-Turnout">Total Turnout<a class="anchor-link" href="#Total-Turnout">&#182;</a></h3>
</div>
</div>
</div>
<div class="cell border-box-sizing code_cell rendered">
<div class="input">
<div class="prompt input_prompt">In&nbsp;[8]:</div>
<div class="inner_cell">
    <div class="input_area">
<div class=" highlight hl-ipython3"><pre><span></span><span class="nb">print</span> <span class="s1">&#39;</span><span class="si">%.2f%%</span><span class="s1">&#39;</span> <span class="o">%</span> <span class="p">(</span><span class="n">csv_data</span><span class="p">[</span><span class="s2">&quot;Total Voters&quot;</span><span class="p">]</span><span class="o">.</span><span class="n">sum</span><span class="p">()</span> <span class="o">/</span> <span class="n">csv_data</span><span class="p">[</span><span class="s2">&quot;Total Electors&quot;</span><span class="p">]</span><span class="o">.</span><span class="n">sum</span><span class="p">()</span> <span class="o">*</span> <span class="mi">100</span><span class="p">)</span>
</pre></div>

</div>
</div>
</div>

<div class="output_wrapper">
<div class="output">


<div class="output_area"><div class="prompt"></div>
<div class="output_subarea output_stream output_stdout output_text">
<pre>66.40%
</pre>
</div>
</div>

</div>
</div>

</div>
<div class="cell border-box-sizing text_cell rendered">
<div class="prompt input_prompt">
</div>
<div class="inner_cell">
<div class="text_cell_render border-box-sizing rendered_html">
<h2 id="Analyzing-States">Analyzing States<a class="anchor-link" href="#Analyzing-States">&#182;</a></h2>
</div>
</div>
</div>
<div class="cell border-box-sizing code_cell rendered">
<div class="input">
<div class="prompt input_prompt">In&nbsp;[9]:</div>
<div class="inner_cell">
    <div class="input_area">
<div class=" highlight hl-ipython3"><pre><span></span><span class="n">states</span> <span class="o">=</span> <span class="n">pd</span><span class="o">.</span><span class="n">DataFrame</span><span class="p">(</span><span class="n">csv_data</span><span class="p">[</span><span class="s2">&quot;State&quot;</span><span class="p">]</span><span class="o">.</span><span class="n">unique</span><span class="p">(),</span> <span class="n">columns</span><span class="o">=</span><span class="p">[</span><span class="s2">&quot;State&quot;</span><span class="p">])</span>
<span class="nb">print</span> <span class="s2">&quot;The number of states: </span><span class="si">%s</span><span class="s2">&quot;</span> <span class="o">%</span> <span class="nb">len</span><span class="p">(</span><span class="n">states</span><span class="p">)</span>
<span class="n">states</span>
</pre></div>

</div>
</div>
</div>

<div class="output_wrapper">
<div class="output">


<div class="output_area"><div class="prompt"></div>
<div class="output_subarea output_stream output_stdout output_text">
<pre>The number of states: 35
</pre>
</div>
</div>

<div class="output_area"><div class="prompt output_prompt">Out[9]:</div>

<div class="output_html rendered_html output_subarea output_execute_result">
<div style="max-height:1000px;max-width:1500px;overflow:auto;">
<table border="1" class="dataframe">
  <thead>
    <tr style="text-align: right;">
      <th></th>
      <th>State</th>
    </tr>
  </thead>
  <tbody>
    <tr>
      <th>0 </th>
      <td> Andaman &amp; Nicobar Islands</td>
    </tr>
    <tr>
      <th>1 </th>
      <td>            Andhra Pradesh</td>
    </tr>
    <tr>
      <th>2 </th>
      <td>         Arunachal Pradesh</td>
    </tr>
    <tr>
      <th>3 </th>
      <td>                     Assam</td>
    </tr>
    <tr>
      <th>4 </th>
      <td>                     Bihar</td>
    </tr>
    <tr>
      <th>5 </th>
      <td>                Chandigarh</td>
    </tr>
    <tr>
      <th>6 </th>
      <td>               Chattisgarh</td>
    </tr>
    <tr>
      <th>7 </th>
      <td>      Dadra &amp; Nagar Haveli</td>
    </tr>
    <tr>
      <th>8 </th>
      <td>               Daman &amp; Diu</td>
    </tr>
    <tr>
      <th>9 </th>
      <td>                       Goa</td>
    </tr>
    <tr>
      <th>10</th>
      <td>                   Gujarat</td>
    </tr>
    <tr>
      <th>11</th>
      <td>                   Haryana</td>
    </tr>
    <tr>
      <th>12</th>
      <td>          Himachal Pradesh</td>
    </tr>
    <tr>
      <th>13</th>
      <td>           Jammu &amp; Kashmir</td>
    </tr>
    <tr>
      <th>14</th>
      <td>                 Jharkhand</td>
    </tr>
    <tr>
      <th>15</th>
      <td>                 Karnataka</td>
    </tr>
    <tr>
      <th>16</th>
      <td>                    Kerala</td>
    </tr>
    <tr>
      <th>17</th>
      <td>               Lakshadweep</td>
    </tr>
    <tr>
      <th>18</th>
      <td>            Madhya Pradesh</td>
    </tr>
    <tr>
      <th>19</th>
      <td>               Maharashtra</td>
    </tr>
    <tr>
      <th>20</th>
      <td>                   Manipur</td>
    </tr>
    <tr>
      <th>21</th>
      <td>                 Meghalaya</td>
    </tr>
    <tr>
      <th>22</th>
      <td>                   Mizoram</td>
    </tr>
    <tr>
      <th>23</th>
      <td>                  Nagaland</td>
    </tr>
    <tr>
      <th>24</th>
      <td>              NCT OF Delhi</td>
    </tr>
    <tr>
      <th>25</th>
      <td>                    Orissa</td>
    </tr>
    <tr>
      <th>26</th>
      <td>                Puducherry</td>
    </tr>
    <tr>
      <th>27</th>
      <td>                    Punjab</td>
    </tr>
    <tr>
      <th>28</th>
      <td>                 Rajasthan</td>
    </tr>
    <tr>
      <th>29</th>
      <td>                    Sikkim</td>
    </tr>
    <tr>
      <th>30</th>
      <td>                Tamil Nadu</td>
    </tr>
    <tr>
      <th>31</th>
      <td>                   Tripura</td>
    </tr>
    <tr>
      <th>32</th>
      <td>             Uttar Pradesh</td>
    </tr>
    <tr>
      <th>33</th>
      <td>               Uttarakhand</td>
    </tr>
    <tr>
      <th>34</th>
      <td>               West Bengal</td>
    </tr>
  </tbody>
</table>
<p>35 rows × 1 columns</p>
</div>
</div>

</div>

</div>
</div>

</div>
<div class="cell border-box-sizing code_cell rendered">
<div class="input">
<div class="prompt input_prompt">In&nbsp;[10]:</div>
<div class="inner_cell">
    <div class="input_area">
<div class=" highlight hl-ipython3"><pre><span></span><span class="c1"># Calculating constituencies</span>
<span class="n">seats</span> <span class="o">=</span> <span class="n">csv_data</span><span class="p">[</span><span class="s2">&quot;State&quot;</span><span class="p">]</span><span class="o">.</span><span class="n">value_counts</span><span class="p">()</span>
<span class="n">states</span><span class="p">[</span><span class="s2">&quot;Seats&quot;</span><span class="p">]</span> <span class="o">=</span> <span class="n">seats</span><span class="o">.</span><span class="n">sort_index</span><span class="p">()</span><span class="o">.</span><span class="n">values</span>
<span class="n">states</span><span class="o">.</span><span class="n">sort</span><span class="p">(</span><span class="s2">&quot;Seats&quot;</span><span class="p">,</span> <span class="n">ascending</span><span class="o">=</span><span class="kc">False</span><span class="p">)</span>
</pre></div>

</div>
</div>
</div>

<div class="output_wrapper">
<div class="output">


<div class="output_area"><div class="prompt output_prompt">Out[10]:</div>

<div class="output_html rendered_html output_subarea output_execute_result">
<div style="max-height:1000px;max-width:1500px;overflow:auto;">
<table border="1" class="dataframe">
  <thead>
    <tr style="text-align: right;">
      <th></th>
      <th>State</th>
      <th>Seats</th>
    </tr>
  </thead>
  <tbody>
    <tr>
      <th>32</th>
      <td>             Uttar Pradesh</td>
      <td> 80</td>
    </tr>
    <tr>
      <th>19</th>
      <td>               Maharashtra</td>
      <td> 48</td>
    </tr>
    <tr>
      <th>34</th>
      <td>               West Bengal</td>
      <td> 42</td>
    </tr>
    <tr>
      <th>1 </th>
      <td>            Andhra Pradesh</td>
      <td> 42</td>
    </tr>
    <tr>
      <th>4 </th>
      <td>                     Bihar</td>
      <td> 40</td>
    </tr>
    <tr>
      <th>30</th>
      <td>                Tamil Nadu</td>
      <td> 39</td>
    </tr>
    <tr>
      <th>18</th>
      <td>            Madhya Pradesh</td>
      <td> 29</td>
    </tr>
    <tr>
      <th>15</th>
      <td>                 Karnataka</td>
      <td> 28</td>
    </tr>
    <tr>
      <th>10</th>
      <td>                   Gujarat</td>
      <td> 26</td>
    </tr>
    <tr>
      <th>28</th>
      <td>                 Rajasthan</td>
      <td> 25</td>
    </tr>
    <tr>
      <th>25</th>
      <td>                    Orissa</td>
      <td> 21</td>
    </tr>
    <tr>
      <th>16</th>
      <td>                    Kerala</td>
      <td> 20</td>
    </tr>
    <tr>
      <th>3 </th>
      <td>                     Assam</td>
      <td> 14</td>
    </tr>
    <tr>
      <th>14</th>
      <td>                 Jharkhand</td>
      <td> 14</td>
    </tr>
    <tr>
      <th>27</th>
      <td>                    Punjab</td>
      <td> 13</td>
    </tr>
    <tr>
      <th>6 </th>
      <td>               Chattisgarh</td>
      <td> 11</td>
    </tr>
    <tr>
      <th>11</th>
      <td>                   Haryana</td>
      <td> 10</td>
    </tr>
    <tr>
      <th>23</th>
      <td>                  Nagaland</td>
      <td>  7</td>
    </tr>
    <tr>
      <th>13</th>
      <td>           Jammu &amp; Kashmir</td>
      <td>  6</td>
    </tr>
    <tr>
      <th>33</th>
      <td>               Uttarakhand</td>
      <td>  5</td>
    </tr>
    <tr>
      <th>12</th>
      <td>          Himachal Pradesh</td>
      <td>  4</td>
    </tr>
    <tr>
      <th>9 </th>
      <td>                       Goa</td>
      <td>  2</td>
    </tr>
    <tr>
      <th>21</th>
      <td>                 Meghalaya</td>
      <td>  2</td>
    </tr>
    <tr>
      <th>20</th>
      <td>                   Manipur</td>
      <td>  2</td>
    </tr>
    <tr>
      <th>2 </th>
      <td>         Arunachal Pradesh</td>
      <td>  2</td>
    </tr>
    <tr>
      <th>31</th>
      <td>                   Tripura</td>
      <td>  2</td>
    </tr>
    <tr>
      <th>5 </th>
      <td>                Chandigarh</td>
      <td>  1</td>
    </tr>
    <tr>
      <th>17</th>
      <td>               Lakshadweep</td>
      <td>  1</td>
    </tr>
    <tr>
      <th>7 </th>
      <td>      Dadra &amp; Nagar Haveli</td>
      <td>  1</td>
    </tr>
    <tr>
      <th>8 </th>
      <td>               Daman &amp; Diu</td>
      <td>  1</td>
    </tr>
    <tr>
      <th>22</th>
      <td>                   Mizoram</td>
      <td>  1</td>
    </tr>
    <tr>
      <th>24</th>
      <td>              NCT OF Delhi</td>
      <td>  1</td>
    </tr>
    <tr>
      <th>26</th>
      <td>                Puducherry</td>
      <td>  1</td>
    </tr>
    <tr>
      <th>29</th>
      <td>                    Sikkim</td>
      <td>  1</td>
    </tr>
    <tr>
      <th>0 </th>
      <td> Andaman &amp; Nicobar Islands</td>
      <td>  1</td>
    </tr>
  </tbody>
</table>
<p>35 rows × 2 columns</p>
</div>
</div>

</div>

</div>
</div>

</div>
<div class="cell border-box-sizing text_cell rendered">
<div class="prompt input_prompt">
</div>
<div class="inner_cell">
<div class="text_cell_render border-box-sizing rendered_html">
<h2 id="Calculating-Total-States-Electors-and-Voters">Calculating Total States Electors and Voters<a class="anchor-link" href="#Calculating-Total-States-Electors-and-Voters">&#182;</a></h2>
</div>
</div>
</div>
<div class="cell border-box-sizing code_cell rendered">
<div class="input">
<div class="prompt input_prompt">In&nbsp;[11]:</div>
<div class="inner_cell">
    <div class="input_area">
<div class=" highlight hl-ipython3"><pre><span></span><span class="n">total_electors</span> <span class="o">=</span> <span class="n">pd</span><span class="o">.</span><span class="n">pivot_table</span><span class="p">(</span><span class="n">csv_data</span><span class="p">,</span> <span class="n">values</span><span class="o">=</span><span class="s2">&quot;Total Electors&quot;</span><span class="p">,</span> <span class="n">rows</span><span class="o">=</span><span class="p">[</span><span class="s2">&quot;State&quot;</span><span class="p">],</span> <span class="n">aggfunc</span><span class="o">=</span><span class="s2">&quot;sum&quot;</span><span class="p">)</span>
<span class="n">total_votes</span> <span class="o">=</span> <span class="n">pd</span><span class="o">.</span><span class="n">pivot_table</span><span class="p">(</span><span class="n">csv_data</span><span class="p">,</span> <span class="n">values</span><span class="o">=</span><span class="s2">&quot;Total Voters&quot;</span><span class="p">,</span> <span class="n">rows</span><span class="o">=</span><span class="p">[</span><span class="s2">&quot;State&quot;</span><span class="p">],</span> <span class="n">aggfunc</span><span class="o">=</span><span class="s2">&quot;sum&quot;</span><span class="p">)</span>
<span class="n">states</span><span class="p">[</span><span class="s2">&quot;Total Electors&quot;</span><span class="p">]</span> <span class="o">=</span> <span class="n">total_electors</span><span class="o">.</span><span class="n">sort_index</span><span class="p">()</span><span class="o">.</span><span class="n">values</span>
<span class="n">states</span><span class="p">[</span><span class="s2">&quot;Total Voters&quot;</span><span class="p">]</span> <span class="o">=</span> <span class="n">total_votes</span><span class="o">.</span><span class="n">sort_index</span><span class="p">()</span><span class="o">.</span><span class="n">values</span>
<span class="n">states</span><span class="o">.</span><span class="n">sort</span><span class="p">(</span><span class="s2">&quot;Total Electors&quot;</span><span class="p">,</span> <span class="n">ascending</span><span class="o">=</span><span class="kc">False</span><span class="p">)</span>
</pre></div>

</div>
</div>
</div>

<div class="output_wrapper">
<div class="output">


<div class="output_area"><div class="prompt output_prompt">Out[11]:</div>

<div class="output_html rendered_html output_subarea output_execute_result">
<div style="max-height:1000px;max-width:1500px;overflow:auto;">
<table border="1" class="dataframe">
  <thead>
    <tr style="text-align: right;">
      <th></th>
      <th>State</th>
      <th>Seats</th>
      <th>Total Electors</th>
      <th>Total Voters</th>
    </tr>
  </thead>
  <tbody>
    <tr>
      <th>32</th>
      <td>             Uttar Pradesh</td>
      <td> 80</td>
      <td> 138965820</td>
      <td> 81092302</td>
    </tr>
    <tr>
      <th>19</th>
      <td>               Maharashtra</td>
      <td> 48</td>
      <td>  80717283</td>
      <td> 48718844</td>
    </tr>
    <tr>
      <th>1 </th>
      <td>            Andhra Pradesh</td>
      <td> 42</td>
      <td>  64938750</td>
      <td> 48358545</td>
    </tr>
    <tr>
      <th>4 </th>
      <td>                     Bihar</td>
      <td> 40</td>
      <td>  63761796</td>
      <td> 35885366</td>
    </tr>
    <tr>
      <th>34</th>
      <td>               West Bengal</td>
      <td> 42</td>
      <td>  62833128</td>
      <td> 51622555</td>
    </tr>
    <tr>
      <th>30</th>
      <td>                Tamil Nadu</td>
      <td> 39</td>
      <td>  55114505</td>
      <td> 40620440</td>
    </tr>
    <tr>
      <th>18</th>
      <td>            Madhya Pradesh</td>
      <td> 29</td>
      <td>  48118040</td>
      <td> 29639796</td>
    </tr>
    <tr>
      <th>15</th>
      <td>                 Karnataka</td>
      <td> 28</td>
      <td>  46212109</td>
      <td> 31038888</td>
    </tr>
    <tr>
      <th>28</th>
      <td>                 Rajasthan</td>
      <td> 25</td>
      <td>  42969447</td>
      <td> 27110044</td>
    </tr>
    <tr>
      <th>10</th>
      <td>                   Gujarat</td>
      <td> 26</td>
      <td>  40603104</td>
      <td> 25824003</td>
    </tr>
    <tr>
      <th>25</th>
      <td>                    Orissa</td>
      <td> 21</td>
      <td>  29196041</td>
      <td> 21532275</td>
    </tr>
    <tr>
      <th>16</th>
      <td>                    Kerala</td>
      <td> 20</td>
      <td>  24326649</td>
      <td> 17975893</td>
    </tr>
    <tr>
      <th>14</th>
      <td>                 Jharkhand</td>
      <td> 14</td>
      <td>  20326743</td>
      <td> 12982940</td>
    </tr>
    <tr>
      <th>27</th>
      <td>                    Punjab</td>
      <td> 13</td>
      <td>  19608008</td>
      <td> 13845132</td>
    </tr>
    <tr>
      <th>3 </th>
      <td>                     Assam</td>
      <td> 14</td>
      <td>  18885274</td>
      <td> 15085883</td>
    </tr>
    <tr>
      <th>6 </th>
      <td>               Chattisgarh</td>
      <td> 11</td>
      <td>  17623049</td>
      <td> 12255579</td>
    </tr>
    <tr>
      <th>11</th>
      <td>                   Haryana</td>
      <td> 10</td>
      <td>  16097749</td>
      <td> 11495150</td>
    </tr>
    <tr>
      <th>23</th>
      <td>                  Nagaland</td>
      <td>  7</td>
      <td>  12711236</td>
      <td>  8271766</td>
    </tr>
    <tr>
      <th>13</th>
      <td>           Jammu &amp; Kashmir</td>
      <td>  6</td>
      <td>   7202163</td>
      <td>  3566863</td>
    </tr>
    <tr>
      <th>33</th>
      <td>               Uttarakhand</td>
      <td>  5</td>
      <td>   7129939</td>
      <td>  4391890</td>
    </tr>
    <tr>
      <th>12</th>
      <td>          Himachal Pradesh</td>
      <td>  4</td>
      <td>   4810071</td>
      <td>  3098501</td>
    </tr>
    <tr>
      <th>31</th>
      <td>                   Tripura</td>
      <td>  2</td>
      <td>   2388819</td>
      <td>  2023859</td>
    </tr>
    <tr>
      <th>20</th>
      <td>                   Manipur</td>
      <td>  2</td>
      <td>   1774325</td>
      <td>  1412637</td>
    </tr>
    <tr>
      <th>21</th>
      <td>                 Meghalaya</td>
      <td>  2</td>
      <td>   1567241</td>
      <td>  1078058</td>
    </tr>
    <tr>
      <th>24</th>
      <td>              NCT OF Delhi</td>
      <td>  1</td>
      <td>   1182948</td>
      <td>  1038910</td>
    </tr>
    <tr>
      <th>9 </th>
      <td>                       Goa</td>
      <td>  2</td>
      <td>   1060777</td>
      <td>   817000</td>
    </tr>
    <tr>
      <th>26</th>
      <td>                Puducherry</td>
      <td>  1</td>
      <td>    901357</td>
      <td>   740017</td>
    </tr>
    <tr>
      <th>2 </th>
      <td>         Arunachal Pradesh</td>
      <td>  2</td>
      <td>    759387</td>
      <td>   596956</td>
    </tr>
    <tr>
      <th>22</th>
      <td>                   Mizoram</td>
      <td>  1</td>
      <td>    702170</td>
      <td>   433201</td>
    </tr>
    <tr>
      <th>5 </th>
      <td>                Chandigarh</td>
      <td>  1</td>
      <td>    615214</td>
      <td>   453455</td>
    </tr>
    <tr>
      <th>29</th>
      <td>                    Sikkim</td>
      <td>  1</td>
      <td>    370611</td>
      <td>   308967</td>
    </tr>
    <tr>
      <th>0 </th>
      <td> Andaman &amp; Nicobar Islands</td>
      <td>  1</td>
      <td>    269360</td>
      <td>   190328</td>
    </tr>
    <tr>
      <th>7 </th>
      <td>      Dadra &amp; Nagar Haveli</td>
      <td>  1</td>
      <td>    196617</td>
      <td>   165286</td>
    </tr>
    <tr>
      <th>8 </th>
      <td>               Daman &amp; Diu</td>
      <td>  1</td>
      <td>    111827</td>
      <td>    87233</td>
    </tr>
    <tr>
      <th>17</th>
      <td>               Lakshadweep</td>
      <td>  1</td>
      <td>     49922</td>
      <td>    43239</td>
    </tr>
  </tbody>
</table>
<p>35 rows × 4 columns</p>
</div>
</div>

</div>

</div>
</div>

</div>
<div class="cell border-box-sizing text_cell rendered">
<div class="prompt input_prompt">
</div>
<div class="inner_cell">
<div class="text_cell_render border-box-sizing rendered_html">
<h2 id="Calculating-State-Turnout">Calculating State Turnout<a class="anchor-link" href="#Calculating-State-Turnout">&#182;</a></h2>
</div>
</div>
</div>
<div class="cell border-box-sizing code_cell rendered">
<div class="input">
<div class="prompt input_prompt">In&nbsp;[12]:</div>
<div class="inner_cell">
    <div class="input_area">
<div class=" highlight hl-ipython3"><pre><span></span><span class="n">states</span><span class="p">[</span><span class="s2">&quot;Turnout&quot;</span><span class="p">]</span> <span class="o">=</span> <span class="n">states</span><span class="p">[</span><span class="s2">&quot;Total Voters&quot;</span><span class="p">]</span> <span class="o">/</span> <span class="n">states</span><span class="p">[</span><span class="s2">&quot;Total Electors&quot;</span><span class="p">]</span>
<span class="n">states</span><span class="o">.</span><span class="n">sort</span><span class="p">(</span><span class="s2">&quot;Turnout&quot;</span><span class="p">,</span> <span class="n">ascending</span><span class="o">=</span><span class="kc">False</span><span class="p">)</span>
</pre></div>

</div>
</div>
</div>

<div class="output_wrapper">
<div class="output">


<div class="output_area"><div class="prompt output_prompt">Out[12]:</div>

<div class="output_html rendered_html output_subarea output_execute_result">
<div style="max-height:1000px;max-width:1500px;overflow:auto;">
<table border="1" class="dataframe">
  <thead>
    <tr style="text-align: right;">
      <th></th>
      <th>State</th>
      <th>Seats</th>
      <th>Total Electors</th>
      <th>Total Voters</th>
      <th>Turnout</th>
    </tr>
  </thead>
  <tbody>
    <tr>
      <th>24</th>
      <td>              NCT OF Delhi</td>
      <td>  1</td>
      <td>   1182948</td>
      <td>  1038910</td>
      <td> 0.878238</td>
    </tr>
    <tr>
      <th>17</th>
      <td>               Lakshadweep</td>
      <td>  1</td>
      <td>     49922</td>
      <td>    43239</td>
      <td> 0.866131</td>
    </tr>
    <tr>
      <th>31</th>
      <td>                   Tripura</td>
      <td>  2</td>
      <td>   2388819</td>
      <td>  2023859</td>
      <td> 0.847222</td>
    </tr>
    <tr>
      <th>7 </th>
      <td>      Dadra &amp; Nagar Haveli</td>
      <td>  1</td>
      <td>    196617</td>
      <td>   165286</td>
      <td> 0.840650</td>
    </tr>
    <tr>
      <th>29</th>
      <td>                    Sikkim</td>
      <td>  1</td>
      <td>    370611</td>
      <td>   308967</td>
      <td> 0.833669</td>
    </tr>
    <tr>
      <th>34</th>
      <td>               West Bengal</td>
      <td> 42</td>
      <td>  62833128</td>
      <td> 51622555</td>
      <td> 0.821582</td>
    </tr>
    <tr>
      <th>26</th>
      <td>                Puducherry</td>
      <td>  1</td>
      <td>    901357</td>
      <td>   740017</td>
      <td> 0.821003</td>
    </tr>
    <tr>
      <th>3 </th>
      <td>                     Assam</td>
      <td> 14</td>
      <td>  18885274</td>
      <td> 15085883</td>
      <td> 0.798817</td>
    </tr>
    <tr>
      <th>20</th>
      <td>                   Manipur</td>
      <td>  2</td>
      <td>   1774325</td>
      <td>  1412637</td>
      <td> 0.796155</td>
    </tr>
    <tr>
      <th>2 </th>
      <td>         Arunachal Pradesh</td>
      <td>  2</td>
      <td>    759387</td>
      <td>   596956</td>
      <td> 0.786102</td>
    </tr>
    <tr>
      <th>8 </th>
      <td>               Daman &amp; Diu</td>
      <td>  1</td>
      <td>    111827</td>
      <td>    87233</td>
      <td> 0.780071</td>
    </tr>
    <tr>
      <th>9 </th>
      <td>                       Goa</td>
      <td>  2</td>
      <td>   1060777</td>
      <td>   817000</td>
      <td> 0.770190</td>
    </tr>
    <tr>
      <th>1 </th>
      <td>            Andhra Pradesh</td>
      <td> 42</td>
      <td>  64938750</td>
      <td> 48358545</td>
      <td> 0.744679</td>
    </tr>
    <tr>
      <th>16</th>
      <td>                    Kerala</td>
      <td> 20</td>
      <td>  24326649</td>
      <td> 17975893</td>
      <td> 0.738938</td>
    </tr>
    <tr>
      <th>25</th>
      <td>                    Orissa</td>
      <td> 21</td>
      <td>  29196041</td>
      <td> 21532275</td>
      <td> 0.737507</td>
    </tr>
    <tr>
      <th>5 </th>
      <td>                Chandigarh</td>
      <td>  1</td>
      <td>    615214</td>
      <td>   453455</td>
      <td> 0.737069</td>
    </tr>
    <tr>
      <th>30</th>
      <td>                Tamil Nadu</td>
      <td> 39</td>
      <td>  55114505</td>
      <td> 40620440</td>
      <td> 0.737019</td>
    </tr>
    <tr>
      <th>11</th>
      <td>                   Haryana</td>
      <td> 10</td>
      <td>  16097749</td>
      <td> 11495150</td>
      <td> 0.714084</td>
    </tr>
    <tr>
      <th>0 </th>
      <td> Andaman &amp; Nicobar Islands</td>
      <td>  1</td>
      <td>    269360</td>
      <td>   190328</td>
      <td> 0.706593</td>
    </tr>
    <tr>
      <th>27</th>
      <td>                    Punjab</td>
      <td> 13</td>
      <td>  19608008</td>
      <td> 13845132</td>
      <td> 0.706096</td>
    </tr>
    <tr>
      <th>6 </th>
      <td>               Chattisgarh</td>
      <td> 11</td>
      <td>  17623049</td>
      <td> 12255579</td>
      <td> 0.695429</td>
    </tr>
    <tr>
      <th>21</th>
      <td>                 Meghalaya</td>
      <td>  2</td>
      <td>   1567241</td>
      <td>  1078058</td>
      <td> 0.687870</td>
    </tr>
    <tr>
      <th>15</th>
      <td>                 Karnataka</td>
      <td> 28</td>
      <td>  46212109</td>
      <td> 31038888</td>
      <td> 0.671661</td>
    </tr>
    <tr>
      <th>23</th>
      <td>                  Nagaland</td>
      <td>  7</td>
      <td>  12711236</td>
      <td>  8271766</td>
      <td> 0.650744</td>
    </tr>
    <tr>
      <th>12</th>
      <td>          Himachal Pradesh</td>
      <td>  4</td>
      <td>   4810071</td>
      <td>  3098501</td>
      <td> 0.644169</td>
    </tr>
    <tr>
      <th>14</th>
      <td>                 Jharkhand</td>
      <td> 14</td>
      <td>  20326743</td>
      <td> 12982940</td>
      <td> 0.638712</td>
    </tr>
    <tr>
      <th>10</th>
      <td>                   Gujarat</td>
      <td> 26</td>
      <td>  40603104</td>
      <td> 25824003</td>
      <td> 0.636011</td>
    </tr>
    <tr>
      <th>28</th>
      <td>                 Rajasthan</td>
      <td> 25</td>
      <td>  42969447</td>
      <td> 27110044</td>
      <td> 0.630914</td>
    </tr>
    <tr>
      <th>22</th>
      <td>                   Mizoram</td>
      <td>  1</td>
      <td>    702170</td>
      <td>   433201</td>
      <td> 0.616946</td>
    </tr>
    <tr>
      <th>18</th>
      <td>            Madhya Pradesh</td>
      <td> 29</td>
      <td>  48118040</td>
      <td> 29639796</td>
      <td> 0.615981</td>
    </tr>
    <tr>
      <th>33</th>
      <td>               Uttarakhand</td>
      <td>  5</td>
      <td>   7129939</td>
      <td>  4391890</td>
      <td> 0.615979</td>
    </tr>
    <tr>
      <th>19</th>
      <td>               Maharashtra</td>
      <td> 48</td>
      <td>  80717283</td>
      <td> 48718844</td>
      <td> 0.603574</td>
    </tr>
    <tr>
      <th>32</th>
      <td>             Uttar Pradesh</td>
      <td> 80</td>
      <td> 138965820</td>
      <td> 81092302</td>
      <td> 0.583541</td>
    </tr>
    <tr>
      <th>4 </th>
      <td>                     Bihar</td>
      <td> 40</td>
      <td>  63761796</td>
      <td> 35885366</td>
      <td> 0.562804</td>
    </tr>
    <tr>
      <th>13</th>
      <td>           Jammu &amp; Kashmir</td>
      <td>  6</td>
      <td>   7202163</td>
      <td>  3566863</td>
      <td> 0.495249</td>
    </tr>
  </tbody>
</table>
<p>35 rows × 5 columns</p>
</div>
</div>

</div>

</div>
</div>

</div>
<div class="cell border-box-sizing text_cell rendered">
<div class="prompt input_prompt">
</div>
<div class="inner_cell">
<div class="text_cell_render border-box-sizing rendered_html">
<h2 id="Calculating-Electors-Per-Seat">Calculating Electors Per Seat<a class="anchor-link" href="#Calculating-Electors-Per-Seat">&#182;</a></h2>
</div>
</div>
</div>
<div class="cell border-box-sizing code_cell rendered">
<div class="input">
<div class="prompt input_prompt">In&nbsp;[13]:</div>
<div class="inner_cell">
    <div class="input_area">
<div class=" highlight hl-ipython3"><pre><span></span><span class="n">states</span><span class="p">[</span><span class="s2">&quot;Electors Per Seat&quot;</span><span class="p">]</span> <span class="o">=</span> <span class="n">states</span><span class="p">[</span><span class="s2">&quot;Total Electors&quot;</span><span class="p">]</span> <span class="o">/</span> <span class="n">states</span><span class="p">[</span><span class="s2">&quot;Seats&quot;</span><span class="p">]</span>
<span class="n">states</span><span class="o">.</span><span class="n">sort</span><span class="p">(</span><span class="s2">&quot;Electors Per Seat&quot;</span><span class="p">,</span> <span class="n">ascending</span><span class="o">=</span><span class="kc">False</span><span class="p">)</span>
</pre></div>

</div>
</div>
</div>

<div class="output_wrapper">
<div class="output">


<div class="output_area"><div class="prompt output_prompt">Out[13]:</div>

<div class="output_html rendered_html output_subarea output_execute_result">
<div style="max-height:1000px;max-width:1500px;overflow:auto;">
<table border="1" class="dataframe">
  <thead>
    <tr style="text-align: right;">
      <th></th>
      <th>State</th>
      <th>Seats</th>
      <th>Total Electors</th>
      <th>Total Voters</th>
      <th>Turnout</th>
      <th>Electors Per Seat</th>
    </tr>
  </thead>
  <tbody>
    <tr>
      <th>23</th>
      <td>                  Nagaland</td>
      <td>  7</td>
      <td>  12711236</td>
      <td>  8271766</td>
      <td> 0.650744</td>
      <td> 1815890.857143</td>
    </tr>
    <tr>
      <th>32</th>
      <td>             Uttar Pradesh</td>
      <td> 80</td>
      <td> 138965820</td>
      <td> 81092302</td>
      <td> 0.583541</td>
      <td> 1737072.750000</td>
    </tr>
    <tr>
      <th>28</th>
      <td>                 Rajasthan</td>
      <td> 25</td>
      <td>  42969447</td>
      <td> 27110044</td>
      <td> 0.630914</td>
      <td> 1718777.880000</td>
    </tr>
    <tr>
      <th>19</th>
      <td>               Maharashtra</td>
      <td> 48</td>
      <td>  80717283</td>
      <td> 48718844</td>
      <td> 0.603574</td>
      <td> 1681610.062500</td>
    </tr>
    <tr>
      <th>18</th>
      <td>            Madhya Pradesh</td>
      <td> 29</td>
      <td>  48118040</td>
      <td> 29639796</td>
      <td> 0.615981</td>
      <td> 1659242.758621</td>
    </tr>
    <tr>
      <th>15</th>
      <td>                 Karnataka</td>
      <td> 28</td>
      <td>  46212109</td>
      <td> 31038888</td>
      <td> 0.671661</td>
      <td> 1650432.464286</td>
    </tr>
    <tr>
      <th>11</th>
      <td>                   Haryana</td>
      <td> 10</td>
      <td>  16097749</td>
      <td> 11495150</td>
      <td> 0.714084</td>
      <td> 1609774.900000</td>
    </tr>
    <tr>
      <th>6 </th>
      <td>               Chattisgarh</td>
      <td> 11</td>
      <td>  17623049</td>
      <td> 12255579</td>
      <td> 0.695429</td>
      <td> 1602095.363636</td>
    </tr>
    <tr>
      <th>4 </th>
      <td>                     Bihar</td>
      <td> 40</td>
      <td>  63761796</td>
      <td> 35885366</td>
      <td> 0.562804</td>
      <td> 1594044.900000</td>
    </tr>
    <tr>
      <th>10</th>
      <td>                   Gujarat</td>
      <td> 26</td>
      <td>  40603104</td>
      <td> 25824003</td>
      <td> 0.636011</td>
      <td> 1561657.846154</td>
    </tr>
    <tr>
      <th>1 </th>
      <td>            Andhra Pradesh</td>
      <td> 42</td>
      <td>  64938750</td>
      <td> 48358545</td>
      <td> 0.744679</td>
      <td> 1546160.714286</td>
    </tr>
    <tr>
      <th>27</th>
      <td>                    Punjab</td>
      <td> 13</td>
      <td>  19608008</td>
      <td> 13845132</td>
      <td> 0.706096</td>
      <td> 1508308.307692</td>
    </tr>
    <tr>
      <th>34</th>
      <td>               West Bengal</td>
      <td> 42</td>
      <td>  62833128</td>
      <td> 51622555</td>
      <td> 0.821582</td>
      <td> 1496026.857143</td>
    </tr>
    <tr>
      <th>14</th>
      <td>                 Jharkhand</td>
      <td> 14</td>
      <td>  20326743</td>
      <td> 12982940</td>
      <td> 0.638712</td>
      <td> 1451910.214286</td>
    </tr>
    <tr>
      <th>33</th>
      <td>               Uttarakhand</td>
      <td>  5</td>
      <td>   7129939</td>
      <td>  4391890</td>
      <td> 0.615979</td>
      <td> 1425987.800000</td>
    </tr>
    <tr>
      <th>30</th>
      <td>                Tamil Nadu</td>
      <td> 39</td>
      <td>  55114505</td>
      <td> 40620440</td>
      <td> 0.737019</td>
      <td> 1413192.435897</td>
    </tr>
    <tr>
      <th>25</th>
      <td>                    Orissa</td>
      <td> 21</td>
      <td>  29196041</td>
      <td> 21532275</td>
      <td> 0.737507</td>
      <td> 1390287.666667</td>
    </tr>
    <tr>
      <th>3 </th>
      <td>                     Assam</td>
      <td> 14</td>
      <td>  18885274</td>
      <td> 15085883</td>
      <td> 0.798817</td>
      <td> 1348948.142857</td>
    </tr>
    <tr>
      <th>16</th>
      <td>                    Kerala</td>
      <td> 20</td>
      <td>  24326649</td>
      <td> 17975893</td>
      <td> 0.738938</td>
      <td> 1216332.450000</td>
    </tr>
    <tr>
      <th>12</th>
      <td>          Himachal Pradesh</td>
      <td>  4</td>
      <td>   4810071</td>
      <td>  3098501</td>
      <td> 0.644169</td>
      <td> 1202517.750000</td>
    </tr>
    <tr>
      <th>13</th>
      <td>           Jammu &amp; Kashmir</td>
      <td>  6</td>
      <td>   7202163</td>
      <td>  3566863</td>
      <td> 0.495249</td>
      <td> 1200360.500000</td>
    </tr>
    <tr>
      <th>31</th>
      <td>                   Tripura</td>
      <td>  2</td>
      <td>   2388819</td>
      <td>  2023859</td>
      <td> 0.847222</td>
      <td> 1194409.500000</td>
    </tr>
    <tr>
      <th>24</th>
      <td>              NCT OF Delhi</td>
      <td>  1</td>
      <td>   1182948</td>
      <td>  1038910</td>
      <td> 0.878238</td>
      <td> 1182948.000000</td>
    </tr>
    <tr>
      <th>26</th>
      <td>                Puducherry</td>
      <td>  1</td>
      <td>    901357</td>
      <td>   740017</td>
      <td> 0.821003</td>
      <td>  901357.000000</td>
    </tr>
    <tr>
      <th>20</th>
      <td>                   Manipur</td>
      <td>  2</td>
      <td>   1774325</td>
      <td>  1412637</td>
      <td> 0.796155</td>
      <td>  887162.500000</td>
    </tr>
    <tr>
      <th>21</th>
      <td>                 Meghalaya</td>
      <td>  2</td>
      <td>   1567241</td>
      <td>  1078058</td>
      <td> 0.687870</td>
      <td>  783620.500000</td>
    </tr>
    <tr>
      <th>22</th>
      <td>                   Mizoram</td>
      <td>  1</td>
      <td>    702170</td>
      <td>   433201</td>
      <td> 0.616946</td>
      <td>  702170.000000</td>
    </tr>
    <tr>
      <th>5 </th>
      <td>                Chandigarh</td>
      <td>  1</td>
      <td>    615214</td>
      <td>   453455</td>
      <td> 0.737069</td>
      <td>  615214.000000</td>
    </tr>
    <tr>
      <th>9 </th>
      <td>                       Goa</td>
      <td>  2</td>
      <td>   1060777</td>
      <td>   817000</td>
      <td> 0.770190</td>
      <td>  530388.500000</td>
    </tr>
    <tr>
      <th>2 </th>
      <td>         Arunachal Pradesh</td>
      <td>  2</td>
      <td>    759387</td>
      <td>   596956</td>
      <td> 0.786102</td>
      <td>  379693.500000</td>
    </tr>
    <tr>
      <th>29</th>
      <td>                    Sikkim</td>
      <td>  1</td>
      <td>    370611</td>
      <td>   308967</td>
      <td> 0.833669</td>
      <td>  370611.000000</td>
    </tr>
    <tr>
      <th>0 </th>
      <td> Andaman &amp; Nicobar Islands</td>
      <td>  1</td>
      <td>    269360</td>
      <td>   190328</td>
      <td> 0.706593</td>
      <td>  269360.000000</td>
    </tr>
    <tr>
      <th>7 </th>
      <td>      Dadra &amp; Nagar Haveli</td>
      <td>  1</td>
      <td>    196617</td>
      <td>   165286</td>
      <td> 0.840650</td>
      <td>  196617.000000</td>
    </tr>
    <tr>
      <th>8 </th>
      <td>               Daman &amp; Diu</td>
      <td>  1</td>
      <td>    111827</td>
      <td>    87233</td>
      <td> 0.780071</td>
      <td>  111827.000000</td>
    </tr>
    <tr>
      <th>17</th>
      <td>               Lakshadweep</td>
      <td>  1</td>
      <td>     49922</td>
      <td>    43239</td>
      <td> 0.866131</td>
      <td>   49922.000000</td>
    </tr>
  </tbody>
</table>
<p>35 rows × 6 columns</p>
</div>
</div>

</div>

</div>
</div>

</div>
<div class="cell border-box-sizing text_cell rendered">
<div class="prompt input_prompt">
</div>
<div class="inner_cell">
<div class="text_cell_render border-box-sizing rendered_html">
<h1 id="Reading-the-Results">Reading the Results<a class="anchor-link" href="#Reading-the-Results">&#182;</a></h1>
</div>
</div>
</div>
<div class="cell border-box-sizing code_cell rendered">
<div class="input">
<div class="prompt input_prompt">In&nbsp;[14]:</div>
<div class="inner_cell">
    <div class="input_area">
<div class=" highlight hl-ipython3"><pre><span></span><span class="n">path</span> <span class="o">=</span> <span class="s2">&quot;data/2014_indian_elections_results.csv&quot;</span>
<span class="n">results_data</span> <span class="o">=</span> <span class="n">pd</span><span class="o">.</span><span class="n">read_csv</span><span class="p">(</span><span class="n">path</span><span class="p">,</span> <span class="n">sep</span><span class="o">=</span><span class="s2">&quot;</span><span class="se">\t</span><span class="s2">&quot;</span><span class="p">)</span>
<span class="n">results_data</span>
</pre></div>

</div>
</div>
</div>

<div class="output_wrapper">
<div class="output">


<div class="output_area"><div class="prompt output_prompt">Out[14]:</div>

<div class="output_html rendered_html output_subarea output_execute_result">
<div style="max-height:1000px;max-width:1500px;overflow:auto;">
<table border="1" class="dataframe">
  <thead>
    <tr style="text-align: right;">
      <th></th>
      <th>Name of State/ UT</th>
      <th>Parliamentary Constituency</th>
      <th>Candidate Name</th>
      <th>Total Votes Polled</th>
      <th>Winner or Not?</th>
      <th>Party Abbreviation</th>
      <th>Party Name</th>
    </tr>
  </thead>
  <tbody>
    <tr>
      <th>0 </th>
      <td> Andhra Pradesh</td>
      <td>   Adilabad</td>
      <td>                 GODAM NAGESH</td>
      <td> 430847</td>
      <td> yes</td>
      <td>    TRS</td>
      <td>             Telangana Rashtra Samithi</td>
    </tr>
    <tr>
      <th>1 </th>
      <td> Andhra Pradesh</td>
      <td>   Adilabad</td>
      <td>             NETHAWATH RAMDAS</td>
      <td>  41032</td>
      <td>  no</td>
      <td>    IND</td>
      <td>                           Independent</td>
    </tr>
    <tr>
      <th>2 </th>
      <td> Andhra Pradesh</td>
      <td>   Adilabad</td>
      <td>                RAMESH RATHOD</td>
      <td> 184198</td>
      <td>  no</td>
      <td>    TDP</td>
      <td>                          Telugu Desam</td>
    </tr>
    <tr>
      <th>3 </th>
      <td> Andhra Pradesh</td>
      <td>   Adilabad</td>
      <td>              RATHOD SADASHIV</td>
      <td>  94420</td>
      <td>  no</td>
      <td>    BSP</td>
      <td>                   Bahujan Samaj Party</td>
    </tr>
    <tr>
      <th>4 </th>
      <td> Andhra Pradesh</td>
      <td>   Adilabad</td>
      <td>             MOSALI CHINNAIAH</td>
      <td>   8859</td>
      <td>  no</td>
      <td>    IND</td>
      <td>                           Independent</td>
    </tr>
    <tr>
      <th>5 </th>
      <td> Andhra Pradesh</td>
      <td>   Adilabad</td>
      <td>                       NARESH</td>
      <td> 259557</td>
      <td>  no</td>
      <td>    INC</td>
      <td>              Indian National Congress</td>
    </tr>
    <tr>
      <th>6 </th>
      <td> Andhra Pradesh</td>
      <td>   Adilabad</td>
      <td>                PAWAR KRISHNA</td>
      <td>   5055</td>
      <td>  no</td>
      <td>    IND</td>
      <td>                           Independent</td>
    </tr>
    <tr>
      <th>7 </th>
      <td> Andhra Pradesh</td>
      <td>   Adilabad</td>
      <td>                BANKA SAHADEV</td>
      <td>   4787</td>
      <td>  no</td>
      <td>    IND</td>
      <td>                           Independent</td>
    </tr>
    <tr>
      <th>8 </th>
      <td> Andhra Pradesh</td>
      <td>   Adilabad</td>
      <td>            None of the Above</td>
      <td>  17084</td>
      <td>  no</td>
      <td>   NOTA</td>
      <td>                     None of the Above</td>
    </tr>
    <tr>
      <th>9 </th>
      <td> Andhra Pradesh</td>
      <td> Peddapalle</td>
      <td>                  BALKA SUMAN</td>
      <td> 565496</td>
      <td> yes</td>
      <td>    TRS</td>
      <td>             Telangana Rashtra Samithi</td>
    </tr>
    <tr>
      <th>10</th>
      <td> Andhra Pradesh</td>
      <td> Peddapalle</td>
      <td>            None of the Above</td>
      <td>   5361</td>
      <td>  no</td>
      <td>   NOTA</td>
      <td>                     None of the Above</td>
    </tr>
    <tr>
      <th>11</th>
      <td> Andhra Pradesh</td>
      <td> Peddapalle</td>
      <td>                G. VIVEKANAND</td>
      <td> 274338</td>
      <td>  no</td>
      <td>    INC</td>
      <td>              Indian National Congress</td>
    </tr>
    <tr>
      <th>12</th>
      <td> Andhra Pradesh</td>
      <td> Peddapalle</td>
      <td>              KALVALA SHANKAR</td>
      <td>   9290</td>
      <td>  no</td>
      <td>   PPOI</td>
      <td>                Pyramid Party of India</td>
    </tr>
    <tr>
      <th>13</th>
      <td> Andhra Pradesh</td>
      <td> Peddapalle</td>
      <td>              MOUTAM RAVINDER</td>
      <td>   2674</td>
      <td>  no</td>
      <td>    IND</td>
      <td>                           Independent</td>
    </tr>
    <tr>
      <th>14</th>
      <td> Andhra Pradesh</td>
      <td> Peddapalle</td>
      <td>            VELTHURU MALLAIAH</td>
      <td>  45977</td>
      <td>  no</td>
      <td>  RP(K)</td>
      <td>           Republican Paksha (Khoripa)</td>
    </tr>
    <tr>
      <th>15</th>
      <td> Andhra Pradesh</td>
      <td> Peddapalle</td>
      <td>       DR.JANAPATI SARAT BABU</td>
      <td>  63334</td>
      <td>  no</td>
      <td>    TDP</td>
      <td>                          Telugu Desam</td>
    </tr>
    <tr>
      <th>16</th>
      <td> Andhra Pradesh</td>
      <td> Peddapalle</td>
      <td>             KAMILLA JAYA RAO</td>
      <td>   2742</td>
      <td>  no</td>
      <td>    IND</td>
      <td>                           Independent</td>
    </tr>
    <tr>
      <th>17</th>
      <td> Andhra Pradesh</td>
      <td> Peddapalle</td>
      <td>         THALLAPALLI SRINIVAS</td>
      <td>   3699</td>
      <td>  no</td>
      <td>    IND</td>
      <td>                           Independent</td>
    </tr>
    <tr>
      <th>18</th>
      <td> Andhra Pradesh</td>
      <td> Peddapalle</td>
      <td>          VENKATA SWAMY INJAM</td>
      <td>   3866</td>
      <td>  no</td>
      <td>   MaSP</td>
      <td>              Mahajana Socialist Party</td>
    </tr>
    <tr>
      <th>19</th>
      <td> Andhra Pradesh</td>
      <td> Peddapalle</td>
      <td>                 GORRE RAMESH</td>
      <td>   2361</td>
      <td>  no</td>
      <td>    IND</td>
      <td>                           Independent</td>
    </tr>
    <tr>
      <th>20</th>
      <td> Andhra Pradesh</td>
      <td> Peddapalle</td>
      <td>             BUPELLI NARAYANA</td>
      <td>   7258</td>
      <td>  no</td>
      <td>    IND</td>
      <td>                           Independent</td>
    </tr>
    <tr>
      <th>21</th>
      <td> Andhra Pradesh</td>
      <td> Peddapalle</td>
      <td>       BOTHA VENKATA MALLAIAH</td>
      <td>   2245</td>
      <td>  no</td>
      <td>   BCUF</td>
      <td>                    B. C. United Front</td>
    </tr>
    <tr>
      <th>22</th>
      <td> Andhra Pradesh</td>
      <td> Peddapalle</td>
      <td>               JINNA RAMADEVI</td>
      <td>   9199</td>
      <td>  no</td>
      <td>    IND</td>
      <td>                           Independent</td>
    </tr>
    <tr>
      <th>23</th>
      <td> Andhra Pradesh</td>
      <td> Peddapalle</td>
      <td>                    J.V. RAJU</td>
      <td>   3020</td>
      <td>  no</td>
      <td>    NIP</td>
      <td>                       New India Party</td>
    </tr>
    <tr>
      <th>24</th>
      <td> Andhra Pradesh</td>
      <td> Peddapalle</td>
      <td>          GADDALA VINAY KUMAR</td>
      <td>   3266</td>
      <td>  no</td>
      <td>    IND</td>
      <td>                           Independent</td>
    </tr>
    <tr>
      <th>25</th>
      <td> Andhra Pradesh</td>
      <td> Peddapalle</td>
      <td>              KALVALA SANJEEV</td>
      <td>   8609</td>
      <td>  no</td>
      <td>    RPI</td>
      <td>             Republican Party of India</td>
    </tr>
    <tr>
      <th>26</th>
      <td> Andhra Pradesh</td>
      <td> Peddapalle</td>
      <td>          TAGARAM SHANKAR LAL</td>
      <td>   9449</td>
      <td>  no</td>
      <td>    BSP</td>
      <td>                   Bahujan Samaj Party</td>
    </tr>
    <tr>
      <th>27</th>
      <td> Andhra Pradesh</td>
      <td> Karimnagar</td>
      <td>       VINOD KUMAR BOINAPALLY</td>
      <td> 505783</td>
      <td> yes</td>
      <td>    TRS</td>
      <td>             Telangana Rashtra Samithi</td>
    </tr>
    <tr>
      <th>28</th>
      <td> Andhra Pradesh</td>
      <td> Karimnagar</td>
      <td>   SRINIVAS REDDY LINGAMPALLY</td>
      <td>   3865</td>
      <td>  no</td>
      <td>    IND</td>
      <td>                           Independent</td>
    </tr>
    <tr>
      <th>29</th>
      <td> Andhra Pradesh</td>
      <td> Karimnagar</td>
      <td>            RANAVENI LAKSHMAN</td>
      <td>   2062</td>
      <td>  no</td>
      <td>    NIP</td>
      <td>                       New India Party</td>
    </tr>
    <tr>
      <th>30</th>
      <td> Andhra Pradesh</td>
      <td> Karimnagar</td>
      <td>          MALLESH YADAV BARLA</td>
      <td>   2760</td>
      <td>  no</td>
      <td>    IND</td>
      <td>                           Independent</td>
    </tr>
    <tr>
      <th>31</th>
      <td> Andhra Pradesh</td>
      <td> Karimnagar</td>
      <td>         REDDI MALLA SRINIVAS</td>
      <td>   8040</td>
      <td>  no</td>
      <td> RPI(A)</td>
      <td>         Republican Party of India (A)</td>
    </tr>
    <tr>
      <th>32</th>
      <td> Andhra Pradesh</td>
      <td> Karimnagar</td>
      <td>                  BURLA. RAVI</td>
      <td>   4769</td>
      <td>  no</td>
      <td>    NCP</td>
      <td>            Nationalist Congress Party</td>
    </tr>
    <tr>
      <th>33</th>
      <td> Andhra Pradesh</td>
      <td> Karimnagar</td>
      <td>             KANDEM PRABHAKAR</td>
      <td>   4731</td>
      <td>  no</td>
      <td>    IND</td>
      <td>                           Independent</td>
    </tr>
    <tr>
      <th>34</th>
      <td> Andhra Pradesh</td>
      <td> Karimnagar</td>
      <td>                    B. LAXMAN</td>
      <td>  11333</td>
      <td>  no</td>
      <td>    BSP</td>
      <td>                   Bahujan Samaj Party</td>
    </tr>
    <tr>
      <th>35</th>
      <td> Andhra Pradesh</td>
      <td> Karimnagar</td>
      <td>                SHAIK MAHMOOD</td>
      <td>  39325</td>
      <td>  no</td>
      <td>   WPOI</td>
      <td>                Welfare Party Of India</td>
    </tr>
    <tr>
      <th>36</th>
      <td> Andhra Pradesh</td>
      <td> Karimnagar</td>
      <td>             PONNAM PRABHAKAR</td>
      <td> 300706</td>
      <td>  no</td>
      <td>    INC</td>
      <td>              Indian National Congress</td>
    </tr>
    <tr>
      <th>37</th>
      <td> Andhra Pradesh</td>
      <td> Karimnagar</td>
      <td> CHENNAMANENI VIDYA SAGAR RAO</td>
      <td> 214828</td>
      <td>  no</td>
      <td>    BJP</td>
      <td>                Bharatiya Janata Party</td>
    </tr>
    <tr>
      <th>38</th>
      <td> Andhra Pradesh</td>
      <td> Karimnagar</td>
      <td>           MEESALA RAJI REDDY</td>
      <td>   3080</td>
      <td>  no</td>
      <td>  YSRCP</td>
      <td> Yuvajana Sramika Rythu Congress Party</td>
    </tr>
    <tr>
      <th>39</th>
      <td> Andhra Pradesh</td>
      <td> Karimnagar</td>
      <td>     MOHAMMED AMJAD MOHIUDDIN</td>
      <td>   6720</td>
      <td>  no</td>
      <td>    IND</td>
      <td>                           Independent</td>
    </tr>
    <tr>
      <th>40</th>
      <td> Andhra Pradesh</td>
      <td> Karimnagar</td>
      <td>              UPPULETI.LAXMAN</td>
      <td>   2448</td>
      <td>  no</td>
      <td>    IND</td>
      <td>                           Independent</td>
    </tr>
    <tr>
      <th>41</th>
      <td> Andhra Pradesh</td>
      <td> Karimnagar</td>
      <td>           L. PRABHAKAR REDDY</td>
      <td>   3944</td>
      <td>  no</td>
      <td>   PPOI</td>
      <td>                Pyramid Party of India</td>
    </tr>
    <tr>
      <th>42</th>
      <td> Andhra Pradesh</td>
      <td> Karimnagar</td>
      <td>              PULIKOTA RAMESH</td>
      <td>   1777</td>
      <td>  no</td>
      <td>    IND</td>
      <td>                           Independent</td>
    </tr>
    <tr>
      <th>43</th>
      <td> Andhra Pradesh</td>
      <td> Karimnagar</td>
      <td>      DR.DHARMAIAH VENDAVETLA</td>
      <td>   3773</td>
      <td>  no</td>
      <td>   BMUP</td>
      <td>                   Bahujan Mukti Party</td>
    </tr>
    <tr>
      <th>44</th>
      <td> Andhra Pradesh</td>
      <td> Karimnagar</td>
      <td>            None of the Above</td>
      <td>   5747</td>
      <td>  no</td>
      <td>   NOTA</td>
      <td>                     None of the Above</td>
    </tr>
    <tr>
      <th>45</th>
      <td> Andhra Pradesh</td>
      <td>  Nizamabad</td>
      <td>          KALVAKUNTLA KAVITHA</td>
      <td> 439307</td>
      <td> yes</td>
      <td>    TRS</td>
      <td>             Telangana Rashtra Samithi</td>
    </tr>
    <tr>
      <th>46</th>
      <td> Andhra Pradesh</td>
      <td>  Nizamabad</td>
      <td>               BANJA VEERAPPA</td>
      <td>   3651</td>
      <td>  no</td>
      <td>   PPOI</td>
      <td>                Pyramid Party of India</td>
    </tr>
    <tr>
      <th>47</th>
      <td> Andhra Pradesh</td>
      <td>  Nizamabad</td>
      <td>  CHIRULINGADRULA VENKATESHAM</td>
      <td>   3091</td>
      <td>  no</td>
      <td>    IND</td>
      <td>                           Independent</td>
    </tr>
    <tr>
      <th>48</th>
      <td> Andhra Pradesh</td>
      <td>  Nizamabad</td>
      <td>             KANDEM PRABHAKAR</td>
      <td>   3990</td>
      <td>  no</td>
      <td>    IND</td>
      <td>                           Independent</td>
    </tr>
    <tr>
      <th>49</th>
      <td> Andhra Pradesh</td>
      <td>  Nizamabad</td>
      <td>          MALIK MOHTASIM KHAN</td>
      <td>  43814</td>
      <td>  no</td>
      <td>   WPOI</td>
      <td>                Welfare Party Of India</td>
    </tr>
    <tr>
      <th>50</th>
      <td> Andhra Pradesh</td>
      <td>  Nizamabad</td>
      <td>                S. CHANDRAIAH</td>
      <td>   2817</td>
      <td>  no</td>
      <td>    IND</td>
      <td>                           Independent</td>
    </tr>
    <tr>
      <th>51</th>
      <td> Andhra Pradesh</td>
      <td>  Nizamabad</td>
      <td>                     BAGWAN B</td>
      <td>   8129</td>
      <td>  no</td>
      <td>    IND</td>
      <td>                           Independent</td>
    </tr>
    <tr>
      <th>52</th>
      <td> Andhra Pradesh</td>
      <td>  Nizamabad</td>
      <td>                   ABDUL GANI</td>
      <td>   4791</td>
      <td>  no</td>
      <td>   BCUF</td>
      <td>                    B. C. United Front</td>
    </tr>
    <tr>
      <th>53</th>
      <td> Andhra Pradesh</td>
      <td>  Nizamabad</td>
      <td>       ENDALA LAKSHMINARAYANA</td>
      <td> 225333</td>
      <td>  no</td>
      <td>    BJP</td>
      <td>                Bharatiya Janata Party</td>
    </tr>
    <tr>
      <th>54</th>
      <td> Andhra Pradesh</td>
      <td>  Nizamabad</td>
      <td>     ABDUL KAREEM KHAN (BABU)</td>
      <td>   1601</td>
      <td>  no</td>
      <td>    IND</td>
      <td>                           Independent</td>
    </tr>
    <tr>
      <th>55</th>
      <td> Andhra Pradesh</td>
      <td>  Nizamabad</td>
      <td>                TALARI RAMULU</td>
      <td>   7421</td>
      <td>  no</td>
      <td>    BSP</td>
      <td>                   Bahujan Samaj Party</td>
    </tr>
    <tr>
      <th>56</th>
      <td> Andhra Pradesh</td>
      <td>  Nizamabad</td>
      <td>                SAGAR SUDDALA</td>
      <td>   1978</td>
      <td>  no</td>
      <td>   BMUP</td>
      <td>                   Bahujan Mukti Party</td>
    </tr>
    <tr>
      <th>57</th>
      <td> Andhra Pradesh</td>
      <td>  Nizamabad</td>
      <td>            MADHU YASKHI GOUD</td>
      <td> 272123</td>
      <td>  no</td>
      <td>    INC</td>
      <td>              Indian National Congress</td>
    </tr>
    <tr>
      <th>58</th>
      <td> Andhra Pradesh</td>
      <td>  Nizamabad</td>
      <td>             RAPELLY SRINIVAS</td>
      <td>   2621</td>
      <td>  no</td>
      <td>   AAAP</td>
      <td>                       Aam Aadmi Party</td>
    </tr>
    <tr>
      <th>59</th>
      <td> Andhra Pradesh</td>
      <td>  Nizamabad</td>
      <td>     KOTAPATI NARSIMHAM NAIDU</td>
      <td>   2462</td>
      <td>  no</td>
      <td>    IND</td>
      <td>                           Independent</td>
    </tr>
    <tr>
      <th></th>
      <td>...</td>
      <td>...</td>
      <td>...</td>
      <td>...</td>
      <td>...</td>
      <td>...</td>
      <td>...</td>
    </tr>
  </tbody>
</table>
<p>8794 rows × 7 columns</p>
</div>
</div>

</div>

</div>
</div>

</div>Analyzing The results
<div class="cell border-box-sizing code_cell rendered">
<div class="input">
<div class="prompt input_prompt">In&nbsp;[15]:</div>
<div class="inner_cell">
    <div class="input_area">
<div class=" highlight hl-ipython3"><pre><span></span><span class="n">winners</span> <span class="o">=</span> <span class="n">results_data</span><span class="p">[</span><span class="n">results_data</span><span class="p">[</span><span class="s2">&quot;Winner or Not?&quot;</span><span class="p">]</span> <span class="o">==</span> <span class="s2">&quot;yes&quot;</span><span class="p">]</span><span class="o">.</span><span class="n">sort</span><span class="p">(</span><span class="s2">&quot;Name of State/ UT&quot;</span><span class="p">)</span>
<span class="n">winners</span>
</pre></div>

</div>
</div>
</div>

<div class="output_wrapper">
<div class="output">


<div class="output_area"><div class="prompt output_prompt">Out[15]:</div>

<div class="output_html rendered_html output_subarea output_execute_result">
<div style="max-height:1000px;max-width:1500px;overflow:auto;">
<table border="1" class="dataframe">
  <thead>
    <tr style="text-align: right;">
      <th></th>
      <th>Name of State/ UT</th>
      <th>Parliamentary Constituency</th>
      <th>Candidate Name</th>
      <th>Total Votes Polled</th>
      <th>Winner or Not?</th>
      <th>Party Abbreviation</th>
      <th>Party Name</th>
    </tr>
  </thead>
  <tbody>
    <tr>
      <th>8548</th>
      <td> Andaman &amp; Nicobar Islands</td>
      <td> Andaman &amp; Nicobar Islands</td>
      <td>                     BISHNU PADA RAY</td>
      <td>  90969</td>
      <td> yes</td>
      <td>   BJP</td>
      <td>                 Bharatiya Janata Party</td>
    </tr>
    <tr>
      <th>0   </th>
      <td>            Andhra Pradesh</td>
      <td>                  Adilabad</td>
      <td>                        GODAM NAGESH</td>
      <td> 430847</td>
      <td> yes</td>
      <td>   TRS</td>
      <td>              Telangana Rashtra Samithi</td>
    </tr>
    <tr>
      <th>9   </th>
      <td>            Andhra Pradesh</td>
      <td>                Peddapalle</td>
      <td>                         BALKA SUMAN</td>
      <td> 565496</td>
      <td> yes</td>
      <td>   TRS</td>
      <td>              Telangana Rashtra Samithi</td>
    </tr>
    <tr>
      <th>27  </th>
      <td>            Andhra Pradesh</td>
      <td>                Karimnagar</td>
      <td>              VINOD KUMAR BOINAPALLY</td>
      <td> 505783</td>
      <td> yes</td>
      <td>   TRS</td>
      <td>              Telangana Rashtra Samithi</td>
    </tr>
    <tr>
      <th>45  </th>
      <td>            Andhra Pradesh</td>
      <td>                 Nizamabad</td>
      <td>                 KALVAKUNTLA KAVITHA</td>
      <td> 439307</td>
      <td> yes</td>
      <td>   TRS</td>
      <td>              Telangana Rashtra Samithi</td>
    </tr>
    <tr>
      <th>62  </th>
      <td>            Andhra Pradesh</td>
      <td>                 Zahirabad</td>
      <td>                          B.B. PATIL</td>
      <td> 508661</td>
      <td> yes</td>
      <td>   TRS</td>
      <td>              Telangana Rashtra Samithi</td>
    </tr>
    <tr>
      <th>73  </th>
      <td>            Andhra Pradesh</td>
      <td>                     Medak</td>
      <td>       KALVAKUNTLA CHANDRASEKHAR RAO</td>
      <td> 657492</td>
      <td> yes</td>
      <td>   TRS</td>
      <td>              Telangana Rashtra Samithi</td>
    </tr>
    <tr>
      <th>87  </th>
      <td>            Andhra Pradesh</td>
      <td>                Malkajgiri</td>
      <td>                      CH.MALLA REDDY</td>
      <td> 523336</td>
      <td> yes</td>
      <td>   TDP</td>
      <td>                           Telugu Desam</td>
    </tr>
    <tr>
      <th>118 </th>
      <td>            Andhra Pradesh</td>
      <td>               Secundrabad</td>
      <td>                  BANDARU DATTATREYA</td>
      <td> 438271</td>
      <td> yes</td>
      <td>   BJP</td>
      <td>                 Bharatiya Janata Party</td>
    </tr>
    <tr>
      <th>149 </th>
      <td>            Andhra Pradesh</td>
      <td>                 Hyderabad</td>
      <td>                    ASADUDDIN OWAISI</td>
      <td> 513868</td>
      <td> yes</td>
      <td> AIMIM</td>
      <td> All India Majlis-E-Ittehadul Muslimeen</td>
    </tr>
    <tr>
      <th>166 </th>
      <td>            Andhra Pradesh</td>
      <td>                 CHELVELLA</td>
      <td>             KONDA VISHWESHWAR REDDY</td>
      <td> 435077</td>
      <td> yes</td>
      <td>   TRS</td>
      <td>              Telangana Rashtra Samithi</td>
    </tr>
    <tr>
      <th>182 </th>
      <td>            Andhra Pradesh</td>
      <td>               Mahbubnagar</td>
      <td>                  AP JITHENDER REDDY</td>
      <td> 334228</td>
      <td> yes</td>
      <td>   TRS</td>
      <td>              Telangana Rashtra Samithi</td>
    </tr>
    <tr>
      <th>192 </th>
      <td>            Andhra Pradesh</td>
      <td>              Nagarkurnool</td>
      <td>                      YELLAIAH NANDI</td>
      <td> 420075</td>
      <td> yes</td>
      <td>   INC</td>
      <td>               Indian National Congress</td>
    </tr>
    <tr>
      <th>199 </th>
      <td>            Andhra Pradesh</td>
      <td>                  Nalgonda</td>
      <td>               GUTHA SUKHENDER REDDY</td>
      <td> 472093</td>
      <td> yes</td>
      <td>   INC</td>
      <td>               Indian National Congress</td>
    </tr>
    <tr>
      <th>209 </th>
      <td>            Andhra Pradesh</td>
      <td>                   Bhongir</td>
      <td>             DR. BOORA NARSAIAH GOUD</td>
      <td> 448245</td>
      <td> yes</td>
      <td>   TRS</td>
      <td>              Telangana Rashtra Samithi</td>
    </tr>
    <tr>
      <th>223 </th>
      <td>            Andhra Pradesh</td>
      <td>                  Warangal</td>
      <td>                     KADIYAM SRIHARI</td>
      <td> 661639</td>
      <td> yes</td>
      <td>   TRS</td>
      <td>              Telangana Rashtra Samithi</td>
    </tr>
    <tr>
      <th>236 </th>
      <td>            Andhra Pradesh</td>
      <td>               Mahabubabad</td>
      <td>         PROF. AZMEERA SEETARAM NAIK</td>
      <td> 320569</td>
      <td> yes</td>
      <td>   TRS</td>
      <td>              Telangana Rashtra Samithi</td>
    </tr>
    <tr>
      <th>254 </th>
      <td>            Andhra Pradesh</td>
      <td>                   Khammam</td>
      <td>          PONGULETI  SRINIVASA REDDY</td>
      <td> 421957</td>
      <td> yes</td>
      <td> YSRCP</td>
      <td>  Yuvajana Sramika Rythu Congress Party</td>
    </tr>
    <tr>
      <th>282 </th>
      <td>            Andhra Pradesh</td>
      <td>                     Aruku</td>
      <td>                   KOTHAPALLI GEETHA</td>
      <td> 413191</td>
      <td> yes</td>
      <td> YSRCP</td>
      <td>  Yuvajana Sramika Rythu Congress Party</td>
    </tr>
    <tr>
      <th>294 </th>
      <td>            Andhra Pradesh</td>
      <td>                Srikakulam</td>
      <td>            RAMMOHAN NAIDU KINJARAPU</td>
      <td> 556163</td>
      <td> yes</td>
      <td>   TDP</td>
      <td>                           Telugu Desam</td>
    </tr>
    <tr>
      <th>305 </th>
      <td>            Andhra Pradesh</td>
      <td>              Vizianagaram</td>
      <td>       ASHOK GAJAPATHI RAJU PUSAPATI</td>
      <td> 536549</td>
      <td> yes</td>
      <td>   TDP</td>
      <td>                           Telugu Desam</td>
    </tr>
    <tr>
      <th>315 </th>
      <td>            Andhra Pradesh</td>
      <td>             Visakhapatnam</td>
      <td>               KAMBHAMPATI HARI BABU</td>
      <td> 566832</td>
      <td> yes</td>
      <td>   BJP</td>
      <td>                 Bharatiya Janata Party</td>
    </tr>
    <tr>
      <th>338 </th>
      <td>            Andhra Pradesh</td>
      <td>                Anakapalli</td>
      <td> MUTTAMSETTI SRINIVASA RAO (AVANTHI)</td>
      <td> 568463</td>
      <td> yes</td>
      <td>   TDP</td>
      <td>                           Telugu Desam</td>
    </tr>
    <tr>
      <th>347 </th>
      <td>            Andhra Pradesh</td>
      <td>                  Kakinada</td>
      <td>                    THOTA NARASIMHAM</td>
      <td> 514402</td>
      <td> yes</td>
      <td>   TDP</td>
      <td>                           Telugu Desam</td>
    </tr>
    <tr>
      <th>370 </th>
      <td>            Andhra Pradesh</td>
      <td>                Amalapuram</td>
      <td>            DR PANDULA RAVINDRA BABU</td>
      <td> 594547</td>
      <td> yes</td>
      <td>   TDP</td>
      <td>                           Telugu Desam</td>
    </tr>
    <tr>
      <th>385 </th>
      <td>            Andhra Pradesh</td>
      <td>               Rajahmundry</td>
      <td>                MURALI MOHAN MAGANTI</td>
      <td> 630573</td>
      <td> yes</td>
      <td>   TDP</td>
      <td>                           Telugu Desam</td>
    </tr>
    <tr>
      <th>400 </th>
      <td>            Andhra Pradesh</td>
      <td>                Narsapuram</td>
      <td>                 GOKARAJU GANGA RAJU</td>
      <td> 540306</td>
      <td> yes</td>
      <td>   BJP</td>
      <td>                 Bharatiya Janata Party</td>
    </tr>
    <tr>
      <th>415 </th>
      <td>            Andhra Pradesh</td>
      <td>                     Eluru</td>
      <td>     MAGANTI VENKATESWARA RAO (BABU)</td>
      <td> 623471</td>
      <td> yes</td>
      <td>   TDP</td>
      <td>                           Telugu Desam</td>
    </tr>
    <tr>
      <th>431 </th>
      <td>            Andhra Pradesh</td>
      <td>             Machilipatnam</td>
      <td>              KONAKALLA NARAYANA RAO</td>
      <td> 587280</td>
      <td> yes</td>
      <td>   TDP</td>
      <td>                           Telugu Desam</td>
    </tr>
    <tr>
      <th>443 </th>
      <td>            Andhra Pradesh</td>
      <td>                Vijayawada</td>
      <td>                   KESINENI SRINIVAS</td>
      <td> 592696</td>
      <td> yes</td>
      <td>   TDP</td>
      <td>                           Telugu Desam</td>
    </tr>
    <tr>
      <th>466 </th>
      <td>            Andhra Pradesh</td>
      <td>                    Guntur</td>
      <td>                       JAYADEV GALLA</td>
      <td> 618417</td>
      <td> yes</td>
      <td>   TDP</td>
      <td>                           Telugu Desam</td>
    </tr>
    <tr>
      <th>479 </th>
      <td>            Andhra Pradesh</td>
      <td>              Narasaraopet</td>
      <td>              SAMBASIVA RAO RAYAPATI</td>
      <td> 632464</td>
      <td> yes</td>
      <td>   TDP</td>
      <td>                           Telugu Desam</td>
    </tr>
    <tr>
      <th>491 </th>
      <td>            Andhra Pradesh</td>
      <td>                   Bapatla</td>
      <td>                     MALYADRI SRIRAM</td>
      <td> 578145</td>
      <td> yes</td>
      <td>   TDP</td>
      <td>                           Telugu Desam</td>
    </tr>
    <tr>
      <th>506 </th>
      <td>            Andhra Pradesh</td>
      <td>                    Ongole</td>
      <td>                     Y.V.SUBBA REDDY</td>
      <td> 589960</td>
      <td> yes</td>
      <td> YSRCP</td>
      <td>  Yuvajana Sramika Rythu Congress Party</td>
    </tr>
    <tr>
      <th>522 </th>
      <td>            Andhra Pradesh</td>
      <td>                   Nandyal</td>
      <td>                         S.P.Y REDDY</td>
      <td> 622411</td>
      <td> yes</td>
      <td> YSRCP</td>
      <td>  Yuvajana Sramika Rythu Congress Party</td>
    </tr>
    <tr>
      <th>537 </th>
      <td>            Andhra Pradesh</td>
      <td>                   Kurnool</td>
      <td>                        BUTTA RENUKA</td>
      <td> 472782</td>
      <td> yes</td>
      <td> YSRCP</td>
      <td>  Yuvajana Sramika Rythu Congress Party</td>
    </tr>
    <tr>
      <th>550 </th>
      <td>            Andhra Pradesh</td>
      <td>                 Anantapur</td>
      <td>                  J.C. DIVAKAR REDDI</td>
      <td> 606509</td>
      <td> yes</td>
      <td>   TDP</td>
      <td>                           Telugu Desam</td>
    </tr>
    <tr>
      <th>564 </th>
      <td>            Andhra Pradesh</td>
      <td>                  Hindupur</td>
      <td>                   KRISTAPPA NIMMALA</td>
      <td> 604291</td>
      <td> yes</td>
      <td>   TDP</td>
      <td>                           Telugu Desam</td>
    </tr>
    <tr>
      <th>577 </th>
      <td>            Andhra Pradesh</td>
      <td>                    Kadapa</td>
      <td>                  Y.S. AVINASH REDDY</td>
      <td> 671983</td>
      <td> yes</td>
      <td> YSRCP</td>
      <td>  Yuvajana Sramika Rythu Congress Party</td>
    </tr>
    <tr>
      <th>592 </th>
      <td>            Andhra Pradesh</td>
      <td>                   Nellore</td>
      <td>            MEKAPATI RAJAMOHAN REDDY</td>
      <td> 576396</td>
      <td> yes</td>
      <td> YSRCP</td>
      <td>  Yuvajana Sramika Rythu Congress Party</td>
    </tr>
    <tr>
      <th>607 </th>
      <td>            Andhra Pradesh</td>
      <td>                  Tirupati</td>
      <td>          VARAPRASAD RAO VELAGAPALLI</td>
      <td> 580376</td>
      <td> yes</td>
      <td> YSRCP</td>
      <td>  Yuvajana Sramika Rythu Congress Party</td>
    </tr>
    <tr>
      <th>622 </th>
      <td>            Andhra Pradesh</td>
      <td>                  Rajampet</td>
      <td>                    P.V.MIDHUN REDDY</td>
      <td> 601752</td>
      <td> yes</td>
      <td> YSRCP</td>
      <td>  Yuvajana Sramika Rythu Congress Party</td>
    </tr>
    <tr>
      <th>632 </th>
      <td>            Andhra Pradesh</td>
      <td>                  Chittoor</td>
      <td>                NARAMALLI SIVAPRASAD</td>
      <td> 594862</td>
      <td> yes</td>
      <td>   TDP</td>
      <td>                           Telugu Desam</td>
    </tr>
    <tr>
      <th>640 </th>
      <td>         Arunachal Pradesh</td>
      <td>            ARUNACHAL WEST</td>
      <td>                        KIREN RIJIJU</td>
      <td> 169367</td>
      <td> yes</td>
      <td>   BJP</td>
      <td>                 Bharatiya Janata Party</td>
    </tr>
    <tr>
      <th>649 </th>
      <td>         Arunachal Pradesh</td>
      <td>            ARUNACHAL EAST</td>
      <td>                        NINONG ERING</td>
      <td> 118455</td>
      <td> yes</td>
      <td>   INC</td>
      <td>               Indian National Congress</td>
    </tr>
    <tr>
      <th>653 </th>
      <td>                     Assam</td>
      <td>                 Karimganj</td>
      <td>                   RADHESHYAM BISWAS</td>
      <td> 362866</td>
      <td> yes</td>
      <td> AIUDF</td>
      <td>      All India United Democratic Front</td>
    </tr>
    <tr>
      <th>669 </th>
      <td>                     Assam</td>
      <td>                   Silchar</td>
      <td>                        SUSHMITA DEV</td>
      <td> 336451</td>
      <td> yes</td>
      <td>   INC</td>
      <td>               Indian National Congress</td>
    </tr>
    <tr>
      <th>687 </th>
      <td>                     Assam</td>
      <td>       Autonomous District</td>
      <td>                   BIREN SINGH ENGTI</td>
      <td> 213152</td>
      <td> yes</td>
      <td>   INC</td>
      <td>               Indian National Congress</td>
    </tr>
    <tr>
      <th>693 </th>
      <td>                     Assam</td>
      <td>                    Dhubri</td>
      <td>                     BADRUDDIN AJMAL</td>
      <td> 592569</td>
      <td> yes</td>
      <td> AIUDF</td>
      <td>      All India United Democratic Front</td>
    </tr>
    <tr>
      <th>709 </th>
      <td>                     Assam</td>
      <td>                 Kokrajhar</td>
      <td>           NABA KUMAR SARANIA (HIRA)</td>
      <td> 634428</td>
      <td> yes</td>
      <td>   IND</td>
      <td>                            Independent</td>
    </tr>
    <tr>
      <th>716 </th>
      <td>                     Assam</td>
      <td>                   Barpeta</td>
      <td>                   SIRAJ UDDIN AJMAL</td>
      <td> 394702</td>
      <td> yes</td>
      <td> AIUDF</td>
      <td>      All India United Democratic Front</td>
    </tr>
    <tr>
      <th>732 </th>
      <td>                     Assam</td>
      <td>                   Gauhati</td>
      <td>                  BIJOYA CHAKRAVARTY</td>
      <td> 764985</td>
      <td> yes</td>
      <td>   BJP</td>
      <td>                 Bharatiya Janata Party</td>
    </tr>
    <tr>
      <th>751 </th>
      <td>                     Assam</td>
      <td>                 Mangaldoi</td>
      <td>                          RAMEN DEKA</td>
      <td> 486357</td>
      <td> yes</td>
      <td>   BJP</td>
      <td>                 Bharatiya Janata Party</td>
    </tr>
    <tr>
      <th>764 </th>
      <td>                     Assam</td>
      <td>                    Tezpur</td>
      <td>                   RAM PRASAD SARMAH</td>
      <td> 446511</td>
      <td> yes</td>
      <td>   BJP</td>
      <td>                 Bharatiya Janata Party</td>
    </tr>
    <tr>
      <th>774 </th>
      <td>                     Assam</td>
      <td>                   Nowgong</td>
      <td>                        RAJEN GOHAIN</td>
      <td> 494146</td>
      <td> yes</td>
      <td>   BJP</td>
      <td>                 Bharatiya Janata Party</td>
    </tr>
    <tr>
      <th>783 </th>
      <td>                     Assam</td>
      <td>                  Kaliabor</td>
      <td>                        GOURAV GOGOI</td>
      <td> 443315</td>
      <td> yes</td>
      <td>   INC</td>
      <td>               Indian National Congress</td>
    </tr>
    <tr>
      <th>797 </th>
      <td>                     Assam</td>
      <td>                    Jorhat</td>
      <td>                KAMAKHYA PRASAD TASA</td>
      <td> 456420</td>
      <td> yes</td>
      <td>   BJP</td>
      <td>                 Bharatiya Janata Party</td>
    </tr>
    <tr>
      <th>808 </th>
      <td>                     Assam</td>
      <td>                 Dibrugarh</td>
      <td>                       RAMESWAR TELI</td>
      <td> 494364</td>
      <td> yes</td>
      <td>   BJP</td>
      <td>                 Bharatiya Janata Party</td>
    </tr>
    <tr>
      <th>815 </th>
      <td>                     Assam</td>
      <td>                 Lakhimpur</td>
      <td>                  SARBANANDA SONOWAL</td>
      <td> 612543</td>
      <td> yes</td>
      <td>   BJP</td>
      <td>                 Bharatiya Janata Party</td>
    </tr>
    <tr>
      <th>829 </th>
      <td>                     Bihar</td>
      <td>             Valmiki Nagar</td>
      <td>                SATISH CHANDRA DUBEY</td>
      <td> 364011</td>
      <td> yes</td>
      <td>   BJP</td>
      <td>                 Bharatiya Janata Party</td>
    </tr>
    <tr>
      <th></th>
      <td>...</td>
      <td>...</td>
      <td>...</td>
      <td>...</td>
      <td>...</td>
      <td>...</td>
      <td>...</td>
    </tr>
  </tbody>
</table>
<p>543 rows × 7 columns</p>
</div>
</div>

</div>

</div>
</div>

</div>
<div class="cell border-box-sizing text_cell rendered">
<div class="prompt input_prompt">
</div>
<div class="inner_cell">
<div class="text_cell_render border-box-sizing rendered_html">
<h2 id="Loading-the-results-to-the-origianl-Data-Frame">Loading the results to the origianl Data Frame<a class="anchor-link" href="#Loading-the-results-to-the-origianl-Data-Frame">&#182;</a></h2>
</div>
</div>
</div>
<div class="cell border-box-sizing code_cell rendered">
<div class="input">
<div class="prompt input_prompt">In&nbsp;[16]:</div>
<div class="inner_cell">
    <div class="input_area">
<div class=" highlight hl-ipython3"><pre><span></span><span class="n">csv_data</span><span class="p">[</span><span class="s2">&quot;Candidate Name&quot;</span><span class="p">]</span> <span class="o">=</span> <span class="n">winners</span><span class="p">[</span><span class="s2">&quot;Candidate Name&quot;</span><span class="p">]</span><span class="o">.</span><span class="n">values</span>
<span class="n">csv_data</span><span class="p">[</span><span class="s2">&quot;Party Abbreviation&quot;</span><span class="p">]</span> <span class="o">=</span> <span class="n">winners</span><span class="p">[</span><span class="s2">&quot;Party Abbreviation&quot;</span><span class="p">]</span><span class="o">.</span><span class="n">values</span>
<span class="n">csv_data</span><span class="p">[</span><span class="s2">&quot;Party Name&quot;</span><span class="p">]</span> <span class="o">=</span> <span class="n">winners</span><span class="p">[</span><span class="s2">&quot;Party Name&quot;</span><span class="p">]</span><span class="o">.</span><span class="n">values</span>
<span class="n">csv_data</span><span class="p">[</span><span class="s2">&quot;Total Votes Polled&quot;</span><span class="p">]</span> <span class="o">=</span> <span class="n">winners</span><span class="p">[</span><span class="s2">&quot;Total Votes Polled&quot;</span><span class="p">]</span><span class="o">.</span><span class="n">values</span>
<span class="n">csv_data</span>
</pre></div>

</div>
</div>
</div>

<div class="output_wrapper">
<div class="output">


<div class="output_area"><div class="prompt output_prompt">Out[16]:</div>

<div class="output_html rendered_html output_subarea output_execute_result">
<div style="max-height:1000px;max-width:1500px;overflow:auto;">
<table border="1" class="dataframe">
  <thead>
    <tr style="text-align: right;">
      <th></th>
      <th>State</th>
      <th>PC Name</th>
      <th>Male Electors</th>
      <th>Male Voters</th>
      <th>Female Electors</th>
      <th>Female Voters</th>
      <th>Total Electors</th>
      <th>Total Voters</th>
      <th>Male Turnout</th>
      <th>Female Turnout</th>
      <th>Total Turnout</th>
      <th>Candidate Name</th>
      <th>Party Abbreviation</th>
      <th>Party Name</th>
      <th>Total Votes Polled</th>
    </tr>
  </thead>
  <tbody>
    <tr>
      <th>0 </th>
      <td> Andaman &amp; Nicobar Islands</td>
      <td> 1 - Andaman &amp; Nicobar Islands</td>
      <td>  142782</td>
      <td> 101178</td>
      <td>  126578</td>
      <td>  89150</td>
      <td>  269360</td>
      <td>  190328</td>
      <td> 0.708619</td>
      <td> 0.704309</td>
      <td> 0.706593</td>
      <td>                     BISHNU PADA RAY</td>
      <td>   BJP</td>
      <td>                 Bharatiya Janata Party</td>
      <td>  90969</td>
    </tr>
    <tr>
      <th>1 </th>
      <td>            Andhra Pradesh</td>
      <td>                 1 - Adilabad </td>
      <td>  687389</td>
      <td> 519364</td>
      <td>  698844</td>
      <td> 526475</td>
      <td> 1386233</td>
      <td> 1045839</td>
      <td> 0.755561</td>
      <td> 0.753351</td>
      <td> 0.754447</td>
      <td>                        GODAM NAGESH</td>
      <td>   TRS</td>
      <td>              Telangana Rashtra Samithi</td>
      <td> 430847</td>
    </tr>
    <tr>
      <th>2 </th>
      <td>            Andhra Pradesh</td>
      <td>               2 - Peddapalle </td>
      <td>  725767</td>
      <td> 520598</td>
      <td>  699594</td>
      <td> 501586</td>
      <td> 1425361</td>
      <td> 1022184</td>
      <td> 0.717307</td>
      <td> 0.716967</td>
      <td> 0.717140</td>
      <td>                         BALKA SUMAN</td>
      <td>   TRS</td>
      <td>              Telangana Rashtra Samithi</td>
      <td> 565496</td>
    </tr>
    <tr>
      <th>3 </th>
      <td>            Andhra Pradesh</td>
      <td>               3 - Karimnagar </td>
      <td>  777458</td>
      <td> 552489</td>
      <td>  773376</td>
      <td> 573202</td>
      <td> 1550834</td>
      <td> 1125691</td>
      <td> 0.710635</td>
      <td> 0.741169</td>
      <td> 0.725862</td>
      <td>              VINOD KUMAR BOINAPALLY</td>
      <td>   TRS</td>
      <td>              Telangana Rashtra Samithi</td>
      <td> 505783</td>
    </tr>
    <tr>
      <th>4 </th>
      <td>            Andhra Pradesh</td>
      <td>                 4 - Nizamabad</td>
      <td>  724504</td>
      <td> 469712</td>
      <td>  771689</td>
      <td> 564212</td>
      <td> 1496193</td>
      <td> 1033924</td>
      <td> 0.648322</td>
      <td> 0.731139</td>
      <td> 0.691037</td>
      <td>                 KALVAKUNTLA KAVITHA</td>
      <td>   TRS</td>
      <td>              Telangana Rashtra Samithi</td>
      <td> 439307</td>
    </tr>
    <tr>
      <th>5 </th>
      <td>            Andhra Pradesh</td>
      <td>                 5 - Zahirabad</td>
      <td>  717811</td>
      <td> 546746</td>
      <td>  727435</td>
      <td> 548060</td>
      <td> 1445246</td>
      <td> 1094806</td>
      <td> 0.761685</td>
      <td> 0.753414</td>
      <td> 0.757522</td>
      <td>                          B.B. PATIL</td>
      <td>   TRS</td>
      <td>              Telangana Rashtra Samithi</td>
      <td> 508661</td>
    </tr>
    <tr>
      <th>6 </th>
      <td>            Andhra Pradesh</td>
      <td>                     6 - Medak</td>
      <td>  775903</td>
      <td> 606863</td>
      <td>  760812</td>
      <td> 584233</td>
      <td> 1536715</td>
      <td> 1191096</td>
      <td> 0.782138</td>
      <td> 0.767907</td>
      <td> 0.775092</td>
      <td>       KALVAKUNTLA CHANDRASEKHAR RAO</td>
      <td>   TRS</td>
      <td>              Telangana Rashtra Samithi</td>
      <td> 657492</td>
    </tr>
    <tr>
      <th>7 </th>
      <td>            Andhra Pradesh</td>
      <td>                7 - Malkajgiri</td>
      <td> 1723413</td>
      <td> 878093</td>
      <td> 1459912</td>
      <td> 742304</td>
      <td> 3183325</td>
      <td> 1620397</td>
      <td> 0.509508</td>
      <td> 0.508458</td>
      <td> 0.509027</td>
      <td>                      CH.MALLA REDDY</td>
      <td>   TDP</td>
      <td>                           Telugu Desam</td>
      <td> 523336</td>
    </tr>
    <tr>
      <th>8 </th>
      <td>            Andhra Pradesh</td>
      <td>               8 - Secundrabad</td>
      <td> 1012378</td>
      <td> 545749</td>
      <td>  881269</td>
      <td> 458020</td>
      <td> 1893647</td>
      <td> 1003769</td>
      <td> 0.539076</td>
      <td> 0.519728</td>
      <td> 0.530072</td>
      <td>                  BANDARU DATTATREYA</td>
      <td>   BJP</td>
      <td>                 Bharatiya Janata Party</td>
      <td> 438271</td>
    </tr>
    <tr>
      <th>9 </th>
      <td>            Andhra Pradesh</td>
      <td>                 9 - Hyderabad</td>
      <td>  961290</td>
      <td> 526510</td>
      <td>  862374</td>
      <td> 444911</td>
      <td> 1823664</td>
      <td>  971421</td>
      <td> 0.547712</td>
      <td> 0.515914</td>
      <td> 0.532675</td>
      <td>                    ASADUDDIN OWAISI</td>
      <td> AIMIM</td>
      <td> All India Majlis-E-Ittehadul Muslimeen</td>
      <td> 513868</td>
    </tr>
    <tr>
      <th>10</th>
      <td>            Andhra Pradesh</td>
      <td>                10 - CHELVELLA</td>
      <td> 1153049</td>
      <td> 696749</td>
      <td> 1032130</td>
      <td> 619113</td>
      <td> 2185179</td>
      <td> 1315862</td>
      <td> 0.604267</td>
      <td> 0.599840</td>
      <td> 0.602176</td>
      <td>             KONDA VISHWESHWAR REDDY</td>
      <td>   TRS</td>
      <td>              Telangana Rashtra Samithi</td>
      <td> 435077</td>
    </tr>
    <tr>
      <th>11</th>
      <td>            Andhra Pradesh</td>
      <td>              11 - Mahbubnagar</td>
      <td>  709711</td>
      <td> 511764</td>
      <td>  708961</td>
      <td> 503036</td>
      <td> 1418672</td>
      <td> 1014800</td>
      <td> 0.721088</td>
      <td> 0.709540</td>
      <td> 0.715317</td>
      <td>                  AP JITHENDER REDDY</td>
      <td>   TRS</td>
      <td>              Telangana Rashtra Samithi</td>
      <td> 334228</td>
    </tr>
    <tr>
      <th>12</th>
      <td>            Andhra Pradesh</td>
      <td>             12 - Nagarkurnool</td>
      <td>  745038</td>
      <td> 570342</td>
      <td>  732300</td>
      <td> 538626</td>
      <td> 1477338</td>
      <td> 1108968</td>
      <td> 0.765521</td>
      <td> 0.735526</td>
      <td> 0.750653</td>
      <td>                      YELLAIAH NANDI</td>
      <td>   INC</td>
      <td>               Indian National Congress</td>
      <td> 420075</td>
    </tr>
    <tr>
      <th>13</th>
      <td>            Andhra Pradesh</td>
      <td>                 13 - Nalgonda</td>
      <td>  747281</td>
      <td> 602193</td>
      <td>  748299</td>
      <td> 587206</td>
      <td> 1495580</td>
      <td> 1189399</td>
      <td> 0.805845</td>
      <td> 0.784721</td>
      <td> 0.795276</td>
      <td>               GUTHA SUKHENDER REDDY</td>
      <td>   INC</td>
      <td>               Indian National Congress</td>
      <td> 472093</td>
    </tr>
    <tr>
      <th>14</th>
      <td>            Andhra Pradesh</td>
      <td>                 14 - Bhongir </td>
      <td>  756963</td>
      <td> 622333</td>
      <td>  735288</td>
      <td> 589610</td>
      <td> 1492251</td>
      <td> 1211943</td>
      <td> 0.822145</td>
      <td> 0.801876</td>
      <td> 0.812158</td>
      <td>             DR. BOORA NARSAIAH GOUD</td>
      <td>   TRS</td>
      <td>              Telangana Rashtra Samithi</td>
      <td> 448245</td>
    </tr>
    <tr>
      <th>15</th>
      <td>            Andhra Pradesh</td>
      <td>                 15 - Warangal</td>
      <td>  771756</td>
      <td> 592484</td>
      <td>  766025</td>
      <td> 582147</td>
      <td> 1537781</td>
      <td> 1174631</td>
      <td> 0.767709</td>
      <td> 0.759958</td>
      <td> 0.763848</td>
      <td>                     KADIYAM SRIHARI</td>
      <td>   TRS</td>
      <td>              Telangana Rashtra Samithi</td>
      <td> 661639</td>
    </tr>
    <tr>
      <th>16</th>
      <td>            Andhra Pradesh</td>
      <td>            16 - Mahabubabad  </td>
      <td>  688398</td>
      <td> 562073</td>
      <td>  698945</td>
      <td> 562297</td>
      <td> 1387343</td>
      <td> 1124370</td>
      <td> 0.816494</td>
      <td> 0.804494</td>
      <td> 0.810448</td>
      <td>         PROF. AZMEERA SEETARAM NAIK</td>
      <td>   TRS</td>
      <td>              Telangana Rashtra Samithi</td>
      <td> 320569</td>
    </tr>
    <tr>
      <th>17</th>
      <td>            Andhra Pradesh</td>
      <td>                 17 - Khammam </td>
      <td>  712329</td>
      <td> 588728</td>
      <td>  727960</td>
      <td> 594169</td>
      <td> 1440289</td>
      <td> 1182897</td>
      <td> 0.826483</td>
      <td> 0.816211</td>
      <td> 0.821291</td>
      <td>          PONGULETI  SRINIVASA REDDY</td>
      <td> YSRCP</td>
      <td>  Yuvajana Sramika Rythu Congress Party</td>
      <td> 421957</td>
    </tr>
    <tr>
      <th>18</th>
      <td>            Andhra Pradesh</td>
      <td>                   18 - Aruku </td>
      <td>  622416</td>
      <td> 451350</td>
      <td>  650308</td>
      <td> 458264</td>
      <td> 1272724</td>
      <td>  909614</td>
      <td> 0.725158</td>
      <td> 0.704688</td>
      <td> 0.714699</td>
      <td>                   KOTHAPALLI GEETHA</td>
      <td> YSRCP</td>
      <td>  Yuvajana Sramika Rythu Congress Party</td>
      <td> 413191</td>
    </tr>
    <tr>
      <th>19</th>
      <td>            Andhra Pradesh</td>
      <td>               19 - Srikakulam</td>
      <td>  706828</td>
      <td> 505010</td>
      <td>  707161</td>
      <td> 546436</td>
      <td> 1413989</td>
      <td> 1051446</td>
      <td> 0.714474</td>
      <td> 0.772718</td>
      <td> 0.743603</td>
      <td>            RAMMOHAN NAIDU KINJARAPU</td>
      <td>   TDP</td>
      <td>                           Telugu Desam</td>
      <td> 556163</td>
    </tr>
    <tr>
      <th>20</th>
      <td>            Andhra Pradesh</td>
      <td>             20 - Vizianagaram</td>
      <td>  700837</td>
      <td> 555005</td>
      <td>  703290</td>
      <td> 565311</td>
      <td> 1404127</td>
      <td> 1120316</td>
      <td> 0.791917</td>
      <td> 0.803809</td>
      <td> 0.797874</td>
      <td>       ASHOK GAJAPATHI RAJU PUSAPATI</td>
      <td>   TDP</td>
      <td>                           Telugu Desam</td>
      <td> 536549</td>
    </tr>
    <tr>
      <th>21</th>
      <td>            Andhra Pradesh</td>
      <td>            21 - Visakhapatnam</td>
      <td>  875187</td>
      <td> 585270</td>
      <td>  847850</td>
      <td> 578288</td>
      <td> 1723037</td>
      <td> 1163558</td>
      <td> 0.668737</td>
      <td> 0.682064</td>
      <td> 0.675295</td>
      <td>               KAMBHAMPATI HARI BABU</td>
      <td>   BJP</td>
      <td>                 Bharatiya Janata Party</td>
      <td> 566832</td>
    </tr>
    <tr>
      <th>22</th>
      <td>            Andhra Pradesh</td>
      <td>               22 - Anakapalli</td>
      <td>  689132</td>
      <td> 563818</td>
      <td>  712342</td>
      <td> 584254</td>
      <td> 1401474</td>
      <td> 1148072</td>
      <td> 0.818157</td>
      <td> 0.820187</td>
      <td> 0.819189</td>
      <td> MUTTAMSETTI SRINIVASA RAO (AVANTHI)</td>
      <td>   TDP</td>
      <td>                           Telugu Desam</td>
      <td> 568463</td>
    </tr>
    <tr>
      <th>23</th>
      <td>            Andhra Pradesh</td>
      <td>                 23 - Kakinada</td>
      <td>  709101</td>
      <td> 558689</td>
      <td>  709189</td>
      <td> 541310</td>
      <td> 1418290</td>
      <td> 1099999</td>
      <td> 0.787884</td>
      <td> 0.763280</td>
      <td> 0.775581</td>
      <td>                    THOTA NARASIMHAM</td>
      <td>   TDP</td>
      <td>                           Telugu Desam</td>
      <td> 514402</td>
    </tr>
    <tr>
      <th>24</th>
      <td>            Andhra Pradesh</td>
      <td>              24 - Amalapuram </td>
      <td>  682607</td>
      <td> 568534</td>
      <td>  675259</td>
      <td> 552393</td>
      <td> 1357866</td>
      <td> 1120927</td>
      <td> 0.832886</td>
      <td> 0.818046</td>
      <td> 0.825506</td>
      <td>            DR PANDULA RAVINDRA BABU</td>
      <td>   TDP</td>
      <td>                           Telugu Desam</td>
      <td> 594547</td>
    </tr>
    <tr>
      <th>25</th>
      <td>            Andhra Pradesh</td>
      <td>              25 - Rajahmundry</td>
      <td>  701707</td>
      <td> 577999</td>
      <td>  719581</td>
      <td> 576382</td>
      <td> 1421288</td>
      <td> 1154381</td>
      <td> 0.823704</td>
      <td> 0.800997</td>
      <td> 0.812208</td>
      <td>                MURALI MOHAN MAGANTI</td>
      <td>   TDP</td>
      <td>                           Telugu Desam</td>
      <td> 630573</td>
    </tr>
    <tr>
      <th>26</th>
      <td>            Andhra Pradesh</td>
      <td>               26 - Narsapuram</td>
      <td>  652668</td>
      <td> 539357</td>
      <td>  672475</td>
      <td> 549594</td>
      <td> 1325143</td>
      <td> 1088951</td>
      <td> 0.826388</td>
      <td> 0.817271</td>
      <td> 0.821761</td>
      <td>                 GOKARAJU GANGA RAJU</td>
      <td>   BJP</td>
      <td>                 Bharatiya Janata Party</td>
      <td> 540306</td>
    </tr>
    <tr>
      <th>27</th>
      <td>            Andhra Pradesh</td>
      <td>                   27 - Eluru </td>
      <td>  706916</td>
      <td> 597603</td>
      <td>  720844</td>
      <td> 604093</td>
      <td> 1427760</td>
      <td> 1201696</td>
      <td> 0.845366</td>
      <td> 0.838036</td>
      <td> 0.841665</td>
      <td>     MAGANTI VENKATESWARA RAO (BABU)</td>
      <td>   TDP</td>
      <td>                           Telugu Desam</td>
      <td> 623471</td>
    </tr>
    <tr>
      <th>28</th>
      <td>            Andhra Pradesh</td>
      <td>           28 - Machilipatnam </td>
      <td>  675774</td>
      <td> 567908</td>
      <td>  693537</td>
      <td> 573157</td>
      <td> 1369311</td>
      <td> 1141065</td>
      <td> 0.840382</td>
      <td> 0.826426</td>
      <td> 0.833313</td>
      <td>              KONAKALLA NARAYANA RAO</td>
      <td>   TDP</td>
      <td>                           Telugu Desam</td>
      <td> 587280</td>
    </tr>
    <tr>
      <th>29</th>
      <td>            Andhra Pradesh</td>
      <td>               29 - Vijayawada</td>
      <td>  781156</td>
      <td> 602198</td>
      <td>  783357</td>
      <td> 592877</td>
      <td> 1564513</td>
      <td> 1195075</td>
      <td> 0.770906</td>
      <td> 0.756841</td>
      <td> 0.763864</td>
      <td>                   KESINENI SRINIVAS</td>
      <td>   TDP</td>
      <td>                           Telugu Desam</td>
      <td> 592696</td>
    </tr>
    <tr>
      <th>30</th>
      <td>            Andhra Pradesh</td>
      <td>                   30 - Guntur</td>
      <td>  773027</td>
      <td> 617483</td>
      <td>  798989</td>
      <td> 627443</td>
      <td> 1572016</td>
      <td> 1244926</td>
      <td> 0.798786</td>
      <td> 0.785296</td>
      <td> 0.791930</td>
      <td>                       JAYADEV GALLA</td>
      <td>   TDP</td>
      <td>                           Telugu Desam</td>
      <td> 618417</td>
    </tr>
    <tr>
      <th>31</th>
      <td>            Andhra Pradesh</td>
      <td>             31 - Narasaraopet</td>
      <td>  748465</td>
      <td> 638080</td>
      <td>  766396</td>
      <td> 643978</td>
      <td> 1514861</td>
      <td> 1282058</td>
      <td> 0.852518</td>
      <td> 0.840268</td>
      <td> 0.846321</td>
      <td>              SAMBASIVA RAO RAYAPATI</td>
      <td>   TDP</td>
      <td>                           Telugu Desam</td>
      <td> 632464</td>
    </tr>
    <tr>
      <th>32</th>
      <td>            Andhra Pradesh</td>
      <td>                 32 - Bapatla </td>
      <td>  686482</td>
      <td> 587223</td>
      <td>  706483</td>
      <td> 597411</td>
      <td> 1392965</td>
      <td> 1184634</td>
      <td> 0.855409</td>
      <td> 0.845613</td>
      <td> 0.850441</td>
      <td>                     MALYADRI SRIRAM</td>
      <td>   TDP</td>
      <td>                           Telugu Desam</td>
      <td> 578145</td>
    </tr>
    <tr>
      <th>33</th>
      <td>            Andhra Pradesh</td>
      <td>                  33 - Ongole </td>
      <td>  736245</td>
      <td> 603025</td>
      <td>  734238</td>
      <td> 605200</td>
      <td> 1470483</td>
      <td> 1208225</td>
      <td> 0.819055</td>
      <td> 0.824256</td>
      <td> 0.821652</td>
      <td>                     Y.V.SUBBA REDDY</td>
      <td> YSRCP</td>
      <td>  Yuvajana Sramika Rythu Congress Party</td>
      <td> 589960</td>
    </tr>
    <tr>
      <th>34</th>
      <td>            Andhra Pradesh</td>
      <td>                  34 - Nandyal</td>
      <td>  783266</td>
      <td> 603562</td>
      <td>  793862</td>
      <td> 601394</td>
      <td> 1577128</td>
      <td> 1204956</td>
      <td> 0.770571</td>
      <td> 0.757555</td>
      <td> 0.764019</td>
      <td>                         S.P.Y REDDY</td>
      <td> YSRCP</td>
      <td>  Yuvajana Sramika Rythu Congress Party</td>
      <td> 622411</td>
    </tr>
    <tr>
      <th>35</th>
      <td>            Andhra Pradesh</td>
      <td>                  35 - Kurnool</td>
      <td>  738791</td>
      <td> 544802</td>
      <td>  743016</td>
      <td> 520930</td>
      <td> 1481807</td>
      <td> 1065732</td>
      <td> 0.737424</td>
      <td> 0.701102</td>
      <td> 0.719211</td>
      <td>                        BUTTA RENUKA</td>
      <td> YSRCP</td>
      <td>  Yuvajana Sramika Rythu Congress Party</td>
      <td> 472782</td>
    </tr>
    <tr>
      <th>36</th>
      <td>            Andhra Pradesh</td>
      <td>                36 - Anantapur</td>
      <td>  775509</td>
      <td> 612890</td>
      <td>  761403</td>
      <td> 592164</td>
      <td> 1536912</td>
      <td> 1205054</td>
      <td> 0.790307</td>
      <td> 0.777727</td>
      <td> 0.784075</td>
      <td>                  J.C. DIVAKAR REDDI</td>
      <td>   TDP</td>
      <td>                           Telugu Desam</td>
      <td> 606509</td>
    </tr>
    <tr>
      <th>37</th>
      <td>            Andhra Pradesh</td>
      <td>                 37 - Hindupur</td>
      <td>  734638</td>
      <td> 601932</td>
      <td>  711865</td>
      <td> 575325</td>
      <td> 1446503</td>
      <td> 1177257</td>
      <td> 0.819359</td>
      <td> 0.808194</td>
      <td> 0.813864</td>
      <td>                   KRISTAPPA NIMMALA</td>
      <td>   TDP</td>
      <td>                           Telugu Desam</td>
      <td> 604291</td>
    </tr>
    <tr>
      <th>38</th>
      <td>            Andhra Pradesh</td>
      <td>                   38 - Kadapa</td>
      <td>  765036</td>
      <td> 588805</td>
      <td>  785543</td>
      <td> 611857</td>
      <td> 1550579</td>
      <td> 1200662</td>
      <td> 0.769644</td>
      <td> 0.778897</td>
      <td> 0.774331</td>
      <td>                  Y.S. AVINASH REDDY</td>
      <td> YSRCP</td>
      <td>  Yuvajana Sramika Rythu Congress Party</td>
      <td> 671983</td>
    </tr>
    <tr>
      <th>39</th>
      <td>            Andhra Pradesh</td>
      <td>                  39 - Nellore</td>
      <td>  796583</td>
      <td> 593468</td>
      <td>  809557</td>
      <td> 594180</td>
      <td> 1606140</td>
      <td> 1187648</td>
      <td> 0.745017</td>
      <td> 0.733957</td>
      <td> 0.739442</td>
      <td>            MEKAPATI RAJAMOHAN REDDY</td>
      <td> YSRCP</td>
      <td>  Yuvajana Sramika Rythu Congress Party</td>
      <td> 576396</td>
    </tr>
    <tr>
      <th>40</th>
      <td>            Andhra Pradesh</td>
      <td>                40 - Tirupati </td>
      <td>  778778</td>
      <td> 604834</td>
      <td>  795766</td>
      <td> 608230</td>
      <td> 1574544</td>
      <td> 1213064</td>
      <td> 0.776645</td>
      <td> 0.764333</td>
      <td> 0.770422</td>
      <td>          VARAPRASAD RAO VELAGAPALLI</td>
      <td> YSRCP</td>
      <td>  Yuvajana Sramika Rythu Congress Party</td>
      <td> 580376</td>
    </tr>
    <tr>
      <th>41</th>
      <td>            Andhra Pradesh</td>
      <td>                 41 - Rajampet</td>
      <td>  735347</td>
      <td> 573019</td>
      <td>  752151</td>
      <td> 585298</td>
      <td> 1487498</td>
      <td> 1158317</td>
      <td> 0.779250</td>
      <td> 0.778166</td>
      <td> 0.778702</td>
      <td>                    P.V.MIDHUN REDDY</td>
      <td> YSRCP</td>
      <td>  Yuvajana Sramika Rythu Congress Party</td>
      <td> 601752</td>
    </tr>
    <tr>
      <th>42</th>
      <td>            Andhra Pradesh</td>
      <td>                42 - Chittoor </td>
      <td>  723996</td>
      <td> 598259</td>
      <td>  728145</td>
      <td> 600656</td>
      <td> 1452141</td>
      <td> 1198915</td>
      <td> 0.826329</td>
      <td> 0.824913</td>
      <td> 0.825619</td>
      <td>                NARAMALLI SIVAPRASAD</td>
      <td>   TDP</td>
      <td>                           Telugu Desam</td>
      <td> 594862</td>
    </tr>
    <tr>
      <th>43</th>
      <td>         Arunachal Pradesh</td>
      <td>            1 - ARUNACHAL WEST</td>
      <td>  219334</td>
      <td> 159978</td>
      <td>  227181</td>
      <td> 175687</td>
      <td>  446515</td>
      <td>  335665</td>
      <td> 0.729381</td>
      <td> 0.773335</td>
      <td> 0.751744</td>
      <td>                        KIREN RIJIJU</td>
      <td>   BJP</td>
      <td>                 Bharatiya Janata Party</td>
      <td> 169367</td>
    </tr>
    <tr>
      <th>44</th>
      <td>         Arunachal Pradesh</td>
      <td>            2 - ARUNACHAL EAST</td>
      <td>  160293</td>
      <td> 129313</td>
      <td>  152579</td>
      <td> 131978</td>
      <td>  312872</td>
      <td>  261291</td>
      <td> 0.806729</td>
      <td> 0.864981</td>
      <td> 0.835137</td>
      <td>                        NINONG ERING</td>
      <td>   INC</td>
      <td>               Indian National Congress</td>
      <td> 118455</td>
    </tr>
    <tr>
      <th>45</th>
      <td>                     Assam</td>
      <td>                1 - Karimganj </td>
      <td>  615198</td>
      <td> 482484</td>
      <td>  550799</td>
      <td> 404436</td>
      <td> 1165997</td>
      <td>  886920</td>
      <td> 0.784274</td>
      <td> 0.734271</td>
      <td> 0.760654</td>
      <td>                   RADHESHYAM BISWAS</td>
      <td> AIUDF</td>
      <td>      All India United Democratic Front</td>
      <td> 362866</td>
    </tr>
    <tr>
      <th>46</th>
      <td>                     Assam</td>
      <td>                   2 - Silchar</td>
      <td>  554540</td>
      <td> 428949</td>
      <td>  505635</td>
      <td> 370881</td>
      <td> 1060175</td>
      <td>  799830</td>
      <td> 0.773522</td>
      <td> 0.733496</td>
      <td> 0.754432</td>
      <td>                        SUSHMITA DEV</td>
      <td>   INC</td>
      <td>               Indian National Congress</td>
      <td> 336451</td>
    </tr>
    <tr>
      <th>47</th>
      <td>                     Assam</td>
      <td>       3 - Autonomous District</td>
      <td>  358880</td>
      <td> 279409</td>
      <td>  343010</td>
      <td> 263871</td>
      <td>  701890</td>
      <td>  543280</td>
      <td> 0.778558</td>
      <td> 0.769281</td>
      <td> 0.774024</td>
      <td>                   BIREN SINGH ENGTI</td>
      <td>   INC</td>
      <td>               Indian National Congress</td>
      <td> 213152</td>
    </tr>
    <tr>
      <th>48</th>
      <td>                     Assam</td>
      <td>                    4 - Dhubri</td>
      <td>  798124</td>
      <td> 709191</td>
      <td>  754430</td>
      <td> 660433</td>
      <td> 1552554</td>
      <td> 1369624</td>
      <td> 0.888572</td>
      <td> 0.875407</td>
      <td> 0.882175</td>
      <td>                     BADRUDDIN AJMAL</td>
      <td> AIUDF</td>
      <td>      All India United Democratic Front</td>
      <td> 592569</td>
    </tr>
    <tr>
      <th>49</th>
      <td>                     Assam</td>
      <td>                 5 - Kokrajhar</td>
      <td>  776071</td>
      <td> 636657</td>
      <td>  729405</td>
      <td> 587212</td>
      <td> 1505476</td>
      <td> 1223869</td>
      <td> 0.820359</td>
      <td> 0.805056</td>
      <td> 0.812945</td>
      <td>           NABA KUMAR SARANIA (HIRA)</td>
      <td>   IND</td>
      <td>                            Independent</td>
      <td> 634428</td>
    </tr>
    <tr>
      <th>50</th>
      <td>                     Assam</td>
      <td>                   6 - Barpeta</td>
      <td>  755559</td>
      <td> 634405</td>
      <td>  674616</td>
      <td> 571458</td>
      <td> 1430175</td>
      <td> 1205863</td>
      <td> 0.839650</td>
      <td> 0.847086</td>
      <td> 0.843158</td>
      <td>                   SIRAJ UDDIN AJMAL</td>
      <td> AIUDF</td>
      <td>      All India United Democratic Front</td>
      <td> 394702</td>
    </tr>
    <tr>
      <th>51</th>
      <td>                     Assam</td>
      <td>                   7 - Gauhati</td>
      <td>  988067</td>
      <td> 785494</td>
      <td>  934203</td>
      <td> 726235</td>
      <td> 1922270</td>
      <td> 1511729</td>
      <td> 0.794981</td>
      <td> 0.777385</td>
      <td> 0.786429</td>
      <td>                  BIJOYA CHAKRAVARTY</td>
      <td>   BJP</td>
      <td>                 Bharatiya Janata Party</td>
      <td> 764985</td>
    </tr>
    <tr>
      <th>52</th>
      <td>                     Assam</td>
      <td>                 8 - Mangaldoi</td>
      <td>  791539</td>
      <td> 651272</td>
      <td>  724137</td>
      <td> 581965</td>
      <td> 1515676</td>
      <td> 1233237</td>
      <td> 0.822792</td>
      <td> 0.803667</td>
      <td> 0.813655</td>
      <td>                          RAMEN DEKA</td>
      <td>   BJP</td>
      <td>                 Bharatiya Janata Party</td>
      <td> 486357</td>
    </tr>
    <tr>
      <th>53</th>
      <td>                     Assam</td>
      <td>                    9 - Tezpur</td>
      <td>  654866</td>
      <td> 505643</td>
      <td>  604702</td>
      <td> 475045</td>
      <td> 1259568</td>
      <td>  980688</td>
      <td> 0.772132</td>
      <td> 0.785585</td>
      <td> 0.778591</td>
      <td>                   RAM PRASAD SARMAH</td>
      <td>   BJP</td>
      <td>                 Bharatiya Janata Party</td>
      <td> 446511</td>
    </tr>
    <tr>
      <th>54</th>
      <td>                     Assam</td>
      <td>                  10 - Nowgong</td>
      <td>  792424</td>
      <td> 639392</td>
      <td>  731457</td>
      <td> 590682</td>
      <td> 1523881</td>
      <td> 1230074</td>
      <td> 0.806881</td>
      <td> 0.807542</td>
      <td> 0.807198</td>
      <td>                        RAJEN GOHAIN</td>
      <td>   BJP</td>
      <td>                 Bharatiya Janata Party</td>
      <td> 494146</td>
    </tr>
    <tr>
      <th>55</th>
      <td>                     Assam</td>
      <td>                 11 - Kaliabor</td>
      <td>  752785</td>
      <td> 605292</td>
      <td>  705080</td>
      <td> 561198</td>
      <td> 1457865</td>
      <td> 1166490</td>
      <td> 0.804070</td>
      <td> 0.795935</td>
      <td> 0.800136</td>
      <td>                        GOURAV GOGOI</td>
      <td>   INC</td>
      <td>               Indian National Congress</td>
      <td> 443315</td>
    </tr>
    <tr>
      <th>56</th>
      <td>                     Assam</td>
      <td>                   12 - Jorhat</td>
      <td>  634236</td>
      <td> 483829</td>
      <td>  600212</td>
      <td> 447507</td>
      <td> 1234448</td>
      <td>  931336</td>
      <td> 0.762853</td>
      <td> 0.745582</td>
      <td> 0.754455</td>
      <td>                KAMAKHYA PRASAD TASA</td>
      <td>   BJP</td>
      <td>                 Bharatiya Janata Party</td>
      <td> 456420</td>
    </tr>
    <tr>
      <th>57</th>
      <td>                     Assam</td>
      <td>                13 - Dibrugarh</td>
      <td>  579657</td>
      <td> 462412</td>
      <td>  544648</td>
      <td> 428556</td>
      <td> 1124305</td>
      <td>  890968</td>
      <td> 0.797734</td>
      <td> 0.786849</td>
      <td> 0.792461</td>
      <td>                       RAMESWAR TELI</td>
      <td>   BJP</td>
      <td>                 Bharatiya Janata Party</td>
      <td> 494364</td>
    </tr>
    <tr>
      <th>58</th>
      <td>                     Assam</td>
      <td>                14 - Lakhimpur</td>
      <td>  735263</td>
      <td> 572334</td>
      <td>  695731</td>
      <td> 539641</td>
      <td> 1430994</td>
      <td> 1111975</td>
      <td> 0.778407</td>
      <td> 0.775646</td>
      <td> 0.777065</td>
      <td>                  SARBANANDA SONOWAL</td>
      <td>   BJP</td>
      <td>                 Bharatiya Janata Party</td>
      <td> 612543</td>
    </tr>
    <tr>
      <th>59</th>
      <td>                     Bihar</td>
      <td>             1 - Valmiki Nagar</td>
      <td>  786297</td>
      <td> 484621</td>
      <td>  670279</td>
      <td> 415493</td>
      <td> 1456576</td>
      <td>  900114</td>
      <td> 0.616333</td>
      <td> 0.619881</td>
      <td> 0.617966</td>
      <td>                SATISH CHANDRA DUBEY</td>
      <td>   BJP</td>
      <td>                 Bharatiya Janata Party</td>
      <td> 364011</td>
    </tr>
    <tr>
      <th></th>
      <td>...</td>
      <td>...</td>
      <td>...</td>
      <td>...</td>
      <td>...</td>
      <td>...</td>
      <td>...</td>
      <td>...</td>
      <td>...</td>
      <td>...</td>
      <td>...</td>
      <td>...</td>
      <td>...</td>
      <td>...</td>
      <td>...</td>
    </tr>
  </tbody>
</table>
<p>543 rows × 15 columns</p>
</div>
</div>

</div>

</div>
</div>

</div>
<div class="cell border-box-sizing text_cell rendered">
<div class="prompt input_prompt">
</div>
<div class="inner_cell">
<div class="text_cell_render border-box-sizing rendered_html">
<h2 id="Calculaing-the-winning-margin">Calculaing the winning margin<a class="anchor-link" href="#Calculaing-the-winning-margin">&#182;</a></h2>
</div>
</div>
</div>
<div class="cell border-box-sizing code_cell rendered">
<div class="input">
<div class="prompt input_prompt">In&nbsp;[17]:</div>
<div class="inner_cell">
    <div class="input_area">
<div class=" highlight hl-ipython3"><pre><span></span><span class="n">csv_data</span><span class="p">[</span><span class="s2">&quot;Winner Percentage&quot;</span><span class="p">]</span> <span class="o">=</span> <span class="n">csv_data</span><span class="p">[</span><span class="s2">&quot;Total Votes Polled&quot;</span><span class="p">]</span> <span class="o">/</span> <span class="n">csv_data</span><span class="p">[</span><span class="s2">&quot;Total Voters&quot;</span><span class="p">]</span>
<span class="n">csv_data</span><span class="o">.</span><span class="n">sort</span><span class="p">(</span><span class="s2">&quot;Winner Percentage&quot;</span><span class="p">,</span> <span class="n">ascending</span><span class="o">=</span><span class="kc">False</span><span class="p">)</span>
</pre></div>

</div>
</div>
</div>

<div class="output_wrapper">
<div class="output">


<div class="output_area"><div class="prompt output_prompt">Out[17]:</div>

<div class="output_html rendered_html output_subarea output_execute_result">
<div style="max-height:1000px;max-width:1500px;overflow:auto;">
<table border="1" class="dataframe">
  <thead>
    <tr style="text-align: right;">
      <th></th>
      <th>State</th>
      <th>PC Name</th>
      <th>Male Electors</th>
      <th>Male Voters</th>
      <th>Female Electors</th>
      <th>Female Voters</th>
      <th>Total Electors</th>
      <th>Total Voters</th>
      <th>Male Turnout</th>
      <th>Female Turnout</th>
      <th>Total Turnout</th>
      <th>Candidate Name</th>
      <th>Party Abbreviation</th>
      <th>Party Name</th>
      <th>Total Votes Polled</th>
      <th>Winner Percentage</th>
    </tr>
  </thead>
  <tbody>
    <tr>
      <th>138</th>
      <td>          Gujarat</td>
      <td>                         24 - Surat</td>
      <td>  803829</td>
      <td> 539368</td>
      <td>  680239</td>
      <td> 408554</td>
      <td> 1484068</td>
      <td>  947922</td>
      <td> 0.670998</td>
      <td> 0.600604</td>
      <td> 0.638732</td>
      <td>                           DARSHANA VIKRAM JARDOSH</td>
      <td> BJP</td>
      <td>              Bharatiya Janata Party</td>
      <td> 718412</td>
      <td> 0.757881</td>
    </tr>
    <tr>
      <th>134</th>
      <td>          Gujarat</td>
      <td>                      20 - Vadodara</td>
      <td>  849077</td>
      <td> 625045</td>
      <td>  789244</td>
      <td> 536532</td>
      <td> 1638321</td>
      <td> 1161577</td>
      <td> 0.736146</td>
      <td> 0.679805</td>
      <td> 0.709005</td>
      <td>                                     NARENDRA MODI</td>
      <td> BJP</td>
      <td>              Bharatiya Janata Party</td>
      <td> 845464</td>
      <td> 0.727859</td>
    </tr>
    <tr>
      <th>139</th>
      <td>          Gujarat</td>
      <td>                       25 - Navsari</td>
      <td>  972090</td>
      <td> 649206</td>
      <td>  792532</td>
      <td> 511541</td>
      <td> 1764622</td>
      <td> 1160747</td>
      <td> 0.667846</td>
      <td> 0.645452</td>
      <td> 0.657788</td>
      <td>                                       C. R. PATIL</td>
      <td> BJP</td>
      <td>              Bharatiya Janata Party</td>
      <td> 820831</td>
      <td> 0.707158</td>
    </tr>
    <tr>
      <th>278</th>
      <td>      Maharashtra</td>
      <td>                  26 - Mumbai North</td>
      <td>  972645</td>
      <td> 527803</td>
      <td>  811225</td>
      <td> 418759</td>
      <td> 1783870</td>
      <td>  946562</td>
      <td> 0.542647</td>
      <td> 0.516206</td>
      <td> 0.530623</td>
      <td>                             GOPAL CHINAYYA SHETTY</td>
      <td> BJP</td>
      <td>              Bharatiya Janata Party</td>
      <td> 664004</td>
      <td> 0.701490</td>
    </tr>
    <tr>
      <th>120</th>
      <td>          Gujarat</td>
      <td>                    6 - Gandhinagar</td>
      <td>  900744</td>
      <td> 620889</td>
      <td>  833228</td>
      <td> 514606</td>
      <td> 1733972</td>
      <td> 1135495</td>
      <td> 0.689307</td>
      <td> 0.617605</td>
      <td> 0.654852</td>
      <td>                                        L.K.ADVANI</td>
      <td> BJP</td>
      <td>              Bharatiya Janata Party</td>
      <td> 773539</td>
      <td> 0.681235</td>
    </tr>
    <tr>
      <th>355</th>
      <td>        Rajasthan</td>
      <td>                         7 - Jaipur</td>
      <td> 1047468</td>
      <td> 716874</td>
      <td>  910350</td>
      <td> 579932</td>
      <td> 1957818</td>
      <td> 1296806</td>
      <td> 0.684387</td>
      <td> 0.637043</td>
      <td> 0.662373</td>
      <td>                                  RAMCHARAN BOHARA</td>
      <td> BJP</td>
      <td>              Bharatiya Janata Party</td>
      <td> 863358</td>
      <td> 0.665757</td>
    </tr>
    <tr>
      <th>241</th>
      <td>   Madhya Pradesh</td>
      <td>                       18 - VIDISHA</td>
      <td>  872410</td>
      <td> 621326</td>
      <td>  761960</td>
      <td> 452147</td>
      <td> 1634370</td>
      <td> 1073473</td>
      <td> 0.712195</td>
      <td> 0.593400</td>
      <td> 0.656811</td>
      <td>                                     SUSHMA SWARAJ</td>
      <td> BJP</td>
      <td>              Bharatiya Janata Party</td>
      <td> 714348</td>
      <td> 0.665455</td>
    </tr>
    <tr>
      <th>364</th>
      <td>        Rajasthan</td>
      <td>                       16 - Jodhpur</td>
      <td>  910466</td>
      <td> 600132</td>
      <td>  816897</td>
      <td> 478466</td>
      <td> 1727363</td>
      <td> 1078598</td>
      <td> 0.659148</td>
      <td> 0.585712</td>
      <td> 0.624419</td>
      <td>                           GAJENDRASINGH SHEKHAWAT</td>
      <td> BJP</td>
      <td>              Bharatiya Janata Party</td>
      <td> 713515</td>
      <td> 0.661521</td>
    </tr>
    <tr>
      <th>370</th>
      <td>        Rajasthan</td>
      <td>                     22 - Rajsamand</td>
      <td>  879526</td>
      <td> 508738</td>
      <td>  819875</td>
      <td> 473381</td>
      <td> 1699401</td>
      <td>  982119</td>
      <td> 0.578423</td>
      <td> 0.577382</td>
      <td> 0.577921</td>
      <td>                              HARIOM SINGH RATHORE</td>
      <td> BJP</td>
      <td>              Bharatiya Janata Party</td>
      <td> 644794</td>
      <td> 0.656533</td>
    </tr>
    <tr>
      <th>415</th>
      <td>          Tripura</td>
      <td>                   2 - Tripura East</td>
      <td>  581599</td>
      <td> 489156</td>
      <td>  558670</td>
      <td> 461954</td>
      <td> 1140269</td>
      <td>  951110</td>
      <td> 0.841054</td>
      <td> 0.826882</td>
      <td> 0.834110</td>
      <td>                                JITENDRA CHOUDHURY</td>
      <td> CPM</td>
      <td> Communist Party of India  (Marxist)</td>
      <td> 623771</td>
      <td> 0.655835</td>
    </tr>
    <tr>
      <th>255</th>
      <td>      Maharashtra</td>
      <td>                        3 - Jalgaon</td>
      <td>  909027</td>
      <td> 594892</td>
      <td>  798906</td>
      <td> 395440</td>
      <td> 1707933</td>
      <td>  990332</td>
      <td> 0.654427</td>
      <td> 0.494977</td>
      <td> 0.579842</td>
      <td>                                   A.T. NANA PATIL</td>
      <td> BJP</td>
      <td>              Bharatiya Janata Party</td>
      <td> 647773</td>
      <td> 0.654097</td>
    </tr>
    <tr>
      <th>363</th>
      <td>        Rajasthan</td>
      <td>                          15 - Pali</td>
      <td>  994082</td>
      <td> 581099</td>
      <td>  898948</td>
      <td> 514488</td>
      <td> 1893030</td>
      <td> 1095587</td>
      <td> 0.584558</td>
      <td> 0.572322</td>
      <td> 0.578748</td>
      <td>                                     P P CHOUDHARY</td>
      <td> BJP</td>
      <td>              Bharatiya Janata Party</td>
      <td> 711772</td>
      <td> 0.649672</td>
    </tr>
    <tr>
      <th>310</th>
      <td>     NCT OF Delhi</td>
      <td> 4 - NEW DELHI                     </td>
      <td>  830322</td>
      <td> 546295</td>
      <td>  659825</td>
      <td> 423517</td>
      <td> 1490147</td>
      <td>  969812</td>
      <td> 0.657932</td>
      <td> 0.641863</td>
      <td> 0.650816</td>
      <td>                                          UDIT RAJ</td>
      <td> BJP</td>
      <td>              Bharatiya Janata Party</td>
      <td> 629860</td>
      <td> 0.649466</td>
    </tr>
    <tr>
      <th>249</th>
      <td>   Madhya Pradesh</td>
      <td>                        26 - INDORE</td>
      <td> 1106461</td>
      <td> 736759</td>
      <td> 1008842</td>
      <td> 580058</td>
      <td> 2115303</td>
      <td> 1316817</td>
      <td> 0.665870</td>
      <td> 0.574974</td>
      <td> 0.622519</td>
      <td>                             SUMITRA MAHAJAN (TAI)</td>
      <td> BJP</td>
      <td>              Bharatiya Janata Party</td>
      <td> 854972</td>
      <td> 0.649272</td>
    </tr>
    <tr>
      <th>240</th>
      <td>   Madhya Pradesh</td>
      <td>                   17 - HOSHANGABAD</td>
      <td>  835492</td>
      <td> 593957</td>
      <td>  732635</td>
      <td> 437218</td>
      <td> 1568127</td>
      <td> 1031175</td>
      <td> 0.710907</td>
      <td> 0.596775</td>
      <td> 0.657584</td>
      <td>                                 UDAY PRATAP SINGH</td>
      <td> BJP</td>
      <td>              Bharatiya Janata Party</td>
      <td> 669128</td>
      <td> 0.648899</td>
    </tr>
    <tr>
      <th>313</th>
      <td>     NCT OF Delhi</td>
      <td> 7 - SOUTH DELHI                   </td>
      <td> 1005289</td>
      <td> 638406</td>
      <td>  747452</td>
      <td> 464004</td>
      <td> 1752741</td>
      <td> 1102410</td>
      <td> 0.635047</td>
      <td> 0.620781</td>
      <td> 0.628963</td>
      <td>                                       NEIPHIU RIO</td>
      <td> NPF</td>
      <td>                  Naga Peoples Front</td>
      <td> 713372</td>
      <td> 0.647102</td>
    </tr>
    <tr>
      <th>121</th>
      <td>          Gujarat</td>
      <td>                 7 - Ahmedabad East</td>
      <td>  852765</td>
      <td> 560074</td>
      <td>  749067</td>
      <td> 425451</td>
      <td> 1601832</td>
      <td>  985525</td>
      <td> 0.656774</td>
      <td> 0.567975</td>
      <td> 0.615249</td>
      <td>                                      PARESH RAWAL</td>
      <td> BJP</td>
      <td>              Bharatiya Janata Party</td>
      <td> 633582</td>
      <td> 0.642888</td>
    </tr>
    <tr>
      <th>122</th>
      <td>          Gujarat</td>
      <td>                 8 - Ahmedabad West</td>
      <td>  800933</td>
      <td> 534008</td>
      <td>  733467</td>
      <td> 430601</td>
      <td> 1534400</td>
      <td>  964609</td>
      <td> 0.666732</td>
      <td> 0.587076</td>
      <td> 0.628656</td>
      <td>                               DR. KIRIT P SOLANKI</td>
      <td> BJP</td>
      <td>              Bharatiya Janata Party</td>
      <td> 617104</td>
      <td> 0.639745</td>
    </tr>
    <tr>
      <th>451</th>
      <td>    Uttar Pradesh</td>
      <td>                    36 - Rae Bareli</td>
      <td>  857875</td>
      <td> 437735</td>
      <td>  737079</td>
      <td> 387401</td>
      <td> 1594954</td>
      <td>  825136</td>
      <td> 0.510255</td>
      <td> 0.525590</td>
      <td> 0.517342</td>
      <td>                                      SONIA GANDHI</td>
      <td> INC</td>
      <td>            Indian National Congress</td>
      <td> 526434</td>
      <td> 0.637997</td>
    </tr>
    <tr>
      <th>242</th>
      <td>   Madhya Pradesh</td>
      <td>                        19 - BHOPAL</td>
      <td> 1039004</td>
      <td> 639683</td>
      <td>  917932</td>
      <td> 490499</td>
      <td> 1956936</td>
      <td> 1130182</td>
      <td> 0.615669</td>
      <td> 0.534352</td>
      <td> 0.577526</td>
      <td>                                       ALOK SANJAR</td>
      <td> BJP</td>
      <td>              Bharatiya Janata Party</td>
      <td> 714178</td>
      <td> 0.631914</td>
    </tr>
    <tr>
      <th>245</th>
      <td>   Madhya Pradesh</td>
      <td>                        22 - UJJAIN</td>
      <td>  790889</td>
      <td> 571525</td>
      <td>  734592</td>
      <td> 444880</td>
      <td> 1525481</td>
      <td> 1016405</td>
      <td> 0.722636</td>
      <td> 0.605615</td>
      <td> 0.666285</td>
      <td>                          PROF. CHINTAMANI MALVIYA</td>
      <td> BJP</td>
      <td>              Bharatiya Janata Party</td>
      <td> 641101</td>
      <td> 0.630753</td>
    </tr>
    <tr>
      <th>350</th>
      <td>        Rajasthan</td>
      <td>                        2 - Bikaner</td>
      <td>  847064</td>
      <td> 526983</td>
      <td>  744004</td>
      <td> 402768</td>
      <td> 1591068</td>
      <td>  929751</td>
      <td> 0.622129</td>
      <td> 0.541352</td>
      <td> 0.584357</td>
      <td>                                 ARJUN RAM MEGHWAL</td>
      <td> BJP</td>
      <td>              Bharatiya Janata Party</td>
      <td> 584932</td>
      <td> 0.629128</td>
    </tr>
    <tr>
      <th>125</th>
      <td>          Gujarat</td>
      <td>                     11 - Porbandar</td>
      <td>  807383</td>
      <td> 471495</td>
      <td>  731840</td>
      <td> 337938</td>
      <td> 1539223</td>
      <td>  809433</td>
      <td> 0.583979</td>
      <td> 0.461765</td>
      <td> 0.525871</td>
      <td>                  RADADIYA VITHALBHAI  HANSRAJBHAI</td>
      <td> BJP</td>
      <td>              Bharatiya Janata Party</td>
      <td> 508437</td>
      <td> 0.628140</td>
    </tr>
    <tr>
      <th>414</th>
      <td>          Tripura</td>
      <td>                   1 - Tripura West</td>
      <td>  635976</td>
      <td> 546566</td>
      <td>  612574</td>
      <td> 526183</td>
      <td> 1248550</td>
      <td> 1072749</td>
      <td> 0.859413</td>
      <td> 0.858971</td>
      <td> 0.859196</td>
      <td>                               SANKAR PRASAD DATTA</td>
      <td> CPM</td>
      <td> Communist Party of India  (Marxist)</td>
      <td> 671665</td>
      <td> 0.626116</td>
    </tr>
    <tr>
      <th>354</th>
      <td>        Rajasthan</td>
      <td>                   6 - Jaipur Rural</td>
      <td>  906275</td>
      <td> 554084</td>
      <td>  793187</td>
      <td> 459607</td>
      <td> 1699462</td>
      <td> 1013691</td>
      <td> 0.611386</td>
      <td> 0.579443</td>
      <td> 0.596478</td>
      <td>                        RAJYAVARDHAN SINGH RATHORE</td>
      <td> BJP</td>
      <td>              Bharatiya Janata Party</td>
      <td> 632930</td>
      <td> 0.624382</td>
    </tr>
    <tr>
      <th>252</th>
      <td>   Madhya Pradesh</td>
      <td>                         29 - BETUL</td>
      <td>  836835</td>
      <td> 574150</td>
      <td>  770987</td>
      <td> 473569</td>
      <td> 1607822</td>
      <td> 1047719</td>
      <td> 0.686097</td>
      <td> 0.614237</td>
      <td> 0.651639</td>
      <td>                                      JYOTI DHURVE</td>
      <td> BJP</td>
      <td>              Bharatiya Janata Party</td>
      <td> 643651</td>
      <td> 0.614336</td>
    </tr>
    <tr>
      <th>280</th>
      <td>      Maharashtra</td>
      <td>             28 - Mumbai North East</td>
      <td>  923016</td>
      <td> 485775</td>
      <td>  745341</td>
      <td> 375986</td>
      <td> 1668357</td>
      <td>  861761</td>
      <td> 0.526291</td>
      <td> 0.504448</td>
      <td> 0.516533</td>
      <td>                                    KIRIT  SOMAIYA</td>
      <td> BJP</td>
      <td>              Bharatiya Janata Party</td>
      <td> 525285</td>
      <td> 0.609548</td>
    </tr>
    <tr>
      <th>307</th>
      <td>     NCT OF Delhi</td>
      <td> 1 - CHANDNI CHOWK                 </td>
      <td>  791317</td>
      <td> 550825</td>
      <td>  655911</td>
      <td> 431038</td>
      <td> 1447228</td>
      <td>  981863</td>
      <td> 0.696086</td>
      <td> 0.657159</td>
      <td> 0.678444</td>
      <td>                                      MANOJ TIWARI</td>
      <td> BJP</td>
      <td>              Bharatiya Janata Party</td>
      <td> 596125</td>
      <td> 0.607137</td>
    </tr>
    <tr>
      <th>356</th>
      <td>        Rajasthan</td>
      <td>                          8 - Alwar</td>
      <td>  871339</td>
      <td> 587242</td>
      <td>  756728</td>
      <td> 475063</td>
      <td> 1628067</td>
      <td> 1062305</td>
      <td> 0.673954</td>
      <td> 0.627786</td>
      <td> 0.652495</td>
      <td>                                        CHAND NATH</td>
      <td> BJP</td>
      <td>              Bharatiya Janata Party</td>
      <td> 642278</td>
      <td> 0.604608</td>
    </tr>
    <tr>
      <th>332</th>
      <td>           Orissa</td>
      <td>                          19 - Aska</td>
      <td>  750999</td>
      <td> 449485</td>
      <td>  657781</td>
      <td> 446796</td>
      <td> 1408780</td>
      <td>  896281</td>
      <td> 0.598516</td>
      <td> 0.679247</td>
      <td> 0.636211</td>
      <td>                                LADU KISHORE SWAIN</td>
      <td> BJD</td>
      <td>                     Biju Janata Dal</td>
      <td> 541473</td>
      <td> 0.604133</td>
    </tr>
    <tr>
      <th>357</th>
      <td>        Rajasthan</td>
      <td>                      9 - BHARATPUR</td>
      <td>  911069</td>
      <td> 548105</td>
      <td>  775828</td>
      <td> 414327</td>
      <td> 1686897</td>
      <td>  962432</td>
      <td> 0.601606</td>
      <td> 0.534045</td>
      <td> 0.570534</td>
      <td>                                     BAHADUR SINGH</td>
      <td> BJP</td>
      <td>              Bharatiya Janata Party</td>
      <td> 579825</td>
      <td> 0.602458</td>
    </tr>
    <tr>
      <th>246</th>
      <td>   Madhya Pradesh</td>
      <td>                      23 - MANDSOUR</td>
      <td>  838076</td>
      <td> 640484</td>
      <td>  788495</td>
      <td> 520865</td>
      <td> 1626571</td>
      <td> 1161349</td>
      <td> 0.764231</td>
      <td> 0.660581</td>
      <td> 0.713986</td>
      <td>                                      SUDHIR GUPTA</td>
      <td> BJP</td>
      <td>              Bharatiya Janata Party</td>
      <td> 698335</td>
      <td> 0.601314</td>
    </tr>
    <tr>
      <th>256</th>
      <td>      Maharashtra</td>
      <td>                          4 - Raver</td>
      <td>  842682</td>
      <td> 554159</td>
      <td>  750688</td>
      <td> 455054</td>
      <td> 1593370</td>
      <td> 1009213</td>
      <td> 0.657613</td>
      <td> 0.606183</td>
      <td> 0.633383</td>
      <td>                             KHADASE RAKSHA NIKHIL</td>
      <td> BJP</td>
      <td>              Bharatiya Janata Party</td>
      <td> 605452</td>
      <td> 0.599925</td>
    </tr>
    <tr>
      <th>369</th>
      <td>        Rajasthan</td>
      <td>                   21 - Chittorgarh</td>
      <td>  928572</td>
      <td> 632047</td>
      <td>  889575</td>
      <td> 540582</td>
      <td> 1818147</td>
      <td> 1172629</td>
      <td> 0.680666</td>
      <td> 0.607686</td>
      <td> 0.644958</td>
      <td>                             CHANDRA PRAKASH JOSHI</td>
      <td> BJP</td>
      <td>              Bharatiya Janata Party</td>
      <td> 703236</td>
      <td> 0.599709</td>
    </tr>
    <tr>
      <th>129</th>
      <td>          Gujarat</td>
      <td>                     15 - Bhavnagar</td>
      <td>  834571</td>
      <td> 519525</td>
      <td>  759960</td>
      <td> 397877</td>
      <td> 1594531</td>
      <td>  917402</td>
      <td> 0.622505</td>
      <td> 0.523550</td>
      <td> 0.575343</td>
      <td>                   DR. BHARATIBEN DHIRUBHAI SHIYAL</td>
      <td> BJP</td>
      <td>              Bharatiya Janata Party</td>
      <td> 549529</td>
      <td> 0.599006</td>
    </tr>
    <tr>
      <th>429</th>
      <td>    Uttar Pradesh</td>
      <td>                   14 - Bulandshahr</td>
      <td>  930831</td>
      <td> 549484</td>
      <td>  805616</td>
      <td> 460226</td>
      <td> 1736447</td>
      <td> 1009710</td>
      <td> 0.590316</td>
      <td> 0.571272</td>
      <td> 0.581480</td>
      <td>                                       BHOLA SINGH</td>
      <td> BJP</td>
      <td>              Bharatiya Janata Party</td>
      <td> 604449</td>
      <td> 0.598636</td>
    </tr>
    <tr>
      <th>436</th>
      <td>    Uttar Pradesh</td>
      <td>                      21 - Mainpuri</td>
      <td>  900568</td>
      <td> 580173</td>
      <td>  752497</td>
      <td> 419092</td>
      <td> 1653065</td>
      <td>  999265</td>
      <td> 0.644230</td>
      <td> 0.556935</td>
      <td> 0.604492</td>
      <td>                               MULAYAM SINGH YADAV</td>
      <td>  SP</td>
      <td>                     Samajwadi Party</td>
      <td> 595918</td>
      <td> 0.596356</td>
    </tr>
    <tr>
      <th>115</th>
      <td>          Gujarat</td>
      <td>                        1 - Kachchh</td>
      <td>  806343</td>
      <td> 520905</td>
      <td>  727439</td>
      <td> 425335</td>
      <td> 1533782</td>
      <td>  946240</td>
      <td> 0.646009</td>
      <td> 0.584702</td>
      <td> 0.616933</td>
      <td>                           CHAVDA VINOD LAKHAMASHI</td>
      <td> BJP</td>
      <td>              Bharatiya Janata Party</td>
      <td> 562855</td>
      <td> 0.594833</td>
    </tr>
    <tr>
      <th>497</th>
      <td>      Uttarakhand</td>
      <td>                        2 - Garhwal</td>
      <td>  652891</td>
      <td> 323143</td>
      <td>  616192</td>
      <td> 358881</td>
      <td> 1269083</td>
      <td>  682024</td>
      <td> 0.494942</td>
      <td> 0.582417</td>
      <td> 0.537415</td>
      <td> (MAJ GEN (RETD.) ) BHUWAN CHANDRA KHANDURI (AVSM)</td>
      <td> BJP</td>
      <td>              Bharatiya Janata Party</td>
      <td> 405690</td>
      <td> 0.594832</td>
    </tr>
    <tr>
      <th>131</th>
      <td>          Gujarat</td>
      <td>                         17 - Kheda</td>
      <td>  833232</td>
      <td> 542955</td>
      <td>  766244</td>
      <td> 412951</td>
      <td> 1599476</td>
      <td>  955906</td>
      <td> 0.651625</td>
      <td> 0.538929</td>
      <td> 0.597637</td>
      <td>    CHAUHAN DEVUSINH JESINGBHAI (CHAUHAN DEVUSINH)</td>
      <td> BJP</td>
      <td>              Bharatiya Janata Party</td>
      <td> 568235</td>
      <td> 0.594447</td>
    </tr>
    <tr>
      <th>288</th>
      <td>      Maharashtra</td>
      <td>                        36 - Shirur</td>
      <td>  973236</td>
      <td> 613828</td>
      <td>  850876</td>
      <td> 475678</td>
      <td> 1824112</td>
      <td> 1089506</td>
      <td> 0.630708</td>
      <td> 0.559045</td>
      <td> 0.597280</td>
      <td>                        ADHALRAO SHIVAJI DATTATREY</td>
      <td> SHS</td>
      <td>                            Shivsena</td>
      <td> 643415</td>
      <td> 0.590557</td>
    </tr>
    <tr>
      <th>243</th>
      <td>   Madhya Pradesh</td>
      <td>                       20 - RAJGARH</td>
      <td>  827001</td>
      <td> 598652</td>
      <td>  751747</td>
      <td> 412072</td>
      <td> 1578748</td>
      <td> 1010724</td>
      <td> 0.723883</td>
      <td> 0.548153</td>
      <td> 0.640206</td>
      <td>                                      RODMAL NAGAR</td>
      <td> BJP</td>
      <td>              Bharatiya Janata Party</td>
      <td> 596727</td>
      <td> 0.590396</td>
    </tr>
    <tr>
      <th>418</th>
      <td>    Uttar Pradesh</td>
      <td>                  3 - Muzaffarnagar</td>
      <td>  875186</td>
      <td> 620606</td>
      <td>  713297</td>
      <td> 486828</td>
      <td> 1588483</td>
      <td> 1107434</td>
      <td> 0.709113</td>
      <td> 0.682504</td>
      <td> 0.697165</td>
      <td>                        (DR.) SANJEEV KUMAR BALYAN</td>
      <td> BJP</td>
      <td>              Bharatiya Janata Party</td>
      <td> 653391</td>
      <td> 0.590004</td>
    </tr>
    <tr>
      <th>373</th>
      <td>        Rajasthan</td>
      <td>                25 - JHALAWAR-BARAN</td>
      <td>  868977</td>
      <td> 635659</td>
      <td>  800865</td>
      <td> 510705</td>
      <td> 1669842</td>
      <td> 1146364</td>
      <td> 0.731503</td>
      <td> 0.637692</td>
      <td> 0.686510</td>
      <td>                                    DUSHYANT SINGH</td>
      <td> BJP</td>
      <td>              Bharatiya Janata Party</td>
      <td> 676102</td>
      <td> 0.589780</td>
    </tr>
    <tr>
      <th>124</th>
      <td>          Gujarat</td>
      <td>                        10 - Rajkot</td>
      <td>  864760</td>
      <td> 593333</td>
      <td>  790957</td>
      <td> 463736</td>
      <td> 1655717</td>
      <td> 1057069</td>
      <td> 0.686124</td>
      <td> 0.586297</td>
      <td> 0.638436</td>
      <td>                  KUNDARIYA MOHANBHAI KALYANJIBHAI</td>
      <td> BJP</td>
      <td>              Bharatiya Janata Party</td>
      <td> 621524</td>
      <td> 0.587969</td>
    </tr>
    <tr>
      <th>113</th>
      <td>              Goa</td>
      <td>                      1 - North Goa</td>
      <td>  255870</td>
      <td> 200184</td>
      <td>  259571</td>
      <td> 206447</td>
      <td>  515441</td>
      <td>  406631</td>
      <td> 0.782366</td>
      <td> 0.795339</td>
      <td> 0.788899</td>
      <td>                                SHRIPAD YESSO NAIK</td>
      <td> BJP</td>
      <td>              Bharatiya Janata Party</td>
      <td> 237903</td>
      <td> 0.585059</td>
    </tr>
    <tr>
      <th>296</th>
      <td>      Maharashtra</td>
      <td>                        44 - Sangli</td>
      <td>  861582</td>
      <td> 558707</td>
      <td>  787525</td>
      <td> 487952</td>
      <td> 1649107</td>
      <td> 1046659</td>
      <td> 0.648466</td>
      <td> 0.619602</td>
      <td> 0.634682</td>
      <td>                                  SANJAYKAKA PATIL</td>
      <td> BJP</td>
      <td>              Bharatiya Janata Party</td>
      <td> 611563</td>
      <td> 0.584300</td>
    </tr>
    <tr>
      <th>293</th>
      <td>      Maharashtra</td>
      <td>                        41 - Latur </td>
      <td>  897919</td>
      <td> 578053</td>
      <td>  784688</td>
      <td> 479103</td>
      <td> 1682607</td>
      <td> 1057156</td>
      <td> 0.643770</td>
      <td> 0.610565</td>
      <td> 0.628285</td>
      <td>                         DR. SUNIL BALIRAM GAIKWAD</td>
      <td> BJP</td>
      <td>              Bharatiya Janata Party</td>
      <td> 616509</td>
      <td> 0.583177</td>
    </tr>
    <tr>
      <th>244</th>
      <td>   Madhya Pradesh</td>
      <td>                         21 - DEWAS</td>
      <td>  843555</td>
      <td> 654121</td>
      <td>  773660</td>
      <td> 489847</td>
      <td> 1617215</td>
      <td> 1143968</td>
      <td> 0.775434</td>
      <td> 0.633155</td>
      <td> 0.707369</td>
      <td>                                    MANOHAR UNTWAL</td>
      <td> BJP</td>
      <td>              Bharatiya Janata Party</td>
      <td> 665646</td>
      <td> 0.581875</td>
    </tr>
    <tr>
      <th>499</th>
      <td>      Uttarakhand</td>
      <td>      4 - Nainital-udhamsingh Nagar</td>
      <td>  857781</td>
      <td> 590700</td>
      <td>  753029</td>
      <td> 510735</td>
      <td> 1610810</td>
      <td> 1101435</td>
      <td> 0.688637</td>
      <td> 0.678241</td>
      <td> 0.683777</td>
      <td>                             BHAGAT SINGH KOSHYARI</td>
      <td> BJP</td>
      <td>              Bharatiya Janata Party</td>
      <td> 636769</td>
      <td> 0.578127</td>
    </tr>
    <tr>
      <th>118</th>
      <td>          Gujarat</td>
      <td>                       4 - Mahesana</td>
      <td>  777821</td>
      <td> 544710</td>
      <td>  720398</td>
      <td> 459548</td>
      <td> 1498219</td>
      <td> 1004258</td>
      <td> 0.700303</td>
      <td> 0.637908</td>
      <td> 0.670301</td>
      <td>                        PATEL JAYSHREEBEN KANUBHAI</td>
      <td> BJP</td>
      <td>              Bharatiya Janata Party</td>
      <td> 580250</td>
      <td> 0.577790</td>
    </tr>
    <tr>
      <th>150</th>
      <td>          Haryana</td>
      <td>                     10 - Faridabad</td>
      <td>  969407</td>
      <td> 651411</td>
      <td>  770945</td>
      <td> 479315</td>
      <td> 1740352</td>
      <td> 1130726</td>
      <td> 0.671969</td>
      <td> 0.621724</td>
      <td> 0.649711</td>
      <td>                                       KRISHAN PAL</td>
      <td> BJP</td>
      <td>              Bharatiya Janata Party</td>
      <td> 652516</td>
      <td> 0.577077</td>
    </tr>
    <tr>
      <th>496</th>
      <td>      Uttarakhand</td>
      <td>                  1 - Tehri Garhwal</td>
      <td>  712039</td>
      <td> 403088</td>
      <td>  640806</td>
      <td> 373126</td>
      <td> 1352845</td>
      <td>  776214</td>
      <td> 0.566104</td>
      <td> 0.582276</td>
      <td> 0.573764</td>
      <td>                             MALA RAJYA LAXMI SHAH</td>
      <td> BJP</td>
      <td>              Bharatiya Janata Party</td>
      <td> 446733</td>
      <td> 0.575528</td>
    </tr>
    <tr>
      <th>286</th>
      <td>      Maharashtra</td>
      <td>                          34 - Pune</td>
      <td>  949567</td>
      <td> 533686</td>
      <td>  886269</td>
      <td> 459588</td>
      <td> 1835836</td>
      <td>  993274</td>
      <td> 0.562031</td>
      <td> 0.518565</td>
      <td> 0.541047</td>
      <td>                                      ANIL SHIROLE</td>
      <td> BJP</td>
      <td>              Bharatiya Janata Party</td>
      <td> 569825</td>
      <td> 0.573684</td>
    </tr>
    <tr>
      <th>116</th>
      <td>          Gujarat</td>
      <td>                    2 - Banaskantha</td>
      <td>  796124</td>
      <td> 513893</td>
      <td>  719587</td>
      <td> 372741</td>
      <td> 1515711</td>
      <td>  886634</td>
      <td> 0.645494</td>
      <td> 0.517993</td>
      <td> 0.584962</td>
      <td>                     CHAUDHARY HARIBHAI PARTHIBHAI</td>
      <td> BJP</td>
      <td>              Bharatiya Janata Party</td>
      <td> 507856</td>
      <td> 0.572791</td>
    </tr>
    <tr>
      <th>290</th>
      <td>      Maharashtra</td>
      <td>                        38 - Shirdi</td>
      <td>  765921</td>
      <td> 520229</td>
      <td>  693791</td>
      <td> 412416</td>
      <td> 1459712</td>
      <td>  932645</td>
      <td> 0.679220</td>
      <td> 0.594438</td>
      <td> 0.638924</td>
      <td>                           LOKHANDE SADASHIV KISAN</td>
      <td> SHS</td>
      <td>                            Shivsena</td>
      <td> 532936</td>
      <td> 0.571424</td>
    </tr>
    <tr>
      <th>371</th>
      <td>        Rajasthan</td>
      <td>                      23 - Bhilwara</td>
      <td>  904030</td>
      <td> 581524</td>
      <td>  850847</td>
      <td> 522566</td>
      <td> 1754877</td>
      <td> 1104090</td>
      <td> 0.643257</td>
      <td> 0.614172</td>
      <td> 0.629155</td>
      <td>                                   SUBHASH BAHERIA</td>
      <td> BJP</td>
      <td>              Bharatiya Janata Party</td>
      <td> 630317</td>
      <td> 0.570893</td>
    </tr>
    <tr>
      <th>151</th>
      <td> Himachal Pradesh</td>
      <td>                         1 - Kangra</td>
      <td>  645888</td>
      <td> 392927</td>
      <td>  612713</td>
      <td> 406518</td>
      <td> 1258601</td>
      <td>  799445</td>
      <td> 0.608352</td>
      <td> 0.663472</td>
      <td> 0.635185</td>
      <td>                                      SHANTA KUMAR</td>
      <td> BJP</td>
      <td>              Bharatiya Janata Party</td>
      <td> 456163</td>
      <td> 0.570600</td>
    </tr>
    <tr>
      <th>251</th>
      <td>   Madhya Pradesh</td>
      <td>                       28 - KHANDWA</td>
      <td>  912747</td>
      <td> 677574</td>
      <td>  846663</td>
      <td> 579753</td>
      <td> 1759410</td>
      <td> 1257327</td>
      <td> 0.742346</td>
      <td> 0.684751</td>
      <td> 0.714630</td>
      <td>            NANDKUMAR SINGH CHOUHAN (NANDU BHAIYA)</td>
      <td> BJP</td>
      <td>              Bharatiya Janata Party</td>
      <td> 717357</td>
      <td> 0.570541</td>
    </tr>
    <tr>
      <th>289</th>
      <td>      Maharashtra</td>
      <td>                   37 - Ahmadnagar </td>
      <td>  898819</td>
      <td> 595960</td>
      <td>  800589</td>
      <td> 466358</td>
      <td> 1699408</td>
      <td> 1062318</td>
      <td> 0.663048</td>
      <td> 0.582519</td>
      <td> 0.625111</td>
      <td>                      GANDHI DILIPKUMAR MANSUKHLAL</td>
      <td> BJP</td>
      <td>              Bharatiya Janata Party</td>
      <td> 605185</td>
      <td> 0.569683</td>
    </tr>
    <tr>
      <th></th>
      <td>...</td>
      <td>...</td>
      <td>...</td>
      <td>...</td>
      <td>...</td>
      <td>...</td>
      <td>...</td>
      <td>...</td>
      <td>...</td>
      <td>...</td>
      <td>...</td>
      <td>...</td>
      <td>...</td>
      <td>...</td>
      <td>...</td>
      <td>...</td>
    </tr>
  </tbody>
</table>
<p>543 rows × 16 columns</p>
</div>
</div>

</div>

</div>
</div>

</div>
<div class="cell border-box-sizing text_cell rendered">
<div class="prompt input_prompt">
</div>
<div class="inner_cell">
<div class="text_cell_render border-box-sizing rendered_html">
<h1 id="Analyzing-Winners-By-Party">Analyzing Winners By Party<a class="anchor-link" href="#Analyzing-Winners-By-Party">&#182;</a></h1>
</div>
</div>
</div>
<div class="cell border-box-sizing code_cell rendered">
<div class="input">
<div class="prompt input_prompt">In&nbsp;[18]:</div>
<div class="inner_cell">
    <div class="input_area">
<div class=" highlight hl-ipython3"><pre><span></span><span class="n">results</span> <span class="o">=</span> <span class="n">pd</span><span class="o">.</span><span class="n">DataFrame</span><span class="p">(</span><span class="n">csv_data</span><span class="p">[</span><span class="s2">&quot;Party Abbreviation&quot;</span><span class="p">]</span><span class="o">.</span><span class="n">value_counts</span><span class="p">(),</span> <span class="n">columns</span><span class="o">=</span><span class="p">[</span><span class="s2">&quot;Seats&quot;</span><span class="p">])</span>
<span class="n">results</span><span class="p">[</span><span class="s2">&quot;Seats Percentage&quot;</span><span class="p">]</span> <span class="o">=</span> <span class="n">results</span><span class="p">[</span><span class="s2">&quot;Seats&quot;</span><span class="p">]</span> <span class="o">/</span> <span class="nb">len</span><span class="p">(</span><span class="n">winners</span><span class="p">)</span>
<span class="n">results</span>
</pre></div>

</div>
</div>
</div>

<div class="output_wrapper">
<div class="output">


<div class="output_area"><div class="prompt output_prompt">Out[18]:</div>

<div class="output_html rendered_html output_subarea output_execute_result">
<div style="max-height:1000px;max-width:1500px;overflow:auto;">
<table border="1" class="dataframe">
  <thead>
    <tr style="text-align: right;">
      <th></th>
      <th>Seats</th>
      <th>Seats Percentage</th>
    </tr>
  </thead>
  <tbody>
    <tr>
      <th>BJP</th>
      <td> 282</td>
      <td> 0.519337</td>
    </tr>
    <tr>
      <th>INC</th>
      <td>  44</td>
      <td> 0.081031</td>
    </tr>
    <tr>
      <th>ADMK</th>
      <td>  37</td>
      <td> 0.068140</td>
    </tr>
    <tr>
      <th>AITC</th>
      <td>  34</td>
      <td> 0.062615</td>
    </tr>
    <tr>
      <th>BJD</th>
      <td>  20</td>
      <td> 0.036832</td>
    </tr>
    <tr>
      <th>SHS</th>
      <td>  18</td>
      <td> 0.033149</td>
    </tr>
    <tr>
      <th>TDP</th>
      <td>  16</td>
      <td> 0.029466</td>
    </tr>
    <tr>
      <th>TRS</th>
      <td>  11</td>
      <td> 0.020258</td>
    </tr>
    <tr>
      <th>CPM</th>
      <td>   9</td>
      <td> 0.016575</td>
    </tr>
    <tr>
      <th>YSRCP</th>
      <td>   9</td>
      <td> 0.016575</td>
    </tr>
    <tr>
      <th>LJP</th>
      <td>   6</td>
      <td> 0.011050</td>
    </tr>
    <tr>
      <th>NCP</th>
      <td>   6</td>
      <td> 0.011050</td>
    </tr>
    <tr>
      <th>SP</th>
      <td>   5</td>
      <td> 0.009208</td>
    </tr>
    <tr>
      <th>AAAP</th>
      <td>   4</td>
      <td> 0.007366</td>
    </tr>
    <tr>
      <th>RJD</th>
      <td>   4</td>
      <td> 0.007366</td>
    </tr>
    <tr>
      <th>SAD</th>
      <td>   4</td>
      <td> 0.007366</td>
    </tr>
    <tr>
      <th>AIUDF</th>
      <td>   3</td>
      <td> 0.005525</td>
    </tr>
    <tr>
      <th>IND</th>
      <td>   3</td>
      <td> 0.005525</td>
    </tr>
    <tr>
      <th>BLSP</th>
      <td>   3</td>
      <td> 0.005525</td>
    </tr>
    <tr>
      <th>JKPDP</th>
      <td>   3</td>
      <td> 0.005525</td>
    </tr>
    <tr>
      <th>INLD</th>
      <td>   2</td>
      <td> 0.003683</td>
    </tr>
    <tr>
      <th>JMM</th>
      <td>   2</td>
      <td> 0.003683</td>
    </tr>
    <tr>
      <th>IUML</th>
      <td>   2</td>
      <td> 0.003683</td>
    </tr>
    <tr>
      <th>JD(U)</th>
      <td>   2</td>
      <td> 0.003683</td>
    </tr>
    <tr>
      <th>AD</th>
      <td>   2</td>
      <td> 0.003683</td>
    </tr>
    <tr>
      <th>JD(S)</th>
      <td>   2</td>
      <td> 0.003683</td>
    </tr>
    <tr>
      <th>RSP</th>
      <td>   1</td>
      <td> 0.001842</td>
    </tr>
    <tr>
      <th>KEC(M)</th>
      <td>   1</td>
      <td> 0.001842</td>
    </tr>
    <tr>
      <th>CPI</th>
      <td>   1</td>
      <td> 0.001842</td>
    </tr>
    <tr>
      <th>SDF</th>
      <td>   1</td>
      <td> 0.001842</td>
    </tr>
    <tr>
      <th>AINRC</th>
      <td>   1</td>
      <td> 0.001842</td>
    </tr>
    <tr>
      <th>SWP</th>
      <td>   1</td>
      <td> 0.001842</td>
    </tr>
    <tr>
      <th>NPEP</th>
      <td>   1</td>
      <td> 0.001842</td>
    </tr>
    <tr>
      <th>AIMIM</th>
      <td>   1</td>
      <td> 0.001842</td>
    </tr>
    <tr>
      <th>NPF</th>
      <td>   1</td>
      <td> 0.001842</td>
    </tr>
    <tr>
      <th>PMK</th>
      <td>   1</td>
      <td> 0.001842</td>
    </tr>
  </tbody>
</table>
<p>36 rows × 2 columns</p>
</div>
</div>

</div>

</div>
</div>

</div>
<div class="cell border-box-sizing code_cell rendered">
<div class="input">
<div class="prompt input_prompt">In&nbsp;[19]:</div>
<div class="inner_cell">
    <div class="input_area">
<div class=" highlight hl-ipython3"><pre><span></span><span class="n">all_votes</span> <span class="o">=</span> <span class="n">pd</span><span class="o">.</span><span class="n">pivot_table</span><span class="p">(</span><span class="n">results_data</span><span class="p">,</span> <span class="n">values</span><span class="o">=</span><span class="s2">&quot;Total Votes Polled&quot;</span><span class="p">,</span> <span class="n">rows</span><span class="o">=</span><span class="s2">&quot;Party Abbreviation&quot;</span><span class="p">,</span> <span class="n">aggfunc</span><span class="o">=</span><span class="s2">&quot;sum&quot;</span><span class="p">)</span>
<span class="n">all_votes_average</span> <span class="o">=</span> <span class="n">pd</span><span class="o">.</span><span class="n">pivot_table</span><span class="p">(</span><span class="n">results_data</span><span class="p">,</span> <span class="n">values</span><span class="o">=</span><span class="s2">&quot;Total Votes Polled&quot;</span><span class="p">,</span> <span class="n">rows</span><span class="o">=</span><span class="s2">&quot;Party Abbreviation&quot;</span><span class="p">,</span> <span class="n">aggfunc</span><span class="o">=</span><span class="s2">&quot;mean&quot;</span><span class="p">)</span>
</pre></div>

</div>
</div>
</div>

</div>
<div class="cell border-box-sizing code_cell rendered">
<div class="input">
<div class="prompt input_prompt">In&nbsp;[20]:</div>
<div class="inner_cell">
    <div class="input_area">
<div class=" highlight hl-ipython3"><pre><span></span><span class="n">get_total_votes</span> <span class="o">=</span> <span class="k">lambda</span> <span class="n">x</span><span class="p">:</span> <span class="n">all_votes</span><span class="p">[</span><span class="n">x</span><span class="p">]</span>
<span class="n">get_average_votes</span> <span class="o">=</span> <span class="k">lambda</span> <span class="n">x</span><span class="p">:</span> <span class="n">all_votes_average</span><span class="p">[</span><span class="n">x</span><span class="p">]</span>

<span class="n">results</span><span class="p">[</span><span class="s2">&quot;Total Votes&quot;</span><span class="p">]</span> <span class="o">=</span> <span class="n">pd</span><span class="o">.</span><span class="n">Series</span><span class="p">(</span><span class="n">results</span><span class="o">.</span><span class="n">index</span><span class="o">.</span><span class="n">values</span><span class="p">)</span><span class="o">.</span><span class="n">apply</span><span class="p">(</span><span class="n">get_total_votes</span><span class="p">)</span><span class="o">.</span><span class="n">values</span>
<span class="n">results</span><span class="p">[</span><span class="s2">&quot;Average Votes&quot;</span><span class="p">]</span> <span class="o">=</span> <span class="n">pd</span><span class="o">.</span><span class="n">Series</span><span class="p">(</span><span class="n">results</span><span class="o">.</span><span class="n">index</span><span class="o">.</span><span class="n">values</span><span class="p">)</span><span class="o">.</span><span class="n">apply</span><span class="p">(</span><span class="n">get_average_votes</span><span class="p">)</span><span class="o">.</span><span class="n">values</span>
<span class="n">results</span>
</pre></div>

</div>
</div>
</div>

<div class="output_wrapper">
<div class="output">


<div class="output_area"><div class="prompt output_prompt">Out[20]:</div>

<div class="output_html rendered_html output_subarea output_execute_result">
<div style="max-height:1000px;max-width:1500px;overflow:auto;">
<table border="1" class="dataframe">
  <thead>
    <tr style="text-align: right;">
      <th></th>
      <th>Seats</th>
      <th>Seats Percentage</th>
      <th>Total Votes</th>
      <th>Average Votes</th>
    </tr>
  </thead>
  <tbody>
    <tr>
      <th>BJP</th>
      <td> 282</td>
      <td> 0.519337</td>
      <td> 171657549</td>
      <td> 401069.039720</td>
    </tr>
    <tr>
      <th>INC</th>
      <td>  44</td>
      <td> 0.081031</td>
      <td> 106938242</td>
      <td> 230470.349138</td>
    </tr>
    <tr>
      <th>ADMK</th>
      <td>  37</td>
      <td> 0.068140</td>
      <td>  18115825</td>
      <td> 452895.625000</td>
    </tr>
    <tr>
      <th>AITC</th>
      <td>  34</td>
      <td> 0.062615</td>
      <td>  21259681</td>
      <td> 162287.641221</td>
    </tr>
    <tr>
      <th>BJD</th>
      <td>  20</td>
      <td> 0.036832</td>
      <td>   9491497</td>
      <td> 451976.047619</td>
    </tr>
    <tr>
      <th>SHS</th>
      <td>  18</td>
      <td> 0.033149</td>
      <td>  10262982</td>
      <td> 176947.965517</td>
    </tr>
    <tr>
      <th>TDP</th>
      <td>  16</td>
      <td> 0.029466</td>
      <td>  14094545</td>
      <td> 469818.166667</td>
    </tr>
    <tr>
      <th>TRS</th>
      <td>  11</td>
      <td> 0.020258</td>
      <td>   6736490</td>
      <td> 396264.117647</td>
    </tr>
    <tr>
      <th>CPM</th>
      <td>   9</td>
      <td> 0.016575</td>
      <td>  17986773</td>
      <td> 193406.161290</td>
    </tr>
    <tr>
      <th>YSRCP</th>
      <td>   9</td>
      <td> 0.016575</td>
      <td>  13991280</td>
      <td> 368191.578947</td>
    </tr>
    <tr>
      <th>LJP</th>
      <td>   6</td>
      <td> 0.011050</td>
      <td>   2295929</td>
      <td> 327989.857143</td>
    </tr>
    <tr>
      <th>NCP</th>
      <td>   6</td>
      <td> 0.011050</td>
      <td>   8635554</td>
      <td> 239876.500000</td>
    </tr>
    <tr>
      <th>SP</th>
      <td>   5</td>
      <td> 0.009208</td>
      <td>  18672916</td>
      <td>  94786.375635</td>
    </tr>
    <tr>
      <th>AAAP</th>
      <td>   4</td>
      <td> 0.007366</td>
      <td>  11325635</td>
      <td>  26216.747685</td>
    </tr>
    <tr>
      <th>RJD</th>
      <td>   4</td>
      <td> 0.007366</td>
      <td>   7442313</td>
      <td> 248077.100000</td>
    </tr>
    <tr>
      <th>SAD</th>
      <td>   4</td>
      <td> 0.007366</td>
      <td>   3636148</td>
      <td> 363614.800000</td>
    </tr>
    <tr>
      <th>AIUDF</th>
      <td>   3</td>
      <td> 0.005525</td>
      <td>   2333040</td>
      <td> 129613.333333</td>
    </tr>
    <tr>
      <th>IND</th>
      <td>   3</td>
      <td> 0.005525</td>
      <td>  16743719</td>
      <td>   5175.801855</td>
    </tr>
    <tr>
      <th>BLSP</th>
      <td>   3</td>
      <td> 0.005525</td>
      <td>   1078473</td>
      <td> 269618.250000</td>
    </tr>
    <tr>
      <th>JKPDP</th>
      <td>   3</td>
      <td> 0.005525</td>
      <td>    732644</td>
      <td> 146528.800000</td>
    </tr>
    <tr>
      <th>INLD</th>
      <td>   2</td>
      <td> 0.003683</td>
      <td>   2799899</td>
      <td> 279989.900000</td>
    </tr>
    <tr>
      <th>JMM</th>
      <td>   2</td>
      <td> 0.003683</td>
      <td>   1637990</td>
      <td>  77999.523810</td>
    </tr>
    <tr>
      <th>IUML</th>
      <td>   2</td>
      <td> 0.003683</td>
      <td>   1100096</td>
      <td>  44003.840000</td>
    </tr>
    <tr>
      <th>JD(U)</th>
      <td>   2</td>
      <td> 0.003683</td>
      <td>   5992196</td>
      <td>  64432.215054</td>
    </tr>
    <tr>
      <th>AD</th>
      <td>   2</td>
      <td> 0.003683</td>
      <td>    821820</td>
      <td> 117402.857143</td>
    </tr>
    <tr>
      <th>JD(S)</th>
      <td>   2</td>
      <td> 0.003683</td>
      <td>   3731481</td>
      <td> 109749.441176</td>
    </tr>
    <tr>
      <th>RSP</th>
      <td>   1</td>
      <td> 0.001842</td>
      <td>   1666380</td>
      <td> 277730.000000</td>
    </tr>
    <tr>
      <th>KEC(M)</th>
      <td>   1</td>
      <td> 0.001842</td>
      <td>    424194</td>
      <td> 424194.000000</td>
    </tr>
    <tr>
      <th>CPI</th>
      <td>   1</td>
      <td> 0.001842</td>
      <td>   4327298</td>
      <td>  64586.537313</td>
    </tr>
    <tr>
      <th>SDF</th>
      <td>   1</td>
      <td> 0.001842</td>
      <td>    163698</td>
      <td> 163698.000000</td>
    </tr>
    <tr>
      <th>AINRC</th>
      <td>   1</td>
      <td> 0.001842</td>
      <td>    255826</td>
      <td> 255826.000000</td>
    </tr>
    <tr>
      <th>SWP</th>
      <td>   1</td>
      <td> 0.001842</td>
      <td>   1105073</td>
      <td> 552536.500000</td>
    </tr>
    <tr>
      <th>NPEP</th>
      <td>   1</td>
      <td> 0.001842</td>
      <td>    576444</td>
      <td>  82349.142857</td>
    </tr>
    <tr>
      <th>AIMIM</th>
      <td>   1</td>
      <td> 0.001842</td>
      <td>    685729</td>
      <td> 137145.800000</td>
    </tr>
    <tr>
      <th>NPF</th>
      <td>   1</td>
      <td> 0.001842</td>
      <td>    994505</td>
      <td> 497252.500000</td>
    </tr>
    <tr>
      <th>PMK</th>
      <td>   1</td>
      <td> 0.001842</td>
      <td>   1827566</td>
      <td> 203062.888889</td>
    </tr>
  </tbody>
</table>
<p>36 rows × 4 columns</p>
</div>
</div>

</div>

</div>
</div>

</div>
<div class="cell border-box-sizing text_cell rendered">
<div class="prompt input_prompt">
</div>
<div class="inner_cell">
<div class="text_cell_render border-box-sizing rendered_html">
<h2 id="Calculating-votes-that-resulted-in-winning-seats">Calculating votes that resulted in winning seats<a class="anchor-link" href="#Calculating-votes-that-resulted-in-winning-seats">&#182;</a></h2>
</div>
</div>
</div>
<div class="cell border-box-sizing code_cell rendered">
<div class="input">
<div class="prompt input_prompt">In&nbsp;[21]:</div>
<div class="inner_cell">
    <div class="input_area">
<div class=" highlight hl-ipython3"><pre><span></span><span class="n">all_winning_votes</span> <span class="o">=</span> <span class="n">pd</span><span class="o">.</span><span class="n">pivot_table</span><span class="p">(</span><span class="n">csv_data</span><span class="p">,</span> <span class="n">values</span><span class="o">=</span><span class="s2">&quot;Total Votes Polled&quot;</span><span class="p">,</span> <span class="n">rows</span><span class="o">=</span><span class="s2">&quot;Party Abbreviation&quot;</span><span class="p">,</span> <span class="n">aggfunc</span><span class="o">=</span><span class="s2">&quot;sum&quot;</span><span class="p">)</span>
<span class="n">all_winning_votes_average</span> <span class="o">=</span> <span class="n">pd</span><span class="o">.</span><span class="n">pivot_table</span><span class="p">(</span><span class="n">csv_data</span><span class="p">,</span> <span class="n">values</span><span class="o">=</span><span class="s2">&quot;Total Votes Polled&quot;</span><span class="p">,</span> <span class="n">rows</span><span class="o">=</span><span class="s2">&quot;Party Abbreviation&quot;</span><span class="p">,</span> <span class="n">aggfunc</span><span class="o">=</span><span class="s2">&quot;mean&quot;</span><span class="p">)</span>
<span class="n">all_winning_votes_percentages</span> <span class="o">=</span> <span class="n">pd</span><span class="o">.</span><span class="n">pivot_table</span><span class="p">(</span><span class="n">csv_data</span><span class="p">,</span> <span class="n">values</span><span class="o">=</span><span class="s2">&quot;Winner Percentage&quot;</span><span class="p">,</span> <span class="n">rows</span><span class="o">=</span><span class="s2">&quot;Party Abbreviation&quot;</span><span class="p">,</span> <span class="n">aggfunc</span><span class="o">=</span><span class="s2">&quot;mean&quot;</span><span class="p">)</span>
<span class="n">average_winning_elecors</span> <span class="o">=</span> <span class="n">pd</span><span class="o">.</span><span class="n">pivot_table</span><span class="p">(</span><span class="n">csv_data</span><span class="p">,</span> <span class="n">values</span><span class="o">=</span><span class="s2">&quot;Total Electors&quot;</span><span class="p">,</span> <span class="n">rows</span><span class="o">=</span><span class="s2">&quot;Party Abbreviation&quot;</span><span class="p">,</span> <span class="n">aggfunc</span><span class="o">=</span><span class="s2">&quot;mean&quot;</span><span class="p">)</span>
</pre></div>

</div>
</div>
</div>

</div>
<div class="cell border-box-sizing code_cell rendered">
<div class="input">
<div class="prompt input_prompt">In&nbsp;[22]:</div>
<div class="inner_cell">
    <div class="input_area">
<div class=" highlight hl-ipython3"><pre><span></span><span class="n">get_total_winning_votes</span> <span class="o">=</span> <span class="k">lambda</span> <span class="n">x</span><span class="p">:</span> <span class="n">all_winning_votes</span><span class="p">[</span><span class="n">x</span><span class="p">]</span>
<span class="n">get_average_winning_votes</span> <span class="o">=</span> <span class="k">lambda</span> <span class="n">x</span><span class="p">:</span> <span class="n">all_winning_votes_average</span><span class="p">[</span><span class="n">x</span><span class="p">]</span>
<span class="n">get_average_winning_percentages</span> <span class="o">=</span> <span class="k">lambda</span> <span class="n">x</span><span class="p">:</span> <span class="n">all_winning_votes_percentages</span><span class="p">[</span><span class="n">x</span><span class="p">]</span>
<span class="n">get_average_winning_elecors</span> <span class="o">=</span> <span class="k">lambda</span> <span class="n">x</span><span class="p">:</span> <span class="n">average_winning_elecors</span><span class="p">[</span><span class="n">x</span><span class="p">]</span>


<span class="n">results</span><span class="p">[</span><span class="s2">&quot;Total Winning Votes&quot;</span><span class="p">]</span> <span class="o">=</span> <span class="n">pd</span><span class="o">.</span><span class="n">Series</span><span class="p">(</span><span class="n">results</span><span class="o">.</span><span class="n">index</span><span class="o">.</span><span class="n">values</span><span class="p">)</span><span class="o">.</span><span class="n">apply</span><span class="p">(</span><span class="n">get_total_winning_votes</span><span class="p">)</span><span class="o">.</span><span class="n">values</span>
<span class="n">results</span><span class="p">[</span><span class="s2">&quot;Average Winning Votes&quot;</span><span class="p">]</span> <span class="o">=</span> <span class="n">pd</span><span class="o">.</span><span class="n">Series</span><span class="p">(</span><span class="n">results</span><span class="o">.</span><span class="n">index</span><span class="o">.</span><span class="n">values</span><span class="p">)</span><span class="o">.</span><span class="n">apply</span><span class="p">(</span><span class="n">get_average_winning_votes</span><span class="p">)</span><span class="o">.</span><span class="n">values</span>
<span class="n">results</span><span class="p">[</span><span class="s2">&quot;Average Winning Percentage&quot;</span><span class="p">]</span> <span class="o">=</span> <span class="n">pd</span><span class="o">.</span><span class="n">Series</span><span class="p">(</span><span class="n">results</span><span class="o">.</span><span class="n">index</span><span class="o">.</span><span class="n">values</span><span class="p">)</span><span class="o">.</span><span class="n">apply</span><span class="p">(</span><span class="n">get_average_winning_percentages</span><span class="p">)</span><span class="o">.</span><span class="n">values</span>
<span class="n">results</span><span class="p">[</span><span class="s2">&quot;Average Winning Electors&quot;</span><span class="p">]</span> <span class="o">=</span> <span class="n">pd</span><span class="o">.</span><span class="n">Series</span><span class="p">(</span><span class="n">results</span><span class="o">.</span><span class="n">index</span><span class="o">.</span><span class="n">values</span><span class="p">)</span><span class="o">.</span><span class="n">apply</span><span class="p">(</span><span class="n">get_average_winning_elecors</span><span class="p">)</span><span class="o">.</span><span class="n">values</span>

<span class="n">results</span><span class="p">[</span><span class="s2">&quot;Loosing Votes&quot;</span><span class="p">]</span> <span class="o">=</span> <span class="n">results</span><span class="p">[</span><span class="s2">&quot;Total Votes&quot;</span><span class="p">]</span> <span class="o">-</span> <span class="n">results</span><span class="p">[</span><span class="s2">&quot;Total Winning Votes&quot;</span><span class="p">]</span>
<span class="n">results</span><span class="p">[</span><span class="s2">&quot;Winning Votes Ratio&quot;</span><span class="p">]</span> <span class="o">=</span> <span class="n">results</span><span class="p">[</span><span class="s2">&quot;Total Winning Votes&quot;</span><span class="p">]</span> <span class="o">/</span> <span class="n">results</span><span class="p">[</span><span class="s2">&quot;Total Votes&quot;</span><span class="p">]</span>

<span class="n">results</span>
</pre></div>

</div>
</div>
</div>

<div class="output_wrapper">
<div class="output">


<div class="output_area"><div class="prompt output_prompt">Out[22]:</div>

<div class="output_html rendered_html output_subarea output_execute_result">
<div style="max-height:1000px;max-width:1500px;overflow:auto;">
<table border="1" class="dataframe">
  <thead>
    <tr style="text-align: right;">
      <th></th>
      <th>Seats</th>
      <th>Seats Percentage</th>
      <th>Total Votes</th>
      <th>Average Votes</th>
      <th>Total Winning Votes</th>
      <th>Average Winning Votes</th>
      <th>Average Winning Percentage</th>
      <th>Average Winning Electors</th>
      <th>Loosing Votes</th>
      <th>Winning Votes Ratio</th>
    </tr>
  </thead>
  <tbody>
    <tr>
      <th>BJP</th>
      <td> 282</td>
      <td> 0.519337</td>
      <td> 171657549</td>
      <td> 401069.039720</td>
      <td> 139553310</td>
      <td> 494869</td>
      <td> 0.493188</td>
      <td> 1606886</td>
      <td> 32104239</td>
      <td> 0.812975</td>
    </tr>
    <tr>
      <th>INC</th>
      <td>  44</td>
      <td> 0.081031</td>
      <td> 106938242</td>
      <td> 230470.349138</td>
      <td>  18219598</td>
      <td> 414081</td>
      <td> 0.428075</td>
      <td> 1384055</td>
      <td> 88718644</td>
      <td> 0.170375</td>
    </tr>
    <tr>
      <th>ADMK</th>
      <td>  37</td>
      <td> 0.068140</td>
      <td>  18115825</td>
      <td> 452895.625000</td>
      <td>  17415881</td>
      <td> 470699</td>
      <td> 0.451634</td>
      <td> 1413200</td>
      <td>   699944</td>
      <td> 0.961363</td>
    </tr>
    <tr>
      <th>AITC</th>
      <td>  34</td>
      <td> 0.062615</td>
      <td>  21259681</td>
      <td> 162287.641221</td>
      <td>  18366652</td>
      <td> 540195</td>
      <td> 0.431486</td>
      <td> 1512020</td>
      <td>  2893029</td>
      <td> 0.863919</td>
    </tr>
    <tr>
      <th>BJD</th>
      <td>  20</td>
      <td> 0.036832</td>
      <td>   9491497</td>
      <td> 451976.047619</td>
      <td>   9169818</td>
      <td> 458490</td>
      <td> 0.449398</td>
      <td> 1389275</td>
      <td>   321679</td>
      <td> 0.966109</td>
    </tr>
    <tr>
      <th>SHS</th>
      <td>  18</td>
      <td> 0.033149</td>
      <td>  10262982</td>
      <td> 176947.965517</td>
      <td>   9010919</td>
      <td> 500606</td>
      <td> 0.510340</td>
      <td> 1676883</td>
      <td>  1252063</td>
      <td> 0.878002</td>
    </tr>
    <tr>
      <th>TDP</th>
      <td>  16</td>
      <td> 0.029466</td>
      <td>  14094545</td>
      <td> 469818.166667</td>
      <td>   9362168</td>
      <td> 585135</td>
      <td> 0.493163</td>
      <td> 1554833</td>
      <td>  4732377</td>
      <td> 0.664241</td>
    </tr>
    <tr>
      <th>TRS</th>
      <td>  11</td>
      <td> 0.020258</td>
      <td>   6736490</td>
      <td> 396264.117647</td>
      <td>   5307344</td>
      <td> 482485</td>
      <td> 0.430386</td>
      <td> 1532891</td>
      <td>  1429146</td>
      <td> 0.787850</td>
    </tr>
    <tr>
      <th>CPM</th>
      <td>   9</td>
      <td> 0.016575</td>
      <td>  17986773</td>
      <td> 193406.161290</td>
      <td>   4069667</td>
      <td> 452185</td>
      <td> 0.455675</td>
      <td> 1264327</td>
      <td> 13917106</td>
      <td> 0.226259</td>
    </tr>
    <tr>
      <th>YSRCP</th>
      <td>   9</td>
      <td> 0.016575</td>
      <td>  13991280</td>
      <td> 368191.578947</td>
      <td>   4950808</td>
      <td> 550089</td>
      <td> 0.478040</td>
      <td> 1495688</td>
      <td>  9040472</td>
      <td> 0.353850</td>
    </tr>
    <tr>
      <th>LJP</th>
      <td>   6</td>
      <td> 0.011050</td>
      <td>   2295929</td>
      <td> 327989.857143</td>
      <td>   1983574</td>
      <td> 330595</td>
      <td> 0.375127</td>
      <td> 1579884</td>
      <td>   312355</td>
      <td> 0.863953</td>
    </tr>
    <tr>
      <th>NCP</th>
      <td>   6</td>
      <td> 0.011050</td>
      <td>   8635554</td>
      <td> 239876.500000</td>
      <td>   2594704</td>
      <td> 432450</td>
      <td> 0.483694</td>
      <td> 1419258</td>
      <td>  6040850</td>
      <td> 0.300468</td>
    </tr>
    <tr>
      <th>SP</th>
      <td>   5</td>
      <td> 0.009208</td>
      <td>  18672916</td>
      <td>  94786.375635</td>
      <td>   2458349</td>
      <td> 491669</td>
      <td> 0.471728</td>
      <td> 1714211</td>
      <td> 16214567</td>
      <td> 0.131653</td>
    </tr>
    <tr>
      <th>AAAP</th>
      <td>   4</td>
      <td> 0.007366</td>
      <td>  11325635</td>
      <td>  26216.747685</td>
      <td>   1716952</td>
      <td> 429238</td>
      <td> 0.401053</td>
      <td> 1464262</td>
      <td>  9608683</td>
      <td> 0.151599</td>
    </tr>
    <tr>
      <th>RJD</th>
      <td>   4</td>
      <td> 0.007366</td>
      <td>   7442313</td>
      <td> 248077.100000</td>
      <td>   1429688</td>
      <td> 357422</td>
      <td> 0.367278</td>
      <td> 1636930</td>
      <td>  6012625</td>
      <td> 0.192103</td>
    </tr>
    <tr>
      <th>SAD</th>
      <td>   4</td>
      <td> 0.007366</td>
      <td>   3636148</td>
      <td> 363614.800000</td>
      <td>   1817385</td>
      <td> 454346</td>
      <td> 0.411916</td>
      <td> 1543844</td>
      <td>  1818763</td>
      <td> 0.499811</td>
    </tr>
    <tr>
      <th>AIUDF</th>
      <td>   3</td>
      <td> 0.005525</td>
      <td>   2333040</td>
      <td> 129613.333333</td>
      <td>   1350137</td>
      <td> 450045</td>
      <td> 0.389700</td>
      <td> 1382908</td>
      <td>   982903</td>
      <td> 0.578703</td>
    </tr>
    <tr>
      <th>IND</th>
      <td>   3</td>
      <td> 0.005525</td>
      <td>  16743719</td>
      <td>   5175.801855</td>
      <td>   1374887</td>
      <td> 458295</td>
      <td> 0.463283</td>
      <td> 1271567</td>
      <td> 15368832</td>
      <td> 0.082114</td>
    </tr>
    <tr>
      <th>BLSP</th>
      <td>   3</td>
      <td> 0.005525</td>
      <td>   1078473</td>
      <td> 269618.250000</td>
      <td>   1072804</td>
      <td> 357601</td>
      <td> 0.427755</td>
      <td> 1522716</td>
      <td>     5669</td>
      <td> 0.994743</td>
    </tr>
    <tr>
      <th>JKPDP</th>
      <td>   3</td>
      <td> 0.005525</td>
      <td>    732644</td>
      <td> 146528.800000</td>
      <td>    533629</td>
      <td> 177876</td>
      <td> 0.472012</td>
      <td> 1232333</td>
      <td>   199015</td>
      <td> 0.728361</td>
    </tr>
    <tr>
      <th>INLD</th>
      <td>   2</td>
      <td> 0.003683</td>
      <td>   2799899</td>
      <td> 279989.900000</td>
      <td>   1000848</td>
      <td> 500424</td>
      <td> 0.411830</td>
      <td> 1589081</td>
      <td>  1799051</td>
      <td> 0.357459</td>
    </tr>
    <tr>
      <th>JMM</th>
      <td>   2</td>
      <td> 0.003683</td>
      <td>   1637990</td>
      <td>  77999.523810</td>
      <td>    715322</td>
      <td> 357661</td>
      <td> 0.385344</td>
      <td> 1300163</td>
      <td>   922668</td>
      <td> 0.436707</td>
    </tr>
    <tr>
      <th>IUML</th>
      <td>   2</td>
      <td> 0.003683</td>
      <td>   1100096</td>
      <td>  44003.840000</td>
      <td>    816226</td>
      <td> 408113</td>
      <td> 0.473571</td>
      <td> 1189616</td>
      <td>   283870</td>
      <td> 0.741959</td>
    </tr>
    <tr>
      <th>JD(U)</th>
      <td>   2</td>
      <td> 0.003683</td>
      <td>   5992196</td>
      <td>  64432.215054</td>
      <td>    740808</td>
      <td> 370404</td>
      <td> 0.380420</td>
      <td> 1767467</td>
      <td>  5251388</td>
      <td> 0.123629</td>
    </tr>
    <tr>
      <th>AD</th>
      <td>   2</td>
      <td> 0.003683</td>
      <td>    821820</td>
      <td> 117402.857143</td>
      <td>    812325</td>
      <td> 406162</td>
      <td> 0.426682</td>
      <td> 1718643</td>
      <td>     9495</td>
      <td> 0.988446</td>
    </tr>
    <tr>
      <th>JD(S)</th>
      <td>   2</td>
      <td> 0.003683</td>
      <td>   3731481</td>
      <td> 109749.441176</td>
      <td>   1034211</td>
      <td> 517105</td>
      <td> 0.442053</td>
      <td> 1615299</td>
      <td>  2697270</td>
      <td> 0.277158</td>
    </tr>
    <tr>
      <th>RSP</th>
      <td>   1</td>
      <td> 0.001842</td>
      <td>   1666380</td>
      <td> 277730.000000</td>
      <td>    408528</td>
      <td> 408528</td>
      <td> 0.464735</td>
      <td> 1219415</td>
      <td>  1257852</td>
      <td> 0.245159</td>
    </tr>
    <tr>
      <th>KEC(M)</th>
      <td>   1</td>
      <td> 0.001842</td>
      <td>    424194</td>
      <td> 424194.000000</td>
      <td>    424194</td>
      <td> 424194</td>
      <td> 0.510072</td>
      <td> 1161463</td>
      <td>        0</td>
      <td> 1.000000</td>
    </tr>
    <tr>
      <th>CPI</th>
      <td>   1</td>
      <td> 0.001842</td>
      <td>   4327298</td>
      <td>  64586.537313</td>
      <td>    389209</td>
      <td> 389209</td>
      <td> 0.422821</td>
      <td> 1275288</td>
      <td>  3938089</td>
      <td> 0.089943</td>
    </tr>
    <tr>
      <th>SDF</th>
      <td>   1</td>
      <td> 0.001842</td>
      <td>    163698</td>
      <td> 163698.000000</td>
      <td>    163698</td>
      <td> 163698</td>
      <td> 0.529824</td>
      <td>  370611</td>
      <td>        0</td>
      <td> 1.000000</td>
    </tr>
    <tr>
      <th>AINRC</th>
      <td>   1</td>
      <td> 0.001842</td>
      <td>    255826</td>
      <td> 255826.000000</td>
      <td>    255826</td>
      <td> 255826</td>
      <td> 0.345703</td>
      <td>  901357</td>
      <td>        0</td>
      <td> 1.000000</td>
    </tr>
    <tr>
      <th>SWP</th>
      <td>   1</td>
      <td> 0.001842</td>
      <td>   1105073</td>
      <td> 552536.500000</td>
      <td>    640428</td>
      <td> 640428</td>
      <td> 0.538686</td>
      <td> 1630598</td>
      <td>   464645</td>
      <td> 0.579535</td>
    </tr>
    <tr>
      <th>NPEP</th>
      <td>   1</td>
      <td> 0.001842</td>
      <td>    576444</td>
      <td>  82349.142857</td>
      <td>    239301</td>
      <td> 239301</td>
      <td> 0.522410</td>
      <td>  586501</td>
      <td>   337143</td>
      <td> 0.415133</td>
    </tr>
    <tr>
      <th>AIMIM</th>
      <td>   1</td>
      <td> 0.001842</td>
      <td>    685729</td>
      <td> 137145.800000</td>
      <td>    513868</td>
      <td> 513868</td>
      <td> 0.528986</td>
      <td> 1823664</td>
      <td>   171861</td>
      <td> 0.749375</td>
    </tr>
    <tr>
      <th>NPF</th>
      <td>   1</td>
      <td> 0.001842</td>
      <td>    994505</td>
      <td> 497252.500000</td>
      <td>    713372</td>
      <td> 713372</td>
      <td> 0.647102</td>
      <td> 1752741</td>
      <td>   281133</td>
      <td> 0.717314</td>
    </tr>
    <tr>
      <th>PMK</th>
      <td>   1</td>
      <td> 0.001842</td>
      <td>   1827566</td>
      <td> 203062.888889</td>
      <td>    468194</td>
      <td> 468194</td>
      <td> 0.425111</td>
      <td> 1358273</td>
      <td>  1359372</td>
      <td> 0.256184</td>
    </tr>
  </tbody>
</table>
<p>36 rows × 10 columns</p>
</div>
</div>

</div>

</div>
</div>

</div>
<div class="cell border-box-sizing text_cell rendered">
<div class="prompt input_prompt">
</div>
<div class="inner_cell">
<div class="text_cell_render border-box-sizing rendered_html">
<h2 id="Statistical-Analysis-of-Results">Statistical Analysis of Results<a class="anchor-link" href="#Statistical-Analysis-of-Results">&#182;</a></h2>
</div>
</div>
</div>
<div class="cell border-box-sizing code_cell rendered">
<div class="input">
<div class="prompt input_prompt">In&nbsp;[23]:</div>
<div class="inner_cell">
    <div class="input_area">
<div class=" highlight hl-ipython3"><pre><span></span><span class="n">results</span><span class="o">.</span><span class="n">describe</span><span class="p">()</span>
</pre></div>

</div>
</div>
</div>

<div class="output_wrapper">
<div class="output">


<div class="output_area"><div class="prompt output_prompt">Out[23]:</div>

<div class="output_html rendered_html output_subarea output_execute_result">
<div style="max-height:1000px;max-width:1500px;overflow:auto;">
<table border="1" class="dataframe">
  <thead>
    <tr style="text-align: right;">
      <th></th>
      <th>Seats</th>
      <th>Seats Percentage</th>
      <th>Total Votes</th>
      <th>Average Votes</th>
      <th>Total Winning Votes</th>
      <th>Average Winning Votes</th>
      <th>Average Winning Percentage</th>
      <th>Average Winning Electors</th>
      <th>Loosing Votes</th>
      <th>Winning Votes Ratio</th>
    </tr>
  </thead>
  <tbody>
    <tr>
      <th>count</th>
      <td>  36.000000</td>
      <td> 36.000000</td>
      <td> 3.600000e+01</td>
      <td>     36.000000</td>
      <td> 3.600000e+01</td>
      <td>     36.000000</td>
      <td> 36.000000</td>
      <td>      36.000000</td>
      <td>       36.000000</td>
      <td> 36.000000</td>
    </tr>
    <tr>
      <th>mean</th>
      <td>  15.083333</td>
      <td>  0.027778</td>
      <td> 1.365393e+07</td>
      <td> 236299.539018</td>
      <td> 7.252629e+06</td>
      <td> 435134.944444</td>
      <td>  0.453897</td>
      <td> 1412726.416667</td>
      <td>  6401299.944444</td>
      <td>  0.560735</td>
    </tr>
    <tr>
      <th>std</th>
      <td>  46.987156</td>
      <td>  0.086533</td>
      <td> 3.248419e+07</td>
      <td> 150275.821702</td>
      <td> 2.324585e+07</td>
      <td> 113343.272362</td>
      <td>  0.059478</td>
      <td>  305902.010647</td>
      <td> 15550652.495029</td>
      <td>  0.323618</td>
    </tr>
    <tr>
      <th>min</th>
      <td>   1.000000</td>
      <td>  0.001842</td>
      <td> 1.636980e+05</td>
      <td>   5175.801855</td>
      <td> 1.636980e+05</td>
      <td> 163698.000000</td>
      <td>  0.345703</td>
      <td>  370611.000000</td>
      <td>        0.000000</td>
      <td>  0.082114</td>
    </tr>
    <tr>
      <th>25%</th>
      <td>   1.000000</td>
      <td>  0.001842</td>
      <td> 1.094690e+06</td>
      <td> 115489.503151</td>
      <td> 6.137282e+05</td>
      <td> 384507.750000</td>
      <td>  0.420095</td>
      <td> 1274357.750000</td>
      <td>   305233.750000</td>
      <td>  0.253428</td>
    </tr>
    <tr>
      <th>50%</th>
      <td>   3.000000</td>
      <td>  0.005525</td>
      <td> 3.683814e+06</td>
      <td> 216766.619013</td>
      <td> 1.211470e+06</td>
      <td> 451115.000000</td>
      <td>  0.450516</td>
      <td> 1479975.000000</td>
      <td>  1308612.000000</td>
      <td>  0.579119</td>
    </tr>
    <tr>
      <th>75%</th>
      <td>   9.000000</td>
      <td>  0.016575</td>
      <td> 1.199205e+07</td>
      <td> 364758.994737</td>
      <td> 4.289952e+06</td>
      <td> 496257.750000</td>
      <td>  0.486061</td>
      <td> 1608989.250000</td>
      <td>  5441697.250000</td>
      <td>  0.863928</td>
    </tr>
    <tr>
      <th>max</th>
      <td> 282.000000</td>
      <td>  0.519337</td>
      <td> 1.716575e+08</td>
      <td> 552536.500000</td>
      <td> 1.395533e+08</td>
      <td> 713372.000000</td>
      <td>  0.647102</td>
      <td> 1823664.000000</td>
      <td> 88718644.000000</td>
      <td>  1.000000</td>
    </tr>
  </tbody>
</table>
<p>8 rows × 10 columns</p>
</div>
</div>

</div>

</div>
</div>

</div>
<div class="cell border-box-sizing text_cell rendered">
<div class="prompt input_prompt">
</div>
<div class="inner_cell">
<div class="text_cell_render border-box-sizing rendered_html">
<h1 id="Visualizing-the-results">Visualizing the results<a class="anchor-link" href="#Visualizing-the-results">&#182;</a></h1>
</div>
</div>
</div>
<div class="cell border-box-sizing code_cell rendered">
<div class="input">
<div class="prompt input_prompt">In&nbsp;[24]:</div>
<div class="inner_cell">
    <div class="input_area">
<div class=" highlight hl-ipython3"><pre><span></span><span class="kn">import</span> <span class="nn">matplotlib.pyplot</span> <span class="k">as</span> <span class="nn">plt</span>
</pre></div>

</div>
</div>
</div>

</div>
<div class="cell border-box-sizing code_cell rendered">
<div class="input">
<div class="prompt input_prompt">In&nbsp;[25]:</div>
<div class="inner_cell">
    <div class="input_area">
<div class=" highlight hl-ipython3"><pre><span></span><span class="n">plt</span><span class="o">.</span><span class="n">figure</span><span class="p">(</span><span class="n">figsize</span><span class="o">=</span><span class="p">(</span><span class="mi">18</span><span class="p">,</span><span class="mi">8</span><span class="p">))</span>
<span class="n">cmap</span> <span class="o">=</span> <span class="n">plt</span><span class="o">.</span><span class="n">cm</span><span class="o">.</span><span class="n">hsv</span>
<span class="n">colors</span> <span class="o">=</span> <span class="n">cmap</span><span class="p">(</span><span class="n">np</span><span class="o">.</span><span class="n">linspace</span><span class="p">(</span><span class="mf">0.</span><span class="p">,</span> <span class="mf">1.</span><span class="p">,</span> <span class="nb">len</span><span class="p">(</span><span class="n">results</span><span class="p">[</span><span class="s2">&quot;Seats&quot;</span><span class="p">])))</span>
<span class="n">plt</span><span class="o">.</span><span class="n">pie</span><span class="p">(</span><span class="n">results</span><span class="p">[</span><span class="s2">&quot;Seats&quot;</span><span class="p">],</span> <span class="n">labels</span><span class="o">=</span><span class="n">results</span><span class="o">.</span><span class="n">index</span><span class="p">,</span> <span class="n">explode</span><span class="o">=</span><span class="n">np</span><span class="o">.</span><span class="n">array</span><span class="p">(</span><span class="nb">range</span><span class="p">(</span><span class="nb">len</span><span class="p">(</span><span class="n">results</span><span class="p">)))</span><span class="o">/</span><span class="mi">10</span><span class="p">,</span> <span class="n">autopct</span><span class="o">=</span><span class="s1">&#39;</span><span class="si">%1.1f%%</span><span class="s1">&#39;</span><span class="p">,</span>
        <span class="n">colors</span> <span class="o">=</span> <span class="n">colors</span><span class="p">)</span>

<span class="n">plt</span><span class="o">.</span><span class="n">axis</span><span class="p">(</span><span class="s2">&quot;equal&quot;</span><span class="p">)</span>

<span class="n">plt</span><span class="o">.</span><span class="n">title</span><span class="p">(</span><span class="s2">&quot;Indian general election 2014 results of seats per party&quot;</span><span class="p">)</span>

<span class="n">plt</span><span class="o">.</span><span class="n">show</span><span class="p">();</span>
</pre></div>

</div>
</div>
</div>

<div class="output_wrapper">
<div class="output">


<div class="output_area"><div class="prompt"></div>


<div class="output_png output_subarea ">
<img src="data:image/png;base64,iVBORw0KGgoAAAANSUhEUgAABC0AAAHyCAYAAADP3DRWAAAABHNCSVQICAgIfAhkiAAAAAlwSFlz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"
>
</div>

</div>

</div>
</div>

</div>
<div class="cell border-box-sizing code_cell rendered">
<div class="input">
<div class="prompt input_prompt">In&nbsp;[26]:</div>
<div class="inner_cell">
    <div class="input_area">
<div class=" highlight hl-ipython3"><pre><span></span><span class="n">plt</span><span class="o">.</span><span class="n">figure</span><span class="p">(</span><span class="n">figsize</span><span class="o">=</span><span class="p">(</span><span class="mi">18</span><span class="p">,</span><span class="mi">8</span><span class="p">))</span>

<span class="n">plt</span><span class="o">.</span><span class="n">pie</span><span class="p">(</span><span class="n">results</span><span class="o">.</span><span class="n">sort</span><span class="p">(</span><span class="s2">&quot;Total Votes&quot;</span><span class="p">,</span> <span class="n">ascending</span><span class="o">=</span><span class="kc">False</span><span class="p">)[</span><span class="s2">&quot;Total Votes&quot;</span><span class="p">],</span> <span class="n">labels</span><span class="o">=</span><span class="n">results</span><span class="o">.</span><span class="n">sort</span><span class="p">(</span><span class="s2">&quot;Total Votes&quot;</span><span class="p">,</span> <span class="n">ascending</span><span class="o">=</span><span class="kc">False</span><span class="p">)</span><span class="o">.</span><span class="n">index</span><span class="p">,</span>
        <span class="n">explode</span><span class="o">=</span><span class="n">np</span><span class="o">.</span><span class="n">array</span><span class="p">(</span><span class="nb">range</span><span class="p">(</span><span class="nb">len</span><span class="p">(</span><span class="n">results</span><span class="p">)))</span><span class="o">**</span><span class="mf">1.5</span><span class="o">/</span><span class="mi">40</span><span class="p">,</span> <span class="n">autopct</span><span class="o">=</span><span class="s1">&#39;</span><span class="si">%1.1f%%</span><span class="s1">&#39;</span><span class="p">,</span> <span class="n">colors</span> <span class="o">=</span> <span class="n">colors</span><span class="p">)</span>

<span class="n">plt</span><span class="o">.</span><span class="n">axis</span><span class="p">(</span><span class="s2">&quot;equal&quot;</span><span class="p">)</span>

<span class="n">plt</span><span class="o">.</span><span class="n">title</span><span class="p">(</span><span class="s2">&quot;Indian general election 2014 results of votes per party&quot;</span><span class="p">)</span>

<span class="n">plt</span><span class="o">.</span><span class="n">show</span><span class="p">();</span>
</pre></div>

</div>
</div>
</div>

<div class="output_wrapper">
<div class="output">


<div class="output_area"><div class="prompt"></div>


<div class="output_png output_subarea ">
<img src="data:image/png;base64,iVBORw0KGgoAAAANSUhEUgAABDAAAAHbCAYAAAA9L2rwAAAABHNCSVQICAgIfAhkiAAAAAlwSFlz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"
>
</div>

</div>

</div>
</div>

</div>
<div class="cell border-box-sizing code_cell rendered">
<div class="input">
<div class="prompt input_prompt">In&nbsp;[27]:</div>
<div class="inner_cell">
    <div class="input_area">
<div class=" highlight hl-ipython3"><pre><span></span><span class="n">plt</span><span class="o">.</span><span class="n">figure</span><span class="p">(</span><span class="n">figsize</span><span class="o">=</span><span class="p">(</span><span class="mi">18</span><span class="p">,</span><span class="mi">10</span><span class="p">))</span>
<span class="k">for</span> <span class="n">counter</span> <span class="ow">in</span> <span class="nb">range</span><span class="p">(</span><span class="nb">len</span><span class="p">(</span><span class="n">results</span><span class="p">)):</span>
    <span class="n">x</span> <span class="o">=</span> <span class="n">results</span><span class="p">[</span><span class="s2">&quot;Total Votes&quot;</span><span class="p">][</span><span class="n">counter</span><span class="p">]</span>
    <span class="n">y</span> <span class="o">=</span> <span class="n">results</span><span class="p">[</span><span class="s2">&quot;Seats&quot;</span><span class="p">][</span><span class="n">counter</span><span class="p">]</span>
    <span class="n">label</span> <span class="o">=</span> <span class="s2">&quot;</span><span class="si">%s</span><span class="se">\n</span><span class="si">%s</span><span class="s2">&quot;</span> <span class="o">%</span> <span class="p">(</span><span class="n">results</span><span class="o">.</span><span class="n">index</span><span class="p">[</span><span class="n">counter</span><span class="p">],</span> <span class="n">y</span><span class="p">)</span>
    <span class="n">plt</span><span class="o">.</span><span class="n">scatter</span><span class="p">(</span><span class="n">x</span><span class="p">,</span><span class="n">y</span><span class="p">,</span> <span class="n">c</span> <span class="o">=</span> <span class="n">colors</span><span class="p">[</span><span class="n">counter</span><span class="p">],</span>
                <span class="n">s</span><span class="o">=</span><span class="n">y</span><span class="o">/</span><span class="n">x</span> <span class="o">*</span> <span class="mi">1</span><span class="n">e9</span><span class="p">,</span> <span class="n">label</span> <span class="o">=</span><span class="n">results</span><span class="o">.</span><span class="n">index</span><span class="p">[</span><span class="n">counter</span><span class="p">])</span>
    <span class="n">plt</span><span class="o">.</span><span class="n">annotate</span><span class="p">(</span><span class="n">label</span><span class="p">,</span> 
        <span class="n">xy</span> <span class="o">=</span> <span class="p">(</span><span class="n">x</span><span class="p">,</span> <span class="n">y</span><span class="p">),</span> <span class="n">xytext</span> <span class="o">=</span> <span class="p">(</span><span class="o">-</span><span class="mi">20</span><span class="p">,</span> <span class="mi">20</span><span class="p">),</span>
        <span class="n">textcoords</span> <span class="o">=</span> <span class="s1">&#39;offset points&#39;</span><span class="p">,</span> <span class="n">ha</span> <span class="o">=</span> <span class="s1">&#39;right&#39;</span><span class="p">,</span> <span class="n">va</span> <span class="o">=</span> <span class="s1">&#39;bottom&#39;</span><span class="p">,</span>
        <span class="n">bbox</span> <span class="o">=</span> <span class="nb">dict</span><span class="p">(</span><span class="n">boxstyle</span> <span class="o">=</span> <span class="s1">&#39;round,pad=0.5&#39;</span><span class="p">,</span> <span class="n">fc</span> <span class="o">=</span> <span class="s1">&#39;yellow&#39;</span><span class="p">,</span> <span class="n">alpha</span> <span class="o">=</span> <span class="mf">0.5</span><span class="p">),</span>
        <span class="n">arrowprops</span> <span class="o">=</span> <span class="nb">dict</span><span class="p">(</span><span class="n">arrowstyle</span> <span class="o">=</span> <span class="s1">&#39;-&gt;&#39;</span><span class="p">,</span> <span class="n">connectionstyle</span> <span class="o">=</span> <span class="s1">&#39;arc3,rad=0&#39;</span><span class="p">))</span>

<span class="n">plt</span><span class="o">.</span><span class="n">xscale</span><span class="p">(</span><span class="s2">&quot;log&quot;</span><span class="p">)</span>
<span class="n">plt</span><span class="o">.</span><span class="n">yscale</span><span class="p">(</span><span class="s2">&quot;log&quot;</span><span class="p">)</span>
<span class="n">plt</span><span class="o">.</span><span class="n">xlim</span><span class="p">(</span><span class="n">results</span><span class="p">[</span><span class="s2">&quot;Total Votes&quot;</span><span class="p">]</span><span class="o">.</span><span class="n">min</span><span class="p">()</span><span class="o">*</span><span class="mf">0.95</span><span class="p">,</span> <span class="n">results</span><span class="p">[</span><span class="s2">&quot;Total Votes&quot;</span><span class="p">]</span><span class="o">.</span><span class="n">max</span><span class="p">()</span><span class="o">*</span><span class="mf">1.05</span><span class="p">)</span>
<span class="n">plt</span><span class="o">.</span><span class="n">ylim</span><span class="p">(</span><span class="mi">0</span><span class="p">)</span>

<span class="n">plt</span><span class="o">.</span><span class="n">xlabel</span><span class="p">(</span><span class="s2">&quot;Total Votes (log)&quot;</span><span class="p">)</span>
<span class="n">plt</span><span class="o">.</span><span class="n">ylabel</span><span class="p">(</span><span class="s2">&quot;Seats (log)&quot;</span><span class="p">)</span>

<span class="n">plt</span><span class="o">.</span><span class="n">title</span><span class="p">(</span><span class="s2">&quot;Indian General Elections 2014 Seats vs Total Votes on a log scale&quot;</span><span class="p">)</span>

<span class="n">plt</span><span class="o">.</span><span class="n">grid</span><span class="p">()</span>

<span class="n">plt</span><span class="o">.</span><span class="n">show</span><span class="p">();</span>
</pre></div>

</div>
</div>
</div>

<div class="output_wrapper">
<div class="output">


<div class="output_area"><div class="prompt"></div>


<div class="output_png output_subarea ">
<img src="data:image/png;base64,iVBORw0KGgoAAAANSUhEUgAABCAAAAJuCAYAAABhbnNDAAAABHNCSVQICAgIfAhkiAAAAAlwSFlz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"
>
</div>

</div>

</div>
</div>

</div>
<div class="cell border-box-sizing code_cell rendered">
<div class="input">
<div class="prompt input_prompt">In&nbsp;[28]:</div>
<div class="inner_cell">
    <div class="input_area">
<div class=" highlight hl-ipython3"><pre><span></span><span class="nb">print</span> <span class="n">results</span>
</pre></div>

</div>
</div>
</div>

<div class="output_wrapper">
<div class="output">


<div class="output_area"><div class="prompt"></div>
<div class="output_subarea output_stream output_stdout output_text">
<pre>        Seats  Seats Percentage  Total Votes  Average Votes  \
BJP       282          0.519337    171657549  401069.039720   
INC        44          0.081031    106938242  230470.349138   
ADMK       37          0.068140     18115825  452895.625000   
AITC       34          0.062615     21259681  162287.641221   
BJD        20          0.036832      9491497  451976.047619   
SHS        18          0.033149     10262982  176947.965517   
TDP        16          0.029466     14094545  469818.166667   
TRS        11          0.020258      6736490  396264.117647   
CPM         9          0.016575     17986773  193406.161290   
YSRCP       9          0.016575     13991280  368191.578947   
LJP         6          0.011050      2295929  327989.857143   
NCP         6          0.011050      8635554  239876.500000   
SP          5          0.009208     18672916   94786.375635   
AAAP        4          0.007366     11325635   26216.747685   
RJD         4          0.007366      7442313  248077.100000   
SAD         4          0.007366      3636148  363614.800000   
AIUDF       3          0.005525      2333040  129613.333333   
IND         3          0.005525     16743719    5175.801855   
BLSP        3          0.005525      1078473  269618.250000   
JKPDP       3          0.005525       732644  146528.800000   
INLD        2          0.003683      2799899  279989.900000   
JMM         2          0.003683      1637990   77999.523810   
IUML        2          0.003683      1100096   44003.840000   
JD(U)       2          0.003683      5992196   64432.215054   
AD          2          0.003683       821820  117402.857143   
JD(S)       2          0.003683      3731481  109749.441176   
RSP         1          0.001842      1666380  277730.000000   
KEC(M)      1          0.001842       424194  424194.000000   
CPI         1          0.001842      4327298   64586.537313   
SDF         1          0.001842       163698  163698.000000   
AINRC       1          0.001842       255826  255826.000000   
SWP         1          0.001842      1105073  552536.500000   
NPEP        1          0.001842       576444   82349.142857   
AIMIM       1          0.001842       685729  137145.800000   
NPF         1          0.001842       994505  497252.500000   
PMK         1          0.001842      1827566  203062.888889   

        Total Winning Votes  Average Winning Votes  \
BJP               139553310                 494869   
INC                18219598                 414081   
ADMK               17415881                 470699   
AITC               18366652                 540195   
BJD                 9169818                 458490   
SHS                 9010919                 500606   
TDP                 9362168                 585135   
TRS                 5307344                 482485   
CPM                 4069667                 452185   
YSRCP               4950808                 550089   
LJP                 1983574                 330595   
NCP                 2594704                 432450   
SP                  2458349                 491669   
AAAP                1716952                 429238   
RJD                 1429688                 357422   
SAD                 1817385                 454346   
AIUDF               1350137                 450045   
IND                 1374887                 458295   
BLSP                1072804                 357601   
JKPDP                533629                 177876   
INLD                1000848                 500424   
JMM                  715322                 357661   
IUML                 816226                 408113   
JD(U)                740808                 370404   
AD                   812325                 406162   
JD(S)               1034211                 517105   
RSP                  408528                 408528   
KEC(M)               424194                 424194   
CPI                  389209                 389209   
SDF                  163698                 163698   
AINRC                255826                 255826   
SWP                  640428                 640428   
NPEP                 239301                 239301   
AIMIM                513868                 513868   
NPF                  713372                 713372   
PMK                  468194                 468194   

        Average Winning Percentage  Average Winning Electors  Loosing Votes  \
BJP                       0.493188                   1606886       32104239   
INC                       0.428075                   1384055       88718644   
ADMK                      0.451634                   1413200         699944   
AITC                      0.431486                   1512020        2893029   
BJD                       0.449398                   1389275         321679   
SHS                       0.510340                   1676883        1252063   
TDP                       0.493163                   1554833        4732377   
TRS                       0.430386                   1532891        1429146   
CPM                       0.455675                   1264327       13917106   
YSRCP                     0.478040                   1495688        9040472   
LJP                       0.375127                   1579884         312355   
NCP                       0.483694                   1419258        6040850   
SP                        0.471728                   1714211       16214567   
AAAP                      0.401053                   1464262        9608683   
RJD                       0.367278                   1636930        6012625   
SAD                       0.411916                   1543844        1818763   
AIUDF                     0.389700                   1382908         982903   
IND                       0.463283                   1271567       15368832   
BLSP                      0.427755                   1522716           5669   
JKPDP                     0.472012                   1232333         199015   
INLD                      0.411830                   1589081        1799051   
JMM                       0.385344                   1300163         922668   
IUML                      0.473571                   1189616         283870   
JD(U)                     0.380420                   1767467        5251388   
AD                        0.426682                   1718643           9495   
JD(S)                     0.442053                   1615299        2697270   
RSP                       0.464735                   1219415        1257852   
KEC(M)                    0.510072                   1161463              0   
CPI                       0.422821                   1275288        3938089   
SDF                       0.529824                    370611              0   
AINRC                     0.345703                    901357              0   
SWP                       0.538686                   1630598         464645   
NPEP                      0.522410                    586501         337143   
AIMIM                     0.528986                   1823664         171861   
NPF                       0.647102                   1752741         281133   
PMK                       0.425111                   1358273        1359372   

        Winning Votes Ratio  
BJP                0.812975  
INC                0.170375  
ADMK               0.961363  
AITC               0.863919  
BJD                0.966109  
SHS                0.878002  
TDP                0.664241  
TRS                0.787850  
CPM                0.226259  
YSRCP              0.353850  
LJP                0.863953  
NCP                0.300468  
SP                 0.131653  
AAAP               0.151599  
RJD                0.192103  
SAD                0.499811  
AIUDF              0.578703  
IND                0.082114  
BLSP               0.994743  
JKPDP              0.728361  
INLD               0.357459  
JMM                0.436707  
IUML               0.741959  
JD(U)              0.123629  
AD                 0.988446  
JD(S)              0.277158  
RSP                0.245159  
KEC(M)             1.000000  
CPI                0.089943  
SDF                1.000000  
AINRC              1.000000  
SWP                0.579535  
NPEP               0.415133  
AIMIM              0.749375  
NPF                0.717314  
PMK                0.256184  

[36 rows x 10 columns]
</pre>
</div>
</div>

</div>
</div>

</div>
<div class="cell border-box-sizing code_cell rendered">
<div class="input">
<div class="prompt input_prompt">In&nbsp;[28]:</div>
<div class="inner_cell">
    <div class="input_area">
<div class=" highlight hl-ipython3"><pre><span></span> 
</pre></div>

</div>
</div>
</div>

</div>
    </div>
  </div>

  </div>


  
    <footer class="footer hidden-print">
      <div class="container">
        <div class="col-md-4">
          <p>
            This website does not host notebooks, it only renders notebooks
            available on other websites.
          </p>
        </div>

        <div class="col-md-4">
          <p>
            Delivered by <a href="http://www.fastly.com/">Fastly</a>,
            Rendered by <a href="https://developer.rackspace.com/?nbviewer=awesome">Rackspace</a>
          </p>
          <p>
            nbviewer GitHub <a href="https://github.com/jupyter/nbviewer">repository</a>.
          </p>
        </div>

        <div class="col-md-4">
          
  
            
              <p>
                nbviewer version:
                <a href="https://github.com/jupyter/nbviewer/commit/41cd82f09350776a356420a4f7dedcaf52410650">
                  41cd82f
                </a>
              </p>
            
          
  
  <p>
    notebook version: <a href="https://github.com/jupyter/notebook/releases/tag/">
      
    </a>
  </p>
  <p>
    nbconvert version: <a href="https://github.com/jupyter/nbconvert/releases/tag/4.1.0">
      4.1.0
    </a>
  </p>
  

          
  
  
  <p>
    Rendered
    <span class='date' data-date='Mon, 21 Mar 2016 16:10:04 UTC' title='Mon, 21 Mar 2016 16:10:04 UTC'>(Mon, 21 Mar 2016 16:10:04 UTC)</span>
  </p>
  

        </div>
      </div>
    </footer>
  

  <script src="/static/components/bootstrap/js/bootstrap.min.js"></script>
  <script src="/static/components/headroom.js/dist/headroom.min.js"></script>
  <script src="/static/components/headroom.js/dist/jQuery.headroom.min.js"></script>

  
  
  <script>
    $(function(){ $("#menubar").headroom({
      tolerance: 5,
      offset: 205,
      classes: {
        initial: "animated",
        pinned: "slideInDown",
        unpinned: "slideOutUp"
      }
    })});
  </script>


  <script>
    (function(i,s,o,g,r,a,m){i['GoogleAnalyticsObject']=r;i[r]=i[r]||function(){
      (i[r].q=i[r].q||[]).push(arguments)},i[r].l=1*new Date();a=s.createElement(o),
      m=s.getElementsByTagName(o)[0];a.async=1;a.src=g;m.parentNode.insertBefore(a,m)
    })(window,document,'script','//www.google-analytics.com/analytics.js','ga');
    ga('create', 'UA-38683231-2', 'auto');
    ga('send', 'pageview');
  </script>
  <script>
    require({
        paths: {
          moment: "/static/components/moment/min/moment.min.js"
        }
      }, ["moment"], function(moment){
      var date = $("footer .date"),
        m = moment(new Date(date.data('date'))),
        update = function(){ date.text(m.fromNow()); };
      setInterval(update, 61*1000);
      update();
      var w = $(window).scroll(function(event){
        $("body").toggleClass("scrolled", w.scrollTop() > 0);
      });
    });
  </script>
  <!--NEW RELIC Stop Perf Measurement-->
  
  <!--NEW RELIC End-->
</body>
</html>