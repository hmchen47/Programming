








<!DOCTYPE html>
<html lang="en">

<head>
  <meta charset="utf-8">
  <title>Jupyter Notebook Viewer</title>
  <meta name="viewport" content="width=device-width, initial-scale=1.0">
  <meta name="description" content="">
  <meta name="author" content="">
  
  <meta name="robots" content="noindex,nofollow">
  

  <!--NEW RELIC Start Perf Measurement-->
  
  <!--NREND-->

  <!-- Le styles -->
  <script type="text/javascript">
//<![CDATA[
try{if (!window.CloudFlare) {var CloudFlare=[{verbose:0,p:0,byc:0,owlid:"cf",bag2:1,mirage2:0,oracle:0,paths:{cloudflare:"/cdn-cgi/nexp/dok3v=1613a3a185/"},atok:"516d72dfc89d064071b2013e54d5038c",petok:"78f3e6c166a3ddf61ab313c411fa8890789efd9b-1457428438-1800",zone:"jupyter.org",rocket:"0",apps:{"ga_key":{"ua":"UA-52617120-5","ga_bs":"2"}},sha2test:0}];!function(a,b){a=document.createElement("script"),b=document.getElementsByTagName("script")[0],a.async=!0,a.src="//ajax.cloudflare.com/cdn-cgi/nexp/dok3v=fb690a32f5/cloudflare.min.js",b.parentNode.insertBefore(a,b)}()}}catch(e){};
//]]>
</script>
<link href="/static/build/styles.css" rel="stylesheet">

  <!-- Le HTML5 shim, for IE6-8 support of HTML5 elements -->
  <!--[if lt IE 9]>
    <script src="http://html5shim.googlecode.com/svn/trunk/html5.js"></script>
  <![endif]-->

  <!-- Le fav and touch icons -->
  <link rel="shortcut icon" href="/static/ico/ipynb_icon_16x16.png">
  <link rel="apple-touch-icon-precomposed" sizes="144x144"
        href="/static/ico/apple-touch-icon-144-precomposed.png">
  <link rel="apple-touch-icon-precomposed" sizes="114x114"
        href="/static/ico/apple-touch-icon-114-precomposed.png">
  <link rel="apple-touch-icon-precomposed" sizes="72x72"
        href="/static/ico/apple-touch-icon-72-precomposed.png">
  <link rel="apple-touch-icon-precomposed"
        href="/static/ico/apple-touch-icon-57-precomposed.png">
  
  

  

  
  <meta name="twitter:card" content="summary">
  <meta name="twitter:title" content="Notebook on nbviewer">
  <meta name="twitter:description" content="Check out this Jupyter notebook!">

  
  <meta name="twitter:domain" content="nbviewer.ipython.org">
  <meta name="twitter:image:src" content="http://ipython.org/ipython-doc/dev/_images/ipynb_icon_128x128.png">

  
    <link href="/static/build/notebook.css" rel="stylesheet">
  

  

  
    <script src="https://cdn.mathjax.org/mathjax/latest/MathJax.js?config=TeX-AMS_HTML" type="text/javascript">
    </script>
    <script type="text/javascript">
      init_mathjax = function() {
        if (window.MathJax) {
          // MathJax loaded
          MathJax.Hub.Config({
            TeX: {
              equationNumbers: {
                autoNumber: "AMS",
                useLabelIds: true
              }
            },
            tex2jax: {
              inlineMath: [ ['$','$'], ["\\(","\\)"] ],
              displayMath: [ ['$$','$$'], ["\\[","\\]"] ],
              processEscapes: true,
              processEnvironments: true
            },
            displayAlign: 'center',
            "HTML-CSS": {
              styles: {'.MathJax_Display': {"margin": 0}},
              linebreaks: { automatic: true }
            }
          });
          MathJax.Hub.Queue(["Typeset", MathJax.Hub]);
        }
      }
      init_mathjax();
    </script>
  

<script type="text/javascript">
/* <![CDATA[ */
var _gaq = _gaq || [];
_gaq.push(['_setAccount', 'UA-52617120-5']);
_gaq.push(['_trackPageview']);

(function() {
var ga = document.createElement('script'); ga.type = 'text/javascript'; ga.async = true;
ga.src = ('https:' == document.location.protocol ? 'https://ssl' : 'http://www') + '.google-analytics.com/ga.js';
var s = document.getElementsByTagName('script')[0]; s.parentNode.insertBefore(ga, s);
})();

(function(b){(function(a){"__CF"in b&&"DJS"in b.__CF?b.__CF.DJS.push(a):"addEventListener"in b?b.addEventListener("load",a,!1):b.attachEvent("onload",a)})(function(){"FB"in b&&"Event"in FB&&"subscribe"in FB.Event&&(FB.Event.subscribe("edge.create",function(a){_gaq.push(["_trackSocial","facebook","like",a])}),FB.Event.subscribe("edge.remove",function(a){_gaq.push(["_trackSocial","facebook","unlike",a])}),FB.Event.subscribe("message.send",function(a){_gaq.push(["_trackSocial","facebook","send",a])}));"twttr"in b&&"events"in twttr&&"bind"in twttr.events&&twttr.events.bind("tweet",function(a){if(a){var b;if(a.target&&a.target.nodeName=="IFRAME")a:{if(a=a.target.src){a=a.split("#")[0].match(/[^?=&]+=([^&]*)?/g);b=0;for(var c;c=a[b];++b)if(c.indexOf("url")===0){b=unescape(c.split("=")[1]);break a}}b=void 0}_gaq.push(["_trackSocial","twitter","tweet",b])}})})})(window);
/* ]]> */
</script>
</head>

<body>

  <!-- These are loaded at the top of the body so they are available to
       notebook cells when they are loaded below. -->
  <script src="/static/components/jquery/dist/jquery.min.js"></script>
  <script src="/static/components/requirejs/require.js"></script>
  <script src="/static/components/moment/min/moment.min.js"></script>

<!-- Navbar
================================================== -->
  <nav id="menubar" class="navbar navbar-default navbar-fixed-top" data-spy="affix">
    <div class="container">
      <div class="navbar-header">
        <button type="button" class="navbar-toggle collapsed" data-toggle="collapse" data-target=".navbar-collapse">
          <span class="sr-only">Toggle navigation</span>
          <i class="fa fa-bars"></i>
        </button>
        <a class="navbar-brand" href="/">
          <img src="/static/img/nav_logo.svg" width="159"/>
        </a>
      </div>

      <div class="collapse navbar-collapse">
        <ul class="nav navbar-nav navbar-right">
          <li>
            <a class="active" href="http://jupyter.org">JUPYTER</a>
          </li>
          <li>
    <a href="/faq" title="FAQ" >
      
        <span>FAQ</span>
      
    </a>
  </li>

          
  
    
  
    
      
        <li>
    <a href="/format/script/github/twistedhardware/mltutorial/blob/master/notebooks/IPython-Tutorial/7%20-%20Pandas.ipynb" title="View as Code" >
      <span class="fa fa- fa-2x menu-icon"></span>
      <span class="menu-text">View as Code</span>
    </a>
  </li>
      
    
  

  

  
    <li>
    <a href="https://github.com/twistedhardware/mltutorial/blob/master/notebooks/IPython-Tutorial/7%20-%20Pandas.ipynb" title="View on GitHub" >
      <span class="fa fa-github fa-2x menu-icon"></span>
      <span class="menu-text">View on GitHub</span>
    </a>
  </li>
  

  <li>
    <a href="https://raw.githubusercontent.com/twistedhardware/mltutorial/master/notebooks/IPython-Tutorial/7%20-%20Pandas.ipynb" title="Download Notebook" download>
      <span class="fa fa-download fa-2x menu-icon"></span>
      <span class="menu-text">Download Notebook</span>
    </a>
  </li>

        </ul>
      </div><!-- /.navbar-collapse -->
      
      
    </div>
  </nav>

  <div class="container container-main">
    
  
  <ol class="breadcrumb">
    
      <li>
        <a href="/github/twistedhardware/mltutorial/tree/master">mltutorial</a>
      </li>
    
      <li>
        <a href="/github/twistedhardware/mltutorial/tree/master/notebooks">notebooks</a>
      </li>
    
      <li>
        <a href="/github/twistedhardware/mltutorial/tree/master/notebooks/IPython-Tutorial">IPython-Tutorial</a>
      </li>
    
  </ol>
  
  <div id="notebook">
    <div id="notebook-container">
      
<div class="cell border-box-sizing text_cell rendered">
<div class="prompt input_prompt">
</div>
<div class="inner_cell">
<div class="text_cell_render border-box-sizing rendered_html">
<h1 id="Tutorial-Brief">Tutorial Brief<a class="anchor-link" href="#Tutorial-Brief">&#182;</a></h1>
</div>
</div>
</div>
<div class="cell border-box-sizing text_cell rendered">
<div class="prompt input_prompt">
</div>
<div class="inner_cell">
<div class="text_cell_render border-box-sizing rendered_html">
<p>Pandas is powerful and easy-to-use library for data analysis. Is has two main object to represents data: Series and DataFrame.</p>
<p>Finding Help:</p>
<ul>
<li><a href="http://pandas.pydata.org/pandas-docs/stable/10min.html">http://pandas.pydata.org/pandas-docs/stable/10min.html</a></li>
<li><a href="http://pandas.pydata.org/pandas-docs/stable/tutorials.html">http://pandas.pydata.org/pandas-docs/stable/tutorials.html</a></li>
</ul>

</div>
</div>
</div>
<div class="cell border-box-sizing text_cell rendered">
<div class="prompt input_prompt">
</div>
<div class="inner_cell">
<div class="text_cell_render border-box-sizing rendered_html">
<table>
<tr>
    <td><img src="http://www.scipy.org/_static/images/numpylogo_med.png"  style="width:50px;height:50px;" /></td>
    <td><h4>NumPy</h4> Base N-dimensional array package </td>
    <td><img src="http://www.scipy.org/_static/images/scipy_med.png" style="width:50px;height:50px;" /></td>
    <td><h4>SciPy</h4> Fundamental library for scientific computing </td>
    <td><img src="http://www.scipy.org/_static/images/matplotlib_med.png" style="width:50px;height:50px;" /></td>
    <td><h4>Matplotlib</h4> Comprehensive 2D Plotting </td>
</tr>
<tr>
    <td><img src="http://www.scipy.org/_static/images/ipython.png" style="width:50px;height:50px;" /></td>
    <td><h4>IPython</h4> Enhanced Interactive Console </td>
    <td><img src="http://www.scipy.org/_static/images/sympy_logo.png" style="width:50px;height:50px;" /></td>
    <td><h4>SymPy</h4> Symbolic mathematics </td>
    <td style="background:Lavender;"><img src="http://www.scipy.org/_static/images/pandas_badge2.jpg" style="width:50px;height:50px;" /></td>
    <td style="background:Lavender;"><h4>Pandas</h4> Data structures & analysis </td>
</tr>
</table>
</div>
</div>
</div>
<div class="cell border-box-sizing text_cell rendered">
<div class="prompt input_prompt">
</div>
<div class="inner_cell">
<div class="text_cell_render border-box-sizing rendered_html">
<h1 id="Import-libraries">Import libraries<a class="anchor-link" href="#Import-libraries">&#182;</a></h1>
</div>
</div>
</div>
<div class="cell border-box-sizing code_cell rendered">
<div class="input">
<div class="prompt input_prompt">In&nbsp;[1]:</div>
<div class="inner_cell">
    <div class="input_area">
<div class=" highlight hl-ipython3"><pre><span></span><span class="kn">import</span> <span class="nn">numpy</span> <span class="k">as</span> <span class="nn">np</span>
<span class="kn">import</span> <span class="nn">matplotlib.pyplot</span> <span class="k">as</span> <span class="nn">plt</span>
<span class="kn">import</span> <span class="nn">pandas</span> <span class="k">as</span> <span class="nn">pd</span>
</pre></div>

</div>
</div>
</div>

</div>
<div class="cell border-box-sizing text_cell rendered">
<div class="prompt input_prompt">
</div>
<div class="inner_cell">
<div class="text_cell_render border-box-sizing rendered_html">
<h1 id="Working-with-Series">Working with Series<a class="anchor-link" href="#Working-with-Series">&#182;</a></h1>
</div>
</div>
</div>
<div class="cell border-box-sizing text_cell rendered">
<div class="prompt input_prompt">
</div>
<div class="inner_cell">
<div class="text_cell_render border-box-sizing rendered_html">
<p>Series is an array like object.</p>

</div>
</div>
</div>
<div class="cell border-box-sizing text_cell rendered">
<div class="prompt input_prompt">
</div>
<div class="inner_cell">
<div class="text_cell_render border-box-sizing rendered_html">
<h4 id="pd.Series(self,-data=None,-index=None,-dtype=None,-name=None,-copy=False,-fastpath=False)">pd.Series(self, data=None, index=None, dtype=None, name=None, copy=False, fastpath=False)<a class="anchor-link" href="#pd.Series(self,-data=None,-index=None,-dtype=None,-name=None,-copy=False,-fastpath=False)">&#182;</a></h4>
</div>
</div>
</div>
<div class="cell border-box-sizing code_cell rendered">
<div class="input">
<div class="prompt input_prompt">In&nbsp;[2]:</div>
<div class="inner_cell">
    <div class="input_area">
<div class=" highlight hl-ipython3"><pre><span></span><span class="n">x</span> <span class="o">=</span> <span class="n">pd</span><span class="o">.</span><span class="n">Series</span><span class="p">([</span><span class="mi">1</span><span class="p">,</span><span class="mi">2</span><span class="p">,</span><span class="mi">3</span><span class="p">,</span><span class="mi">4</span><span class="p">,</span><span class="mi">5</span><span class="p">])</span>
<span class="n">x</span>
</pre></div>

</div>
</div>
</div>

<div class="output_wrapper">
<div class="output">


<div class="output_area"><div class="prompt output_prompt">Out[2]:</div>


<div class="output_text output_subarea output_execute_result">
<pre>0    1
1    2
2    3
3    4
4    5
dtype: int64</pre>
</div>

</div>

</div>
</div>

</div>
<div class="cell border-box-sizing text_cell rendered">
<div class="prompt input_prompt">
</div>
<div class="inner_cell">
<div class="text_cell_render border-box-sizing rendered_html">
<p>Notice that generated an index for your item</p>

</div>
</div>
</div>
<div class="cell border-box-sizing text_cell rendered">
<div class="prompt input_prompt">
</div>
<div class="inner_cell">
<div class="text_cell_render border-box-sizing rendered_html">
<h2 id="Basic-Operation">Basic Operation<a class="anchor-link" href="#Basic-Operation">&#182;</a></h2>
</div>
</div>
</div>
<div class="cell border-box-sizing code_cell rendered">
<div class="input">
<div class="prompt input_prompt">In&nbsp;[3]:</div>
<div class="inner_cell">
    <div class="input_area">
<div class=" highlight hl-ipython3"><pre><span></span><span class="n">x</span> <span class="o">+</span> <span class="mi">100</span>
</pre></div>

</div>
</div>
</div>

<div class="output_wrapper">
<div class="output">


<div class="output_area"><div class="prompt output_prompt">Out[3]:</div>


<div class="output_text output_subarea output_execute_result">
<pre>0    101
1    102
2    103
3    104
4    105
dtype: int64</pre>
</div>

</div>

</div>
</div>

</div>
<div class="cell border-box-sizing code_cell rendered">
<div class="input">
<div class="prompt input_prompt">In&nbsp;[4]:</div>
<div class="inner_cell">
    <div class="input_area">
<div class=" highlight hl-ipython3"><pre><span></span><span class="p">(</span><span class="n">x</span> <span class="o">**</span> <span class="mi">2</span><span class="p">)</span> <span class="o">+</span> <span class="mi">100</span>
</pre></div>

</div>
</div>
</div>

<div class="output_wrapper">
<div class="output">


<div class="output_area"><div class="prompt output_prompt">Out[4]:</div>


<div class="output_text output_subarea output_execute_result">
<pre>0    101
1    104
2    109
3    116
4    125
dtype: int64</pre>
</div>

</div>

</div>
</div>

</div>
<div class="cell border-box-sizing code_cell rendered">
<div class="input">
<div class="prompt input_prompt">In&nbsp;[5]:</div>
<div class="inner_cell">
    <div class="input_area">
<div class=" highlight hl-ipython3"><pre><span></span><span class="n">x</span> <span class="o">&gt;</span> <span class="mi">2</span>
</pre></div>

</div>
</div>
</div>

<div class="output_wrapper">
<div class="output">


<div class="output_area"><div class="prompt output_prompt">Out[5]:</div>


<div class="output_text output_subarea output_execute_result">
<pre>0    False
1    False
2     True
3     True
4     True
dtype: bool</pre>
</div>

</div>

</div>
</div>

</div>
<div class="cell border-box-sizing text_cell rendered">
<div class="prompt input_prompt">
</div>
<div class="inner_cell">
<div class="text_cell_render border-box-sizing rendered_html">
<h2 id="any()-and-all()"><code>any()</code> and <code>all()</code><a class="anchor-link" href="#any()-and-all()">&#182;</a></h2>
</div>
</div>
</div>
<div class="cell border-box-sizing code_cell rendered">
<div class="input">
<div class="prompt input_prompt">In&nbsp;[6]:</div>
<div class="inner_cell">
    <div class="input_area">
<div class=" highlight hl-ipython3"><pre><span></span><span class="n">larger_than_2</span> <span class="o">=</span> <span class="n">x</span> <span class="o">&gt;</span> <span class="mi">2</span>
<span class="n">larger_than_2</span>
</pre></div>

</div>
</div>
</div>

<div class="output_wrapper">
<div class="output">


<div class="output_area"><div class="prompt output_prompt">Out[6]:</div>


<div class="output_text output_subarea output_execute_result">
<pre>0    False
1    False
2     True
3     True
4     True
dtype: bool</pre>
</div>

</div>

</div>
</div>

</div>
<div class="cell border-box-sizing code_cell rendered">
<div class="input">
<div class="prompt input_prompt">In&nbsp;[7]:</div>
<div class="inner_cell">
    <div class="input_area">
<div class=" highlight hl-ipython3"><pre><span></span><span class="n">larger_than_2</span><span class="o">.</span><span class="n">any</span><span class="p">()</span>
</pre></div>

</div>
</div>
</div>

<div class="output_wrapper">
<div class="output">


<div class="output_area"><div class="prompt output_prompt">Out[7]:</div>


<div class="output_text output_subarea output_execute_result">
<pre>True</pre>
</div>

</div>

</div>
</div>

</div>
<div class="cell border-box-sizing code_cell rendered">
<div class="input">
<div class="prompt input_prompt">In&nbsp;[8]:</div>
<div class="inner_cell">
    <div class="input_area">
<div class=" highlight hl-ipython3"><pre><span></span><span class="n">larger_than_2</span><span class="o">.</span><span class="n">all</span><span class="p">()</span>
</pre></div>

</div>
</div>
</div>

<div class="output_wrapper">
<div class="output">


<div class="output_area"><div class="prompt output_prompt">Out[8]:</div>


<div class="output_text output_subarea output_execute_result">
<pre>False</pre>
</div>

</div>

</div>
</div>

</div>
<div class="cell border-box-sizing text_cell rendered">
<div class="prompt input_prompt">
</div>
<div class="inner_cell">
<div class="text_cell_render border-box-sizing rendered_html">
<h2 id="apply()"><code>apply()</code><a class="anchor-link" href="#apply()">&#182;</a></h2>
</div>
</div>
</div>
<div class="cell border-box-sizing code_cell rendered">
<div class="input">
<div class="prompt input_prompt">In&nbsp;[9]:</div>
<div class="inner_cell">
    <div class="input_area">
<div class=" highlight hl-ipython3"><pre><span></span><span class="k">def</span> <span class="nf">f</span><span class="p">(</span><span class="n">x</span><span class="p">):</span>
    <span class="k">if</span> <span class="n">x</span> <span class="o">%</span> <span class="mi">2</span> <span class="o">==</span> <span class="mi">0</span><span class="p">:</span>
        <span class="k">return</span> <span class="n">x</span> <span class="o">*</span> <span class="mi">2</span>
    <span class="k">else</span><span class="p">:</span>
        <span class="k">return</span> <span class="n">x</span> <span class="o">*</span> <span class="mi">3</span>

<span class="n">x</span><span class="o">.</span><span class="n">apply</span><span class="p">(</span><span class="n">f</span><span class="p">)</span>
</pre></div>

</div>
</div>
</div>

<div class="output_wrapper">
<div class="output">


<div class="output_area"><div class="prompt output_prompt">Out[9]:</div>


<div class="output_text output_subarea output_execute_result">
<pre>0     3
1     4
2     9
3     8
4    15
dtype: int64</pre>
</div>

</div>

</div>
</div>

</div>
<div class="cell border-box-sizing text_cell rendered">
<div class="prompt input_prompt">
</div>
<div class="inner_cell">
<div class="text_cell_render border-box-sizing rendered_html">
<p><strong>Avoid looping over your data</strong></p>
<p>This is a <code>%%timeit</code> results from <code>apply()</code> and a for loop.</p>

</div>
</div>
</div>
<div class="cell border-box-sizing code_cell rendered">
<div class="input">
<div class="prompt input_prompt">In&nbsp;[10]:</div>
<div class="inner_cell">
    <div class="input_area">
<div class=" highlight hl-ipython3"><pre><span></span><span class="o">%%</span><span class="k">timeit</span>

ds = pd.Series(range(10000))

for counter in range(len(ds)):
    ds[counter] = f(ds[counter])
</pre></div>

</div>
</div>
</div>

<div class="output_wrapper">
<div class="output">


<div class="output_area"><div class="prompt"></div>
<div class="output_subarea output_stream output_stdout output_text">
<pre>1 loops, best of 3: 241 ms per loop
</pre>
</div>
</div>

</div>
</div>

</div>
<div class="cell border-box-sizing code_cell rendered">
<div class="input">
<div class="prompt input_prompt">In&nbsp;[11]:</div>
<div class="inner_cell">
    <div class="input_area">
<div class=" highlight hl-ipython3"><pre><span></span><span class="o">%%</span><span class="k">timeit</span>

ds = pd.Series(range(10000))

ds = ds.apply(f)
</pre></div>

</div>
</div>
</div>

<div class="output_wrapper">
<div class="output">


<div class="output_area"><div class="prompt"></div>
<div class="output_subarea output_stream output_stdout output_text">
<pre>10 loops, best of 3: 40 ms per loop
</pre>
</div>
</div>

</div>
</div>

</div>
<div class="cell border-box-sizing text_cell rendered">
<div class="prompt input_prompt">
</div>
<div class="inner_cell">
<div class="text_cell_render border-box-sizing rendered_html">
<h2 id="astype()"><code>astype()</code><a class="anchor-link" href="#astype()">&#182;</a></h2>
</div>
</div>
</div>
<div class="cell border-box-sizing code_cell rendered">
<div class="input">
<div class="prompt input_prompt">In&nbsp;[12]:</div>
<div class="inner_cell">
    <div class="input_area">
<div class=" highlight hl-ipython3"><pre><span></span><span class="n">x</span><span class="o">.</span><span class="n">astype</span><span class="p">(</span><span class="n">np</span><span class="o">.</span><span class="n">float64</span><span class="p">)</span>
</pre></div>

</div>
</div>
</div>

<div class="output_wrapper">
<div class="output">


<div class="output_area"><div class="prompt output_prompt">Out[12]:</div>


<div class="output_text output_subarea output_execute_result">
<pre>0    1
1    2
2    3
3    4
4    5
dtype: float64</pre>
</div>

</div>

</div>
</div>

</div>
<div class="cell border-box-sizing text_cell rendered">
<div class="prompt input_prompt">
</div>
<div class="inner_cell">
<div class="text_cell_render border-box-sizing rendered_html">
<h2 id="copy()"><code>copy()</code><a class="anchor-link" href="#copy()">&#182;</a></h2>
</div>
</div>
</div>
<div class="cell border-box-sizing code_cell rendered">
<div class="input">
<div class="prompt input_prompt">In&nbsp;[13]:</div>
<div class="inner_cell">
    <div class="input_area">
<div class=" highlight hl-ipython3"><pre><span></span><span class="n">y</span> <span class="o">=</span> <span class="n">x</span>
</pre></div>

</div>
</div>
</div>

</div>
<div class="cell border-box-sizing code_cell rendered">
<div class="input">
<div class="prompt input_prompt">In&nbsp;[14]:</div>
<div class="inner_cell">
    <div class="input_area">
<div class=" highlight hl-ipython3"><pre><span></span><span class="n">y</span><span class="p">[</span><span class="mi">0</span><span class="p">]</span>
</pre></div>

</div>
</div>
</div>

<div class="output_wrapper">
<div class="output">


<div class="output_area"><div class="prompt output_prompt">Out[14]:</div>


<div class="output_text output_subarea output_execute_result">
<pre>1</pre>
</div>

</div>

</div>
</div>

</div>
<div class="cell border-box-sizing code_cell rendered">
<div class="input">
<div class="prompt input_prompt">In&nbsp;[15]:</div>
<div class="inner_cell">
    <div class="input_area">
<div class=" highlight hl-ipython3"><pre><span></span><span class="n">y</span><span class="p">[</span><span class="mi">0</span><span class="p">]</span> <span class="o">=</span> <span class="mi">100</span>
</pre></div>

</div>
</div>
</div>

</div>
<div class="cell border-box-sizing code_cell rendered">
<div class="input">
<div class="prompt input_prompt">In&nbsp;[16]:</div>
<div class="inner_cell">
    <div class="input_area">
<div class=" highlight hl-ipython3"><pre><span></span><span class="n">y</span>
</pre></div>

</div>
</div>
</div>

<div class="output_wrapper">
<div class="output">


<div class="output_area"><div class="prompt output_prompt">Out[16]:</div>


<div class="output_text output_subarea output_execute_result">
<pre>0    100
1      2
2      3
3      4
4      5
dtype: int64</pre>
</div>

</div>

</div>
</div>

</div>
<div class="cell border-box-sizing code_cell rendered">
<div class="input">
<div class="prompt input_prompt">In&nbsp;[17]:</div>
<div class="inner_cell">
    <div class="input_area">
<div class=" highlight hl-ipython3"><pre><span></span><span class="n">x</span>
</pre></div>

</div>
</div>
</div>

<div class="output_wrapper">
<div class="output">


<div class="output_area"><div class="prompt output_prompt">Out[17]:</div>


<div class="output_text output_subarea output_execute_result">
<pre>0    100
1      2
2      3
3      4
4      5
dtype: int64</pre>
</div>

</div>

</div>
</div>

</div>
<div class="cell border-box-sizing text_cell rendered">
<div class="prompt input_prompt">
</div>
<div class="inner_cell">
<div class="text_cell_render border-box-sizing rendered_html">
<p><strong>Avoid using copy (is you can) to save memory</strong></p>

</div>
</div>
</div>
<div class="cell border-box-sizing code_cell rendered">
<div class="input">
<div class="prompt input_prompt">In&nbsp;[18]:</div>
<div class="inner_cell">
    <div class="input_area">
<div class=" highlight hl-ipython3"><pre><span></span><span class="n">y</span> <span class="o">=</span> <span class="n">x</span><span class="o">.</span><span class="n">copy</span><span class="p">()</span>
</pre></div>

</div>
</div>
</div>

</div>
<div class="cell border-box-sizing code_cell rendered">
<div class="input">
<div class="prompt input_prompt">In&nbsp;[19]:</div>
<div class="inner_cell">
    <div class="input_area">
<div class=" highlight hl-ipython3"><pre><span></span><span class="n">x</span><span class="p">[</span><span class="mi">0</span><span class="p">]</span><span class="o">=</span><span class="mi">1</span>
</pre></div>

</div>
</div>
</div>

</div>
<div class="cell border-box-sizing code_cell rendered">
<div class="input">
<div class="prompt input_prompt">In&nbsp;[20]:</div>
<div class="inner_cell">
    <div class="input_area">
<div class=" highlight hl-ipython3"><pre><span></span><span class="n">x</span>
</pre></div>

</div>
</div>
</div>

<div class="output_wrapper">
<div class="output">


<div class="output_area"><div class="prompt output_prompt">Out[20]:</div>


<div class="output_text output_subarea output_execute_result">
<pre>0    1
1    2
2    3
3    4
4    5
dtype: int64</pre>
</div>

</div>

</div>
</div>

</div>
<div class="cell border-box-sizing code_cell rendered">
<div class="input">
<div class="prompt input_prompt">In&nbsp;[21]:</div>
<div class="inner_cell">
    <div class="input_area">
<div class=" highlight hl-ipython3"><pre><span></span><span class="n">y</span>
</pre></div>

</div>
</div>
</div>

<div class="output_wrapper">
<div class="output">


<div class="output_area"><div class="prompt output_prompt">Out[21]:</div>


<div class="output_text output_subarea output_execute_result">
<pre>0    100
1      2
2      3
3      4
4      5
dtype: int64</pre>
</div>

</div>

</div>
</div>

</div>
<div class="cell border-box-sizing code_cell rendered">
<div class="input">
<div class="prompt input_prompt">In&nbsp;[22]:</div>
<div class="inner_cell">
    <div class="input_area">
<div class=" highlight hl-ipython3"><pre><span></span><span class="n">x</span><span class="o">.</span><span class="n">describe</span><span class="p">(</span><span class="n">percentile_width</span><span class="o">=</span><span class="mi">50</span><span class="p">)</span>
</pre></div>

</div>
</div>
</div>

<div class="output_wrapper">
<div class="output">


<div class="output_area"><div class="prompt output_prompt">Out[22]:</div>


<div class="output_text output_subarea output_execute_result">
<pre>count    5.000000
mean     3.000000
std      1.581139
min      1.000000
25%      2.000000
50%      3.000000
75%      4.000000
max      5.000000
dtype: float64</pre>
</div>

</div>

</div>
</div>

</div>
<div class="cell border-box-sizing text_cell rendered">
<div class="prompt input_prompt">
</div>
<div class="inner_cell">
<div class="text_cell_render border-box-sizing rendered_html">
<h1 id="DataFrame">DataFrame<a class="anchor-link" href="#DataFrame">&#182;</a></h1>
</div>
</div>
</div>
<div class="cell border-box-sizing text_cell rendered">
<div class="prompt input_prompt">
</div>
<div class="inner_cell">
<div class="text_cell_render border-box-sizing rendered_html">
<h4 id="pd.DataFrame(self,-data=None,-index=None,-columns=None,-dtype=None,-copy=False)">pd.DataFrame(self, data=None, index=None, columns=None, dtype=None, copy=False)<a class="anchor-link" href="#pd.DataFrame(self,-data=None,-index=None,-columns=None,-dtype=None,-copy=False)">&#182;</a></h4>
</div>
</div>
</div>
<div class="cell border-box-sizing code_cell rendered">
<div class="input">
<div class="prompt input_prompt">In&nbsp;[23]:</div>
<div class="inner_cell">
    <div class="input_area">
<div class=" highlight hl-ipython3"><pre><span></span><span class="n">data</span> <span class="o">=</span> <span class="p">[</span><span class="mi">1</span><span class="p">,</span><span class="mi">2</span><span class="p">,</span><span class="mi">3</span><span class="p">,</span><span class="mi">4</span><span class="p">,</span><span class="mi">5</span><span class="p">,</span><span class="mi">6</span><span class="p">,</span><span class="mi">7</span><span class="p">,</span><span class="mi">8</span><span class="p">,</span><span class="mi">9</span><span class="p">]</span>
<span class="n">df</span> <span class="o">=</span> <span class="n">pd</span><span class="o">.</span><span class="n">DataFrame</span><span class="p">(</span><span class="n">data</span><span class="p">,</span> <span class="n">columns</span><span class="o">=</span><span class="p">[</span><span class="s2">&quot;x&quot;</span><span class="p">])</span>
</pre></div>

</div>
</div>
</div>

</div>
<div class="cell border-box-sizing code_cell rendered">
<div class="input">
<div class="prompt input_prompt">In&nbsp;[24]:</div>
<div class="inner_cell">
    <div class="input_area">
<div class=" highlight hl-ipython3"><pre><span></span><span class="n">df</span>
</pre></div>

</div>
</div>
</div>

<div class="output_wrapper">
<div class="output">


<div class="output_area"><div class="prompt output_prompt">Out[24]:</div>

<div class="output_html rendered_html output_subarea output_execute_result">
<div style="max-height:1000px;max-width:1500px;overflow:auto;">
<table border="1" class="dataframe">
  <thead>
    <tr style="text-align: right;">
      <th></th>
      <th>x</th>
    </tr>
  </thead>
  <tbody>
    <tr>
      <th>0</th>
      <td> 1</td>
    </tr>
    <tr>
      <th>1</th>
      <td> 2</td>
    </tr>
    <tr>
      <th>2</th>
      <td> 3</td>
    </tr>
    <tr>
      <th>3</th>
      <td> 4</td>
    </tr>
    <tr>
      <th>4</th>
      <td> 5</td>
    </tr>
    <tr>
      <th>5</th>
      <td> 6</td>
    </tr>
    <tr>
      <th>6</th>
      <td> 7</td>
    </tr>
    <tr>
      <th>7</th>
      <td> 8</td>
    </tr>
    <tr>
      <th>8</th>
      <td> 9</td>
    </tr>
  </tbody>
</table>
<p>9 rows × 1 columns</p>
</div>
</div>

</div>

</div>
</div>

</div>
<div class="cell border-box-sizing text_cell rendered">
<div class="prompt input_prompt">
</div>
<div class="inner_cell">
<div class="text_cell_render border-box-sizing rendered_html">
<h2 id="Selecting-Data">Selecting Data<a class="anchor-link" href="#Selecting-Data">&#182;</a></h2>
</div>
</div>
</div>
<div class="cell border-box-sizing code_cell rendered">
<div class="input">
<div class="prompt input_prompt">In&nbsp;[25]:</div>
<div class="inner_cell">
    <div class="input_area">
<div class=" highlight hl-ipython3"><pre><span></span><span class="n">df</span><span class="p">[</span><span class="s2">&quot;x&quot;</span><span class="p">]</span>
</pre></div>

</div>
</div>
</div>

<div class="output_wrapper">
<div class="output">


<div class="output_area"><div class="prompt output_prompt">Out[25]:</div>


<div class="output_text output_subarea output_execute_result">
<pre>0    1
1    2
2    3
3    4
4    5
5    6
6    7
7    8
8    9
Name: x, dtype: int64</pre>
</div>

</div>

</div>
</div>

</div>
<div class="cell border-box-sizing code_cell rendered">
<div class="input">
<div class="prompt input_prompt">In&nbsp;[26]:</div>
<div class="inner_cell">
    <div class="input_area">
<div class=" highlight hl-ipython3"><pre><span></span><span class="n">df</span><span class="p">[</span><span class="s2">&quot;x&quot;</span><span class="p">][</span><span class="mi">0</span><span class="p">]</span>
</pre></div>

</div>
</div>
</div>

<div class="output_wrapper">
<div class="output">


<div class="output_area"><div class="prompt output_prompt">Out[26]:</div>


<div class="output_text output_subarea output_execute_result">
<pre>1</pre>
</div>

</div>

</div>
</div>

</div>
<div class="cell border-box-sizing text_cell rendered">
<div class="prompt input_prompt">
</div>
<div class="inner_cell">
<div class="text_cell_render border-box-sizing rendered_html">
<h2 id="Adding-extra-columns">Adding extra columns<a class="anchor-link" href="#Adding-extra-columns">&#182;</a></h2>
</div>
</div>
</div>
<div class="cell border-box-sizing code_cell rendered">
<div class="input">
<div class="prompt input_prompt">In&nbsp;[27]:</div>
<div class="inner_cell">
    <div class="input_area">
<div class=" highlight hl-ipython3"><pre><span></span><span class="n">df</span><span class="p">[</span><span class="s2">&quot;x_plus_2&quot;</span><span class="p">]</span> <span class="o">=</span> <span class="n">df</span><span class="p">[</span><span class="s2">&quot;x&quot;</span><span class="p">]</span> <span class="o">+</span> <span class="mi">2</span>
<span class="n">df</span>
</pre></div>

</div>
</div>
</div>

<div class="output_wrapper">
<div class="output">


<div class="output_area"><div class="prompt output_prompt">Out[27]:</div>

<div class="output_html rendered_html output_subarea output_execute_result">
<div style="max-height:1000px;max-width:1500px;overflow:auto;">
<table border="1" class="dataframe">
  <thead>
    <tr style="text-align: right;">
      <th></th>
      <th>x</th>
      <th>x_plus_2</th>
    </tr>
  </thead>
  <tbody>
    <tr>
      <th>0</th>
      <td> 1</td>
      <td>  3</td>
    </tr>
    <tr>
      <th>1</th>
      <td> 2</td>
      <td>  4</td>
    </tr>
    <tr>
      <th>2</th>
      <td> 3</td>
      <td>  5</td>
    </tr>
    <tr>
      <th>3</th>
      <td> 4</td>
      <td>  6</td>
    </tr>
    <tr>
      <th>4</th>
      <td> 5</td>
      <td>  7</td>
    </tr>
    <tr>
      <th>5</th>
      <td> 6</td>
      <td>  8</td>
    </tr>
    <tr>
      <th>6</th>
      <td> 7</td>
      <td>  9</td>
    </tr>
    <tr>
      <th>7</th>
      <td> 8</td>
      <td> 10</td>
    </tr>
    <tr>
      <th>8</th>
      <td> 9</td>
      <td> 11</td>
    </tr>
  </tbody>
</table>
<p>9 rows × 2 columns</p>
</div>
</div>

</div>

</div>
</div>

</div>
<div class="cell border-box-sizing code_cell rendered">
<div class="input">
<div class="prompt input_prompt">In&nbsp;[28]:</div>
<div class="inner_cell">
    <div class="input_area">
<div class=" highlight hl-ipython3"><pre><span></span><span class="n">df</span><span class="p">[</span><span class="s2">&quot;x_square&quot;</span><span class="p">]</span> <span class="o">=</span> <span class="n">df</span><span class="p">[</span><span class="s2">&quot;x&quot;</span><span class="p">]</span> <span class="o">**</span> <span class="mi">2</span>
<span class="n">df</span><span class="p">[</span><span class="s2">&quot;x_factorial&quot;</span><span class="p">]</span> <span class="o">=</span> <span class="n">df</span><span class="p">[</span><span class="s2">&quot;x&quot;</span><span class="p">]</span><span class="o">.</span><span class="n">apply</span><span class="p">(</span><span class="n">np</span><span class="o">.</span><span class="n">math</span><span class="o">.</span><span class="n">factorial</span><span class="p">)</span>
<span class="n">df</span>
</pre></div>

</div>
</div>
</div>

<div class="output_wrapper">
<div class="output">


<div class="output_area"><div class="prompt output_prompt">Out[28]:</div>

<div class="output_html rendered_html output_subarea output_execute_result">
<div style="max-height:1000px;max-width:1500px;overflow:auto;">
<table border="1" class="dataframe">
  <thead>
    <tr style="text-align: right;">
      <th></th>
      <th>x</th>
      <th>x_plus_2</th>
      <th>x_square</th>
      <th>x_factorial</th>
    </tr>
  </thead>
  <tbody>
    <tr>
      <th>0</th>
      <td> 1</td>
      <td>  3</td>
      <td>  1</td>
      <td>      1</td>
    </tr>
    <tr>
      <th>1</th>
      <td> 2</td>
      <td>  4</td>
      <td>  4</td>
      <td>      2</td>
    </tr>
    <tr>
      <th>2</th>
      <td> 3</td>
      <td>  5</td>
      <td>  9</td>
      <td>      6</td>
    </tr>
    <tr>
      <th>3</th>
      <td> 4</td>
      <td>  6</td>
      <td> 16</td>
      <td>     24</td>
    </tr>
    <tr>
      <th>4</th>
      <td> 5</td>
      <td>  7</td>
      <td> 25</td>
      <td>    120</td>
    </tr>
    <tr>
      <th>5</th>
      <td> 6</td>
      <td>  8</td>
      <td> 36</td>
      <td>    720</td>
    </tr>
    <tr>
      <th>6</th>
      <td> 7</td>
      <td>  9</td>
      <td> 49</td>
      <td>   5040</td>
    </tr>
    <tr>
      <th>7</th>
      <td> 8</td>
      <td> 10</td>
      <td> 64</td>
      <td>  40320</td>
    </tr>
    <tr>
      <th>8</th>
      <td> 9</td>
      <td> 11</td>
      <td> 81</td>
      <td> 362880</td>
    </tr>
  </tbody>
</table>
<p>9 rows × 4 columns</p>
</div>
</div>

</div>

</div>
</div>

</div>
<div class="cell border-box-sizing code_cell rendered">
<div class="input">
<div class="prompt input_prompt">In&nbsp;[29]:</div>
<div class="inner_cell">
    <div class="input_area">
<div class=" highlight hl-ipython3"><pre><span></span><span class="n">df</span><span class="p">[</span><span class="s2">&quot;is_even&quot;</span><span class="p">]</span> <span class="o">=</span> <span class="n">df</span><span class="p">[</span><span class="s2">&quot;x&quot;</span><span class="p">]</span> <span class="o">%</span> <span class="mi">2</span>
<span class="n">df</span>
</pre></div>

</div>
</div>
</div>

<div class="output_wrapper">
<div class="output">


<div class="output_area"><div class="prompt output_prompt">Out[29]:</div>

<div class="output_html rendered_html output_subarea output_execute_result">
<div style="max-height:1000px;max-width:1500px;overflow:auto;">
<table border="1" class="dataframe">
  <thead>
    <tr style="text-align: right;">
      <th></th>
      <th>x</th>
      <th>x_plus_2</th>
      <th>x_square</th>
      <th>x_factorial</th>
      <th>is_even</th>
    </tr>
  </thead>
  <tbody>
    <tr>
      <th>0</th>
      <td> 1</td>
      <td>  3</td>
      <td>  1</td>
      <td>      1</td>
      <td> 1</td>
    </tr>
    <tr>
      <th>1</th>
      <td> 2</td>
      <td>  4</td>
      <td>  4</td>
      <td>      2</td>
      <td> 0</td>
    </tr>
    <tr>
      <th>2</th>
      <td> 3</td>
      <td>  5</td>
      <td>  9</td>
      <td>      6</td>
      <td> 1</td>
    </tr>
    <tr>
      <th>3</th>
      <td> 4</td>
      <td>  6</td>
      <td> 16</td>
      <td>     24</td>
      <td> 0</td>
    </tr>
    <tr>
      <th>4</th>
      <td> 5</td>
      <td>  7</td>
      <td> 25</td>
      <td>    120</td>
      <td> 1</td>
    </tr>
    <tr>
      <th>5</th>
      <td> 6</td>
      <td>  8</td>
      <td> 36</td>
      <td>    720</td>
      <td> 0</td>
    </tr>
    <tr>
      <th>6</th>
      <td> 7</td>
      <td>  9</td>
      <td> 49</td>
      <td>   5040</td>
      <td> 1</td>
    </tr>
    <tr>
      <th>7</th>
      <td> 8</td>
      <td> 10</td>
      <td> 64</td>
      <td>  40320</td>
      <td> 0</td>
    </tr>
    <tr>
      <th>8</th>
      <td> 9</td>
      <td> 11</td>
      <td> 81</td>
      <td> 362880</td>
      <td> 1</td>
    </tr>
  </tbody>
</table>
<p>9 rows × 5 columns</p>
</div>
</div>

</div>

</div>
</div>

</div>
<div class="cell border-box-sizing text_cell rendered">
<div class="prompt input_prompt">
</div>
<div class="inner_cell">
<div class="text_cell_render border-box-sizing rendered_html">
<h3 id="map()"><code>map()</code><a class="anchor-link" href="#map()">&#182;</a></h3>
</div>
</div>
</div>
<div class="cell border-box-sizing code_cell rendered">
<div class="input">
<div class="prompt input_prompt">In&nbsp;[30]:</div>
<div class="inner_cell">
    <div class="input_area">
<div class=" highlight hl-ipython3"><pre><span></span><span class="n">df</span><span class="p">[</span><span class="s2">&quot;odd_even&quot;</span><span class="p">]</span> <span class="o">=</span> <span class="n">df</span><span class="p">[</span><span class="s2">&quot;is_even&quot;</span><span class="p">]</span><span class="o">.</span><span class="n">map</span><span class="p">({</span><span class="mi">1</span><span class="p">:</span><span class="s2">&quot;odd&quot;</span><span class="p">,</span> <span class="mi">0</span><span class="p">:</span><span class="s2">&quot;even&quot;</span><span class="p">})</span>
<span class="n">df</span>
</pre></div>

</div>
</div>
</div>

<div class="output_wrapper">
<div class="output">


<div class="output_area"><div class="prompt output_prompt">Out[30]:</div>

<div class="output_html rendered_html output_subarea output_execute_result">
<div style="max-height:1000px;max-width:1500px;overflow:auto;">
<table border="1" class="dataframe">
  <thead>
    <tr style="text-align: right;">
      <th></th>
      <th>x</th>
      <th>x_plus_2</th>
      <th>x_square</th>
      <th>x_factorial</th>
      <th>is_even</th>
      <th>odd_even</th>
    </tr>
  </thead>
  <tbody>
    <tr>
      <th>0</th>
      <td> 1</td>
      <td>  3</td>
      <td>  1</td>
      <td>      1</td>
      <td> 1</td>
      <td>  odd</td>
    </tr>
    <tr>
      <th>1</th>
      <td> 2</td>
      <td>  4</td>
      <td>  4</td>
      <td>      2</td>
      <td> 0</td>
      <td> even</td>
    </tr>
    <tr>
      <th>2</th>
      <td> 3</td>
      <td>  5</td>
      <td>  9</td>
      <td>      6</td>
      <td> 1</td>
      <td>  odd</td>
    </tr>
    <tr>
      <th>3</th>
      <td> 4</td>
      <td>  6</td>
      <td> 16</td>
      <td>     24</td>
      <td> 0</td>
      <td> even</td>
    </tr>
    <tr>
      <th>4</th>
      <td> 5</td>
      <td>  7</td>
      <td> 25</td>
      <td>    120</td>
      <td> 1</td>
      <td>  odd</td>
    </tr>
    <tr>
      <th>5</th>
      <td> 6</td>
      <td>  8</td>
      <td> 36</td>
      <td>    720</td>
      <td> 0</td>
      <td> even</td>
    </tr>
    <tr>
      <th>6</th>
      <td> 7</td>
      <td>  9</td>
      <td> 49</td>
      <td>   5040</td>
      <td> 1</td>
      <td>  odd</td>
    </tr>
    <tr>
      <th>7</th>
      <td> 8</td>
      <td> 10</td>
      <td> 64</td>
      <td>  40320</td>
      <td> 0</td>
      <td> even</td>
    </tr>
    <tr>
      <th>8</th>
      <td> 9</td>
      <td> 11</td>
      <td> 81</td>
      <td> 362880</td>
      <td> 1</td>
      <td>  odd</td>
    </tr>
  </tbody>
</table>
<p>9 rows × 6 columns</p>
</div>
</div>

</div>

</div>
</div>

</div>
<div class="cell border-box-sizing text_cell rendered">
<div class="prompt input_prompt">
</div>
<div class="inner_cell">
<div class="text_cell_render border-box-sizing rendered_html">
<h3 id="drop()"><code>drop()</code><a class="anchor-link" href="#drop()">&#182;</a></h3>
</div>
</div>
</div>
<div class="cell border-box-sizing code_cell rendered">
<div class="input">
<div class="prompt input_prompt">In&nbsp;[31]:</div>
<div class="inner_cell">
    <div class="input_area">
<div class=" highlight hl-ipython3"><pre><span></span><span class="n">df</span> <span class="o">=</span> <span class="n">df</span><span class="o">.</span><span class="n">drop</span><span class="p">(</span><span class="s2">&quot;is_even&quot;</span><span class="p">,</span> <span class="mi">1</span><span class="p">)</span>
<span class="n">df</span>
</pre></div>

</div>
</div>
</div>

<div class="output_wrapper">
<div class="output">


<div class="output_area"><div class="prompt output_prompt">Out[31]:</div>

<div class="output_html rendered_html output_subarea output_execute_result">
<div style="max-height:1000px;max-width:1500px;overflow:auto;">
<table border="1" class="dataframe">
  <thead>
    <tr style="text-align: right;">
      <th></th>
      <th>x</th>
      <th>x_plus_2</th>
      <th>x_square</th>
      <th>x_factorial</th>
      <th>odd_even</th>
    </tr>
  </thead>
  <tbody>
    <tr>
      <th>0</th>
      <td> 1</td>
      <td>  3</td>
      <td>  1</td>
      <td>      1</td>
      <td>  odd</td>
    </tr>
    <tr>
      <th>1</th>
      <td> 2</td>
      <td>  4</td>
      <td>  4</td>
      <td>      2</td>
      <td> even</td>
    </tr>
    <tr>
      <th>2</th>
      <td> 3</td>
      <td>  5</td>
      <td>  9</td>
      <td>      6</td>
      <td>  odd</td>
    </tr>
    <tr>
      <th>3</th>
      <td> 4</td>
      <td>  6</td>
      <td> 16</td>
      <td>     24</td>
      <td> even</td>
    </tr>
    <tr>
      <th>4</th>
      <td> 5</td>
      <td>  7</td>
      <td> 25</td>
      <td>    120</td>
      <td>  odd</td>
    </tr>
    <tr>
      <th>5</th>
      <td> 6</td>
      <td>  8</td>
      <td> 36</td>
      <td>    720</td>
      <td> even</td>
    </tr>
    <tr>
      <th>6</th>
      <td> 7</td>
      <td>  9</td>
      <td> 49</td>
      <td>   5040</td>
      <td>  odd</td>
    </tr>
    <tr>
      <th>7</th>
      <td> 8</td>
      <td> 10</td>
      <td> 64</td>
      <td>  40320</td>
      <td> even</td>
    </tr>
    <tr>
      <th>8</th>
      <td> 9</td>
      <td> 11</td>
      <td> 81</td>
      <td> 362880</td>
      <td>  odd</td>
    </tr>
  </tbody>
</table>
<p>9 rows × 5 columns</p>
</div>
</div>

</div>

</div>
</div>

</div>
<div class="cell border-box-sizing text_cell rendered">
<div class="prompt input_prompt">
</div>
<div class="inner_cell">
<div class="text_cell_render border-box-sizing rendered_html">
<h2 id="Multi-Column-Select">Multi Column Select<a class="anchor-link" href="#Multi-Column-Select">&#182;</a></h2>
</div>
</div>
</div>
<div class="cell border-box-sizing code_cell rendered">
<div class="input">
<div class="prompt input_prompt">In&nbsp;[32]:</div>
<div class="inner_cell">
    <div class="input_area">
<div class=" highlight hl-ipython3"><pre><span></span><span class="n">df</span><span class="p">[[</span><span class="s2">&quot;x&quot;</span><span class="p">,</span> <span class="s2">&quot;odd_even&quot;</span><span class="p">]]</span>
</pre></div>

</div>
</div>
</div>

<div class="output_wrapper">
<div class="output">


<div class="output_area"><div class="prompt output_prompt">Out[32]:</div>

<div class="output_html rendered_html output_subarea output_execute_result">
<div style="max-height:1000px;max-width:1500px;overflow:auto;">
<table border="1" class="dataframe">
  <thead>
    <tr style="text-align: right;">
      <th></th>
      <th>x</th>
      <th>odd_even</th>
    </tr>
  </thead>
  <tbody>
    <tr>
      <th>0</th>
      <td> 1</td>
      <td>  odd</td>
    </tr>
    <tr>
      <th>1</th>
      <td> 2</td>
      <td> even</td>
    </tr>
    <tr>
      <th>2</th>
      <td> 3</td>
      <td>  odd</td>
    </tr>
    <tr>
      <th>3</th>
      <td> 4</td>
      <td> even</td>
    </tr>
    <tr>
      <th>4</th>
      <td> 5</td>
      <td>  odd</td>
    </tr>
    <tr>
      <th>5</th>
      <td> 6</td>
      <td> even</td>
    </tr>
    <tr>
      <th>6</th>
      <td> 7</td>
      <td>  odd</td>
    </tr>
    <tr>
      <th>7</th>
      <td> 8</td>
      <td> even</td>
    </tr>
    <tr>
      <th>8</th>
      <td> 9</td>
      <td>  odd</td>
    </tr>
  </tbody>
</table>
<p>9 rows × 2 columns</p>
</div>
</div>

</div>

</div>
</div>

</div>
<div class="cell border-box-sizing text_cell rendered">
<div class="prompt input_prompt">
</div>
<div class="inner_cell">
<div class="text_cell_render border-box-sizing rendered_html">
<h2 id="Controlling-display-options">Controlling display options<a class="anchor-link" href="#Controlling-display-options">&#182;</a></h2>
</div>
</div>
</div>
<div class="cell border-box-sizing code_cell rendered">
<div class="input">
<div class="prompt input_prompt">In&nbsp;[33]:</div>
<div class="inner_cell">
    <div class="input_area">
<div class=" highlight hl-ipython3"><pre><span></span><span class="n">pd</span><span class="o">.</span><span class="n">options</span><span class="o">.</span><span class="n">display</span><span class="o">.</span><span class="n">max_columns</span><span class="o">=</span> <span class="mi">60</span>
<span class="n">pd</span><span class="o">.</span><span class="n">options</span><span class="o">.</span><span class="n">display</span><span class="o">.</span><span class="n">max_rows</span><span class="o">=</span> <span class="mi">6</span>
<span class="n">pd</span><span class="o">.</span><span class="n">options</span><span class="o">.</span><span class="n">display</span><span class="o">.</span><span class="n">notebook_repr_html</span> <span class="o">=</span> <span class="kc">False</span>
<span class="n">df</span>
</pre></div>

</div>
</div>
</div>

<div class="output_wrapper">
<div class="output">


<div class="output_area"><div class="prompt output_prompt">Out[33]:</div>


<div class="output_text output_subarea output_execute_result">
<pre>   x  x_plus_2  x_square  x_factorial odd_even
0  1         3         1            1      odd
1  2         4         4            2     even
2  3         5         9            6      odd
3  4         6        16           24     even
4  5         7        25          120      odd
5  6         8        36          720     even
  ..       ...       ...          ...      ...

[9 rows x 5 columns]</pre>
</div>

</div>

</div>
</div>

</div>
<div class="cell border-box-sizing text_cell rendered">
<div class="prompt input_prompt">
</div>
<div class="inner_cell">
<div class="text_cell_render border-box-sizing rendered_html">
<h2 id="Filtering">Filtering<a class="anchor-link" href="#Filtering">&#182;</a></h2>
</div>
</div>
</div>
<div class="cell border-box-sizing code_cell rendered">
<div class="input">
<div class="prompt input_prompt">In&nbsp;[34]:</div>
<div class="inner_cell">
    <div class="input_area">
<div class=" highlight hl-ipython3"><pre><span></span><span class="n">df</span><span class="p">[</span><span class="n">df</span><span class="p">[</span><span class="s2">&quot;odd_even&quot;</span><span class="p">]</span> <span class="o">==</span> <span class="s2">&quot;odd&quot;</span><span class="p">]</span>
</pre></div>

</div>
</div>
</div>

<div class="output_wrapper">
<div class="output">


<div class="output_area"><div class="prompt output_prompt">Out[34]:</div>


<div class="output_text output_subarea output_execute_result">
<pre>   x  x_plus_2  x_square  x_factorial odd_even
0  1         3         1            1      odd
2  3         5         9            6      odd
4  5         7        25          120      odd
6  7         9        49         5040      odd
8  9        11        81       362880      odd

[5 rows x 5 columns]</pre>
</div>

</div>

</div>
</div>

</div>
<div class="cell border-box-sizing code_cell rendered">
<div class="input">
<div class="prompt input_prompt">In&nbsp;[35]:</div>
<div class="inner_cell">
    <div class="input_area">
<div class=" highlight hl-ipython3"><pre><span></span><span class="n">df</span><span class="p">[</span><span class="n">df</span><span class="o">.</span><span class="n">odd_even</span> <span class="o">==</span> <span class="s2">&quot;even&quot;</span><span class="p">]</span>
</pre></div>

</div>
</div>
</div>

<div class="output_wrapper">
<div class="output">


<div class="output_area"><div class="prompt output_prompt">Out[35]:</div>


<div class="output_text output_subarea output_execute_result">
<pre>   x  x_plus_2  x_square  x_factorial odd_even
1  2         4         4            2     even
3  4         6        16           24     even
5  6         8        36          720     even
7  8        10        64        40320     even

[4 rows x 5 columns]</pre>
</div>

</div>

</div>
</div>

</div>
<div class="cell border-box-sizing text_cell rendered">
<div class="prompt input_prompt">
</div>
<div class="inner_cell">
<div class="text_cell_render border-box-sizing rendered_html">
<h3 id="Chaining-Filters">Chaining Filters<a class="anchor-link" href="#Chaining-Filters">&#182;</a></h3>
</div>
</div>
</div>
<div class="cell border-box-sizing text_cell rendered">
<div class="prompt input_prompt">
</div>
<div class="inner_cell">
<div class="text_cell_render border-box-sizing rendered_html">
<h4 id="|-OR"><code>|</code> OR<a class="anchor-link" href="#|-OR">&#182;</a></h4>
</div>
</div>
</div>
<div class="cell border-box-sizing code_cell rendered">
<div class="input">
<div class="prompt input_prompt">In&nbsp;[36]:</div>
<div class="inner_cell">
    <div class="input_area">
<div class=" highlight hl-ipython3"><pre><span></span><span class="n">df</span><span class="p">[(</span><span class="n">df</span><span class="o">.</span><span class="n">odd_even</span> <span class="o">==</span> <span class="s2">&quot;even&quot;</span><span class="p">)</span> <span class="o">|</span> <span class="p">(</span><span class="n">df</span><span class="o">.</span><span class="n">x_square</span> <span class="o">&lt;</span> <span class="mi">20</span><span class="p">)]</span>
</pre></div>

</div>
</div>
</div>

<div class="output_wrapper">
<div class="output">


<div class="output_area"><div class="prompt output_prompt">Out[36]:</div>


<div class="output_text output_subarea output_execute_result">
<pre>   x  x_plus_2  x_square  x_factorial odd_even
0  1         3         1            1      odd
1  2         4         4            2     even
2  3         5         9            6      odd
3  4         6        16           24     even
5  6         8        36          720     even
7  8        10        64        40320     even

[6 rows x 5 columns]</pre>
</div>

</div>

</div>
</div>

</div>
<div class="cell border-box-sizing text_cell rendered">
<div class="prompt input_prompt">
</div>
<div class="inner_cell">
<div class="text_cell_render border-box-sizing rendered_html">
<h4 id="&amp;-AND"><code>&amp;</code> AND<a class="anchor-link" href="#&amp;-AND">&#182;</a></h4>
</div>
</div>
</div>
<div class="cell border-box-sizing code_cell rendered">
<div class="input">
<div class="prompt input_prompt">In&nbsp;[37]:</div>
<div class="inner_cell">
    <div class="input_area">
<div class=" highlight hl-ipython3"><pre><span></span><span class="n">df</span><span class="p">[(</span><span class="n">df</span><span class="o">.</span><span class="n">odd_even</span> <span class="o">==</span> <span class="s2">&quot;even&quot;</span><span class="p">)</span> <span class="o">&amp;</span> <span class="p">(</span><span class="n">df</span><span class="o">.</span><span class="n">x_square</span> <span class="o">&lt;</span> <span class="mi">20</span><span class="p">)]</span>
</pre></div>

</div>
</div>
</div>

<div class="output_wrapper">
<div class="output">


<div class="output_area"><div class="prompt output_prompt">Out[37]:</div>


<div class="output_text output_subarea output_execute_result">
<pre>   x  x_plus_2  x_square  x_factorial odd_even
1  2         4         4            2     even
3  4         6        16           24     even

[2 rows x 5 columns]</pre>
</div>

</div>

</div>
</div>

</div>
<div class="cell border-box-sizing text_cell rendered">
<div class="prompt input_prompt">
</div>
<div class="inner_cell">
<div class="text_cell_render border-box-sizing rendered_html">
<h3 id="Furter-Chaining">Furter Chaining<a class="anchor-link" href="#Furter-Chaining">&#182;</a></h3>
</div>
</div>
</div>
<div class="cell border-box-sizing code_cell rendered">
<div class="input">
<div class="prompt input_prompt">In&nbsp;[38]:</div>
<div class="inner_cell">
    <div class="input_area">
<div class=" highlight hl-ipython3"><pre><span></span><span class="n">df</span><span class="p">[(</span><span class="n">df</span><span class="o">.</span><span class="n">odd_even</span> <span class="o">==</span> <span class="s2">&quot;even&quot;</span><span class="p">)</span> <span class="o">&amp;</span> <span class="p">(</span><span class="n">df</span><span class="o">.</span><span class="n">x_square</span> <span class="o">&lt;</span> <span class="mi">20</span><span class="p">)][</span><span class="s2">&quot;x_plus_2&quot;</span><span class="p">][:</span><span class="mi">1</span><span class="p">]</span>
</pre></div>

</div>
</div>
</div>

<div class="output_wrapper">
<div class="output">


<div class="output_area"><div class="prompt output_prompt">Out[38]:</div>


<div class="output_text output_subarea output_execute_result">
<pre>1    4
Name: x_plus_2, dtype: int64</pre>
</div>

</div>

</div>
</div>

</div>
<div class="cell border-box-sizing text_cell rendered">
<div class="prompt input_prompt">
</div>
<div class="inner_cell">
<div class="text_cell_render border-box-sizing rendered_html">
<h1 id="scatter_matrix()"><code>scatter_matrix()</code><a class="anchor-link" href="#scatter_matrix()">&#182;</a></h1>
</div>
</div>
</div>
<div class="cell border-box-sizing code_cell rendered">
<div class="input">
<div class="prompt input_prompt">In&nbsp;[39]:</div>
<div class="inner_cell">
    <div class="input_area">
<div class=" highlight hl-ipython3"><pre><span></span><span class="n">pd</span><span class="o">.</span><span class="n">scatter_matrix</span><span class="p">(</span><span class="n">df</span><span class="p">,</span> <span class="n">diagonal</span><span class="o">=</span><span class="s2">&quot;kde&quot;</span><span class="p">,</span> <span class="n">figsize</span><span class="o">=</span><span class="p">(</span><span class="mi">10</span><span class="p">,</span><span class="mi">10</span><span class="p">));</span>
</pre></div>

</div>
</div>
</div>

<div class="output_wrapper">
<div class="output">


<div class="output_area"><div class="prompt"></div>


<div class="output_png output_subarea ">
<img src="data:image/png;base64,iVBORw0KGgoAAAANSUhEUgAAAm0AAAJyCAYAAACWi/fwAAAABHNCSVQICAgIfAhkiAAAAAlwSFlz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=
"
>
</div>

</div>

</div>
</div>

</div>
<div class="cell border-box-sizing code_cell rendered">
<div class="input">
<div class="prompt input_prompt">In&nbsp;[40]:</div>
<div class="inner_cell">
    <div class="input_area">
<div class=" highlight hl-ipython3"><pre><span></span><span class="n">df</span><span class="o">.</span><span class="n">describe</span><span class="p">()</span>
</pre></div>

</div>
</div>
</div>

<div class="output_wrapper">
<div class="output">


<div class="output_area"><div class="prompt output_prompt">Out[40]:</div>


<div class="output_text output_subarea output_execute_result">
<pre>              x  x_plus_2   x_square    x_factorial
count  9.000000  9.000000   9.000000       9.000000
mean   5.000000  7.000000  31.666667   45457.000000
std    2.738613  2.738613  28.080242  119758.341137
min    1.000000  3.000000   1.000000       1.000000
25%    3.000000  5.000000   9.000000       6.000000
50%    5.000000  7.000000  25.000000     120.000000
            ...       ...        ...            ...

[8 rows x 4 columns]</pre>
</div>

</div>

</div>
</div>

</div>
<div class="cell border-box-sizing text_cell rendered">
<div class="prompt input_prompt">
</div>
<div class="inner_cell">
<div class="text_cell_render border-box-sizing rendered_html">
<h1 id="Reading-Data-from-CSV/TSV-Files">Reading Data from CSV/TSV Files<a class="anchor-link" href="#Reading-Data-from-CSV/TSV-Files">&#182;</a></h1>
</div>
</div>
</div>
<div class="cell border-box-sizing code_cell rendered">
<div class="input">
<div class="prompt input_prompt">In&nbsp;[41]:</div>
<div class="inner_cell">
    <div class="input_area">
<div class=" highlight hl-ipython3"><pre><span></span><span class="n">url</span> <span class="o">=</span> <span class="s2">&quot;http://www.google.com/finance/historical?q=TADAWUL:TASI&amp;output=csv&quot;</span>
<span class="n">stocks_data</span> <span class="o">=</span> <span class="n">pd</span><span class="o">.</span><span class="n">read_csv</span><span class="p">(</span><span class="n">url</span><span class="p">)</span>
</pre></div>

</div>
</div>
</div>

</div>
<div class="cell border-box-sizing code_cell rendered">
<div class="input">
<div class="prompt input_prompt">In&nbsp;[42]:</div>
<div class="inner_cell">
    <div class="input_area">
<div class=" highlight hl-ipython3"><pre><span></span><span class="n">stocks_data</span>
</pre></div>

</div>
</div>
</div>

<div class="output_wrapper">
<div class="output">


<div class="output_area"><div class="prompt output_prompt">Out[42]:</div>


<div class="output_text output_subarea output_execute_result">
<pre>       ﻿Date      Open      High       Low     Close     Volume
0  11-Aug-14  10579.12  10603.30  10547.21  10596.55  197234714
1  10-Aug-14  10552.48  10614.11  10551.77  10579.12  199773735
2   7-Aug-14  10478.34  10585.38  10478.34  10552.48  202329194
3   6-Aug-14  10450.52  10494.12  10398.25  10478.34  192868941
4   5-Aug-14  10405.81  10501.38  10405.81  10450.52  287651475
5   4-Aug-14  10302.88  10409.47  10290.95  10405.81  223099538
         ...       ...       ...       ...       ...        ...

[241 rows x 6 columns]</pre>
</div>

</div>

</div>
</div>

</div>
<div class="cell border-box-sizing code_cell rendered">
<div class="input">
<div class="prompt input_prompt">In&nbsp;[43]:</div>
<div class="inner_cell">
    <div class="input_area">
<div class=" highlight hl-ipython3"><pre><span></span><span class="n">stocks_data</span><span class="p">[</span><span class="s2">&quot;change_amount&quot;</span><span class="p">]</span> <span class="o">=</span> <span class="n">stocks_data</span><span class="p">[</span><span class="s2">&quot;Close&quot;</span><span class="p">]</span> <span class="o">-</span> <span class="n">stocks_data</span><span class="p">[</span><span class="s2">&quot;Open&quot;</span><span class="p">]</span>
<span class="n">stocks_data</span><span class="p">[</span><span class="s2">&quot;change_percentage&quot;</span><span class="p">]</span> <span class="o">=</span> <span class="n">stocks_data</span><span class="p">[</span><span class="s2">&quot;change_amount&quot;</span><span class="p">]</span> <span class="o">/</span> <span class="n">stocks_data</span><span class="p">[</span><span class="s2">&quot;Close&quot;</span><span class="p">]</span>
<span class="n">stocks_data</span>
</pre></div>

</div>
</div>
</div>

<div class="output_wrapper">
<div class="output">


<div class="output_area"><div class="prompt output_prompt">Out[43]:</div>


<div class="output_text output_subarea output_execute_result">
<pre>       ﻿Date      Open      High       Low     Close     Volume  \
0  11-Aug-14  10579.12  10603.30  10547.21  10596.55  197234714   
1  10-Aug-14  10552.48  10614.11  10551.77  10579.12  199773735   
2   7-Aug-14  10478.34  10585.38  10478.34  10552.48  202329194   
3   6-Aug-14  10450.52  10494.12  10398.25  10478.34  192868941   
4   5-Aug-14  10405.81  10501.38  10405.81  10450.52  287651475   
5   4-Aug-14  10302.88  10409.47  10290.95  10405.81  223099538   
         ...       ...       ...       ...       ...        ...   

   change_amount  change_percentage  
0          17.43           0.001645  
1          26.64           0.002518  
2          74.14           0.007026  
3          27.82           0.002655  
4          44.71           0.004278  
5         102.93           0.009892  
             ...                ...  

[241 rows x 8 columns]</pre>
</div>

</div>

</div>
</div>

</div>
    </div>
  </div>

  </div>


  
    <footer class="footer hidden-print">
      <div class="container">
        <div class="col-md-4">
          <p>
            This website does not host notebooks, it only renders notebooks
            available on other websites.
          </p>
        </div>

        <div class="col-md-4">
          <p>
            Delivered by <a href="http://www.fastly.com/">Fastly</a>,
            Rendered by <a href="https://developer.rackspace.com/?nbviewer=awesome">Rackspace</a>
          </p>
          <p>
            nbviewer GitHub <a href="https://github.com/jupyter/nbviewer">repository</a>.
          </p>
        </div>

        <div class="col-md-4">
          
  
            
              <p>
                nbviewer version:
                <a href="https://github.com/jupyter/nbviewer/commit/41cd82f09350776a356420a4f7dedcaf52410650">
                  41cd82f
                </a>
              </p>
            
          
  
  <p>
    notebook version: <a href="https://github.com/jupyter/notebook/releases/tag/">
      
    </a>
  </p>
  <p>
    nbconvert version: <a href="https://github.com/jupyter/nbconvert/releases/tag/4.1.0">
      4.1.0
    </a>
  </p>
  

          
  
  
  <p>
    Rendered
    <span class='date' data-date='Tue, 08 Mar 2016 09:13:57 UTC' title='Tue, 08 Mar 2016 09:13:57 UTC'>(Tue, 08 Mar 2016 09:13:57 UTC)</span>
  </p>
  

        </div>
      </div>
    </footer>
  

  <script src="/static/components/bootstrap/js/bootstrap.min.js"></script>
  <script src="/static/components/headroom.js/dist/headroom.min.js"></script>
  <script src="/static/components/headroom.js/dist/jQuery.headroom.min.js"></script>

  
  
  <script>
    $(function(){ $("#menubar").headroom({
      tolerance: 5,
      offset: 205,
      classes: {
        initial: "animated",
        pinned: "slideInDown",
        unpinned: "slideOutUp"
      }
    })});
  </script>


  <script>
    (function(i,s,o,g,r,a,m){i['GoogleAnalyticsObject']=r;i[r]=i[r]||function(){
      (i[r].q=i[r].q||[]).push(arguments)},i[r].l=1*new Date();a=s.createElement(o),
      m=s.getElementsByTagName(o)[0];a.async=1;a.src=g;m.parentNode.insertBefore(a,m)
    })(window,document,'script','//www.google-analytics.com/analytics.js','ga');
    ga('create', 'UA-38683231-2', 'auto');
    ga('send', 'pageview');
  </script>
  <script>
    require({
        paths: {
          moment: "/static/components/moment/min/moment.min.js"
        }
      }, ["moment"], function(moment){
      var date = $("footer .date"),
        m = moment(new Date(date.data('date'))),
        update = function(){ date.text(m.fromNow()); };
      setInterval(update, 61*1000);
      update();
      var w = $(window).scroll(function(event){
        $("body").toggleClass("scrolled", w.scrollTop() > 0);
      });
    });
  </script>
  <!--NEW RELIC Stop Perf Measurement-->
  
  <!--NEW RELIC End-->
</body>
</html>