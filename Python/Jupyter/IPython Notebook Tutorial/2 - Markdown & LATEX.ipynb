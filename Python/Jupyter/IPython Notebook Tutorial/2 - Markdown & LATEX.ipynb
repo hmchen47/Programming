








<!DOCTYPE html>
<html lang="en">

<head>
  <meta charset="utf-8">
  <title>Jupyter Notebook Viewer</title>
  <meta name="viewport" content="width=device-width, initial-scale=1.0">
  <meta name="description" content="">
  <meta name="author" content="">
  
  <meta name="robots" content="noindex,nofollow">
  

  <!--NEW RELIC Start Perf Measurement-->
  
  <!--NREND-->

  <!-- Le styles -->
  <script type="text/javascript">
//<![CDATA[
try{if (!window.CloudFlare) {var CloudFlare=[{verbose:0,p:0,byc:0,owlid:"cf",bag2:1,mirage2:0,oracle:0,paths:{cloudflare:"/cdn-cgi/nexp/dok3v=1613a3a185/"},atok:"516d72dfc89d064071b2013e54d5038c",petok:"c25c59c203759041239298be91474f4b64d53a4b-1457241508-1800",zone:"jupyter.org",rocket:"0",apps:{"ga_key":{"ua":"UA-52617120-5","ga_bs":"2"}},sha2test:0}];!function(a,b){a=document.createElement("script"),b=document.getElementsByTagName("script")[0],a.async=!0,a.src="//ajax.cloudflare.com/cdn-cgi/nexp/dok3v=fb690a32f5/cloudflare.min.js",b.parentNode.insertBefore(a,b)}()}}catch(e){};
//]]>
</script>
<link href="/static/build/styles.css" rel="stylesheet">

  <!-- Le HTML5 shim, for IE6-8 support of HTML5 elements -->
  <!--[if lt IE 9]>
    <script src="http://html5shim.googlecode.com/svn/trunk/html5.js"></script>
  <![endif]-->

  <!-- Le fav and touch icons -->
  <link rel="shortcut icon" href="/static/ico/ipynb_icon_16x16.png">
  <link rel="apple-touch-icon-precomposed" sizes="144x144"
        href="/static/ico/apple-touch-icon-144-precomposed.png">
  <link rel="apple-touch-icon-precomposed" sizes="114x114"
        href="/static/ico/apple-touch-icon-114-precomposed.png">
  <link rel="apple-touch-icon-precomposed" sizes="72x72"
        href="/static/ico/apple-touch-icon-72-precomposed.png">
  <link rel="apple-touch-icon-precomposed"
        href="/static/ico/apple-touch-icon-57-precomposed.png">
  
  

  

  
  <meta name="twitter:card" content="summary">
  <meta name="twitter:title" content="Notebook on nbviewer">
  <meta name="twitter:description" content="Check out this Jupyter notebook!">

  
  <meta name="twitter:domain" content="nbviewer.ipython.org">
  <meta name="twitter:image:src" content="http://ipython.org/ipython-doc/dev/_images/ipynb_icon_128x128.png">

  
    <link href="/static/build/notebook.css" rel="stylesheet">
  

  

  
    <script src="https://cdn.mathjax.org/mathjax/latest/MathJax.js?config=TeX-AMS_HTML" type="text/javascript">
    </script>
    <script type="text/javascript">
      init_mathjax = function() {
        if (window.MathJax) {
          // MathJax loaded
          MathJax.Hub.Config({
            TeX: {
              equationNumbers: {
                autoNumber: "AMS",
                useLabelIds: true
              }
            },
            tex2jax: {
              inlineMath: [ ['$','$'], ["\\(","\\)"] ],
              displayMath: [ ['$$','$$'], ["\\[","\\]"] ],
              processEscapes: true,
              processEnvironments: true
            },
            displayAlign: 'center',
            "HTML-CSS": {
              styles: {'.MathJax_Display': {"margin": 0}},
              linebreaks: { automatic: true }
            }
          });
          MathJax.Hub.Queue(["Typeset", MathJax.Hub]);
        }
      }
      init_mathjax();
    </script>
  

<script type="text/javascript">
/* <![CDATA[ */
var _gaq = _gaq || [];
_gaq.push(['_setAccount', 'UA-52617120-5']);
_gaq.push(['_trackPageview']);

(function() {
var ga = document.createElement('script'); ga.type = 'text/javascript'; ga.async = true;
ga.src = ('https:' == document.location.protocol ? 'https://ssl' : 'http://www') + '.google-analytics.com/ga.js';
var s = document.getElementsByTagName('script')[0]; s.parentNode.insertBefore(ga, s);
})();

(function(b){(function(a){"__CF"in b&&"DJS"in b.__CF?b.__CF.DJS.push(a):"addEventListener"in b?b.addEventListener("load",a,!1):b.attachEvent("onload",a)})(function(){"FB"in b&&"Event"in FB&&"subscribe"in FB.Event&&(FB.Event.subscribe("edge.create",function(a){_gaq.push(["_trackSocial","facebook","like",a])}),FB.Event.subscribe("edge.remove",function(a){_gaq.push(["_trackSocial","facebook","unlike",a])}),FB.Event.subscribe("message.send",function(a){_gaq.push(["_trackSocial","facebook","send",a])}));"twttr"in b&&"events"in twttr&&"bind"in twttr.events&&twttr.events.bind("tweet",function(a){if(a){var b;if(a.target&&a.target.nodeName=="IFRAME")a:{if(a=a.target.src){a=a.split("#")[0].match(/[^?=&]+=([^&]*)?/g);b=0;for(var c;c=a[b];++b)if(c.indexOf("url")===0){b=unescape(c.split("=")[1]);break a}}b=void 0}_gaq.push(["_trackSocial","twitter","tweet",b])}})})})(window);
/* ]]> */
</script>
</head>

<body>

  <!-- These are loaded at the top of the body so they are available to
       notebook cells when they are loaded below. -->
  <script src="/static/components/jquery/dist/jquery.min.js"></script>
  <script src="/static/components/requirejs/require.js"></script>
  <script src="/static/components/moment/min/moment.min.js"></script>

<!-- Navbar
================================================== -->
  <nav id="menubar" class="navbar navbar-default navbar-fixed-top" data-spy="affix">
    <div class="container">
      <div class="navbar-header">
        <button type="button" class="navbar-toggle collapsed" data-toggle="collapse" data-target=".navbar-collapse">
          <span class="sr-only">Toggle navigation</span>
          <i class="fa fa-bars"></i>
        </button>
        <a class="navbar-brand" href="/">
          <img src="/static/img/nav_logo.svg" width="159"/>
        </a>
      </div>

      <div class="collapse navbar-collapse">
        <ul class="nav navbar-nav navbar-right">
          <li>
            <a class="active" href="http://jupyter.org">JUPYTER</a>
          </li>
          <li>
    <a href="/faq" title="FAQ" >
      
        <span>FAQ</span>
      
    </a>
  </li>

          
  
    
      
        <li>
    <a href="/format/script/github/twistedhardware/mltutorial/blob/master/notebooks/IPython-Tutorial/2%20-%20Markdown%20%26%20LATEX.ipynb" title="View as Code" >
      <span class="fa fa- fa-2x menu-icon"></span>
      <span class="menu-text">View as Code</span>
    </a>
  </li>
      
    
  
    
      
        <li>
    <a href="/format/slides/github/twistedhardware/mltutorial/blob/master/notebooks/IPython-Tutorial/2%20-%20Markdown%20%26%20LATEX.ipynb" title="View as Slides" >
      <span class="fa fa-gift fa-2x menu-icon"></span>
      <span class="menu-text">View as Slides</span>
    </a>
  </li>
      
    
  
    
  

  

  
    <li>
    <a href="https://github.com/twistedhardware/mltutorial/blob/master/notebooks/IPython-Tutorial/2%20-%20Markdown%20%26%20LATEX.ipynb" title="View on GitHub" >
      <span class="fa fa-github fa-2x menu-icon"></span>
      <span class="menu-text">View on GitHub</span>
    </a>
  </li>
  

  <li>
    <a href="https://raw.githubusercontent.com/twistedhardware/mltutorial/master/notebooks/IPython-Tutorial/2%20-%20Markdown%20%26%20LATEX.ipynb" title="Download Notebook" download>
      <span class="fa fa-download fa-2x menu-icon"></span>
      <span class="menu-text">Download Notebook</span>
    </a>
  </li>

        </ul>
      </div><!-- /.navbar-collapse -->
      
      
    </div>
  </nav>

  <div class="container container-main">
    
  
  <ol class="breadcrumb">
    
      <li>
        <a href="/github/twistedhardware/mltutorial/tree/master">mltutorial</a>
      </li>
    
      <li>
        <a href="/github/twistedhardware/mltutorial/tree/master/notebooks">notebooks</a>
      </li>
    
      <li>
        <a href="/github/twistedhardware/mltutorial/tree/master/notebooks/IPython-Tutorial">IPython-Tutorial</a>
      </li>
    
  </ol>
  
  <div id="notebook">
    <div id="notebook-container">
      
<div class="cell border-box-sizing text_cell rendered">
<div class="prompt input_prompt">
</div>
<div class="inner_cell">
<div class="text_cell_render border-box-sizing rendered_html">
<h1 id="Tutorial-Brief">Tutorial Brief<a class="anchor-link" href="#Tutorial-Brief">&#182;</a></h1>
</div>
</div>
</div>
<div class="cell border-box-sizing text_cell rendered">
<div class="prompt input_prompt">
</div>
<div class="inner_cell">
<div class="text_cell_render border-box-sizing rendered_html">
<p>This covers the basics of using markdown cells. You can think of markdown cells as documention for your code with extended features.</p>
<h4 id="Finding-Help:">Finding Help:<a class="anchor-link" href="#Finding-Help:">&#182;</a></h4><ul>
<li><a href="http://ipython.org/ipython-doc/2/interactive/tutorial.html">http://ipython.org/ipython-doc/2/interactive/tutorial.html</a></li>
<li><a href="http://nbviewer.ipython.org/">http://nbviewer.ipython.org/</a></li>
</ul>

</div>
</div>
</div>
<div class="cell border-box-sizing text_cell rendered">
<div class="prompt input_prompt">
</div>
<div class="inner_cell">
<div class="text_cell_render border-box-sizing rendered_html">
<h1 id="Markdown-Cells">Markdown Cells<a class="anchor-link" href="#Markdown-Cells">&#182;</a></h1><p>This cell can contain markdown language and render it.</p>
<p>A good reference for markdown is in this link:
<a href="https://github.com/adam-p/markdown-here/wiki/Markdown-Cheatsheet">https://github.com/adam-p/markdown-here/wiki/Markdown-Cheatsheet</a></p>

</div>
</div>
</div>
<div class="cell border-box-sizing text_cell rendered">
<div class="prompt input_prompt">
</div>
<div class="inner_cell">
<div class="text_cell_render border-box-sizing rendered_html">
<h3 id="Most-common-markdown-codes:">Most common markdown codes:<a class="anchor-link" href="#Most-common-markdown-codes:">&#182;</a></h3><h1 id="Head-1">Head 1<a class="anchor-link" href="#Head-1">&#182;</a></h1><h2 id="Head-2">Head 2<a class="anchor-link" href="#Head-2">&#182;</a></h2><h3 id="Head-3">Head 3<a class="anchor-link" href="#Head-3">&#182;</a></h3><h4 id="Head-4">Head 4<a class="anchor-link" href="#Head-4">&#182;</a></h4><h1 id="Alt-Heading-1">Alt Heading 1<a class="anchor-link" href="#Alt-Heading-1">&#182;</a></h1><h2 id="Alt-Heading-2">Alt Heading 2<a class="anchor-link" href="#Alt-Heading-2">&#182;</a></h2>
</div>
</div>
</div>
<div class="cell border-box-sizing text_cell rendered">
<div class="prompt input_prompt">
</div>
<div class="inner_cell">
<div class="text_cell_render border-box-sizing rendered_html">

<pre><code>markdown
#Head 1
##Head 2
###Head 3
####Head 4

Alt Heading 1
============

Alt Heading 2
------------</code></pre>

</div>
</div>
</div>
<div class="cell border-box-sizing text_cell rendered">
<div class="prompt input_prompt">
</div>
<div class="inner_cell">
<div class="text_cell_render border-box-sizing rendered_html">
<h3 id="Font-Styles:">Font Styles:<a class="anchor-link" href="#Font-Styles:">&#182;</a></h3><ul>
<li><em>Italic</em></li>
<li><em>Italic</em></li>
<li><strong>Bold</strong></li>
<li><strong>Bold</strong></li>
<li><del>Throught</del></li>
</ul>

</div>
</div>
</div>
<div class="cell border-box-sizing text_cell rendered">
<div class="prompt input_prompt">
</div>
<div class="inner_cell">
<div class="text_cell_render border-box-sizing rendered_html">

<pre><code>markdown
- *Italic*
- _Italic_
- **Bold**
- __Bold__
- ~~Throught~~</code></pre>

</div>
</div>
</div>
<div class="cell border-box-sizing text_cell rendered">
<div class="prompt input_prompt">
</div>
<div class="inner_cell">
<div class="text_cell_render border-box-sizing rendered_html">
<h4 id="Lists:">Lists:<a class="anchor-link" href="#Lists:">&#182;</a></h4><ul>
<li>Item 1</li>
<li>Item 2</li>
</ul>
<h4 id="Numbered-List:">Numbered List:<a class="anchor-link" href="#Numbered-List:">&#182;</a></h4><ol>
<li>Item 1</li>
<li>Item 2<ol>
<li>Sub Item 1</li>
<li>Sub Item 2</li>
</ol>
</li>
<li>Item 3</li>
</ol>

</div>
</div>
</div>
<div class="cell border-box-sizing text_cell rendered">
<div class="prompt input_prompt">
</div>
<div class="inner_cell">
<div class="text_cell_render border-box-sizing rendered_html">

<pre><code>markdown
- Item 1
- Item 2

1. Item 1
2. Item 2
 1. Sub Item 1
 2. Sub Item 2
3. Item 3</code></pre>

</div>
</div>
</div>
<div class="cell border-box-sizing text_cell rendered">
<div class="prompt input_prompt">
</div>
<div class="inner_cell">
<div class="text_cell_render border-box-sizing rendered_html">
<h4 id="Links:">Links:<a class="anchor-link" href="#Links:">&#182;</a></h4><p><a href="https://www.google.com">https://www.google.com</a></p>
<p><a href="https://www.google.com">Google</a></p>
<p><a href="https://www.google.com" title="Google&#39;s Homepage">Google with tooltip</a></p>

</div>
</div>
</div>
<div class="cell border-box-sizing text_cell rendered">
<div class="prompt input_prompt">
</div>
<div class="inner_cell">
<div class="text_cell_render border-box-sizing rendered_html">

<pre><code>markdown
https://www.google.com

[Google](https://www.google.com)

[Google with tooltip](https://www.google.com "Google's Homepage")</code></pre>

</div>
</div>
</div>
<div class="cell border-box-sizing text_cell rendered">
<div class="prompt input_prompt">
</div>
<div class="inner_cell">
<div class="text_cell_render border-box-sizing rendered_html">
<h4 id="Images:">Images:<a class="anchor-link" href="#Images:">&#182;</a></h4><p><img src="http://www.google.com/logos/2012/turing-doodle-static.jpg" alt="Alt Text" title="Alan Turing&#39;s 100th Birthday"></p>

</div>
</div>
</div>
<div class="cell border-box-sizing text_cell rendered">
<div class="prompt input_prompt">
</div>
<div class="inner_cell">
<div class="text_cell_render border-box-sizing rendered_html">

<pre><code>markdown
![Alt Text](http://www.google.com/logos/2012/turing-doodle-static.jpg "Alan Turing's 100th Birthday")</code></pre>

</div>
</div>
</div>
<div class="cell border-box-sizing text_cell rendered">
<div class="prompt input_prompt">
</div>
<div class="inner_cell">
<div class="text_cell_render border-box-sizing rendered_html">
<h4 id="Code:">Code:<a class="anchor-link" href="#Code:">&#182;</a></h4><div class="highlight"><pre><span></span><span class="n">s</span> <span class="o">=</span> <span class="s2">&quot;Python syntax highlighting&quot;</span>
<span class="k">print</span> <span class="n">s</span>
</pre></div>
<div class="highlight"><pre><span></span><span class="kd">var</span> <span class="nx">s</span> <span class="o">=</span> <span class="s2">&quot;JavaScript syntax highlighting&quot;</span><span class="p">;</span>
<span class="nx">alert</span><span class="p">(</span><span class="nx">s</span><span class="p">);</span>
</pre></div>

</div>
</div>
</div>
<div class="cell border-box-sizing text_cell rendered">
<div class="prompt input_prompt">
</div>
<div class="inner_cell">
<div class="text_cell_render border-box-sizing rendered_html">
<pre>
```python
s = "Python syntax highlighting"
print s
```

```javascript
var s = "JavaScript syntax highlighting";
alert(s);
```
</pre>
</div>
</div>
</div>
<div class="cell border-box-sizing text_cell rendered">
<div class="prompt input_prompt">
</div>
<div class="inner_cell">
<div class="text_cell_render border-box-sizing rendered_html">
<h4 id="Tables:">Tables:<a class="anchor-link" href="#Tables:">&#182;</a></h4><table>
<thead><tr>
<th style="text-align:right">Website</th>
<th style="text-align:center">URL</th>
<th style="text-align:right">Rank</th>
</tr>
</thead>
<tbody>
<tr>
<td style="text-align:right">Google</td>
<td style="text-align:center">google.com</td>
<td style="text-align:right">1</td>
</tr>
<tr>
<td style="text-align:right">Facebook</td>
<td style="text-align:center">facebook.com</td>
<td style="text-align:right">2</td>
</tr>
<tr>
<td style="text-align:right">Youtube</td>
<td style="text-align:center">youtube.com</td>
<td style="text-align:right">3</td>
</tr>
</tbody>
</table>

</div>
</div>
</div>
<div class="cell border-box-sizing text_cell rendered">
<div class="prompt input_prompt">
</div>
<div class="inner_cell">
<div class="text_cell_render border-box-sizing rendered_html">

<pre><code>markdown
| Website   | URL           | Rank |
| ---------:|:-------------:| ----:|
| Google    | google.com    | 1    |
| Facebook  | facebook.com  | 2    |
| Youtube   | youtube.com   | 3    |</code></pre>

</div>
</div>
</div>
<div class="cell border-box-sizing text_cell rendered">
<div class="prompt input_prompt">
</div>
<div class="inner_cell">
<div class="text_cell_render border-box-sizing rendered_html">
<h4 id="Quotes">Quotes<a class="anchor-link" href="#Quotes">&#182;</a></h4><blockquote><h2 id="Quote-from-some-one-else">Quote from some one else<a class="anchor-link" href="#Quote-from-some-one-else">&#182;</a></h2><p><em>with multiple lines</em></p>
</blockquote>

</div>
</div>
</div>
<div class="cell border-box-sizing text_cell rendered">
<div class="prompt input_prompt">
</div>
<div class="inner_cell">
<div class="text_cell_render border-box-sizing rendered_html">

<pre><code>markdown
&gt; ##Quote from some one else
&gt; *with multiple lines*</code></pre>

</div>
</div>
</div>
<div class="cell border-box-sizing text_cell rendered">
<div class="prompt input_prompt">
</div>
<div class="inner_cell">
<div class="text_cell_render border-box-sizing rendered_html">
<h4 id="HTML">HTML<a class="anchor-link" href="#HTML">&#182;</a></h4><p><hr></p>
<p>Almost any <strong>HTML</strong> code will render<br />Just <i>fine</i>.</p>
</div>
</div>
</div>
<div class="cell border-box-sizing text_cell rendered">
<div class="prompt input_prompt">
</div>
<div class="inner_cell">
<div class="text_cell_render border-box-sizing rendered_html">
<div class="highlight"><pre><span></span><span class="p">&lt;</span><span class="nt">hr</span><span class="p">&gt;</span>
<span class="p">&lt;</span><span class="nt">p</span><span class="p">&gt;</span>Almost any <span class="p">&lt;</span><span class="nt">strong</span><span class="p">&gt;</span>HTML<span class="p">&lt;/</span><span class="nt">strong</span><span class="p">&gt;</span> code will render<span class="p">&lt;</span><span class="nt">br</span> <span class="p">/&gt;</span>Just <span class="p">&lt;</span><span class="nt">i</span><span class="p">&gt;</span>fine<span class="p">&lt;/</span><span class="nt">i</span><span class="p">&gt;</span>.<span class="p">&lt;/</span><span class="nt">p</span><span class="p">&gt;</span>
</pre></div>

</div>
</div>
</div>
<div class="cell border-box-sizing text_cell rendered">
<div class="prompt input_prompt">
</div>
<div class="inner_cell">
<div class="text_cell_render border-box-sizing rendered_html">
<h4 id="Horizontal-Lines">Horizontal Lines<a class="anchor-link" href="#Horizontal-Lines">&#182;</a></h4><hr>
<hr>
<hr>

</div>
</div>
</div>
<div class="cell border-box-sizing text_cell rendered">
<div class="prompt input_prompt">
</div>
<div class="inner_cell">
<div class="text_cell_render border-box-sizing rendered_html">

<pre><code>markdown
---
***
___</code></pre>

</div>
</div>
</div>
<div class="cell border-box-sizing text_cell rendered">
<div class="prompt input_prompt">
</div>
<div class="inner_cell">
<div class="text_cell_render border-box-sizing rendered_html">
<h3 id="Unicode">Unicode<a class="anchor-link" href="#Unicode">&#182;</a></h3><p>If you can think of any symbol, it is available in unicode.</p>
<ul>
<li>©</li>
<li>®</li>
<li>™</li>
</ul>

</div>
</div>
</div>
<div class="cell border-box-sizing text_cell rendered">
<div class="prompt input_prompt">
</div>
<div class="inner_cell">
<div class="text_cell_render border-box-sizing rendered_html">

<pre><code>markdown
©
®
™</code></pre>

</div>
</div>
</div>
<div class="cell border-box-sizing text_cell rendered">
<div class="prompt input_prompt">
</div>
<div class="inner_cell">
<div class="text_cell_render border-box-sizing rendered_html">
<h2 id="Markdown-cell---Latex-Script:">Markdown cell - Latex Script:<a class="anchor-link" href="#Markdown-cell---Latex-Script:">&#182;</a></h2><p>Latex is a languange to represent mathematical formula using text.</p>
<p>For Latex documentation please check the wiki:</p>
<p><a href="http://en.wikibooks.org/wiki/LaTeX/Mathematics">http://en.wikibooks.org/wiki/LaTeX/Mathematics</a></p>

</div>
</div>
</div>
<div class="cell border-box-sizing text_cell rendered">
<div class="prompt input_prompt">
</div>
<div class="inner_cell">
<div class="text_cell_render border-box-sizing rendered_html">
<h3 id="Inline-and-Block-Latex">Inline and Block Latex<a class="anchor-link" href="#Inline-and-Block-Latex">&#182;</a></h3><p>Inline Formula: $x=y$</p>
<p>Block Formula: $$x=y$$</p>

</div>
</div>
</div>
<div class="cell border-box-sizing text_cell rendered">
<div class="prompt input_prompt">
</div>
<div class="inner_cell">
<div class="text_cell_render border-box-sizing rendered_html">

<pre><code>markdown
$x=y$
$$x=y$$</code></pre>

</div>
</div>
</div>
<div class="cell border-box-sizing text_cell rendered">
<div class="prompt input_prompt">
</div>
<div class="inner_cell">
<div class="text_cell_render border-box-sizing rendered_html">
<h3 id="Greek-Letters">Greek Letters<a class="anchor-link" href="#Greek-Letters">&#182;</a></h3><ul>
<li>Alpha: $\alpha A$</li>
<li>Beta: $\beta B$</li>
<li>Gamma: $\gamma \Gamma$</li>
<li>Pi: $\pi \Pi \varpi$</li>
<li>Phi: $\phi \varphi \Phi$</li>
<li>Epsilon: $\epsilon \varepsilon$</li>
<li>Theta: $\theta \Theta \vartheta$</li>
<li>Rho: $\rho \varrho$</li>
<li>sigma: $\sigma \Sigma \varsigma$</li>
</ul>

</div>
</div>
</div>
<div class="cell border-box-sizing text_cell rendered">
<div class="prompt input_prompt">
</div>
<div class="inner_cell">
<div class="text_cell_render border-box-sizing rendered_html">

<pre><code>markdown
Alpha: $\alpha A$
Beta: $\beta B$
Gamma: $\gamma \Gamma$
Pi: $\pi \Pi \varpi$
Phi: $\phi \varphi \Phi$
Epsilon: $\epsilon \varepsilon$
Theta: $\theta \Theta \vartheta$
Rho: $\rho \varrho$
sigma: $\sigma \Sigma \varsigma$</code></pre>

</div>
</div>
</div>
<div class="cell border-box-sizing text_cell rendered">
<div class="prompt input_prompt">
</div>
<div class="inner_cell">
<div class="text_cell_render border-box-sizing rendered_html">
<h3 id="Basic-operations">Basic operations<a class="anchor-link" href="#Basic-operations">&#182;</a></h3><ul>
<li>$y = x + 5$</li>
<li>$y = x - 5$</li>
<li>$y = 5x$</li>
<li>$y = x \times 5$</li>
<li>$y = \frac{x}{5}$</li>
<li>$y = x \div 5$</li>
</ul>

</div>
</div>
</div>
<div class="cell border-box-sizing text_cell rendered">
<div class="prompt input_prompt">
</div>
<div class="inner_cell">
<div class="text_cell_render border-box-sizing rendered_html">

<pre><code>markdown
$y = x + 5$
$y = x - 5$
$y = 5x$
$y = x \times 5$
$y = \frac{x}{5}$
$y = x \div 5$</code></pre>

</div>
</div>
</div>
<div class="cell border-box-sizing text_cell rendered">
<div class="prompt input_prompt">
</div>
<div class="inner_cell">
<div class="text_cell_render border-box-sizing rendered_html">
<h3 id="Power-and-Index">Power and Index<a class="anchor-link" href="#Power-and-Index">&#182;</a></h3><ul>
<li>$y_n = x_n - x_{n-1}$</li>
<li>$y = x^2 - 2x^{x-1}$</li>
</ul>

</div>
</div>
</div>
<div class="cell border-box-sizing text_cell rendered">
<div class="prompt input_prompt">
</div>
<div class="inner_cell">
<div class="text_cell_render border-box-sizing rendered_html">

<pre><code>markdown
$y_n = x_n - x_{n-1}$
$y = x^2 - 2x^{x-1}$</code></pre>

</div>
</div>
</div>
<div class="cell border-box-sizing text_cell rendered">
<div class="prompt input_prompt">
</div>
<div class="inner_cell">
<div class="text_cell_render border-box-sizing rendered_html">
<h3 id="Fraction-Type">Fraction Type<a class="anchor-link" href="#Fraction-Type">&#182;</a></h3><ul>
<li>$^1/_2$</li>
<li>$\frac {1}{2}$</li>
</ul>

</div>
</div>
</div>
<div class="cell border-box-sizing text_cell rendered">
<div class="prompt input_prompt">
</div>
<div class="inner_cell">
<div class="text_cell_render border-box-sizing rendered_html">

<pre><code>markdown
$^1/_2$
$\frac {1}{2}$</code></pre>

</div>
</div>
</div>
<div class="cell border-box-sizing text_cell rendered">
<div class="prompt input_prompt">
</div>
<div class="inner_cell">
<div class="text_cell_render border-box-sizing rendered_html">
<h3 id="Roots">Roots<a class="anchor-link" href="#Roots">&#182;</a></h3><ul>
<li>$\sqrt{\frac{1}{3}}$</li>
<li>$\sqrt[3]{2x}$</li>
</ul>

</div>
</div>
</div>
<div class="cell border-box-sizing text_cell rendered">
<div class="prompt input_prompt">
</div>
<div class="inner_cell">
<div class="text_cell_render border-box-sizing rendered_html">

<pre><code>markdown
$\sqrt{\frac{1}{3}}$
$\sqrt[3]{2x}$</code></pre>

</div>
</div>
</div>
<div class="cell border-box-sizing text_cell rendered">
<div class="prompt input_prompt">
</div>
<div class="inner_cell">
<div class="text_cell_render border-box-sizing rendered_html">
<h3 id="Sums-and-Integrals">Sums and Integrals<a class="anchor-link" href="#Sums-and-Integrals">&#182;</a></h3><ul>
<li>Sum : $\sum\limits_{i=1}^{10} t_i$</li>
<li>Int : $\int\limits_a^b$</li>
<li>$\int_0^\infty \sin(x^2)$</li>
</ul>

</div>
</div>
</div>
<div class="cell border-box-sizing text_cell rendered">
<div class="prompt input_prompt">
</div>
<div class="inner_cell">
<div class="text_cell_render border-box-sizing rendered_html">

<pre><code>markdown
$\sum\limits_{i=1}^{10} t_i$
$\int\limits_a^b$
$\int_0^\infty \sin(x^2)$</code></pre>

</div>
</div>
</div>
    </div>
  </div>

  </div>


  
    <footer class="footer hidden-print">
      <div class="container">
        <div class="col-md-4">
          <p>
            This website does not host notebooks, it only renders notebooks
            available on other websites.
          </p>
        </div>

        <div class="col-md-4">
          <p>
            Delivered by <a href="http://www.fastly.com/">Fastly</a>,
            Rendered by <a href="https://developer.rackspace.com/?nbviewer=awesome">Rackspace</a>
          </p>
          <p>
            nbviewer GitHub <a href="https://github.com/jupyter/nbviewer">repository</a>.
          </p>
        </div>

        <div class="col-md-4">
          
  
            
              <p>
                nbviewer version:
                <a href="https://github.com/jupyter/nbviewer/commit/41cd82f09350776a356420a4f7dedcaf52410650">
                  41cd82f
                </a>
              </p>
            
          
  
  <p>
    notebook version: <a href="https://github.com/jupyter/notebook/releases/tag/">
      
    </a>
  </p>
  <p>
    nbconvert version: <a href="https://github.com/jupyter/nbconvert/releases/tag/4.1.0">
      4.1.0
    </a>
  </p>
  

          
  
  
  <p>
    Rendered
    <span class='date' data-date='Sun, 06 Mar 2016 05:18:28 UTC' title='Sun, 06 Mar 2016 05:18:28 UTC'>(Sun, 06 Mar 2016 05:18:28 UTC)</span>
  </p>
  

        </div>
      </div>
    </footer>
  

  <script src="/static/components/bootstrap/js/bootstrap.min.js"></script>
  <script src="/static/components/headroom.js/dist/headroom.min.js"></script>
  <script src="/static/components/headroom.js/dist/jQuery.headroom.min.js"></script>

  
  
  <script>
    $(function(){ $("#menubar").headroom({
      tolerance: 5,
      offset: 205,
      classes: {
        initial: "animated",
        pinned: "slideInDown",
        unpinned: "slideOutUp"
      }
    })});
  </script>


  <script>
    (function(i,s,o,g,r,a,m){i['GoogleAnalyticsObject']=r;i[r]=i[r]||function(){
      (i[r].q=i[r].q||[]).push(arguments)},i[r].l=1*new Date();a=s.createElement(o),
      m=s.getElementsByTagName(o)[0];a.async=1;a.src=g;m.parentNode.insertBefore(a,m)
    })(window,document,'script','//www.google-analytics.com/analytics.js','ga');
    ga('create', 'UA-38683231-2', 'auto');
    ga('send', 'pageview');
  </script>
  <script>
    require({
        paths: {
          moment: "/static/components/moment/min/moment.min.js"
        }
      }, ["moment"], function(moment){
      var date = $("footer .date"),
        m = moment(new Date(date.data('date'))),
        update = function(){ date.text(m.fromNow()); };
      setInterval(update, 61*1000);
      update();
      var w = $(window).scroll(function(event){
        $("body").toggleClass("scrolled", w.scrollTop() > 0);
      });
    });
  </script>
  <!--NEW RELIC Stop Perf Measurement-->
  
  <!--NEW RELIC End-->
</body>
</html>