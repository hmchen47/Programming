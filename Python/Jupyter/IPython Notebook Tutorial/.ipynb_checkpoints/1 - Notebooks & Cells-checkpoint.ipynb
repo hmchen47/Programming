{
 "cells": [
  {
   "cell_type": "markdown",
   "metadata": {},
   "source": [
    "# Tutorial Brief"
   ]
  },
  {
   "cell_type": "markdown",
   "metadata": {},
   "source": [
    "The basics of IPython Notebook. It is a web-based interactive development environment. We will cover the basics of managing notebooks and cell types.\n",
    "\n",
    "Finding Help:\n",
    "\n",
    "- http://ipython.org/ipython-doc/stable/index.html\n",
    "- http://nbviewer.ipython.org/github/ipython/ipython/blob/2.x/examples/Index.ipynb\n"
   ]
  },
  {
   "cell_type": "markdown",
   "metadata": {},
   "source": [
    "# Notebooks"
   ]
  },
  {
   "cell_type": "markdown",
   "metadata": {},
   "source": [
    "Notebooks are documents representing all input and output of operations. This includes code, text input and  numerical, text and rich media output. These files have **ipynb** extensions."
   ]
  },
  {
   "cell_type": "markdown",
   "metadata": {},
   "source": [
    "# Cells"
   ]
  },
  {
   "cell_type": "markdown",
   "metadata": {},
   "source": [
    "Cells can contain code or documentation. We will explore working with cells."
   ]
  },
  {
   "cell_type": "markdown",
   "metadata": {},
   "source": [
    "## Markdown Cells"
   ]
  },
  {
   "cell_type": "markdown",
   "metadata": {},
   "source": [
    "This is a markdown cell. In can contain:\n",
    "\n",
    "- Markdown language\n",
    "- HTML\n",
    "- LATEX\n",
    "\n",
    "```markdown\n",
    "**Markdown** *Text*\n",
    "__Markdown__ _Text_\n",
    "<strong>HTML formula</strong>\n",
    "$LATEX%\n",
    "```\n",
    "**Markdown** *Text*\n",
    "\n",
    "__Markdown__ _Text_\n",
    "\n",
    "<strong>HTML</strong>\n",
    "\n",
    "$LATEX formula$"
   ]
  },
  {
   "cell_type": "markdown",
   "metadata": {},
   "source": [
    "## Code Cells"
   ]
  },
  {
   "cell_type": "markdown",
   "metadata": {},
   "source": [
    "May contain python code and ipython magic."
   ]
  },
  {
   "cell_type": "code",
   "execution_count": 1,
   "metadata": {
    "collapsed": false
   },
   "outputs": [
    {
     "data": {
      "text/plain": [
       "8"
      ]
     },
     "execution_count": 1,
     "metadata": {},
     "output_type": "execute_result"
    }
   ],
   "source": [
    "3+5"
   ]
  },
  {
   "cell_type": "code",
   "execution_count": 2,
   "metadata": {
    "collapsed": false
   },
   "outputs": [
    {
     "data": {
      "text/plain": [
       "8"
      ]
     },
     "execution_count": 2,
     "metadata": {},
     "output_type": "execute_result"
    }
   ],
   "source": [
    "1+2\n",
    "3+5"
   ]
  },
  {
   "cell_type": "code",
   "execution_count": 3,
   "metadata": {
    "collapsed": false
   },
   "outputs": [
    {
     "data": {
      "text/plain": [
       "3"
      ]
     },
     "execution_count": 3,
     "metadata": {},
     "output_type": "execute_result"
    }
   ],
   "source": [
    "x = 1\n",
    "y = 2\n",
    "\n",
    "x + y"
   ]
  },
  {
   "cell_type": "code",
   "execution_count": 7,
   "metadata": {
    "collapsed": false
   },
   "outputs": [
    {
     "data": {
      "text/plain": [
       "3"
      ]
     },
     "execution_count": 7,
     "metadata": {},
     "output_type": "execute_result"
    }
   ],
   "source": [
    "z = x + y\n",
    "z"
   ]
  },
  {
   "cell_type": "markdown",
   "metadata": {},
   "source": [
    "## IPython Magic"
   ]
  },
  {
   "cell_type": "code",
   "execution_count": null,
   "metadata": {
    "collapsed": false
   },
   "outputs": [],
   "source": [
    "%%bash\n",
    "ls\n",
    "echo \"** Creating New File **\"\n",
    "touch test.txt\n",
    "ls\n",
    "echo \"** Deleting New File **\"\n",
    "rm test.txt"
   ]
  },
  {
   "cell_type": "markdown",
   "metadata": {},
   "source": [
    "# Raw NBConvert"
   ]
  },
  {
   "cell_type": "markdown",
   "metadata": {},
   "source": [
    "These cells are like markdown but they do not render their input."
   ]
  },
  {
   "cell_type": "raw",
   "metadata": {},
   "source": [
    "This is a Raw NBConvert cell.\n",
    "\n",
    "It doesn't render its contents like\n",
    "**Markdown**\n",
    "<strong>HTML</strong>\n",
    "$LATEX$\n",
    "\n",
    "The problem with them is they may render come tags in IPython NBViwer."
   ]
  },
  {
   "cell_type": "markdown",
   "metadata": {},
   "source": [
    "# Heading Cells"
   ]
  },
  {
   "cell_type": "markdown",
   "metadata": {},
   "source": [
    "Heading cells are great for creating bookmarks in an IPython Notebook. You can hover over headings to find their link. Usually it is capitalized slug of the title text. This helps in linking to a specific part of a notebook."
   ]
  },
  {
   "cell_type": "markdown",
   "metadata": {},
   "source": [
    "# Head 1"
   ]
  },
  {
   "cell_type": "markdown",
   "metadata": {},
   "source": [
    "## Head 2"
   ]
  },
  {
   "cell_type": "markdown",
   "metadata": {},
   "source": [
    "### Head 3"
   ]
  },
  {
   "cell_type": "markdown",
   "metadata": {},
   "source": [
    "#### Head 4"
   ]
  },
  {
   "cell_type": "markdown",
   "metadata": {},
   "source": [
    "##### Head 5"
   ]
  },
  {
   "cell_type": "markdown",
   "metadata": {},
   "source": [
    "###### Head 6"
   ]
  },
  {
   "cell_type": "markdown",
   "metadata": {},
   "source": [
    "## Linking to a heading"
   ]
  },
  {
   "cell_type": "markdown",
   "metadata": {},
   "source": [
    "Linking to a heading is like linking to an HTML Bookmark. You can do that like this:\n",
    "\n",
    "###Relative links:\n",
    "```HTML\n",
    "<a href=\"#Head-1\">Link to Head 1</a>\n",
    "```\n",
    "\n",
    "<a href=\"#Head-1\">Link to Head 1</a>\n",
    "\n",
    "###Absolute links:\n",
    "```HTML\n",
    "<a href=\"http://54.186.15.239:8080/notebooks/IPython%20Tutorial/1%20-%20Notebooks%20%26%20Cells.ipynb#Head-1\">Link to Head 1</a>\n",
    "```\n",
    "<a href=\"http://54.186.15.239:8080/notebooks/IPython%20Tutorial/1%20-%20Notebooks%20%26%20Cells.ipynb#Head-1\">Link to Head 1</a>"
   ]
  }
 ],
 "metadata": {
  "kernelspec": {
   "display_name": "Python 3",
   "language": "python",
   "name": "python3"
  },
  "language_info": {
   "codemirror_mode": {
    "name": "ipython",
    "version": 3
   },
   "file_extension": ".py",
   "mimetype": "text/x-python",
   "name": "python",
   "nbconvert_exporter": "python",
   "pygments_lexer": "ipython3",
   "version": "3.5.1"
  }
 },
 "nbformat": 4,
 "nbformat_minor": 0
}
