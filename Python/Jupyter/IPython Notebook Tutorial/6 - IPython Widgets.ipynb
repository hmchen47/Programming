








<!DOCTYPE html>
<html lang="en">

<head>
  <meta charset="utf-8">
  <title>Jupyter Notebook Viewer</title>
  <meta name="viewport" content="width=device-width, initial-scale=1.0">
  <meta name="description" content="">
  <meta name="author" content="">
  
  <meta name="robots" content="noindex,nofollow">
  

  <!--NEW RELIC Start Perf Measurement-->
  
  <!--NREND-->

  <!-- Le styles -->
  <script type="text/javascript">
//<![CDATA[
try{if (!window.CloudFlare) {var CloudFlare=[{verbose:0,p:0,byc:0,owlid:"cf",bag2:1,mirage2:0,oracle:0,paths:{cloudflare:"/cdn-cgi/nexp/dok3v=1613a3a185/"},atok:"516d72dfc89d064071b2013e54d5038c",petok:"ae39136e9bd41976dad07e4f5800cefc3b873512-1457245577-1800",zone:"jupyter.org",rocket:"0",apps:{"ga_key":{"ua":"UA-52617120-5","ga_bs":"2"}},sha2test:0}];!function(a,b){a=document.createElement("script"),b=document.getElementsByTagName("script")[0],a.async=!0,a.src="//ajax.cloudflare.com/cdn-cgi/nexp/dok3v=fb690a32f5/cloudflare.min.js",b.parentNode.insertBefore(a,b)}()}}catch(e){};
//]]>
</script>
<link href="/static/build/styles.css" rel="stylesheet">

  <!-- Le HTML5 shim, for IE6-8 support of HTML5 elements -->
  <!--[if lt IE 9]>
    <script src="http://html5shim.googlecode.com/svn/trunk/html5.js"></script>
  <![endif]-->

  <!-- Le fav and touch icons -->
  <link rel="shortcut icon" href="/static/ico/ipynb_icon_16x16.png">
  <link rel="apple-touch-icon-precomposed" sizes="144x144"
        href="/static/ico/apple-touch-icon-144-precomposed.png">
  <link rel="apple-touch-icon-precomposed" sizes="114x114"
        href="/static/ico/apple-touch-icon-114-precomposed.png">
  <link rel="apple-touch-icon-precomposed" sizes="72x72"
        href="/static/ico/apple-touch-icon-72-precomposed.png">
  <link rel="apple-touch-icon-precomposed"
        href="/static/ico/apple-touch-icon-57-precomposed.png">
  
  

  

  
  <meta name="twitter:card" content="summary">
  <meta name="twitter:title" content="Notebook on nbviewer">
  <meta name="twitter:description" content="Check out this Jupyter notebook!">

  
  <meta name="twitter:domain" content="nbviewer.ipython.org">
  <meta name="twitter:image:src" content="http://ipython.org/ipython-doc/dev/_images/ipynb_icon_128x128.png">

  
    <link href="/static/build/notebook.css" rel="stylesheet">
  

  

  
    <script src="https://cdn.mathjax.org/mathjax/latest/MathJax.js?config=TeX-AMS_HTML" type="text/javascript">
    </script>
    <script type="text/javascript">
      init_mathjax = function() {
        if (window.MathJax) {
          // MathJax loaded
          MathJax.Hub.Config({
            TeX: {
              equationNumbers: {
                autoNumber: "AMS",
                useLabelIds: true
              }
            },
            tex2jax: {
              inlineMath: [ ['$','$'], ["\\(","\\)"] ],
              displayMath: [ ['$$','$$'], ["\\[","\\]"] ],
              processEscapes: true,
              processEnvironments: true
            },
            displayAlign: 'center',
            "HTML-CSS": {
              styles: {'.MathJax_Display': {"margin": 0}},
              linebreaks: { automatic: true }
            }
          });
          MathJax.Hub.Queue(["Typeset", MathJax.Hub]);
        }
      }
      init_mathjax();
    </script>
  

<script type="text/javascript">
/* <![CDATA[ */
var _gaq = _gaq || [];
_gaq.push(['_setAccount', 'UA-52617120-5']);
_gaq.push(['_trackPageview']);

(function() {
var ga = document.createElement('script'); ga.type = 'text/javascript'; ga.async = true;
ga.src = ('https:' == document.location.protocol ? 'https://ssl' : 'http://www') + '.google-analytics.com/ga.js';
var s = document.getElementsByTagName('script')[0]; s.parentNode.insertBefore(ga, s);
})();

(function(b){(function(a){"__CF"in b&&"DJS"in b.__CF?b.__CF.DJS.push(a):"addEventListener"in b?b.addEventListener("load",a,!1):b.attachEvent("onload",a)})(function(){"FB"in b&&"Event"in FB&&"subscribe"in FB.Event&&(FB.Event.subscribe("edge.create",function(a){_gaq.push(["_trackSocial","facebook","like",a])}),FB.Event.subscribe("edge.remove",function(a){_gaq.push(["_trackSocial","facebook","unlike",a])}),FB.Event.subscribe("message.send",function(a){_gaq.push(["_trackSocial","facebook","send",a])}));"twttr"in b&&"events"in twttr&&"bind"in twttr.events&&twttr.events.bind("tweet",function(a){if(a){var b;if(a.target&&a.target.nodeName=="IFRAME")a:{if(a=a.target.src){a=a.split("#")[0].match(/[^?=&]+=([^&]*)?/g);b=0;for(var c;c=a[b];++b)if(c.indexOf("url")===0){b=unescape(c.split("=")[1]);break a}}b=void 0}_gaq.push(["_trackSocial","twitter","tweet",b])}})})})(window);
/* ]]> */
</script>
</head>

<body>

  <!-- These are loaded at the top of the body so they are available to
       notebook cells when they are loaded below. -->
  <script src="/static/components/jquery/dist/jquery.min.js"></script>
  <script src="/static/components/requirejs/require.js"></script>
  <script src="/static/components/moment/min/moment.min.js"></script>

<!-- Navbar
================================================== -->
  <nav id="menubar" class="navbar navbar-default navbar-fixed-top" data-spy="affix">
    <div class="container">
      <div class="navbar-header">
        <button type="button" class="navbar-toggle collapsed" data-toggle="collapse" data-target=".navbar-collapse">
          <span class="sr-only">Toggle navigation</span>
          <i class="fa fa-bars"></i>
        </button>
        <a class="navbar-brand" href="/">
          <img src="/static/img/nav_logo.svg" width="159"/>
        </a>
      </div>

      <div class="collapse navbar-collapse">
        <ul class="nav navbar-nav navbar-right">
          <li>
            <a class="active" href="http://jupyter.org">JUPYTER</a>
          </li>
          <li>
    <a href="/faq" title="FAQ" >
      
        <span>FAQ</span>
      
    </a>
  </li>

          
  
    
  
    
      
        <li>
    <a href="/format/script/github/twistedhardware/mltutorial/blob/master/notebooks/IPython-Tutorial/6%20-%20IPython%20Widgets.ipynb" title="View as Code" >
      <span class="fa fa- fa-2x menu-icon"></span>
      <span class="menu-text">View as Code</span>
    </a>
  </li>
      
    
  

  

  
    <li>
    <a href="https://github.com/twistedhardware/mltutorial/blob/master/notebooks/IPython-Tutorial/6%20-%20IPython%20Widgets.ipynb" title="View on GitHub" >
      <span class="fa fa-github fa-2x menu-icon"></span>
      <span class="menu-text">View on GitHub</span>
    </a>
  </li>
  

  <li>
    <a href="https://raw.githubusercontent.com/twistedhardware/mltutorial/master/notebooks/IPython-Tutorial/6%20-%20IPython%20Widgets.ipynb" title="Download Notebook" download>
      <span class="fa fa-download fa-2x menu-icon"></span>
      <span class="menu-text">Download Notebook</span>
    </a>
  </li>

        </ul>
      </div><!-- /.navbar-collapse -->
      
      
    </div>
  </nav>

  <div class="container container-main">
    
  
  <ol class="breadcrumb">
    
      <li>
        <a href="/github/twistedhardware/mltutorial/tree/master">mltutorial</a>
      </li>
    
      <li>
        <a href="/github/twistedhardware/mltutorial/tree/master/notebooks">notebooks</a>
      </li>
    
      <li>
        <a href="/github/twistedhardware/mltutorial/tree/master/notebooks/IPython-Tutorial">IPython-Tutorial</a>
      </li>
    
  </ol>
  
  <div id="notebook">
    <div id="notebook-container">
      
<div class="cell border-box-sizing text_cell rendered">
<div class="prompt input_prompt">
</div>
<div class="inner_cell">
<div class="text_cell_render border-box-sizing rendered_html">
<h1 id="Tutorial-Brief">Tutorial Brief<a class="anchor-link" href="#Tutorial-Brief">&#182;</a></h1>
</div>
</div>
</div>
<div class="cell border-box-sizing text_cell rendered">
<div class="prompt input_prompt">
</div>
<div class="inner_cell">
<div class="text_cell_render border-box-sizing rendered_html">
<p>IPython notebook provides a variaty of web widgets that can interact with python code running the the background kernel.</p>
<p>Finding Help:</p>
<ul>
<li><a href="http://nbviewer.ipython.org/github/ipython/ipython/blob/2.x/examples/Interactive%20Widgets/Index.ipynb">http://nbviewer.ipython.org/github/ipython/ipython/blob/2.x/examples/Interactive%20Widgets/Index.ipynb</a></li>
</ul>

</div>
</div>
</div>
<div class="cell border-box-sizing text_cell rendered">
<div class="prompt input_prompt">
</div>
<div class="inner_cell">
<div class="text_cell_render border-box-sizing rendered_html">
<table>
<tr>
    <td><img src="http://www.scipy.org/_static/images/numpylogo_med.png"  style="width:50px;height:50px;" /></td>
    <td><h4>NumPy</h4> Base N-dimensional array package </td>
    <td><img src="http://www.scipy.org/_static/images/scipy_med.png" style="width:50px;height:50px;" /></td>
    <td><h4>SciPy</h4> Fundamental library for scientific computing </td>
    <td><img src="http://www.scipy.org/_static/images/matplotlib_med.png" style="width:50px;height:50px;" /></td>
    <td><h4>Matplotlib</h4> Comprehensive 2D Plotting </td>
</tr>
<tr>
    <td style="background:Lavender;"><img src="http://www.scipy.org/_static/images/ipython.png" style="width:50px;height:50px;" /></td>
    <td style="background:Lavender;"><h4>IPython</h4> Enhanced Interactive Console </td>
    <td><img src="http://www.scipy.org/_static/images/sympy_logo.png" style="width:50px;height:50px;" /></td>
    <td><h4>SymPy</h4> Symbolic mathematics </td>
    <td><img src="http://www.scipy.org/_static/images/pandas_badge2.jpg" style="width:50px;height:50px;" /></td>
    <td><h4>Pandas</h4> Data structures & analysis </td>
</tr>
</table>
</div>
</div>
</div>
<div class="cell border-box-sizing text_cell rendered">
<div class="prompt input_prompt">
</div>
<div class="inner_cell">
<div class="text_cell_render border-box-sizing rendered_html">
<h1 id="Why-do-we-use-widgets?">Why do we use widgets?<a class="anchor-link" href="#Why-do-we-use-widgets?">&#182;</a></h1>
</div>
</div>
</div>
<div class="cell border-box-sizing text_cell rendered">
<div class="prompt input_prompt">
</div>
<div class="inner_cell">
<div class="text_cell_render border-box-sizing rendered_html">
<blockquote><h2 id="IPython-includes-an-architecture-for-interactive-widgets-that-tie-together-Python-code-running-in-the-kernel-and-JavaScript/HTML/CSS-running-in-the-browser.-These-widgets-enable-users-to-explore-their-code-and-data-interactively.">IPython includes an architecture for interactive widgets that tie together Python code running in the kernel and JavaScript/HTML/CSS running in the browser. These widgets enable users to explore their code and data interactively.<a class="anchor-link" href="#IPython-includes-an-architecture-for-interactive-widgets-that-tie-together-Python-code-running-in-the-kernel-and-JavaScript/HTML/CSS-running-in-the-browser.-These-widgets-enable-users-to-explore-their-code-and-data-interactively.">&#182;</a></h2><p><em><a href="http://nbviewer.ipython.org/github/ipython/ipython/blob/2.x/examples/Interactive%20Widgets/Index.ipynb">http://nbviewer.ipython.org/github/ipython/ipython/blob/2.x/examples/Interactive%20Widgets/Index.ipynb</a></em></p>
</blockquote>

</div>
</div>
</div>
<div class="cell border-box-sizing text_cell rendered">
<div class="prompt input_prompt">
</div>
<div class="inner_cell">
<div class="text_cell_render border-box-sizing rendered_html">
<h1 id="Import-libraries">Import libraries<a class="anchor-link" href="#Import-libraries">&#182;</a></h1>
</div>
</div>
</div>
<div class="cell border-box-sizing code_cell rendered">
<div class="input">
<div class="prompt input_prompt">In&nbsp;[1]:</div>
<div class="inner_cell">
    <div class="input_area">
<div class=" highlight hl-ipython3"><pre><span></span><span class="kn">import</span> <span class="nn">numpy</span> <span class="k">as</span> <span class="nn">np</span>
<span class="kn">import</span> <span class="nn">matplotlib.pyplot</span> <span class="k">as</span> <span class="nn">plt</span>

<span class="kn">from</span> <span class="nn">IPython.html</span> <span class="k">import</span> <span class="n">widgets</span>
<span class="kn">from</span> <span class="nn">IPython.html.widgets</span> <span class="k">import</span> <span class="n">interact</span>
<span class="kn">from</span> <span class="nn">IPython.display</span> <span class="k">import</span> <span class="n">display</span>
</pre></div>

</div>
</div>
</div>

</div>
<div class="cell border-box-sizing text_cell rendered">
<div class="prompt input_prompt">
</div>
<div class="inner_cell">
<div class="text_cell_render border-box-sizing rendered_html">
<h2 id="Build-it-Widgets">Build-it Widgets<a class="anchor-link" href="#Build-it-Widgets">&#182;</a></h2>
</div>
</div>
</div>
<div class="cell border-box-sizing code_cell rendered">
<div class="input">
<div class="prompt input_prompt">In&nbsp;[2]:</div>
<div class="inner_cell">
    <div class="input_area">
<div class=" highlight hl-ipython3"><pre><span></span><span class="n">tab1_children</span> <span class="o">=</span> <span class="p">[</span><span class="n">widgets</span><span class="o">.</span><span class="n">ButtonWidget</span><span class="p">(</span><span class="n">description</span><span class="o">=</span><span class="s2">&quot;ButtonWidget&quot;</span><span class="p">),</span>
                 <span class="n">widgets</span><span class="o">.</span><span class="n">CheckboxWidget</span><span class="p">(</span><span class="n">description</span><span class="o">=</span><span class="s2">&quot;CheckboxWidget&quot;</span><span class="p">),</span>
                 <span class="n">widgets</span><span class="o">.</span><span class="n">DropdownWidget</span><span class="p">(</span><span class="n">values</span><span class="o">=</span><span class="p">[</span><span class="mi">1</span><span class="p">,</span> <span class="mi">2</span><span class="p">],</span> <span class="n">description</span><span class="o">=</span><span class="s2">&quot;DropdownWidget&quot;</span><span class="p">),</span>
                 <span class="n">widgets</span><span class="o">.</span><span class="n">RadioButtonsWidget</span><span class="p">(</span><span class="n">values</span><span class="o">=</span><span class="p">[</span><span class="mi">1</span><span class="p">,</span> <span class="mi">2</span><span class="p">],</span> <span class="n">description</span><span class="o">=</span><span class="s2">&quot;RadioButtonsWidget&quot;</span><span class="p">),</span>
                 <span class="n">widgets</span><span class="o">.</span><span class="n">SelectWidget</span><span class="p">(</span><span class="n">values</span><span class="o">=</span><span class="p">[</span><span class="mi">1</span><span class="p">,</span> <span class="mi">2</span><span class="p">],</span> <span class="n">description</span><span class="o">=</span><span class="s2">&quot;SelectWidget&quot;</span><span class="p">),</span>
                 <span class="n">widgets</span><span class="o">.</span><span class="n">TextWidget</span><span class="p">(</span><span class="n">description</span><span class="o">=</span><span class="s2">&quot;TextWidget&quot;</span><span class="p">),</span>
                 <span class="n">widgets</span><span class="o">.</span><span class="n">TextareaWidget</span><span class="p">(</span><span class="n">description</span><span class="o">=</span><span class="s2">&quot;TextareaWidget&quot;</span><span class="p">),</span>
                 <span class="n">widgets</span><span class="o">.</span><span class="n">ToggleButtonWidget</span><span class="p">(</span><span class="n">description</span><span class="o">=</span><span class="s2">&quot;ToggleButtonWidget&quot;</span><span class="p">),</span>
                 <span class="n">widgets</span><span class="o">.</span><span class="n">ToggleButtonsWidget</span><span class="p">(</span><span class="n">values</span><span class="o">=</span><span class="p">[</span><span class="s2">&quot;Value 1&quot;</span><span class="p">,</span> <span class="s2">&quot;Value2&quot;</span><span class="p">],</span> <span class="n">description</span><span class="o">=</span><span class="s2">&quot;ToggleButtonsWidget&quot;</span><span class="p">),</span>
                 <span class="p">]</span>

<span class="n">tab2_children</span> <span class="o">=</span> <span class="p">[</span><span class="n">widgets</span><span class="o">.</span><span class="n">BoundedFloatTextWidget</span><span class="p">(</span><span class="n">description</span><span class="o">=</span><span class="s2">&quot;BoundedFloatTextWidget&quot;</span><span class="p">),</span>
                 <span class="n">widgets</span><span class="o">.</span><span class="n">BoundedIntTextWidget</span><span class="p">(</span><span class="n">description</span><span class="o">=</span><span class="s2">&quot;BoundedIntTextWidget&quot;</span><span class="p">),</span>
                 <span class="n">widgets</span><span class="o">.</span><span class="n">FloatSliderWidget</span><span class="p">(</span><span class="n">description</span><span class="o">=</span><span class="s2">&quot;FloatSliderWidget&quot;</span><span class="p">),</span>
                 <span class="n">widgets</span><span class="o">.</span><span class="n">FloatTextWidget</span><span class="p">(</span><span class="n">description</span><span class="o">=</span><span class="s2">&quot;FloatTextWidget&quot;</span><span class="p">),</span>
                 <span class="n">widgets</span><span class="o">.</span><span class="n">IntSliderWidget</span><span class="p">(</span><span class="n">description</span><span class="o">=</span><span class="s2">&quot;IntSliderWidget&quot;</span><span class="p">),</span>
                 <span class="n">widgets</span><span class="o">.</span><span class="n">IntTextWidget</span><span class="p">(</span><span class="n">description</span><span class="o">=</span><span class="s2">&quot;IntTextWidget&quot;</span><span class="p">),</span>
                 <span class="p">]</span>

<span class="n">tab1</span> <span class="o">=</span> <span class="n">widgets</span><span class="o">.</span><span class="n">ContainerWidget</span><span class="p">(</span><span class="n">children</span><span class="o">=</span><span class="n">tab1_children</span><span class="p">)</span>
<span class="n">tab2</span> <span class="o">=</span> <span class="n">widgets</span><span class="o">.</span><span class="n">ContainerWidget</span><span class="p">(</span><span class="n">children</span><span class="o">=</span><span class="n">tab2_children</span><span class="p">)</span>


<span class="n">i</span> <span class="o">=</span> <span class="n">widgets</span><span class="o">.</span><span class="n">AccordionWidget</span><span class="p">(</span><span class="n">children</span><span class="o">=</span><span class="p">[</span><span class="n">tab1</span><span class="p">,</span> <span class="n">tab2</span><span class="p">])</span>

<span class="n">i</span><span class="o">.</span><span class="n">set_title</span><span class="p">(</span><span class="mi">0</span><span class="p">,</span><span class="s2">&quot;Basic Widgets&quot;</span><span class="p">)</span>
<span class="n">i</span><span class="o">.</span><span class="n">set_title</span><span class="p">(</span><span class="mi">1</span><span class="p">,</span><span class="s2">&quot;Numbers Input&quot;</span><span class="p">)</span>

<span class="n">display</span><span class="p">(</span><span class="n">i</span><span class="p">)</span>
</pre></div>

</div>
</div>
</div>

</div>
<div class="cell border-box-sizing text_cell rendered">
<div class="prompt input_prompt">
</div>
<div class="inner_cell">
<div class="text_cell_render border-box-sizing rendered_html">
<h1 id="Simple-Example">Simple Example<a class="anchor-link" href="#Simple-Example">&#182;</a></h1>
</div>
</div>
</div>
<div class="cell border-box-sizing text_cell rendered">
<div class="prompt input_prompt">
</div>
<div class="inner_cell">
<div class="text_cell_render border-box-sizing rendered_html">
<p>We will define a function that print the factorial.</p>
<p>$f(x) = x!$</p>
<p>$f(x) = x \times (x-1) \times ... 1$</p>
<p>$f(3) = 3! = 3 \times 2 \times 1 = 6$</p>

</div>
</div>
</div>
<div class="cell border-box-sizing code_cell rendered">
<div class="input">
<div class="prompt input_prompt">In&nbsp;[3]:</div>
<div class="inner_cell">
    <div class="input_area">
<div class=" highlight hl-ipython3"><pre><span></span><span class="k">def</span> <span class="nf">factorial</span><span class="p">(</span><span class="n">x</span><span class="p">):</span>
    <span class="nb">print</span> <span class="s2">&quot;</span><span class="si">%s</span><span class="s2">!= </span><span class="si">%s</span><span class="s2">&quot;</span> <span class="o">%</span> <span class="p">(</span><span class="n">x</span><span class="p">,</span><span class="n">np</span><span class="o">.</span><span class="n">math</span><span class="o">.</span><span class="n">factorial</span><span class="p">(</span><span class="n">x</span><span class="p">))</span>

<span class="k">def</span> <span class="nf">factorial2</span><span class="p">(</span><span class="n">x</span><span class="p">):</span>
    <span class="k">if</span> <span class="nb">type</span><span class="p">(</span><span class="n">x</span><span class="p">)</span> <span class="o">==</span> <span class="nb">int</span><span class="p">:</span>
        <span class="k">if</span> <span class="n">x</span> <span class="o">&gt;=</span> <span class="mi">0</span><span class="p">:</span>
            <span class="nb">print</span> <span class="n">np</span><span class="o">.</span><span class="n">prod</span><span class="p">(</span><span class="n">np</span><span class="o">.</span><span class="n">arange</span><span class="p">(</span><span class="mi">1</span><span class="p">,</span><span class="n">x</span><span class="o">+</span><span class="mi">1</span><span class="p">))</span>
        <span class="k">else</span><span class="p">:</span>
            <span class="nb">print</span> <span class="s2">&quot;ERROR: Number must be positive&quot;</span>
    <span class="k">else</span><span class="p">:</span>
        <span class="nb">print</span> <span class="s2">&quot;ERROR: Only interger is allowed&quot;</span>
</pre></div>

</div>
</div>
</div>

</div>
<div class="cell border-box-sizing text_cell rendered">
<div class="prompt input_prompt">
</div>
<div class="inner_cell">
<div class="text_cell_render border-box-sizing rendered_html">
<p>Now we will test it using a code cell</p>

</div>
</div>
</div>
<div class="cell border-box-sizing code_cell rendered">
<div class="input">
<div class="prompt input_prompt">In&nbsp;[4]:</div>
<div class="inner_cell">
    <div class="input_area">
<div class=" highlight hl-ipython3"><pre><span></span><span class="n">factorial</span><span class="p">(</span><span class="mi">3</span><span class="p">)</span>
</pre></div>

</div>
</div>
</div>

<div class="output_wrapper">
<div class="output">


<div class="output_area"><div class="prompt"></div>
<div class="output_subarea output_stream output_stdout output_text">
<pre>3!= 6
</pre>
</div>
</div>

</div>
</div>

</div>
<div class="cell border-box-sizing text_cell rendered">
<div class="prompt input_prompt">
</div>
<div class="inner_cell">
<div class="text_cell_render border-box-sizing rendered_html">
<h1 id="Using-interact-function">Using interact function<a class="anchor-link" href="#Using-interact-function">&#182;</a></h1>
</div>
</div>
</div>
<div class="cell border-box-sizing text_cell rendered">
<div class="prompt input_prompt">
</div>
<div class="inner_cell">
<div class="text_cell_render border-box-sizing rendered_html">
<p>We will link that to a slider to make the x a variable that we can control.</p>

</div>
</div>
</div>
<div class="cell border-box-sizing code_cell rendered">
<div class="input">
<div class="prompt input_prompt">In&nbsp;[5]:</div>
<div class="inner_cell">
    <div class="input_area">
<div class=" highlight hl-ipython3"><pre><span></span><span class="n">i</span> <span class="o">=</span> <span class="n">interact</span><span class="p">(</span><span class="n">factorial</span><span class="p">,</span> <span class="n">x</span><span class="o">=</span><span class="p">(</span><span class="mi">0</span><span class="p">,</span><span class="mi">100</span><span class="p">))</span>
</pre></div>

</div>
</div>
</div>

<div class="output_wrapper">
<div class="output">


<div class="output_area"><div class="prompt"></div>
<div class="output_subarea output_stream output_stdout output_text">
<pre>100!= 93326215443944152681699238856266700490715968264381621468592963895217599993229915608941463976156518286253697920827223758251185210916864000000000000000000000000
</pre>
</div>
</div>

</div>
</div>

</div>
<div class="cell border-box-sizing text_cell rendered">
<div class="prompt input_prompt">
</div>
<div class="inner_cell">
<div class="text_cell_render border-box-sizing rendered_html">
<h2 id="Controlling-a-Chart">Controlling a Chart<a class="anchor-link" href="#Controlling-a-Chart">&#182;</a></h2>
</div>
</div>
</div>
<div class="cell border-box-sizing code_cell rendered">
<div class="input">
<div class="prompt input_prompt">In&nbsp;[13]:</div>
<div class="inner_cell">
    <div class="input_area">
<div class=" highlight hl-ipython3"><pre><span></span><span class="c1">#This function plot x, y and adds a title</span>
<span class="k">def</span> <span class="nf">plt_arrays</span><span class="p">(</span><span class="n">x</span><span class="p">,</span> <span class="n">y</span><span class="p">,</span> <span class="n">title</span><span class="o">=</span><span class="s2">&quot;&quot;</span><span class="p">,</span> <span class="n">color</span><span class="o">=</span><span class="s2">&quot;red&quot;</span><span class="p">,</span> <span class="n">linestyle</span><span class="o">=</span><span class="s2">&quot;dashed&quot;</span><span class="p">,</span> <span class="n">linewidth</span><span class="o">=</span><span class="mi">2</span><span class="p">):</span>
    <span class="n">fig</span> <span class="o">=</span> <span class="n">plt</span><span class="o">.</span><span class="n">figure</span><span class="p">()</span>
    <span class="n">axes</span> <span class="o">=</span> <span class="n">fig</span><span class="o">.</span><span class="n">add_subplot</span><span class="p">(</span><span class="mi">111</span><span class="p">)</span>
    <span class="n">axes</span><span class="o">.</span><span class="n">plot</span><span class="p">(</span><span class="n">x</span><span class="p">,</span><span class="n">y</span><span class="p">,</span> <span class="n">color</span><span class="o">=</span><span class="n">color</span><span class="p">,</span> <span class="n">linestyle</span><span class="o">=</span><span class="n">linestyle</span><span class="p">,</span> <span class="n">linewidth</span><span class="o">=</span><span class="n">linewidth</span><span class="p">)</span>
    <span class="n">axes</span><span class="o">.</span><span class="n">set_title</span><span class="p">(</span><span class="n">title</span><span class="p">)</span>
    <span class="n">axes</span><span class="o">.</span><span class="n">grid</span><span class="p">()</span>
    <span class="n">plt</span><span class="o">.</span><span class="n">show</span><span class="p">()</span>
</pre></div>

</div>
</div>
</div>

</div>
<div class="cell border-box-sizing text_cell rendered">
<div class="prompt input_prompt">
</div>
<div class="inner_cell">
<div class="text_cell_render border-box-sizing rendered_html">
<p>We will define a function that return the following:</p>
<p>$f(x) = ax^3 + bx^2 + cx + d$</p>
<p>where a,b,c and d are are constants.</p>

</div>
</div>
</div>
<div class="cell border-box-sizing code_cell rendered">
<div class="input">
<div class="prompt input_prompt">In&nbsp;[11]:</div>
<div class="inner_cell">
    <div class="input_area">
<div class=" highlight hl-ipython3"><pre><span></span><span class="k">def</span> <span class="nf">f</span><span class="p">(</span><span class="n">a</span><span class="p">,</span> <span class="n">b</span><span class="p">,</span> <span class="n">c</span><span class="p">,</span> <span class="n">d</span><span class="p">,</span> <span class="o">**</span><span class="n">kwargs</span><span class="p">):</span>
    <span class="n">x</span><span class="o">=</span><span class="n">np</span><span class="o">.</span><span class="n">linspace</span><span class="p">(</span><span class="o">-</span><span class="mi">10</span><span class="p">,</span> <span class="mi">10</span><span class="p">,</span> <span class="mi">20</span><span class="p">)</span>
    <span class="n">y</span> <span class="o">=</span> <span class="n">a</span><span class="o">*</span><span class="p">(</span><span class="n">x</span><span class="o">**</span><span class="mi">3</span><span class="p">)</span> <span class="o">+</span> <span class="n">b</span><span class="o">*</span><span class="p">(</span><span class="n">x</span><span class="o">**</span><span class="mi">2</span><span class="p">)</span> <span class="o">+</span> <span class="n">c</span><span class="o">*</span><span class="n">x</span> <span class="o">+</span> <span class="n">d</span>
    
    <span class="n">title</span><span class="o">=</span><span class="s2">&quot;$f(x) = (</span><span class="si">%s</span><span class="s2">)x^</span><span class="si">{3}</span><span class="s2"> + (</span><span class="si">%s</span><span class="s2">)x^</span><span class="si">{2}</span><span class="s2"> + (</span><span class="si">%s</span><span class="s2">)x + (</span><span class="si">%s</span><span class="s2">)$&quot;</span> <span class="o">%</span> <span class="p">(</span><span class="n">a</span><span class="p">,</span><span class="n">b</span><span class="p">,</span><span class="n">c</span><span class="p">,</span><span class="n">d</span><span class="p">)</span>
    
    <span class="n">plt_arrays</span><span class="p">(</span><span class="n">x</span><span class="p">,</span><span class="n">y</span><span class="p">,</span> <span class="n">title</span><span class="o">=</span><span class="n">title</span><span class="p">,</span> <span class="o">**</span><span class="n">kwargs</span><span class="p">)</span>
</pre></div>

</div>
</div>
</div>

</div>
<div class="cell border-box-sizing code_cell rendered">
<div class="input">
<div class="prompt input_prompt">In&nbsp;[8]:</div>
<div class="inner_cell">
    <div class="input_area">
<div class=" highlight hl-ipython3"><pre><span></span><span class="c1">#Define Constants</span>
<span class="n">a</span><span class="o">=</span><span class="mf">0.25</span>
<span class="n">b</span><span class="o">=</span><span class="mi">2</span>
<span class="n">c</span><span class="o">=-</span><span class="mi">4</span>
<span class="n">d</span><span class="o">=</span><span class="mi">0</span>

<span class="n">f</span><span class="p">(</span><span class="n">a</span><span class="p">,</span> <span class="n">b</span><span class="p">,</span> <span class="n">c</span><span class="p">,</span> <span class="n">d</span><span class="p">)</span>
</pre></div>

</div>
</div>
</div>

<div class="output_wrapper">
<div class="output">


<div class="output_area"><div class="prompt"></div>


<div class="output_png output_subarea ">
<img src="data:image/png;base64,iVBORw0KGgoAAAANSUhEUgAAAYAAAAEOCAYAAACAfcAXAAAABHNCSVQICAgIfAhkiAAAAAlwSFlz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"
>
</div>

</div>

</div>
</div>

</div>
<div class="cell border-box-sizing code_cell rendered">
<div class="input">
<div class="prompt input_prompt">In&nbsp;[14]:</div>
<div class="inner_cell">
    <div class="input_area">
<div class=" highlight hl-ipython3"><pre><span></span><span class="n">i</span> <span class="o">=</span> <span class="n">interact</span><span class="p">(</span><span class="n">f</span><span class="p">,</span>
             <span class="n">a</span><span class="o">=</span><span class="p">(</span><span class="o">-</span><span class="mf">10.</span><span class="p">,</span><span class="mi">10</span><span class="p">),</span>
             <span class="n">b</span><span class="o">=</span><span class="p">(</span><span class="o">-</span><span class="mf">10.</span><span class="p">,</span><span class="mi">10</span><span class="p">),</span>
             <span class="n">c</span><span class="o">=</span><span class="p">(</span><span class="o">-</span><span class="mf">10.</span><span class="p">,</span><span class="mi">10</span><span class="p">),</span>
             <span class="n">d</span><span class="o">=</span><span class="p">(</span><span class="o">-</span><span class="mf">10.</span><span class="p">,</span><span class="mi">10</span><span class="p">),</span>
             <span class="n">color</span> <span class="o">=</span> <span class="p">[</span><span class="s2">&quot;red&quot;</span><span class="p">,</span> <span class="s2">&quot;blue&quot;</span><span class="p">,</span> <span class="s2">&quot;green&quot;</span><span class="p">],</span>
             <span class="n">linestyle</span><span class="o">=</span><span class="p">[</span><span class="s2">&quot;solid&quot;</span><span class="p">,</span> <span class="s2">&quot;dashed&quot;</span><span class="p">],</span>
             <span class="n">linewidth</span><span class="o">=</span><span class="p">(</span><span class="mi">1</span><span class="p">,</span><span class="mi">5</span><span class="p">)</span>
             <span class="p">)</span>
</pre></div>

</div>
</div>
</div>

<div class="output_wrapper">
<div class="output">


<div class="output_area"><div class="prompt"></div>


<div class="output_png output_subarea ">
<img src="data:image/png;base64,iVBORw0KGgoAAAANSUhEUgAAAXkAAAEOCAYAAABsJGdEAAAABHNCSVQICAgIfAhkiAAAAAlwSFlz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"
>
</div>

</div>

</div>
</div>

</div>
<div class="cell border-box-sizing text_cell rendered">
<div class="prompt input_prompt">
</div>
<div class="inner_cell">
<div class="text_cell_render border-box-sizing rendered_html">
<h2 id="Displaying-a-widget-from-interact-function">Displaying a widget from interact function<a class="anchor-link" href="#Displaying-a-widget-from-interact-function">&#182;</a></h2>
</div>
</div>
</div>
<div class="cell border-box-sizing code_cell rendered">
<div class="input">
<div class="prompt input_prompt">In&nbsp;[17]:</div>
<div class="inner_cell">
    <div class="input_area">
<div class=" highlight hl-ipython3"><pre><span></span><span class="n">i</span><span class="o">.</span><span class="n">widget</span>
</pre></div>

</div>
</div>
</div>

<div class="output_wrapper">
<div class="output">


<div class="output_area"><div class="prompt"></div>


<div class="output_png output_subarea ">
<img src="data:image/png;base64,iVBORw0KGgoAAAANSUhEUgAAAXkAAAEOCAYAAABsJGdEAAAABHNCSVQICAgIfAhkiAAAAAlwSFlz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"
>
</div>

</div>

</div>
</div>

</div>
    </div>
  </div>

  </div>


  
    <footer class="footer hidden-print">
      <div class="container">
        <div class="col-md-4">
          <p>
            This website does not host notebooks, it only renders notebooks
            available on other websites.
          </p>
        </div>

        <div class="col-md-4">
          <p>
            Delivered by <a href="http://www.fastly.com/">Fastly</a>,
            Rendered by <a href="https://developer.rackspace.com/?nbviewer=awesome">Rackspace</a>
          </p>
          <p>
            nbviewer GitHub <a href="https://github.com/jupyter/nbviewer">repository</a>.
          </p>
        </div>

        <div class="col-md-4">
          
  
            
              <p>
                nbviewer version:
                <a href="https://github.com/jupyter/nbviewer/commit/41cd82f09350776a356420a4f7dedcaf52410650">
                  41cd82f
                </a>
              </p>
            
          
  
  <p>
    notebook version: <a href="https://github.com/jupyter/notebook/releases/tag/">
      
    </a>
  </p>
  <p>
    nbconvert version: <a href="https://github.com/jupyter/nbconvert/releases/tag/4.1.0">
      4.1.0
    </a>
  </p>
  

          
  
  
  <p>
    Rendered
    <span class='date' data-date='Sun, 06 Mar 2016 06:26:17 UTC' title='Sun, 06 Mar 2016 06:26:17 UTC'>(Sun, 06 Mar 2016 06:26:17 UTC)</span>
  </p>
  

        </div>
      </div>
    </footer>
  

  <script src="/static/components/bootstrap/js/bootstrap.min.js"></script>
  <script src="/static/components/headroom.js/dist/headroom.min.js"></script>
  <script src="/static/components/headroom.js/dist/jQuery.headroom.min.js"></script>

  
  
  <script>
    $(function(){ $("#menubar").headroom({
      tolerance: 5,
      offset: 205,
      classes: {
        initial: "animated",
        pinned: "slideInDown",
        unpinned: "slideOutUp"
      }
    })});
  </script>


  <script>
    (function(i,s,o,g,r,a,m){i['GoogleAnalyticsObject']=r;i[r]=i[r]||function(){
      (i[r].q=i[r].q||[]).push(arguments)},i[r].l=1*new Date();a=s.createElement(o),
      m=s.getElementsByTagName(o)[0];a.async=1;a.src=g;m.parentNode.insertBefore(a,m)
    })(window,document,'script','//www.google-analytics.com/analytics.js','ga');
    ga('create', 'UA-38683231-2', 'auto');
    ga('send', 'pageview');
  </script>
  <script>
    require({
        paths: {
          moment: "/static/components/moment/min/moment.min.js"
        }
      }, ["moment"], function(moment){
      var date = $("footer .date"),
        m = moment(new Date(date.data('date'))),
        update = function(){ date.text(m.fromNow()); };
      setInterval(update, 61*1000);
      update();
      var w = $(window).scroll(function(event){
        $("body").toggleClass("scrolled", w.scrollTop() > 0);
      });
    });
  </script>
  <!--NEW RELIC Stop Perf Measurement-->
  
  <!--NEW RELIC End-->
</body>
</html>